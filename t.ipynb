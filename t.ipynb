{
 "cells": [
  {
   "cell_type": "code",
   "execution_count": 1,
   "metadata": {},
   "outputs": [],
   "source": [
    "import polars as pl\n",
    "\n",
    "from record_consolidation.graphs import unconsolidated_df_to_graph"
   ]
  },
  {
   "cell_type": "code",
   "execution_count": 2,
   "metadata": {},
   "outputs": [],
   "source": [
    "mnas = pl.read_parquet(\"test_data/intra_and_inter_field/msfts_and_amzns.parquet\")"
   ]
  },
  {
   "cell_type": "code",
   "execution_count": 3,
   "metadata": {},
   "outputs": [
    {
     "data": {
      "text/html": [
       "<div><style>\n",
       ".dataframe > thead > tr,\n",
       ".dataframe > tbody > tr {\n",
       "  text-align: right;\n",
       "  white-space: pre-wrap;\n",
       "}\n",
       "</style>\n",
       "<small>shape: (6, 4)</small><table border=\"1\" class=\"dataframe\"><thead><tr><th>issuer_name</th><th>cusip</th><th>isin</th><th>figi</th></tr><tr><td>str</td><td>str</td><td>str</td><td>str</td></tr></thead><tbody><tr><td>&quot;MICROSOFT CORPORATION&quot;</td><td>null</td><td>&quot;US5949181045&quot;</td><td>&quot;MSFT&quot;</td></tr><tr><td>&quot;MICROSOFT CORPORATION&quot;</td><td>&quot;594918104&quot;</td><td>null</td><td>null</td></tr><tr><td>&quot;MICROSOFT CORPORATION&quot;</td><td>null</td><td>null</td><td>null</td></tr><tr><td>&quot;MICROSOFT CORPORATION&quot;</td><td>&quot;594918104&quot;</td><td>&quot;US5949181045&quot;</td><td>null</td></tr><tr><td>&quot;MICROSOFT CORPORATION&quot;</td><td>&quot;594918105&quot;</td><td>&quot;US5949181045&quot;</td><td>null</td></tr><tr><td>&quot;MICROSOFT CORPORATION&quot;</td><td>null</td><td>&quot;US5949181045&quot;</td><td>null</td></tr></tbody></table></div>"
      ],
      "text/plain": [
       "shape: (6, 4)\n",
       "┌───────────────────────┬───────────┬──────────────┬──────┐\n",
       "│ issuer_name           ┆ cusip     ┆ isin         ┆ figi │\n",
       "│ ---                   ┆ ---       ┆ ---          ┆ ---  │\n",
       "│ str                   ┆ str       ┆ str          ┆ str  │\n",
       "╞═══════════════════════╪═══════════╪══════════════╪══════╡\n",
       "│ MICROSOFT CORPORATION ┆ null      ┆ US5949181045 ┆ MSFT │\n",
       "│ MICROSOFT CORPORATION ┆ 594918104 ┆ null         ┆ null │\n",
       "│ MICROSOFT CORPORATION ┆ null      ┆ null         ┆ null │\n",
       "│ MICROSOFT CORPORATION ┆ 594918104 ┆ US5949181045 ┆ null │\n",
       "│ MICROSOFT CORPORATION ┆ 594918105 ┆ US5949181045 ┆ null │\n",
       "│ MICROSOFT CORPORATION ┆ null      ┆ US5949181045 ┆ null │\n",
       "└───────────────────────┴───────────┴──────────────┴──────┘"
      ]
     },
     "execution_count": 3,
     "metadata": {},
     "output_type": "execute_result"
    }
   ],
   "source": [
    "mnas.filter(pl.col(\"issuer_name\") == \"MICROSOFT CORPORATION\").unique()"
   ]
  },
  {
   "cell_type": "code",
   "execution_count": 4,
   "metadata": {},
   "outputs": [],
   "source": [
    "G = unconsolidated_df_to_graph(\n",
    "    mnas.filter(pl.col(\"issuer_name\") == \"MICROSOFT CORPORATION\").unique()\n",
    ")"
   ]
  },
  {
   "cell_type": "code",
   "execution_count": 5,
   "metadata": {},
   "outputs": [
    {
     "data": {
      "text/plain": [
       "[('MICROSOFT CORPORATION', {'field': 'issuer_name', 'count': 6}),\n",
       " ('594918104', {'field': 'cusip', 'count': 2}),\n",
       " ('US5949181045', {'field': 'isin', 'count': 4}),\n",
       " ('MSFT', {'field': 'figi', 'count': 1}),\n",
       " ('594918105', {'field': 'cusip', 'count': 1})]"
      ]
     },
     "execution_count": 5,
     "metadata": {},
     "output_type": "execute_result"
    }
   ],
   "source": [
    "list(G.nodes(True))"
   ]
  }
 ],
 "metadata": {
  "kernelspec": {
   "display_name": ".venv",
   "language": "python",
   "name": "python3"
  },
  "language_info": {
   "codemirror_mode": {
    "name": "ipython",
    "version": 3
   },
   "file_extension": ".py",
   "mimetype": "text/x-python",
   "name": "python",
   "nbconvert_exporter": "python",
   "pygments_lexer": "ipython3",
   "version": "3.12.3"
  }
 },
 "nbformat": 4,
 "nbformat_minor": 2
}
