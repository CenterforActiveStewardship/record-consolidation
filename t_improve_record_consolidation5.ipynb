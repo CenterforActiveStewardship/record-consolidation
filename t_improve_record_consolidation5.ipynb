{
 "cells": [
  {
   "cell_type": "code",
   "execution_count": 1,
   "metadata": {},
   "outputs": [
    {
     "name": "stderr",
     "output_type": "stream",
     "text": [
      "/Users/mgaster/repos/record-consolidation/.venv/lib/python3.12/site-packages/tqdm/auto.py:21: TqdmWarning: IProgress not found. Please update jupyter and ipywidgets. See https://ipywidgets.readthedocs.io/en/stable/user_install.html\n",
      "  from .autonotebook import tqdm as notebook_tqdm\n"
     ]
    }
   ],
   "source": [
    "import polars as pl\n",
    "from record_consolidation.graphs import (\n",
    "    unconsolidated_df_to_subgraphs,\n",
    ")\n",
    "from record_consolidation.subgraph_post_processing.specific_algs.deprecated__split_high_betweenness import (\n",
    "    draw_graph,\n",
    ")\n",
    "import networkx as nx\n",
    "\n",
    "from record_consolidation.subgraph_post_processing.specific_algs.partition_companies import (\n",
    "    partition_companies_graph_where_necessary,\n",
    ")\n",
    "\n",
    "from record_consolidation.subgraph_post_processing.specific_algs.partitioning_algs import (\n",
    "    partition_via_louvain,\n",
    ")\n",
    "\n",
    "from functools import partial\n",
    "from record_consolidation.graphs import extract_normalized_atomic\n",
    "\n",
    "from record_consolidation.df_consolidations import (\n",
    "    normalize_subset,\n",
    ")"
   ]
  },
  {
   "cell_type": "code",
   "execution_count": 2,
   "metadata": {},
   "outputs": [],
   "source": [
    "from typing import Iterable\n",
    "from warnings import warn\n",
    "\n",
    "\n",
    "def extract_specific_name_subgraph(\n",
    "    connected_subgs: Iterable[nx.Graph], name: str\n",
    ") -> nx.Graph:\n",
    "    collected: list[nx.Graph] = []\n",
    "    for subg in connected_subgs:\n",
    "        for n in subg.nodes.data():\n",
    "            if name.lower() in (n[0]).lower():\n",
    "                collected.append(subg)\n",
    "    collected = set(collected)\n",
    "    if len(collected) == 0:\n",
    "        raise ValueError(f\"Could not find {name=} in connected_subgs.\")\n",
    "    if len(collected) > 1:\n",
    "        alert_str = f\"{len(collected)} subgraphs have {name=}.\\n{[len(subg.nodes) for subg in collected]=}\"\n",
    "        warn(alert_str)\n",
    "        return max(collected, key=lambda g: len(g.nodes))\n",
    "\n",
    "        # raise ValueError(alert_str)\n",
    "    return tuple(collected)[0]"
   ]
  },
  {
   "cell_type": "code",
   "execution_count": 3,
   "metadata": {},
   "outputs": [],
   "source": [
    "# votes: pl.DataFrame = access_db_table(\"raw_output\", \"votes\")\n",
    "votes: pl.DataFrame = pl.read_parquet(\"raw_votes.parquet\")\n",
    "COMPANY_COLS = pl.col([\"issuer_name\", \"cusip\", \"isin\", \"figi\"])\n",
    "MEETING_COLS = pl.col([\"issuer_name\", \"meeting_date\", \"cusip\", \"isin\", \"figi\"])"
   ]
  },
  {
   "cell_type": "code",
   "execution_count": 4,
   "metadata": {},
   "outputs": [
    {
     "name": "stdout",
     "output_type": "stream",
     "text": [
      "Post-processing subgraphs.\n"
     ]
    },
    {
     "name": "stderr",
     "output_type": "stream",
     "text": [
      "7615it [00:02, 2954.06it/s]\n"
     ]
    },
    {
     "name": "stdout",
     "output_type": "stream",
     "text": [
      "new_null_count=524_700, og_null_count=997_930\n"
     ]
    },
    {
     "name": "stderr",
     "output_type": "stream",
     "text": [
      "/Users/mgaster/repos/record-consolidation/src/record_consolidation/df_consolidations.py:61: UserWarning: New nulls added -- detected in cusip.\n",
      "  warn(warning_str)\n",
      "/Users/mgaster/repos/record-consolidation/src/record_consolidation/df_consolidations.py:61: UserWarning: New nulls added -- detected in isin.\n",
      "  warn(warning_str)\n",
      "/Users/mgaster/repos/record-consolidation/src/record_consolidation/df_consolidations.py:61: UserWarning: New nulls added -- detected in figi.\n",
      "  warn(warning_str)\n"
     ]
    }
   ],
   "source": [
    "normed5 = normalize_subset(\n",
    "    votes,\n",
    "    connected_subgraphs_postprocessor=partition_companies_graph_where_necessary,\n",
    "    cols_to_normalize=[\"issuer_name\", \"cusip\", \"isin\", \"figi\"],\n",
    ")"
   ]
  },
  {
   "cell_type": "code",
   "execution_count": 6,
   "metadata": {},
   "outputs": [
    {
     "data": {
      "text/html": [
       "<div><style>\n",
       ".dataframe > thead > tr,\n",
       ".dataframe > tbody > tr {\n",
       "  text-align: right;\n",
       "  white-space: pre-wrap;\n",
       "}\n",
       "</style>\n",
       "<small>shape: (1, 4)</small><table border=\"1\" class=\"dataframe\"><thead><tr><th>issuer_name</th><th>cusip</th><th>isin</th><th>figi</th></tr><tr><td>f64</td><td>f64</td><td>f64</td><td>f64</td></tr></thead><tbody><tr><td>NaN</td><td>4.393469</td><td>43.37155</td><td>1.516752</td></tr></tbody></table></div>"
      ],
      "text/plain": [
       "shape: (1, 4)\n",
       "┌─────────────┬──────────┬──────────┬──────────┐\n",
       "│ issuer_name ┆ cusip    ┆ isin     ┆ figi     │\n",
       "│ ---         ┆ ---      ┆ ---      ┆ ---      │\n",
       "│ f64         ┆ f64      ┆ f64      ┆ f64      │\n",
       "╞═════════════╪══════════╪══════════╪══════════╡\n",
       "│ NaN         ┆ 4.393469 ┆ 43.37155 ┆ 1.516752 │\n",
       "└─────────────┴──────────┴──────────┴──────────┘"
      ]
     },
     "execution_count": 6,
     "metadata": {},
     "output_type": "execute_result"
    }
   ],
   "source": [
    "votes.select(COMPANY_COLS.is_null().sum()) / normed5.select(pl.all().is_null().sum())"
   ]
  },
  {
   "cell_type": "code",
   "execution_count": 7,
   "metadata": {},
   "outputs": [
    {
     "data": {
      "text/plain": [
       "19277"
      ]
     },
     "execution_count": 7,
     "metadata": {},
     "output_type": "execute_result"
    }
   ],
   "source": [
    "votes[\"issuer_name\"].n_unique()"
   ]
  },
  {
   "cell_type": "code",
   "execution_count": 7,
   "metadata": {},
   "outputs": [
    {
     "data": {
      "text/html": [
       "<div><style>\n",
       ".dataframe > thead > tr,\n",
       ".dataframe > tbody > tr {\n",
       "  text-align: right;\n",
       "  white-space: pre-wrap;\n",
       "}\n",
       "</style>\n",
       "<small>shape: (1, 4)</small><table border=\"1\" class=\"dataframe\"><thead><tr><th>issuer_name</th><th>cusip</th><th>isin</th><th>figi</th></tr><tr><td>f64</td><td>f64</td><td>f64</td><td>f64</td></tr></thead><tbody><tr><td>0.0</td><td>1.101106</td><td>0.544327</td><td>65.71525</td></tr></tbody></table></div>"
      ],
      "text/plain": [
       "shape: (1, 4)\n",
       "┌─────────────┬──────────┬──────────┬──────────┐\n",
       "│ issuer_name ┆ cusip    ┆ isin     ┆ figi     │\n",
       "│ ---         ┆ ---      ┆ ---      ┆ ---      │\n",
       "│ f64         ┆ f64      ┆ f64      ┆ f64      │\n",
       "╞═════════════╪══════════╪══════════╪══════════╡\n",
       "│ 0.0         ┆ 1.101106 ┆ 0.544327 ┆ 65.71525 │\n",
       "└─────────────┴──────────┴──────────┴──────────┘"
      ]
     },
     "execution_count": 7,
     "metadata": {},
     "output_type": "execute_result"
    }
   ],
   "source": [
    "normed5.select(COMPANY_COLS.is_null().mean()) * 100"
   ]
  },
  {
   "cell_type": "code",
   "execution_count": 8,
   "metadata": {},
   "outputs": [
    {
     "data": {
      "text/html": [
       "<div><style>\n",
       ".dataframe > thead > tr,\n",
       ".dataframe > tbody > tr {\n",
       "  text-align: right;\n",
       "  white-space: pre-wrap;\n",
       "}\n",
       "</style>\n",
       "<small>shape: (1, 4)</small><table border=\"1\" class=\"dataframe\"><thead><tr><th>issuer_name</th><th>cusip</th><th>isin</th><th>figi</th></tr><tr><td>f64</td><td>f64</td><td>f64</td><td>f64</td></tr></thead><tbody><tr><td>0.0</td><td>1.100849</td><td>0.544198</td><td>65.715379</td></tr></tbody></table></div>"
      ],
      "text/plain": [
       "shape: (1, 4)\n",
       "┌─────────────┬──────────┬──────────┬───────────┐\n",
       "│ issuer_name ┆ cusip    ┆ isin     ┆ figi      │\n",
       "│ ---         ┆ ---      ┆ ---      ┆ ---       │\n",
       "│ f64         ┆ f64      ┆ f64      ┆ f64       │\n",
       "╞═════════════╪══════════╪══════════╪═══════════╡\n",
       "│ 0.0         ┆ 1.100849 ┆ 0.544198 ┆ 65.715379 │\n",
       "└─────────────┴──────────┴──────────┴───────────┘"
      ]
     },
     "execution_count": 8,
     "metadata": {},
     "output_type": "execute_result"
    }
   ],
   "source": [
    "normed5.select(COMPANY_COLS.is_null().mean()) * 100"
   ]
  },
  {
   "cell_type": "code",
   "execution_count": 9,
   "metadata": {},
   "outputs": [
    {
     "data": {
      "text/plain": [
       "['MICROSOFT CORPORATION',\n",
       " 'THE WALT DISNEY COMPANY',\n",
       " 'AMAZON.COM, INC.',\n",
       " 'JPMORGAN CHASE & CO.',\n",
       " 'THE PROCTER & GAMBLE COMPANY',\n",
       " 'ORACLE CORPORATION',\n",
       " 'CISCO SYSTEMS, INC.',\n",
       " 'APPLE INC.',\n",
       " 'JOHNSON & JOHNSON',\n",
       " 'PEPSICO, INC.',\n",
       " 'VISA INC.',\n",
       " 'ALPHABET INC.',\n",
       " 'MASTERCARD INCORPORATED',\n",
       " 'ABBVIE INC.',\n",
       " 'MERCK & CO., INC.',\n",
       " 'CHUBB LIMITED',\n",
       " 'THE HOME DEPOT, INC.',\n",
       " 'CHEVRON CORPORATION',\n",
       " 'NVIDIA CORPORATION',\n",
       " 'TE CONNECTIVITY LTD.',\n",
       " 'EXXON MOBIL CORPORATION',\n",
       " 'BANK OF AMERICA CORPORATION',\n",
       " 'META PLATFORMS, INC.',\n",
       " 'UNITEDHEALTH GROUP INCORPORATED',\n",
       " 'VERIZON COMMUNICATIONS INC.',\n",
       " 'SALESFORCE, INC.',\n",
       " 'THE COCA-COLA COMPANY',\n",
       " \"MCDONALD'S CORPORATION\",\n",
       " 'WELLS FARGO & COMPANY',\n",
       " 'ADOBE INC.']"
      ]
     },
     "execution_count": 9,
     "metadata": {},
     "output_type": "execute_result"
    }
   ],
   "source": [
    "normed5[\"issuer_name\"].value_counts(sort=True).head(30).to_series().to_list()"
   ]
  },
  {
   "cell_type": "code",
   "execution_count": 10,
   "metadata": {},
   "outputs": [
    {
     "name": "stdout",
     "output_type": "stream",
     "text": [
      "************************************************************ MICROSOFT ************************************************************\n",
      "Un-Normalized\n"
     ]
    },
    {
     "data": {
      "text/html": [
       "<div><style>\n",
       ".dataframe > thead > tr,\n",
       ".dataframe > tbody > tr {\n",
       "  text-align: right;\n",
       "  white-space: pre-wrap;\n",
       "}\n",
       "</style>\n",
       "<small>shape: (13, 6)</small><table border=\"1\" class=\"dataframe\"><thead><tr><th>issuer_name</th><th>len</th><th>cusip</th><th>isin</th><th>figi</th><th>% of obs</th></tr><tr><td>str</td><td>u32</td><td>list[str]</td><td>list[str]</td><td>list[str]</td><td>f64</td></tr></thead><tbody><tr><td>&quot;MICROSOFT CORPORATION&quot;</td><td>2555</td><td>[&quot;594918105&quot;, null, &quot;594918104&quot;]</td><td>[null, &quot;US5949181045&quot;]</td><td>[null]</td><td>54.028336</td></tr><tr><td>&quot;Microsoft Corporation&quot;</td><td>1795</td><td>[&quot;594918103&quot;, &quot;000594918&quot;, … null]</td><td>[&quot;US5949181045&quot;, null]</td><td>[null, &quot;BBG000BPH459&quot;]</td><td>37.957285</td></tr><tr><td>&quot;Microsoft Corp&quot;</td><td>226</td><td>[&quot;594918104&quot;, null]</td><td>[null, &quot;US5949181045&quot;]</td><td>[&quot;BBG000BPH459&quot;, null]</td><td>4.779023</td></tr><tr><td>&quot;MICROSOFT\n",
       "CORPORATION&quot;</td><td>64</td><td>[&quot;594918104&quot;]</td><td>[null, &quot;US5949181045&quot;]</td><td>[null]</td><td>1.353352</td></tr><tr><td>&quot;Microsoft Corp.&quot;</td><td>60</td><td>[&quot;594918104&quot;]</td><td>[&quot;US5949181045&quot;, null]</td><td>[null, &quot;BBG000BPH459&quot;]</td><td>1.268767</td></tr><tr><td>&hellip;</td><td>&hellip;</td><td>&hellip;</td><td>&hellip;</td><td>&hellip;</td><td>&hellip;</td></tr><tr><td>&quot;MICROSOFT&quot;</td><td>2</td><td>[&quot;594918104&quot;, null]</td><td>[null]</td><td>[null]</td><td>0.042292</td></tr><tr><td>&quot;Microsoft Corporation (MSFT)&quot;</td><td>2</td><td>[&quot;594918104&quot;]</td><td>[&quot;US5949181045&quot;]</td><td>[null]</td><td>0.042292</td></tr><tr><td>&quot;MICROSOFT CORPORATION COM&quot;</td><td>2</td><td>[&quot;594918104&quot;]</td><td>[&quot;US5949181045&quot;]</td><td>[null]</td><td>0.042292</td></tr><tr><td>&quot;Microsoft Annual Meeting&quot;</td><td>1</td><td>[&quot;594918104&quot;]</td><td>[null]</td><td>[null]</td><td>0.021146</td></tr><tr><td>&quot;MICROSOFT CORP COM&quot;</td><td>1</td><td>[&quot;594918104&quot;]</td><td>[&quot;US5949181045&quot;]</td><td>[null]</td><td>0.021146</td></tr></tbody></table></div>"
      ],
      "text/plain": [
       "shape: (13, 6)\n",
       "┌───────────────────┬──────┬───────────────────┬───────────────────┬───────────────────┬───────────┐\n",
       "│ issuer_name       ┆ len  ┆ cusip             ┆ isin              ┆ figi              ┆ % of obs  │\n",
       "│ ---               ┆ ---  ┆ ---               ┆ ---               ┆ ---               ┆ ---       │\n",
       "│ str               ┆ u32  ┆ list[str]         ┆ list[str]         ┆ list[str]         ┆ f64       │\n",
       "╞═══════════════════╪══════╪═══════════════════╪═══════════════════╪═══════════════════╪═══════════╡\n",
       "│ MICROSOFT         ┆ 2555 ┆ [\"594918105\",     ┆ [null,            ┆ [null]            ┆ 54.028336 │\n",
       "│ CORPORATION       ┆      ┆ null, \"594918104… ┆ \"US5949181045\"]   ┆                   ┆           │\n",
       "│ Microsoft         ┆ 1795 ┆ [\"594918103\",     ┆ [\"US5949181045\",  ┆ [null,            ┆ 37.957285 │\n",
       "│ Corporation       ┆      ┆ \"000594918\", … n… ┆ null]             ┆ \"BBG000BPH459\"]   ┆           │\n",
       "│ Microsoft Corp    ┆ 226  ┆ [\"594918104\",     ┆ [null,            ┆ [\"BBG000BPH459\",  ┆ 4.779023  │\n",
       "│                   ┆      ┆ null]             ┆ \"US5949181045\"]   ┆ null]             ┆           │\n",
       "│ MICROSOFT         ┆ 64   ┆ [\"594918104\"]     ┆ [null,            ┆ [null]            ┆ 1.353352  │\n",
       "│ CORPORATION       ┆      ┆                   ┆ \"US5949181045\"]   ┆                   ┆           │\n",
       "│ Microsoft Corp.   ┆ 60   ┆ [\"594918104\"]     ┆ [\"US5949181045\",  ┆ [null,            ┆ 1.268767  │\n",
       "│                   ┆      ┆                   ┆ null]             ┆ \"BBG000BPH459\"]   ┆           │\n",
       "│ …                 ┆ …    ┆ …                 ┆ …                 ┆ …                 ┆ …         │\n",
       "│ MICROSOFT         ┆ 2    ┆ [\"594918104\",     ┆ [null]            ┆ [null]            ┆ 0.042292  │\n",
       "│                   ┆      ┆ null]             ┆                   ┆                   ┆           │\n",
       "│ Microsoft         ┆ 2    ┆ [\"594918104\"]     ┆ [\"US5949181045\"]  ┆ [null]            ┆ 0.042292  │\n",
       "│ Corporation       ┆      ┆                   ┆                   ┆                   ┆           │\n",
       "│ (MSFT)            ┆      ┆                   ┆                   ┆                   ┆           │\n",
       "│ MICROSOFT         ┆ 2    ┆ [\"594918104\"]     ┆ [\"US5949181045\"]  ┆ [null]            ┆ 0.042292  │\n",
       "│ CORPORATION COM   ┆      ┆                   ┆                   ┆                   ┆           │\n",
       "│ Microsoft Annual  ┆ 1    ┆ [\"594918104\"]     ┆ [null]            ┆ [null]            ┆ 0.021146  │\n",
       "│ Meeting           ┆      ┆                   ┆                   ┆                   ┆           │\n",
       "│ MICROSOFT CORP    ┆ 1    ┆ [\"594918104\"]     ┆ [\"US5949181045\"]  ┆ [null]            ┆ 0.021146  │\n",
       "│ COM               ┆      ┆                   ┆                   ┆                   ┆           │\n",
       "└───────────────────┴──────┴───────────────────┴───────────────────┴───────────────────┴───────────┘"
      ]
     },
     "metadata": {},
     "output_type": "display_data"
    },
    {
     "name": "stdout",
     "output_type": "stream",
     "text": [
      "Normalized\n"
     ]
    },
    {
     "data": {
      "text/html": [
       "<div><style>\n",
       ".dataframe > thead > tr,\n",
       ".dataframe > tbody > tr {\n",
       "  text-align: right;\n",
       "  white-space: pre-wrap;\n",
       "}\n",
       "</style>\n",
       "<small>shape: (3, 6)</small><table border=\"1\" class=\"dataframe\"><thead><tr><th>issuer_name</th><th>len</th><th>cusip</th><th>isin</th><th>figi</th><th>% of obs</th></tr><tr><td>str</td><td>u32</td><td>list[str]</td><td>list[str]</td><td>list[str]</td><td>f64</td></tr></thead><tbody><tr><td>&quot;MICROSOFT CORPORATION&quot;</td><td>4729</td><td>[&quot;594918104&quot;]</td><td>[&quot;US5949181045&quot;]</td><td>[&quot;BBG000BPH459&quot;]</td><td>99.915487</td></tr><tr><td>&quot;MICROSOFT&quot;</td><td>2</td><td>[null]</td><td>[null]</td><td>[null]</td><td>0.042256</td></tr><tr><td>&quot;MICROSOFT CORP&quot;</td><td>2</td><td>[null]</td><td>[null]</td><td>[null]</td><td>0.042256</td></tr></tbody></table></div>"
      ],
      "text/plain": [
       "shape: (3, 6)\n",
       "┌───────────────────────┬──────┬───────────────┬──────────────────┬──────────────────┬───────────┐\n",
       "│ issuer_name           ┆ len  ┆ cusip         ┆ isin             ┆ figi             ┆ % of obs  │\n",
       "│ ---                   ┆ ---  ┆ ---           ┆ ---              ┆ ---              ┆ ---       │\n",
       "│ str                   ┆ u32  ┆ list[str]     ┆ list[str]        ┆ list[str]        ┆ f64       │\n",
       "╞═══════════════════════╪══════╪═══════════════╪══════════════════╪══════════════════╪═══════════╡\n",
       "│ MICROSOFT CORPORATION ┆ 4729 ┆ [\"594918104\"] ┆ [\"US5949181045\"] ┆ [\"BBG000BPH459\"] ┆ 99.915487 │\n",
       "│ MICROSOFT             ┆ 2    ┆ [null]        ┆ [null]           ┆ [null]           ┆ 0.042256  │\n",
       "│ MICROSOFT CORP        ┆ 2    ┆ [null]        ┆ [null]           ┆ [null]           ┆ 0.042256  │\n",
       "└───────────────────────┴──────┴───────────────┴──────────────────┴──────────────────┴───────────┘"
      ]
     },
     "metadata": {},
     "output_type": "display_data"
    },
    {
     "name": "stdout",
     "output_type": "stream",
     "text": [
      "************************************************************ DISNEY ************************************************************\n",
      "Un-Normalized\n"
     ]
    },
    {
     "data": {
      "text/html": [
       "<div><style>\n",
       ".dataframe > thead > tr,\n",
       ".dataframe > tbody > tr {\n",
       "  text-align: right;\n",
       "  white-space: pre-wrap;\n",
       "}\n",
       "</style>\n",
       "<small>shape: (21, 6)</small><table border=\"1\" class=\"dataframe\"><thead><tr><th>issuer_name</th><th>len</th><th>cusip</th><th>isin</th><th>figi</th><th>% of obs</th></tr><tr><td>str</td><td>u32</td><td>list[str]</td><td>list[str]</td><td>list[str]</td><td>f64</td></tr></thead><tbody><tr><td>&quot;The Walt Disney Company&quot;</td><td>1489</td><td>[&quot;254687106&quot;, null]</td><td>[null, &quot;US2546871060&quot;]</td><td>[&quot;BBG000BLNNV0&quot;, null]</td><td>50.594631</td></tr><tr><td>&quot;THE WALT DISNEY COMPANY&quot;</td><td>1408</td><td>[null, &quot;254687106&quot;, &quot;Z54687106&quot;]</td><td>[null, &quot;US2546871060&quot;]</td><td>[&quot;BBG000BH4R78&quot;, null]</td><td>47.842338</td></tr><tr><td>&quot;THE WALT DISNEY\n",
       "COMPANY&quot;</td><td>12</td><td>[&quot;254687106&quot;]</td><td>[&quot;US2546871060&quot;, null]</td><td>[null]</td><td>0.407747</td></tr><tr><td>&quot;Walt Disney Co (The)&quot;</td><td>9</td><td>[&quot;254687106&quot;]</td><td>[&quot;US2546871060&quot;]</td><td>[null]</td><td>0.30581</td></tr><tr><td>&quot;The Walt Disney Co&quot;</td><td>3</td><td>[&quot;254687106&quot;]</td><td>[&quot;US2546871060&quot;, null]</td><td>[&quot;BBG000BH4R78&quot;, null, &quot;BBG000BH4R79&quot;]</td><td>0.101937</td></tr><tr><td>&hellip;</td><td>&hellip;</td><td>&hellip;</td><td>&hellip;</td><td>&hellip;</td><td>&hellip;</td></tr><tr><td>&quot;WALT DISNEY CO&quot;</td><td>1</td><td>[&quot;254687106&quot;]</td><td>[null]</td><td>[null]</td><td>0.033979</td></tr><tr><td>&quot;Walt Disney Co&quot;</td><td>1</td><td>[&quot;254687106&quot;]</td><td>[null]</td><td>[null]</td><td>0.033979</td></tr><tr><td>&quot;Walt Disney&quot;</td><td>1</td><td>[&quot;254687106&quot;]</td><td>[null]</td><td>[null]</td><td>0.033979</td></tr><tr><td>&quot;Walt Disney Co.&quot;</td><td>1</td><td>[&quot;254687106&quot;]</td><td>[null]</td><td>[null]</td><td>0.033979</td></tr><tr><td>&quot;Walt Disney Company (The)&quot;</td><td>1</td><td>[&quot;254687106&quot;]</td><td>[null]</td><td>[null]</td><td>0.033979</td></tr></tbody></table></div>"
      ],
      "text/plain": [
       "shape: (21, 6)\n",
       "┌─────────────────────┬──────┬───────────────┬────────────────────┬────────────────────┬───────────┐\n",
       "│ issuer_name         ┆ len  ┆ cusip         ┆ isin               ┆ figi               ┆ % of obs  │\n",
       "│ ---                 ┆ ---  ┆ ---           ┆ ---                ┆ ---                ┆ ---       │\n",
       "│ str                 ┆ u32  ┆ list[str]     ┆ list[str]          ┆ list[str]          ┆ f64       │\n",
       "╞═════════════════════╪══════╪═══════════════╪════════════════════╪════════════════════╪═══════════╡\n",
       "│ The Walt Disney     ┆ 1489 ┆ [\"254687106\", ┆ [null,             ┆ [\"BBG000BLNNV0\",   ┆ 50.594631 │\n",
       "│ Company             ┆      ┆ null]         ┆ \"US2546871060\"]    ┆ null]              ┆           │\n",
       "│ THE WALT DISNEY     ┆ 1408 ┆ [null,        ┆ [null,             ┆ [\"BBG000BH4R78\",   ┆ 47.842338 │\n",
       "│ COMPANY             ┆      ┆ \"254687106\",  ┆ \"US2546871060\"]    ┆ null]              ┆           │\n",
       "│                     ┆      ┆ \"Z54687106…   ┆                    ┆                    ┆           │\n",
       "│ THE WALT DISNEY     ┆ 12   ┆ [\"254687106\"] ┆ [\"US2546871060\",   ┆ [null]             ┆ 0.407747  │\n",
       "│ COMPANY             ┆      ┆               ┆ null]              ┆                    ┆           │\n",
       "│ Walt Disney Co      ┆ 9    ┆ [\"254687106\"] ┆ [\"US2546871060\"]   ┆ [null]             ┆ 0.30581   │\n",
       "│ (The)               ┆      ┆               ┆                    ┆                    ┆           │\n",
       "│ The Walt Disney Co  ┆ 3    ┆ [\"254687106\"] ┆ [\"US2546871060\",   ┆ [\"BBG000BH4R78\",   ┆ 0.101937  │\n",
       "│                     ┆      ┆               ┆ null]              ┆ null, \"BBG000…     ┆           │\n",
       "│ …                   ┆ …    ┆ …             ┆ …                  ┆ …                  ┆ …         │\n",
       "│ WALT DISNEY CO      ┆ 1    ┆ [\"254687106\"] ┆ [null]             ┆ [null]             ┆ 0.033979  │\n",
       "│ Walt Disney Co      ┆ 1    ┆ [\"254687106\"] ┆ [null]             ┆ [null]             ┆ 0.033979  │\n",
       "│ Walt Disney         ┆ 1    ┆ [\"254687106\"] ┆ [null]             ┆ [null]             ┆ 0.033979  │\n",
       "│ Walt Disney Co.     ┆ 1    ┆ [\"254687106\"] ┆ [null]             ┆ [null]             ┆ 0.033979  │\n",
       "│ Walt Disney Company ┆ 1    ┆ [\"254687106\"] ┆ [null]             ┆ [null]             ┆ 0.033979  │\n",
       "│ (The)               ┆      ┆               ┆                    ┆                    ┆           │\n",
       "└─────────────────────┴──────┴───────────────┴────────────────────┴────────────────────┴───────────┘"
      ]
     },
     "metadata": {},
     "output_type": "display_data"
    },
    {
     "name": "stdout",
     "output_type": "stream",
     "text": [
      "Normalized\n"
     ]
    },
    {
     "data": {
      "text/html": [
       "<div><style>\n",
       ".dataframe > thead > tr,\n",
       ".dataframe > tbody > tr {\n",
       "  text-align: right;\n",
       "  white-space: pre-wrap;\n",
       "}\n",
       "</style>\n",
       "<small>shape: (1, 6)</small><table border=\"1\" class=\"dataframe\"><thead><tr><th>issuer_name</th><th>len</th><th>cusip</th><th>isin</th><th>figi</th><th>% of obs</th></tr><tr><td>str</td><td>u32</td><td>list[str]</td><td>list[str]</td><td>list[str]</td><td>f64</td></tr></thead><tbody><tr><td>&quot;THE WALT DISNEY COMPANY&quot;</td><td>2952</td><td>[&quot;254687106&quot;]</td><td>[&quot;US2546871060&quot;]</td><td>[&quot;BBG000BH4R78&quot;]</td><td>100.0</td></tr></tbody></table></div>"
      ],
      "text/plain": [
       "shape: (1, 6)\n",
       "┌─────────────────────────┬──────┬───────────────┬──────────────────┬──────────────────┬──────────┐\n",
       "│ issuer_name             ┆ len  ┆ cusip         ┆ isin             ┆ figi             ┆ % of obs │\n",
       "│ ---                     ┆ ---  ┆ ---           ┆ ---              ┆ ---              ┆ ---      │\n",
       "│ str                     ┆ u32  ┆ list[str]     ┆ list[str]        ┆ list[str]        ┆ f64      │\n",
       "╞═════════════════════════╪══════╪═══════════════╪══════════════════╪══════════════════╪══════════╡\n",
       "│ THE WALT DISNEY COMPANY ┆ 2952 ┆ [\"254687106\"] ┆ [\"US2546871060\"] ┆ [\"BBG000BH4R78\"] ┆ 100.0    │\n",
       "└─────────────────────────┴──────┴───────────────┴──────────────────┴──────────────────┴──────────┘"
      ]
     },
     "metadata": {},
     "output_type": "display_data"
    },
    {
     "name": "stdout",
     "output_type": "stream",
     "text": [
      "************************************************************ AMAZON ************************************************************\n",
      "Un-Normalized\n"
     ]
    },
    {
     "data": {
      "text/html": [
       "<div><style>\n",
       ".dataframe > thead > tr,\n",
       ".dataframe > tbody > tr {\n",
       "  text-align: right;\n",
       "  white-space: pre-wrap;\n",
       "}\n",
       "</style>\n",
       "<small>shape: (20, 6)</small><table border=\"1\" class=\"dataframe\"><thead><tr><th>issuer_name</th><th>len</th><th>cusip</th><th>isin</th><th>figi</th><th>% of obs</th></tr><tr><td>str</td><td>u32</td><td>list[str]</td><td>list[str]</td><td>list[str]</td><td>f64</td></tr></thead><tbody><tr><td>&quot;AMAZON.COM, INC.&quot;</td><td>1656</td><td>[null, &quot;023135106&quot;]</td><td>[&quot;US0231351067&quot;, null]</td><td>[null]</td><td>57.301038</td></tr><tr><td>&quot;Amazon.com, Inc.&quot;</td><td>1090</td><td>[&quot;023135106&quot;, null, &quot;231351060&quot;]</td><td>[&quot;US0231351067&quot;, null]</td><td>[null, &quot;BBG000BVPV84&quot;]</td><td>37.716263</td></tr><tr><td>&quot;Amazon.com Inc.&quot;</td><td>64</td><td>[&quot;023135106&quot;]</td><td>[&quot;US0231351067&quot;, null]</td><td>[null]</td><td>2.214533</td></tr><tr><td>&quot;Amazon.com Inc&quot;</td><td>36</td><td>[&quot;023135106&quot;]</td><td>[&quot;US0231351067&quot;, null]</td><td>[&quot;BBG000BVPV84&quot;, null]</td><td>1.245675</td></tr><tr><td>&quot;Amazon&quot;</td><td>9</td><td>[&quot;023135106&quot;, &quot;000023135&quot;, null]</td><td>[null, &quot;US0231351067&quot;]</td><td>[null]</td><td>0.311419</td></tr><tr><td>&hellip;</td><td>&hellip;</td><td>&hellip;</td><td>&hellip;</td><td>&hellip;</td><td>&hellip;</td></tr><tr><td>&quot;Amazon.Com Inc&quot;</td><td>1</td><td>[&quot;023135106&quot;]</td><td>[&quot;US0231351067&quot;]</td><td>[null]</td><td>0.034602</td></tr><tr><td>&quot;AMAZON.COM INC. COM&quot;</td><td>1</td><td>[&quot;023135106&quot;]</td><td>[&quot;US0231351067&quot;]</td><td>[null]</td><td>0.034602</td></tr><tr><td>&quot;AMAZON COM INCORPORATED&quot;</td><td>1</td><td>[&quot;023135106&quot;]</td><td>[&quot;US0231351067&quot;]</td><td>[null]</td><td>0.034602</td></tr><tr><td>&quot;Amazon.com, INC&quot;</td><td>1</td><td>[&quot;023135106&quot;]</td><td>[null]</td><td>[null]</td><td>0.034602</td></tr><tr><td>&quot;AMAZON.COM INC AMZN US&quot;</td><td>1</td><td>[&quot;023135106&quot;]</td><td>[null]</td><td>[null]</td><td>0.034602</td></tr></tbody></table></div>"
      ],
      "text/plain": [
       "shape: (20, 6)\n",
       "┌───────────────────┬──────┬───────────────────┬───────────────────┬───────────────────┬───────────┐\n",
       "│ issuer_name       ┆ len  ┆ cusip             ┆ isin              ┆ figi              ┆ % of obs  │\n",
       "│ ---               ┆ ---  ┆ ---               ┆ ---               ┆ ---               ┆ ---       │\n",
       "│ str               ┆ u32  ┆ list[str]         ┆ list[str]         ┆ list[str]         ┆ f64       │\n",
       "╞═══════════════════╪══════╪═══════════════════╪═══════════════════╪═══════════════════╪═══════════╡\n",
       "│ AMAZON.COM, INC.  ┆ 1656 ┆ [null,            ┆ [\"US0231351067\",  ┆ [null]            ┆ 57.301038 │\n",
       "│                   ┆      ┆ \"023135106\"]      ┆ null]             ┆                   ┆           │\n",
       "│ Amazon.com, Inc.  ┆ 1090 ┆ [\"023135106\",     ┆ [\"US0231351067\",  ┆ [null,            ┆ 37.716263 │\n",
       "│                   ┆      ┆ null, \"231351060… ┆ null]             ┆ \"BBG000BVPV84\"]   ┆           │\n",
       "│ Amazon.com Inc.   ┆ 64   ┆ [\"023135106\"]     ┆ [\"US0231351067\",  ┆ [null]            ┆ 2.214533  │\n",
       "│                   ┆      ┆                   ┆ null]             ┆                   ┆           │\n",
       "│ Amazon.com Inc    ┆ 36   ┆ [\"023135106\"]     ┆ [\"US0231351067\",  ┆ [\"BBG000BVPV84\",  ┆ 1.245675  │\n",
       "│                   ┆      ┆                   ┆ null]             ┆ null]             ┆           │\n",
       "│ Amazon            ┆ 9    ┆ [\"023135106\",     ┆ [null,            ┆ [null]            ┆ 0.311419  │\n",
       "│                   ┆      ┆ \"000023135\", nul… ┆ \"US0231351067\"]   ┆                   ┆           │\n",
       "│ …                 ┆ …    ┆ …                 ┆ …                 ┆ …                 ┆ …         │\n",
       "│ Amazon.Com Inc    ┆ 1    ┆ [\"023135106\"]     ┆ [\"US0231351067\"]  ┆ [null]            ┆ 0.034602  │\n",
       "│ AMAZON.COM INC.   ┆ 1    ┆ [\"023135106\"]     ┆ [\"US0231351067\"]  ┆ [null]            ┆ 0.034602  │\n",
       "│ COM               ┆      ┆                   ┆                   ┆                   ┆           │\n",
       "│ AMAZON COM        ┆ 1    ┆ [\"023135106\"]     ┆ [\"US0231351067\"]  ┆ [null]            ┆ 0.034602  │\n",
       "│ INCORPORATED      ┆      ┆                   ┆                   ┆                   ┆           │\n",
       "│ Amazon.com, INC   ┆ 1    ┆ [\"023135106\"]     ┆ [null]            ┆ [null]            ┆ 0.034602  │\n",
       "│ AMAZON.COM INC    ┆ 1    ┆ [\"023135106\"]     ┆ [null]            ┆ [null]            ┆ 0.034602  │\n",
       "│ AMZN US           ┆      ┆                   ┆                   ┆                   ┆           │\n",
       "└───────────────────┴──────┴───────────────────┴───────────────────┴───────────────────┴───────────┘"
      ]
     },
     "metadata": {},
     "output_type": "display_data"
    },
    {
     "name": "stdout",
     "output_type": "stream",
     "text": [
      "Normalized\n"
     ]
    },
    {
     "data": {
      "text/html": [
       "<div><style>\n",
       ".dataframe > thead > tr,\n",
       ".dataframe > tbody > tr {\n",
       "  text-align: right;\n",
       "  white-space: pre-wrap;\n",
       "}\n",
       "</style>\n",
       "<small>shape: (3, 6)</small><table border=\"1\" class=\"dataframe\"><thead><tr><th>issuer_name</th><th>len</th><th>cusip</th><th>isin</th><th>figi</th><th>% of obs</th></tr><tr><td>str</td><td>u32</td><td>list[str]</td><td>list[str]</td><td>list[str]</td><td>f64</td></tr></thead><tbody><tr><td>&quot;AMAZON.COM, INC.&quot;</td><td>2885</td><td>[&quot;023135106&quot;]</td><td>[&quot;US0231351067&quot;]</td><td>[&quot;BBG000BVPV84&quot;]</td><td>99.792459</td></tr><tr><td>&quot;AMAZON&quot;</td><td>5</td><td>[&quot;000023135&quot;, null]</td><td>[null]</td><td>[null]</td><td>0.172951</td></tr><tr><td>&quot;AMAZON. COM&quot;</td><td>1</td><td>[null]</td><td>[null]</td><td>[null]</td><td>0.03459</td></tr></tbody></table></div>"
      ],
      "text/plain": [
       "shape: (3, 6)\n",
       "┌──────────────────┬──────┬─────────────────────┬──────────────────┬──────────────────┬───────────┐\n",
       "│ issuer_name      ┆ len  ┆ cusip               ┆ isin             ┆ figi             ┆ % of obs  │\n",
       "│ ---              ┆ ---  ┆ ---                 ┆ ---              ┆ ---              ┆ ---       │\n",
       "│ str              ┆ u32  ┆ list[str]           ┆ list[str]        ┆ list[str]        ┆ f64       │\n",
       "╞══════════════════╪══════╪═════════════════════╪══════════════════╪══════════════════╪═══════════╡\n",
       "│ AMAZON.COM, INC. ┆ 2885 ┆ [\"023135106\"]       ┆ [\"US0231351067\"] ┆ [\"BBG000BVPV84\"] ┆ 99.792459 │\n",
       "│ AMAZON           ┆ 5    ┆ [\"000023135\", null] ┆ [null]           ┆ [null]           ┆ 0.172951  │\n",
       "│ AMAZON. COM      ┆ 1    ┆ [null]              ┆ [null]           ┆ [null]           ┆ 0.03459   │\n",
       "└──────────────────┴──────┴─────────────────────┴──────────────────┴──────────────────┴───────────┘"
      ]
     },
     "metadata": {},
     "output_type": "display_data"
    },
    {
     "name": "stdout",
     "output_type": "stream",
     "text": [
      "************************************************************ JPMORGAN ************************************************************\n",
      "Un-Normalized\n"
     ]
    },
    {
     "data": {
      "text/html": [
       "<div><style>\n",
       ".dataframe > thead > tr,\n",
       ".dataframe > tbody > tr {\n",
       "  text-align: right;\n",
       "  white-space: pre-wrap;\n",
       "}\n",
       "</style>\n",
       "<small>shape: (13, 6)</small><table border=\"1\" class=\"dataframe\"><thead><tr><th>issuer_name</th><th>len</th><th>cusip</th><th>isin</th><th>figi</th><th>% of obs</th></tr><tr><td>str</td><td>u32</td><td>list[str]</td><td>list[str]</td><td>list[str]</td><td>f64</td></tr></thead><tbody><tr><td>&quot;JPMORGAN CHASE &amp; CO.&quot;</td><td>1324</td><td>[null, &quot;46625H100&quot;]</td><td>[null, &quot;US46625H1005&quot;]</td><td>[null]</td><td>50.246679</td></tr><tr><td>&quot;JPMorgan Chase &amp; Co.&quot;</td><td>1151</td><td>[null, &quot;46625h100&quot;, &quot;46625H100&quot;]</td><td>[null, &quot;US46625H1005&quot;]</td><td>[&quot;BBG000DMBXR2&quot;, null]</td><td>43.681214</td></tr><tr><td>&quot;JPMORGAN CHASE  CO.&quot;</td><td>80</td><td>[&quot;46625H100&quot;]</td><td>[null]</td><td>[null]</td><td>3.036053</td></tr><tr><td>&quot;JPMORGAN CHASE and CO.&quot;</td><td>27</td><td>[&quot;46625H100&quot;]</td><td>[&quot;US46625H1005&quot;]</td><td>[null]</td><td>1.024668</td></tr><tr><td>&quot;JPMorgan Chase &amp; CO.&quot;</td><td>20</td><td>[&quot;46625H100&quot;]</td><td>[&quot;US46625H1005&quot;]</td><td>[null]</td><td>0.759013</td></tr><tr><td>&hellip;</td><td>&hellip;</td><td>&hellip;</td><td>&hellip;</td><td>&hellip;</td><td>&hellip;</td></tr><tr><td>&quot;JPMORGAN CHASE &amp;amp; CO.&quot;</td><td>2</td><td>[&quot;46625H100&quot;]</td><td>[&quot;US46625H1005&quot;]</td><td>[null]</td><td>0.075901</td></tr><tr><td>&quot;JPMorgan Chase &amp; Co (JPM)&quot;</td><td>1</td><td>[&quot;46625H100&quot;]</td><td>[&quot;US46625H1005&quot;]</td><td>[null]</td><td>0.037951</td></tr><tr><td>&quot;JPMORGAN CHASE AND CO.&quot;</td><td>1</td><td>[&quot;46625H100&quot;]</td><td>[null]</td><td>[null]</td><td>0.037951</td></tr><tr><td>&quot;JPMORGAN CHASE &amp; CO. COM&quot;</td><td>1</td><td>[&quot;46625H100&quot;]</td><td>[&quot;US46625H1005&quot;]</td><td>[null]</td><td>0.037951</td></tr><tr><td>&quot;JPMorgan&quot;</td><td>1</td><td>[null]</td><td>[null]</td><td>[null]</td><td>0.037951</td></tr></tbody></table></div>"
      ],
      "text/plain": [
       "shape: (13, 6)\n",
       "┌─────────────────────┬──────┬───────────────┬────────────────────┬────────────────────┬───────────┐\n",
       "│ issuer_name         ┆ len  ┆ cusip         ┆ isin               ┆ figi               ┆ % of obs  │\n",
       "│ ---                 ┆ ---  ┆ ---           ┆ ---                ┆ ---                ┆ ---       │\n",
       "│ str                 ┆ u32  ┆ list[str]     ┆ list[str]          ┆ list[str]          ┆ f64       │\n",
       "╞═════════════════════╪══════╪═══════════════╪════════════════════╪════════════════════╪═══════════╡\n",
       "│ JPMORGAN CHASE &    ┆ 1324 ┆ [null,        ┆ [null,             ┆ [null]             ┆ 50.246679 │\n",
       "│ CO.                 ┆      ┆ \"46625H100\"]  ┆ \"US46625H1005\"]    ┆                    ┆           │\n",
       "│ JPMorgan Chase &    ┆ 1151 ┆ [null,        ┆ [null,             ┆ [\"BBG000DMBXR2\",   ┆ 43.681214 │\n",
       "│ Co.                 ┆      ┆ \"46625h100\",  ┆ \"US46625H1005\"]    ┆ null]              ┆           │\n",
       "│                     ┆      ┆ \"46625H100…   ┆                    ┆                    ┆           │\n",
       "│ JPMORGAN CHASE  CO. ┆ 80   ┆ [\"46625H100\"] ┆ [null]             ┆ [null]             ┆ 3.036053  │\n",
       "│ JPMORGAN CHASE and  ┆ 27   ┆ [\"46625H100\"] ┆ [\"US46625H1005\"]   ┆ [null]             ┆ 1.024668  │\n",
       "│ CO.                 ┆      ┆               ┆                    ┆                    ┆           │\n",
       "│ JPMorgan Chase &    ┆ 20   ┆ [\"46625H100\"] ┆ [\"US46625H1005\"]   ┆ [null]             ┆ 0.759013  │\n",
       "│ CO.                 ┆      ┆               ┆                    ┆                    ┆           │\n",
       "│ …                   ┆ …    ┆ …             ┆ …                  ┆ …                  ┆ …         │\n",
       "│ JPMORGAN CHASE      ┆ 2    ┆ [\"46625H100\"] ┆ [\"US46625H1005\"]   ┆ [null]             ┆ 0.075901  │\n",
       "│ &amp; CO.           ┆      ┆               ┆                    ┆                    ┆           │\n",
       "│ JPMorgan Chase & Co ┆ 1    ┆ [\"46625H100\"] ┆ [\"US46625H1005\"]   ┆ [null]             ┆ 0.037951  │\n",
       "│ (JPM)               ┆      ┆               ┆                    ┆                    ┆           │\n",
       "│ JPMORGAN CHASE AND  ┆ 1    ┆ [\"46625H100\"] ┆ [null]             ┆ [null]             ┆ 0.037951  │\n",
       "│ CO.                 ┆      ┆               ┆                    ┆                    ┆           │\n",
       "│ JPMORGAN CHASE &    ┆ 1    ┆ [\"46625H100\"] ┆ [\"US46625H1005\"]   ┆ [null]             ┆ 0.037951  │\n",
       "│ CO. COM             ┆      ┆               ┆                    ┆                    ┆           │\n",
       "│ JPMorgan            ┆ 1    ┆ [null]        ┆ [null]             ┆ [null]             ┆ 0.037951  │\n",
       "└─────────────────────┴──────┴───────────────┴────────────────────┴────────────────────┴───────────┘"
      ]
     },
     "metadata": {},
     "output_type": "display_data"
    },
    {
     "name": "stdout",
     "output_type": "stream",
     "text": [
      "Normalized\n"
     ]
    },
    {
     "data": {
      "text/html": [
       "<div><style>\n",
       ".dataframe > thead > tr,\n",
       ".dataframe > tbody > tr {\n",
       "  text-align: right;\n",
       "  white-space: pre-wrap;\n",
       "}\n",
       "</style>\n",
       "<small>shape: (2, 6)</small><table border=\"1\" class=\"dataframe\"><thead><tr><th>issuer_name</th><th>len</th><th>cusip</th><th>isin</th><th>figi</th><th>% of obs</th></tr><tr><td>str</td><td>u32</td><td>list[str]</td><td>list[str]</td><td>list[str]</td><td>f64</td></tr></thead><tbody><tr><td>&quot;JPMORGAN CHASE &amp; CO.&quot;</td><td>2652</td><td>[&quot;46625H100&quot;]</td><td>[&quot;US46625H1005&quot;]</td><td>[&quot;BBG000DMBXR2&quot;]</td><td>99.962307</td></tr><tr><td>&quot;JPMORGAN&quot;</td><td>1</td><td>[null]</td><td>[null]</td><td>[null]</td><td>0.037693</td></tr></tbody></table></div>"
      ],
      "text/plain": [
       "shape: (2, 6)\n",
       "┌──────────────────────┬──────┬───────────────┬──────────────────┬──────────────────┬───────────┐\n",
       "│ issuer_name          ┆ len  ┆ cusip         ┆ isin             ┆ figi             ┆ % of obs  │\n",
       "│ ---                  ┆ ---  ┆ ---           ┆ ---              ┆ ---              ┆ ---       │\n",
       "│ str                  ┆ u32  ┆ list[str]     ┆ list[str]        ┆ list[str]        ┆ f64       │\n",
       "╞══════════════════════╪══════╪═══════════════╪══════════════════╪══════════════════╪═══════════╡\n",
       "│ JPMORGAN CHASE & CO. ┆ 2652 ┆ [\"46625H100\"] ┆ [\"US46625H1005\"] ┆ [\"BBG000DMBXR2\"] ┆ 99.962307 │\n",
       "│ JPMORGAN             ┆ 1    ┆ [null]        ┆ [null]           ┆ [null]           ┆ 0.037693  │\n",
       "└──────────────────────┴──────┴───────────────┴──────────────────┴──────────────────┴───────────┘"
      ]
     },
     "metadata": {},
     "output_type": "display_data"
    },
    {
     "name": "stdout",
     "output_type": "stream",
     "text": [
      "************************************************************ PROCTER ************************************************************\n",
      "Un-Normalized\n"
     ]
    },
    {
     "data": {
      "text/html": [
       "<div><style>\n",
       ".dataframe > thead > tr,\n",
       ".dataframe > tbody > tr {\n",
       "  text-align: right;\n",
       "  white-space: pre-wrap;\n",
       "}\n",
       "</style>\n",
       "<small>shape: (19, 6)</small><table border=\"1\" class=\"dataframe\"><thead><tr><th>issuer_name</th><th>len</th><th>cusip</th><th>isin</th><th>figi</th><th>% of obs</th></tr><tr><td>str</td><td>u32</td><td>list[str]</td><td>list[str]</td><td>list[str]</td><td>f64</td></tr></thead><tbody><tr><td>&quot;THE PROCTER &amp; GAMBLE COMPANY&quot;</td><td>1186</td><td>[&quot;742718109&quot;, null]</td><td>[null, &quot;US7427181091&quot;]</td><td>[null]</td><td>47.458984</td></tr><tr><td>&quot;The Procter &amp; Gamble Company&quot;</td><td>1001</td><td>[&quot;742718109&quot;, null]</td><td>[&quot;US7427181091&quot;, null]</td><td>[&quot;BBG000BLNNV0&quot;, null, &quot;BBG000BR2TH3&quot;]</td><td>40.056022</td></tr><tr><td>&quot;THE PROCTER  GAMBLE COMPANY&quot;</td><td>100</td><td>[&quot;742718109&quot;]</td><td>[null]</td><td>[null]</td><td>4.001601</td></tr><tr><td>&quot;THE PROCTER and GAMBLE COMPANY&quot;</td><td>78</td><td>[&quot;742718109&quot;]</td><td>[&quot;US7427181091&quot;]</td><td>[null]</td><td>3.121248</td></tr><tr><td>&quot;THE PROCTER &amp; GAMBLE\n",
       "COMPANY&quot;</td><td>65</td><td>[&quot;742718109&quot;]</td><td>[null, &quot;US7427181091&quot;]</td><td>[null]</td><td>2.60104</td></tr><tr><td>&hellip;</td><td>&hellip;</td><td>&hellip;</td><td>&hellip;</td><td>&hellip;</td><td>&hellip;</td></tr><tr><td>&quot;Procter &amp; Gamble Company (The)&quot;</td><td>2</td><td>[&quot;742718109&quot;]</td><td>[null]</td><td>[null]</td><td>0.080032</td></tr><tr><td>&quot;PROCTER &amp; GAMBLE CO&quot;</td><td>2</td><td>[&quot;742718109&quot;]</td><td>[null]</td><td>[null]</td><td>0.080032</td></tr><tr><td>&quot;Procter &amp; Gamble Co&quot;</td><td>1</td><td>[&quot;742718109&quot;]</td><td>[null]</td><td>[null]</td><td>0.040016</td></tr><tr><td>&quot;PROCTER AND GAMBLE CO COM&quot;</td><td>1</td><td>[&quot;742718109&quot;]</td><td>[&quot;US7427181091&quot;]</td><td>[null]</td><td>0.040016</td></tr><tr><td>&quot;PROCTER AND GAMBLE CO&quot;</td><td>1</td><td>[&quot;742718109&quot;]</td><td>[null]</td><td>[&quot;BBG001S5V4L9&quot;]</td><td>0.040016</td></tr></tbody></table></div>"
      ],
      "text/plain": [
       "shape: (19, 6)\n",
       "┌─────────────────────┬──────┬───────────────┬────────────────────┬────────────────────┬───────────┐\n",
       "│ issuer_name         ┆ len  ┆ cusip         ┆ isin               ┆ figi               ┆ % of obs  │\n",
       "│ ---                 ┆ ---  ┆ ---           ┆ ---                ┆ ---                ┆ ---       │\n",
       "│ str                 ┆ u32  ┆ list[str]     ┆ list[str]          ┆ list[str]          ┆ f64       │\n",
       "╞═════════════════════╪══════╪═══════════════╪════════════════════╪════════════════════╪═══════════╡\n",
       "│ THE PROCTER &       ┆ 1186 ┆ [\"742718109\", ┆ [null,             ┆ [null]             ┆ 47.458984 │\n",
       "│ GAMBLE COMPANY      ┆      ┆ null]         ┆ \"US7427181091\"]    ┆                    ┆           │\n",
       "│ The Procter &       ┆ 1001 ┆ [\"742718109\", ┆ [\"US7427181091\",   ┆ [\"BBG000BLNNV0\",   ┆ 40.056022 │\n",
       "│ Gamble Company      ┆      ┆ null]         ┆ null]              ┆ null, \"BBG000…     ┆           │\n",
       "│ THE PROCTER  GAMBLE ┆ 100  ┆ [\"742718109\"] ┆ [null]             ┆ [null]             ┆ 4.001601  │\n",
       "│ COMPANY             ┆      ┆               ┆                    ┆                    ┆           │\n",
       "│ THE PROCTER and     ┆ 78   ┆ [\"742718109\"] ┆ [\"US7427181091\"]   ┆ [null]             ┆ 3.121248  │\n",
       "│ GAMBLE COMPANY      ┆      ┆               ┆                    ┆                    ┆           │\n",
       "│ THE PROCTER &       ┆ 65   ┆ [\"742718109\"] ┆ [null,             ┆ [null]             ┆ 2.60104   │\n",
       "│ GAMBLE              ┆      ┆               ┆ \"US7427181091\"]    ┆                    ┆           │\n",
       "│ COMPANY             ┆      ┆               ┆                    ┆                    ┆           │\n",
       "│ …                   ┆ …    ┆ …             ┆ …                  ┆ …                  ┆ …         │\n",
       "│ Procter & Gamble    ┆ 2    ┆ [\"742718109\"] ┆ [null]             ┆ [null]             ┆ 0.080032  │\n",
       "│ Company (The)       ┆      ┆               ┆                    ┆                    ┆           │\n",
       "│ PROCTER & GAMBLE CO ┆ 2    ┆ [\"742718109\"] ┆ [null]             ┆ [null]             ┆ 0.080032  │\n",
       "│ Procter & Gamble Co ┆ 1    ┆ [\"742718109\"] ┆ [null]             ┆ [null]             ┆ 0.040016  │\n",
       "│ PROCTER AND GAMBLE  ┆ 1    ┆ [\"742718109\"] ┆ [\"US7427181091\"]   ┆ [null]             ┆ 0.040016  │\n",
       "│ CO COM              ┆      ┆               ┆                    ┆                    ┆           │\n",
       "│ PROCTER AND GAMBLE  ┆ 1    ┆ [\"742718109\"] ┆ [null]             ┆ [\"BBG001S5V4L9\"]   ┆ 0.040016  │\n",
       "│ CO                  ┆      ┆               ┆                    ┆                    ┆           │\n",
       "└─────────────────────┴──────┴───────────────┴────────────────────┴────────────────────┴───────────┘"
      ]
     },
     "metadata": {},
     "output_type": "display_data"
    },
    {
     "name": "stdout",
     "output_type": "stream",
     "text": [
      "Normalized\n"
     ]
    },
    {
     "data": {
      "text/html": [
       "<div><style>\n",
       ".dataframe > thead > tr,\n",
       ".dataframe > tbody > tr {\n",
       "  text-align: right;\n",
       "  white-space: pre-wrap;\n",
       "}\n",
       "</style>\n",
       "<small>shape: (3, 6)</small><table border=\"1\" class=\"dataframe\"><thead><tr><th>issuer_name</th><th>len</th><th>cusip</th><th>isin</th><th>figi</th><th>% of obs</th></tr><tr><td>str</td><td>u32</td><td>list[str]</td><td>list[str]</td><td>list[str]</td><td>f64</td></tr></thead><tbody><tr><td>&quot;THE PROCTER &amp; GAMBLE COMPANY&quot;</td><td>2602</td><td>[&quot;460690100&quot;, &quot;742718109&quot;]</td><td>[&quot;US7427181091&quot;]</td><td>[&quot;BBG000BLNNV0&quot;]</td><td>99.617152</td></tr><tr><td>&quot;PROCTER &amp; GAMBLE HYGIENE &amp; HEA…</td><td>9</td><td>[&quot;Y7089A117&quot;]</td><td>[&quot;INE179A01014&quot;]</td><td>[null]</td><td>0.344564</td></tr><tr><td>&quot;PROCTER &amp; GAMBLE&quot;</td><td>1</td><td>[null]</td><td>[null]</td><td>[null]</td><td>0.038285</td></tr></tbody></table></div>"
      ],
      "text/plain": [
       "shape: (3, 6)\n",
       "┌──────────────────────┬──────┬───────────────┬──────────────────┬──────────────────┬───────────┐\n",
       "│ issuer_name          ┆ len  ┆ cusip         ┆ isin             ┆ figi             ┆ % of obs  │\n",
       "│ ---                  ┆ ---  ┆ ---           ┆ ---              ┆ ---              ┆ ---       │\n",
       "│ str                  ┆ u32  ┆ list[str]     ┆ list[str]        ┆ list[str]        ┆ f64       │\n",
       "╞══════════════════════╪══════╪═══════════════╪══════════════════╪══════════════════╪═══════════╡\n",
       "│ THE PROCTER & GAMBLE ┆ 2602 ┆ [\"460690100\", ┆ [\"US7427181091\"] ┆ [\"BBG000BLNNV0\"] ┆ 99.617152 │\n",
       "│ COMPANY              ┆      ┆ \"742718109\"]  ┆                  ┆                  ┆           │\n",
       "│ PROCTER & GAMBLE     ┆ 9    ┆ [\"Y7089A117\"] ┆ [\"INE179A01014\"] ┆ [null]           ┆ 0.344564  │\n",
       "│ HYGIENE & HEA…       ┆      ┆               ┆                  ┆                  ┆           │\n",
       "│ PROCTER & GAMBLE     ┆ 1    ┆ [null]        ┆ [null]           ┆ [null]           ┆ 0.038285  │\n",
       "└──────────────────────┴──────┴───────────────┴──────────────────┴──────────────────┴───────────┘"
      ]
     },
     "metadata": {},
     "output_type": "display_data"
    },
    {
     "name": "stdout",
     "output_type": "stream",
     "text": [
      "************************************************************ ORACLE ************************************************************\n",
      "Un-Normalized\n"
     ]
    },
    {
     "data": {
      "text/html": [
       "<div><style>\n",
       ".dataframe > thead > tr,\n",
       ".dataframe > tbody > tr {\n",
       "  text-align: right;\n",
       "  white-space: pre-wrap;\n",
       "}\n",
       "</style>\n",
       "<small>shape: (14, 6)</small><table border=\"1\" class=\"dataframe\"><thead><tr><th>issuer_name</th><th>len</th><th>cusip</th><th>isin</th><th>figi</th><th>% of obs</th></tr><tr><td>str</td><td>u32</td><td>list[str]</td><td>list[str]</td><td>list[str]</td><td>f64</td></tr></thead><tbody><tr><td>&quot;ORACLE CORPORATION&quot;</td><td>1287</td><td>[&quot;68389X105&quot;, null]</td><td>[&quot;US68389X1054&quot;, null]</td><td>[null]</td><td>50.970297</td></tr><tr><td>&quot;Oracle Corporation&quot;</td><td>1097</td><td>[&quot;68389X105&quot;, null, &quot;68389x105&quot;]</td><td>[&quot;US68389X1054&quot;, null]</td><td>[&quot;BBG000BQLTW7&quot;, null]</td><td>43.445545</td></tr><tr><td>&quot;Oracle Corp&quot;</td><td>69</td><td>[&quot;68389X105&quot;]</td><td>[&quot;US68389X1055&quot;, null, &quot;US68389X1054&quot;]</td><td>[&quot;BBG000BQLTW7&quot;, null]</td><td>2.732673</td></tr><tr><td>&quot;Oracle Corp.&quot;</td><td>17</td><td>[&quot;68389X105&quot;]</td><td>[&quot;US68389X1054&quot;, null]</td><td>[null]</td><td>0.673267</td></tr><tr><td>&quot;Oracle Financial Services Soft…</td><td>16</td><td>[null, &quot;Y3864R102&quot;]</td><td>[&quot;INE881D01027&quot;]</td><td>[null]</td><td>0.633663</td></tr><tr><td>&hellip;</td><td>&hellip;</td><td>&hellip;</td><td>&hellip;</td><td>&hellip;</td><td>&hellip;</td></tr><tr><td>&quot;ORACLE&quot;</td><td>3</td><td>[&quot;68389X105&quot;]</td><td>[&quot;US68389X1054&quot;, null]</td><td>[null]</td><td>0.118812</td></tr><tr><td>&quot;Oracle Corporatio n&quot;</td><td>2</td><td>[null]</td><td>[null]</td><td>[null]</td><td>0.079208</td></tr><tr><td>&quot;ORACLE CORPORTATION&quot;</td><td>2</td><td>[&quot;68389X105&quot;]</td><td>[null]</td><td>[null]</td><td>0.079208</td></tr><tr><td>&quot;Oracle&quot;</td><td>1</td><td>[&quot;68389X105&quot;]</td><td>[null]</td><td>[null]</td><td>0.039604</td></tr><tr><td>&quot;ORACLE CORP COM&quot;</td><td>1</td><td>[&quot;68389X105&quot;]</td><td>[&quot;US68389X1054&quot;]</td><td>[null]</td><td>0.039604</td></tr></tbody></table></div>"
      ],
      "text/plain": [
       "shape: (14, 6)\n",
       "┌───────────────────┬──────┬───────────────────┬───────────────────┬───────────────────┬───────────┐\n",
       "│ issuer_name       ┆ len  ┆ cusip             ┆ isin              ┆ figi              ┆ % of obs  │\n",
       "│ ---               ┆ ---  ┆ ---               ┆ ---               ┆ ---               ┆ ---       │\n",
       "│ str               ┆ u32  ┆ list[str]         ┆ list[str]         ┆ list[str]         ┆ f64       │\n",
       "╞═══════════════════╪══════╪═══════════════════╪═══════════════════╪═══════════════════╪═══════════╡\n",
       "│ ORACLE            ┆ 1287 ┆ [\"68389X105\",     ┆ [\"US68389X1054\",  ┆ [null]            ┆ 50.970297 │\n",
       "│ CORPORATION       ┆      ┆ null]             ┆ null]             ┆                   ┆           │\n",
       "│ Oracle            ┆ 1097 ┆ [\"68389X105\",     ┆ [\"US68389X1054\",  ┆ [\"BBG000BQLTW7\",  ┆ 43.445545 │\n",
       "│ Corporation       ┆      ┆ null, \"68389x105… ┆ null]             ┆ null]             ┆           │\n",
       "│ Oracle Corp       ┆ 69   ┆ [\"68389X105\"]     ┆ [\"US68389X1055\",  ┆ [\"BBG000BQLTW7\",  ┆ 2.732673  │\n",
       "│                   ┆      ┆                   ┆ null, \"US6838…    ┆ null]             ┆           │\n",
       "│ Oracle Corp.      ┆ 17   ┆ [\"68389X105\"]     ┆ [\"US68389X1054\",  ┆ [null]            ┆ 0.673267  │\n",
       "│                   ┆      ┆                   ┆ null]             ┆                   ┆           │\n",
       "│ Oracle Financial  ┆ 16   ┆ [null,            ┆ [\"INE881D01027\"]  ┆ [null]            ┆ 0.633663  │\n",
       "│ Services Soft…    ┆      ┆ \"Y3864R102\"]      ┆                   ┆                   ┆           │\n",
       "│ …                 ┆ …    ┆ …                 ┆ …                 ┆ …                 ┆ …         │\n",
       "│ ORACLE            ┆ 3    ┆ [\"68389X105\"]     ┆ [\"US68389X1054\",  ┆ [null]            ┆ 0.118812  │\n",
       "│                   ┆      ┆                   ┆ null]             ┆                   ┆           │\n",
       "│ Oracle Corporatio ┆ 2    ┆ [null]            ┆ [null]            ┆ [null]            ┆ 0.079208  │\n",
       "│ n                 ┆      ┆                   ┆                   ┆                   ┆           │\n",
       "│ ORACLE            ┆ 2    ┆ [\"68389X105\"]     ┆ [null]            ┆ [null]            ┆ 0.079208  │\n",
       "│ CORPORTATION      ┆      ┆                   ┆                   ┆                   ┆           │\n",
       "│ Oracle            ┆ 1    ┆ [\"68389X105\"]     ┆ [null]            ┆ [null]            ┆ 0.039604  │\n",
       "│ ORACLE CORP COM   ┆ 1    ┆ [\"68389X105\"]     ┆ [\"US68389X1054\"]  ┆ [null]            ┆ 0.039604  │\n",
       "└───────────────────┴──────┴───────────────────┴───────────────────┴───────────────────┴───────────┘"
      ]
     },
     "metadata": {},
     "output_type": "display_data"
    },
    {
     "name": "stdout",
     "output_type": "stream",
     "text": [
      "Normalized\n"
     ]
    },
    {
     "data": {
      "text/html": [
       "<div><style>\n",
       ".dataframe > thead > tr,\n",
       ".dataframe > tbody > tr {\n",
       "  text-align: right;\n",
       "  white-space: pre-wrap;\n",
       "}\n",
       "</style>\n",
       "<small>shape: (4, 6)</small><table border=\"1\" class=\"dataframe\"><thead><tr><th>issuer_name</th><th>len</th><th>cusip</th><th>isin</th><th>figi</th><th>% of obs</th></tr><tr><td>str</td><td>u32</td><td>list[str]</td><td>list[str]</td><td>list[str]</td><td>f64</td></tr></thead><tbody><tr><td>&quot;ORACLE CORPORATION&quot;</td><td>2487</td><td>[&quot;68389X105&quot;]</td><td>[&quot;US68389X1054&quot;]</td><td>[&quot;BBG000BQLTW7&quot;]</td><td>98.378165</td></tr><tr><td>&quot;ORACLE FINANCIAL SERVICES SOFT…</td><td>21</td><td>[&quot;Y3864R102&quot;]</td><td>[&quot;INE881D01027&quot;]</td><td>[null]</td><td>0.830696</td></tr><tr><td>&quot;ORACLE CORP JAPAN&quot;</td><td>18</td><td>[&quot;J6165M109&quot;]</td><td>[&quot;JP3689500001&quot;]</td><td>[null]</td><td>0.712025</td></tr><tr><td>&quot;ORACLE CORPORATIO N&quot;</td><td>2</td><td>[null]</td><td>[null]</td><td>[null]</td><td>0.079114</td></tr></tbody></table></div>"
      ],
      "text/plain": [
       "shape: (4, 6)\n",
       "┌─────────────────────┬──────┬───────────────┬──────────────────┬──────────────────┬───────────┐\n",
       "│ issuer_name         ┆ len  ┆ cusip         ┆ isin             ┆ figi             ┆ % of obs  │\n",
       "│ ---                 ┆ ---  ┆ ---           ┆ ---              ┆ ---              ┆ ---       │\n",
       "│ str                 ┆ u32  ┆ list[str]     ┆ list[str]        ┆ list[str]        ┆ f64       │\n",
       "╞═════════════════════╪══════╪═══════════════╪══════════════════╪══════════════════╪═══════════╡\n",
       "│ ORACLE CORPORATION  ┆ 2487 ┆ [\"68389X105\"] ┆ [\"US68389X1054\"] ┆ [\"BBG000BQLTW7\"] ┆ 98.378165 │\n",
       "│ ORACLE FINANCIAL    ┆ 21   ┆ [\"Y3864R102\"] ┆ [\"INE881D01027\"] ┆ [null]           ┆ 0.830696  │\n",
       "│ SERVICES SOFT…      ┆      ┆               ┆                  ┆                  ┆           │\n",
       "│ ORACLE CORP JAPAN   ┆ 18   ┆ [\"J6165M109\"] ┆ [\"JP3689500001\"] ┆ [null]           ┆ 0.712025  │\n",
       "│ ORACLE CORPORATIO N ┆ 2    ┆ [null]        ┆ [null]           ┆ [null]           ┆ 0.079114  │\n",
       "└─────────────────────┴──────┴───────────────┴──────────────────┴──────────────────┴───────────┘"
      ]
     },
     "metadata": {},
     "output_type": "display_data"
    },
    {
     "name": "stdout",
     "output_type": "stream",
     "text": [
      "************************************************************ APPLE ************************************************************\n",
      "Un-Normalized\n"
     ]
    },
    {
     "data": {
      "text/html": [
       "<div><style>\n",
       ".dataframe > thead > tr,\n",
       ".dataframe > tbody > tr {\n",
       "  text-align: right;\n",
       "  white-space: pre-wrap;\n",
       "}\n",
       "</style>\n",
       "<small>shape: (22, 6)</small><table border=\"1\" class=\"dataframe\"><thead><tr><th>issuer_name</th><th>len</th><th>cusip</th><th>isin</th><th>figi</th><th>% of obs</th></tr><tr><td>str</td><td>u32</td><td>list[str]</td><td>list[str]</td><td>list[str]</td><td>f64</td></tr></thead><tbody><tr><td>&quot;APPLE INC.&quot;</td><td>1105</td><td>[&quot;037833100&quot;, null]</td><td>[&quot;US0378331005&quot;, null]</td><td>[null]</td><td>43.710443</td></tr><tr><td>&quot;Apple Inc.&quot;</td><td>936</td><td>[null, &quot;378331000&quot;, &quot;037833100&quot;]</td><td>[null, &quot;US0378331005&quot;]</td><td>[null, &quot;BBG000B9XRY4&quot;]</td><td>37.025316</td></tr><tr><td>&quot;APPLE INC&quot;</td><td>175</td><td>[&quot;037833100&quot;]</td><td>[null, &quot;US0378331005&quot;]</td><td>[null, &quot;BBG001S5N8V8&quot;]</td><td>6.922468</td></tr><tr><td>&quot;Apple Hospitality REIT, Inc.&quot;</td><td>111</td><td>[&quot;03784Y200&quot;]</td><td>[&quot;US03784Y2000&quot;, null]</td><td>[null]</td><td>4.390823</td></tr><tr><td>&quot;APPLE HOSPITALITY REIT, INC.&quot;</td><td>48</td><td>[&quot;03784Y200&quot;]</td><td>[&quot;US03784Y2000&quot;, null]</td><td>[null]</td><td>1.898734</td></tr><tr><td>&hellip;</td><td>&hellip;</td><td>&hellip;</td><td>&hellip;</td><td>&hellip;</td><td>&hellip;</td></tr><tr><td>&quot;APPLE INC. COM&quot;</td><td>1</td><td>[&quot;037833100&quot;]</td><td>[&quot;US0378331005&quot;]</td><td>[null]</td><td>0.039557</td></tr><tr><td>&quot;APPLE INC COM&quot;</td><td>1</td><td>[&quot;037833100&quot;]</td><td>[&quot;US0378331005&quot;]</td><td>[null]</td><td>0.039557</td></tr><tr><td>&quot;Apple Hospitality REIT Inc&quot;</td><td>1</td><td>[&quot;03784Y200&quot;]</td><td>[null]</td><td>[null]</td><td>0.039557</td></tr><tr><td>&quot;Apple, Inc&quot;</td><td>1</td><td>[&quot;037833100&quot;]</td><td>[null]</td><td>[null]</td><td>0.039557</td></tr><tr><td>&quot;Apple Hospitality REIT&quot;</td><td>1</td><td>[&quot;03784Y200&quot;]</td><td>[null]</td><td>[null]</td><td>0.039557</td></tr></tbody></table></div>"
      ],
      "text/plain": [
       "shape: (22, 6)\n",
       "┌───────────────────┬──────┬───────────────┬─────────────────────────┬─────────────────┬───────────┐\n",
       "│ issuer_name       ┆ len  ┆ cusip         ┆ isin                    ┆ figi            ┆ % of obs  │\n",
       "│ ---               ┆ ---  ┆ ---           ┆ ---                     ┆ ---             ┆ ---       │\n",
       "│ str               ┆ u32  ┆ list[str]     ┆ list[str]               ┆ list[str]       ┆ f64       │\n",
       "╞═══════════════════╪══════╪═══════════════╪═════════════════════════╪═════════════════╪═══════════╡\n",
       "│ APPLE INC.        ┆ 1105 ┆ [\"037833100\", ┆ [\"US0378331005\", null]  ┆ [null]          ┆ 43.710443 │\n",
       "│                   ┆      ┆ null]         ┆                         ┆                 ┆           │\n",
       "│ Apple Inc.        ┆ 936  ┆ [null,        ┆ [null, \"US0378331005\"]  ┆ [null,          ┆ 37.025316 │\n",
       "│                   ┆      ┆ \"378331000\",  ┆                         ┆ \"BBG000B9XRY4\"] ┆           │\n",
       "│                   ┆      ┆ \"037833100…   ┆                         ┆                 ┆           │\n",
       "│ APPLE INC         ┆ 175  ┆ [\"037833100\"] ┆ [null, \"US0378331005\"]  ┆ [null,          ┆ 6.922468  │\n",
       "│                   ┆      ┆               ┆                         ┆ \"BBG001S5N8V8\"] ┆           │\n",
       "│ Apple Hospitality ┆ 111  ┆ [\"03784Y200\"] ┆ [\"US03784Y2000\", null]  ┆ [null]          ┆ 4.390823  │\n",
       "│ REIT, Inc.        ┆      ┆               ┆                         ┆                 ┆           │\n",
       "│ APPLE HOSPITALITY ┆ 48   ┆ [\"03784Y200\"] ┆ [\"US03784Y2000\", null]  ┆ [null]          ┆ 1.898734  │\n",
       "│ REIT, INC.        ┆      ┆               ┆                         ┆                 ┆           │\n",
       "│ …                 ┆ …    ┆ …             ┆ …                       ┆ …               ┆ …         │\n",
       "│ APPLE INC. COM    ┆ 1    ┆ [\"037833100\"] ┆ [\"US0378331005\"]        ┆ [null]          ┆ 0.039557  │\n",
       "│ APPLE INC COM     ┆ 1    ┆ [\"037833100\"] ┆ [\"US0378331005\"]        ┆ [null]          ┆ 0.039557  │\n",
       "│ Apple Hospitality ┆ 1    ┆ [\"03784Y200\"] ┆ [null]                  ┆ [null]          ┆ 0.039557  │\n",
       "│ REIT Inc          ┆      ┆               ┆                         ┆                 ┆           │\n",
       "│ Apple, Inc        ┆ 1    ┆ [\"037833100\"] ┆ [null]                  ┆ [null]          ┆ 0.039557  │\n",
       "│ Apple Hospitality ┆ 1    ┆ [\"03784Y200\"] ┆ [null]                  ┆ [null]          ┆ 0.039557  │\n",
       "│ REIT              ┆      ┆               ┆                         ┆                 ┆           │\n",
       "└───────────────────┴──────┴───────────────┴─────────────────────────┴─────────────────┴───────────┘"
      ]
     },
     "metadata": {},
     "output_type": "display_data"
    },
    {
     "name": "stdout",
     "output_type": "stream",
     "text": [
      "Normalized\n"
     ]
    },
    {
     "data": {
      "text/html": [
       "<div><style>\n",
       ".dataframe > thead > tr,\n",
       ".dataframe > tbody > tr {\n",
       "  text-align: right;\n",
       "  white-space: pre-wrap;\n",
       "}\n",
       "</style>\n",
       "<small>shape: (5, 6)</small><table border=\"1\" class=\"dataframe\"><thead><tr><th>issuer_name</th><th>len</th><th>cusip</th><th>isin</th><th>figi</th><th>% of obs</th></tr><tr><td>str</td><td>u32</td><td>list[str]</td><td>list[str]</td><td>list[str]</td><td>f64</td></tr></thead><tbody><tr><td>&quot;APPLE INC.&quot;</td><td>2350</td><td>[&quot;037833100&quot;]</td><td>[&quot;US0378331005&quot;]</td><td>[&quot;BBG000B9XRY4&quot;]</td><td>92.885375</td></tr><tr><td>&quot;APPLE HOSPITALITY REIT, INC.&quot;</td><td>164</td><td>[&quot;03784Y200&quot;]</td><td>[&quot;US03784Y2000&quot;]</td><td>[null]</td><td>6.482213</td></tr><tr><td>&quot;MAUI LAND &amp; PINEAPPLE COMPANY,…</td><td>11</td><td>[&quot;577345101&quot;]</td><td>[&quot;US5773451019&quot;]</td><td>[null]</td><td>0.434783</td></tr><tr><td>&quot;APPLE&quot;</td><td>3</td><td>[null]</td><td>[null]</td><td>[null]</td><td>0.118577</td></tr><tr><td>&quot;APPLE INC&quot;</td><td>2</td><td>[null]</td><td>[null]</td><td>[null]</td><td>0.079051</td></tr></tbody></table></div>"
      ],
      "text/plain": [
       "shape: (5, 6)\n",
       "┌─────────────────────────┬──────┬───────────────┬──────────────────┬──────────────────┬───────────┐\n",
       "│ issuer_name             ┆ len  ┆ cusip         ┆ isin             ┆ figi             ┆ % of obs  │\n",
       "│ ---                     ┆ ---  ┆ ---           ┆ ---              ┆ ---              ┆ ---       │\n",
       "│ str                     ┆ u32  ┆ list[str]     ┆ list[str]        ┆ list[str]        ┆ f64       │\n",
       "╞═════════════════════════╪══════╪═══════════════╪══════════════════╪══════════════════╪═══════════╡\n",
       "│ APPLE INC.              ┆ 2350 ┆ [\"037833100\"] ┆ [\"US0378331005\"] ┆ [\"BBG000B9XRY4\"] ┆ 92.885375 │\n",
       "│ APPLE HOSPITALITY REIT, ┆ 164  ┆ [\"03784Y200\"] ┆ [\"US03784Y2000\"] ┆ [null]           ┆ 6.482213  │\n",
       "│ INC.                    ┆      ┆               ┆                  ┆                  ┆           │\n",
       "│ MAUI LAND & PINEAPPLE   ┆ 11   ┆ [\"577345101\"] ┆ [\"US5773451019\"] ┆ [null]           ┆ 0.434783  │\n",
       "│ COMPANY,…               ┆      ┆               ┆                  ┆                  ┆           │\n",
       "│ APPLE                   ┆ 3    ┆ [null]        ┆ [null]           ┆ [null]           ┆ 0.118577  │\n",
       "│ APPLE INC               ┆ 2    ┆ [null]        ┆ [null]           ┆ [null]           ┆ 0.079051  │\n",
       "└─────────────────────────┴──────┴───────────────┴──────────────────┴──────────────────┴───────────┘"
      ]
     },
     "metadata": {},
     "output_type": "display_data"
    },
    {
     "name": "stdout",
     "output_type": "stream",
     "text": [
      "************************************************************ VISA ************************************************************\n",
      "Un-Normalized\n"
     ]
    },
    {
     "data": {
      "text/html": [
       "<div><style>\n",
       ".dataframe > thead > tr,\n",
       ".dataframe > tbody > tr {\n",
       "  text-align: right;\n",
       "  white-space: pre-wrap;\n",
       "}\n",
       "</style>\n",
       "<small>shape: (14, 6)</small><table border=\"1\" class=\"dataframe\"><thead><tr><th>issuer_name</th><th>len</th><th>cusip</th><th>isin</th><th>figi</th><th>% of obs</th></tr><tr><td>str</td><td>u32</td><td>list[str]</td><td>list[str]</td><td>list[str]</td><td>f64</td></tr></thead><tbody><tr><td>&quot;VISA INC.&quot;</td><td>1082</td><td>[null, &quot;92826C839&quot;]</td><td>[&quot;US92826C8394&quot;, null]</td><td>[null]</td><td>52.16972</td></tr><tr><td>&quot;Visa Inc.&quot;</td><td>914</td><td>[&quot;92826C839&quot;, null]</td><td>[null, &quot;US92826C8394&quot;]</td><td>[&quot;BBG000PSKYX7&quot;, null]</td><td>44.069431</td></tr><tr><td>&quot;Visa, Inc.&quot;</td><td>20</td><td>[&quot;92826c839&quot;, &quot;92826C839&quot;]</td><td>[null, &quot;US92826C8394&quot;]</td><td>[null]</td><td>0.96432</td></tr><tr><td>&quot;Visa Inc&quot;</td><td>20</td><td>[&quot;92826C839&quot;, null]</td><td>[null, &quot;US92826C8394&quot;]</td><td>[null]</td><td>0.96432</td></tr><tr><td>&quot;VISA INC&quot;</td><td>12</td><td>[&quot;92826C839&quot;]</td><td>[&quot;US92826C8394&quot;, null]</td><td>[&quot;BBG001SRCFY3&quot;, null]</td><td>0.578592</td></tr><tr><td>&hellip;</td><td>&hellip;</td><td>&hellip;</td><td>&hellip;</td><td>&hellip;</td><td>&hellip;</td></tr><tr><td>&quot;Lovisa Holdings Limited&quot;</td><td>2</td><td>[&quot;Q56334107&quot;]</td><td>[&quot;AU000000LOV7&quot;]</td><td>[null]</td><td>0.096432</td></tr><tr><td>&quot;Visa, Inc&quot;</td><td>1</td><td>[&quot;92826C839&quot;]</td><td>[null]</td><td>[null]</td><td>0.048216</td></tr><tr><td>&quot;VISA, Inc.&quot;</td><td>1</td><td>[&quot;92826C839&quot;]</td><td>[null]</td><td>[null]</td><td>0.048216</td></tr><tr><td>&quot;VISA INC COM CL A&quot;</td><td>1</td><td>[&quot;92826C839&quot;]</td><td>[&quot;US92826C8394&quot;]</td><td>[null]</td><td>0.048216</td></tr><tr><td>&quot;Visa Inc (V)&quot;</td><td>1</td><td>[&quot;92826C839&quot;]</td><td>[&quot;US92826C8394&quot;]</td><td>[null]</td><td>0.048216</td></tr></tbody></table></div>"
      ],
      "text/plain": [
       "shape: (14, 6)\n",
       "┌─────────────────────┬──────┬───────────────┬────────────────────┬────────────────────┬───────────┐\n",
       "│ issuer_name         ┆ len  ┆ cusip         ┆ isin               ┆ figi               ┆ % of obs  │\n",
       "│ ---                 ┆ ---  ┆ ---           ┆ ---                ┆ ---                ┆ ---       │\n",
       "│ str                 ┆ u32  ┆ list[str]     ┆ list[str]          ┆ list[str]          ┆ f64       │\n",
       "╞═════════════════════╪══════╪═══════════════╪════════════════════╪════════════════════╪═══════════╡\n",
       "│ VISA INC.           ┆ 1082 ┆ [null,        ┆ [\"US92826C8394\",   ┆ [null]             ┆ 52.16972  │\n",
       "│                     ┆      ┆ \"92826C839\"]  ┆ null]              ┆                    ┆           │\n",
       "│ Visa Inc.           ┆ 914  ┆ [\"92826C839\", ┆ [null,             ┆ [\"BBG000PSKYX7\",   ┆ 44.069431 │\n",
       "│                     ┆      ┆ null]         ┆ \"US92826C8394\"]    ┆ null]              ┆           │\n",
       "│ Visa, Inc.          ┆ 20   ┆ [\"92826c839\", ┆ [null,             ┆ [null]             ┆ 0.96432   │\n",
       "│                     ┆      ┆ \"92826C839\"]  ┆ \"US92826C8394\"]    ┆                    ┆           │\n",
       "│ Visa Inc            ┆ 20   ┆ [\"92826C839\", ┆ [null,             ┆ [null]             ┆ 0.96432   │\n",
       "│                     ┆      ┆ null]         ┆ \"US92826C8394\"]    ┆                    ┆           │\n",
       "│ VISA INC            ┆ 12   ┆ [\"92826C839\"] ┆ [\"US92826C8394\",   ┆ [\"BBG001SRCFY3\",   ┆ 0.578592  │\n",
       "│                     ┆      ┆               ┆ null]              ┆ null]              ┆           │\n",
       "│ …                   ┆ …    ┆ …             ┆ …                  ┆ …                  ┆ …         │\n",
       "│ Lovisa Holdings     ┆ 2    ┆ [\"Q56334107\"] ┆ [\"AU000000LOV7\"]   ┆ [null]             ┆ 0.096432  │\n",
       "│ Limited             ┆      ┆               ┆                    ┆                    ┆           │\n",
       "│ Visa, Inc           ┆ 1    ┆ [\"92826C839\"] ┆ [null]             ┆ [null]             ┆ 0.048216  │\n",
       "│ VISA, Inc.          ┆ 1    ┆ [\"92826C839\"] ┆ [null]             ┆ [null]             ┆ 0.048216  │\n",
       "│ VISA INC COM CL A   ┆ 1    ┆ [\"92826C839\"] ┆ [\"US92826C8394\"]   ┆ [null]             ┆ 0.048216  │\n",
       "│ Visa Inc (V)        ┆ 1    ┆ [\"92826C839\"] ┆ [\"US92826C8394\"]   ┆ [null]             ┆ 0.048216  │\n",
       "└─────────────────────┴──────┴───────────────┴────────────────────┴────────────────────┴───────────┘"
      ]
     },
     "metadata": {},
     "output_type": "display_data"
    },
    {
     "name": "stdout",
     "output_type": "stream",
     "text": [
      "Normalized\n"
     ]
    },
    {
     "data": {
      "text/html": [
       "<div><style>\n",
       ".dataframe > thead > tr,\n",
       ".dataframe > tbody > tr {\n",
       "  text-align: right;\n",
       "  white-space: pre-wrap;\n",
       "}\n",
       "</style>\n",
       "<small>shape: (5, 6)</small><table border=\"1\" class=\"dataframe\"><thead><tr><th>issuer_name</th><th>len</th><th>cusip</th><th>isin</th><th>figi</th><th>% of obs</th></tr><tr><td>str</td><td>u32</td><td>list[str]</td><td>list[str]</td><td>list[str]</td><td>f64</td></tr></thead><tbody><tr><td>&quot;VISA INC.&quot;</td><td>2064</td><td>[&quot;92826C839&quot;]</td><td>[&quot;US92826C8394&quot;]</td><td>[&quot;BBG000PSKYX7&quot;]</td><td>99.46988</td></tr><tr><td>&quot;VISAKA INDUSTRIES LIMITED&quot;</td><td>7</td><td>[&quot;Y93787151&quot;]</td><td>[&quot;INE392A01021&quot;]</td><td>[null]</td><td>0.337349</td></tr><tr><td>&quot;LOVISA HOLDINGS LIMITED&quot;</td><td>2</td><td>[&quot;Q56334107&quot;]</td><td>[&quot;AU000000LOV7&quot;]</td><td>[null]</td><td>0.096386</td></tr><tr><td>&quot;VISA INC&quot;</td><td>1</td><td>[null]</td><td>[null]</td><td>[null]</td><td>0.048193</td></tr><tr><td>&quot;VISA&quot;</td><td>1</td><td>[null]</td><td>[null]</td><td>[null]</td><td>0.048193</td></tr></tbody></table></div>"
      ],
      "text/plain": [
       "shape: (5, 6)\n",
       "┌──────────────────────────┬──────┬───────────────┬──────────────────┬──────────────────┬──────────┐\n",
       "│ issuer_name              ┆ len  ┆ cusip         ┆ isin             ┆ figi             ┆ % of obs │\n",
       "│ ---                      ┆ ---  ┆ ---           ┆ ---              ┆ ---              ┆ ---      │\n",
       "│ str                      ┆ u32  ┆ list[str]     ┆ list[str]        ┆ list[str]        ┆ f64      │\n",
       "╞══════════════════════════╪══════╪═══════════════╪══════════════════╪══════════════════╪══════════╡\n",
       "│ VISA INC.                ┆ 2064 ┆ [\"92826C839\"] ┆ [\"US92826C8394\"] ┆ [\"BBG000PSKYX7\"] ┆ 99.46988 │\n",
       "│ VISAKA INDUSTRIES        ┆ 7    ┆ [\"Y93787151\"] ┆ [\"INE392A01021\"] ┆ [null]           ┆ 0.337349 │\n",
       "│ LIMITED                  ┆      ┆               ┆                  ┆                  ┆          │\n",
       "│ LOVISA HOLDINGS LIMITED  ┆ 2    ┆ [\"Q56334107\"] ┆ [\"AU000000LOV7\"] ┆ [null]           ┆ 0.096386 │\n",
       "│ VISA INC                 ┆ 1    ┆ [null]        ┆ [null]           ┆ [null]           ┆ 0.048193 │\n",
       "│ VISA                     ┆ 1    ┆ [null]        ┆ [null]           ┆ [null]           ┆ 0.048193 │\n",
       "└──────────────────────────┴──────┴───────────────┴──────────────────┴──────────────────┴──────────┘"
      ]
     },
     "metadata": {},
     "output_type": "display_data"
    },
    {
     "name": "stdout",
     "output_type": "stream",
     "text": [
      "************************************************************ EXXON ************************************************************\n",
      "Un-Normalized\n"
     ]
    },
    {
     "data": {
      "text/html": [
       "<div><style>\n",
       ".dataframe > thead > tr,\n",
       ".dataframe > tbody > tr {\n",
       "  text-align: right;\n",
       "  white-space: pre-wrap;\n",
       "}\n",
       "</style>\n",
       "<small>shape: (18, 6)</small><table border=\"1\" class=\"dataframe\"><thead><tr><th>issuer_name</th><th>len</th><th>cusip</th><th>isin</th><th>figi</th><th>% of obs</th></tr><tr><td>str</td><td>u32</td><td>list[str]</td><td>list[str]</td><td>list[str]</td><td>f64</td></tr></thead><tbody><tr><td>&quot;EXXON MOBIL CORPORATION&quot;</td><td>876</td><td>[null, &quot;30231G102&quot;]</td><td>[null, &quot;US30231G1022&quot;]</td><td>[null]</td><td>49.07563</td></tr><tr><td>&quot;Exxon Mobil Corporation&quot;</td><td>802</td><td>[&quot;30231G102&quot;, null]</td><td>[&quot;US30231G1022&quot;, null]</td><td>[&quot;BBG000GZQ728&quot;, null]</td><td>44.929972</td></tr><tr><td>&quot;Exxon Mobil&quot;</td><td>38</td><td>[&quot;30231G102&quot;]</td><td>[&quot;US30231G1022&quot;, null]</td><td>[null]</td><td>2.128852</td></tr><tr><td>&quot;EXXON MOBIL CORP&quot;</td><td>26</td><td>[&quot;30231G102&quot;]</td><td>[&quot;US30231G1022&quot;, null]</td><td>[&quot;BBG001S69V32&quot;, null, &quot;BBG000GZQ728&quot;]</td><td>1.456583</td></tr><tr><td>&quot;EXXON MOBIL\n",
       "CORPORATION&quot;</td><td>13</td><td>[&quot;30231G102&quot;]</td><td>[&quot;US30231G1022&quot;, null]</td><td>[null]</td><td>0.728291</td></tr><tr><td>&hellip;</td><td>&hellip;</td><td>&hellip;</td><td>&hellip;</td><td>&hellip;</td><td>&hellip;</td></tr><tr><td>&quot;EXXON MOBIL CORPORAITON&quot;</td><td>1</td><td>[&quot;30231G102&quot;]</td><td>[&quot;US30231G1022&quot;]</td><td>[&quot;BBG000GZQ728&quot;]</td><td>0.056022</td></tr><tr><td>&quot;EXXON MOBIL CORP.&quot;</td><td>1</td><td>[&quot;30231G102&quot;]</td><td>[null]</td><td>[null]</td><td>0.056022</td></tr><tr><td>&quot;EXXONMOBIL&quot;</td><td>1</td><td>[null]</td><td>[null]</td><td>[null]</td><td>0.056022</td></tr><tr><td>&quot;EXXON MOBIL&quot;</td><td>1</td><td>[&quot;30231G102&quot;]</td><td>[null]</td><td>[null]</td><td>0.056022</td></tr><tr><td>&quot;Exxon Mobile Corp.&quot;</td><td>1</td><td>[&quot;30231G102&quot;]</td><td>[null]</td><td>[null]</td><td>0.056022</td></tr></tbody></table></div>"
      ],
      "text/plain": [
       "shape: (18, 6)\n",
       "┌─────────────────────┬─────┬───────────────┬─────────────────────┬────────────────────┬───────────┐\n",
       "│ issuer_name         ┆ len ┆ cusip         ┆ isin                ┆ figi               ┆ % of obs  │\n",
       "│ ---                 ┆ --- ┆ ---           ┆ ---                 ┆ ---                ┆ ---       │\n",
       "│ str                 ┆ u32 ┆ list[str]     ┆ list[str]           ┆ list[str]          ┆ f64       │\n",
       "╞═════════════════════╪═════╪═══════════════╪═════════════════════╪════════════════════╪═══════════╡\n",
       "│ EXXON MOBIL         ┆ 876 ┆ [null,        ┆ [null,              ┆ [null]             ┆ 49.07563  │\n",
       "│ CORPORATION         ┆     ┆ \"30231G102\"]  ┆ \"US30231G1022\"]     ┆                    ┆           │\n",
       "│ Exxon Mobil         ┆ 802 ┆ [\"30231G102\", ┆ [\"US30231G1022\",    ┆ [\"BBG000GZQ728\",   ┆ 44.929972 │\n",
       "│ Corporation         ┆     ┆ null]         ┆ null]               ┆ null]              ┆           │\n",
       "│ Exxon Mobil         ┆ 38  ┆ [\"30231G102\"] ┆ [\"US30231G1022\",    ┆ [null]             ┆ 2.128852  │\n",
       "│                     ┆     ┆               ┆ null]               ┆                    ┆           │\n",
       "│ EXXON MOBIL CORP    ┆ 26  ┆ [\"30231G102\"] ┆ [\"US30231G1022\",    ┆ [\"BBG001S69V32\",   ┆ 1.456583  │\n",
       "│                     ┆     ┆               ┆ null]               ┆ null, \"BBG000…     ┆           │\n",
       "│ EXXON MOBIL         ┆ 13  ┆ [\"30231G102\"] ┆ [\"US30231G1022\",    ┆ [null]             ┆ 0.728291  │\n",
       "│ CORPORATION         ┆     ┆               ┆ null]               ┆                    ┆           │\n",
       "│ …                   ┆ …   ┆ …             ┆ …                   ┆ …                  ┆ …         │\n",
       "│ EXXON MOBIL         ┆ 1   ┆ [\"30231G102\"] ┆ [\"US30231G1022\"]    ┆ [\"BBG000GZQ728\"]   ┆ 0.056022  │\n",
       "│ CORPORAITON         ┆     ┆               ┆                     ┆                    ┆           │\n",
       "│ EXXON MOBIL CORP.   ┆ 1   ┆ [\"30231G102\"] ┆ [null]              ┆ [null]             ┆ 0.056022  │\n",
       "│ EXXONMOBIL          ┆ 1   ┆ [null]        ┆ [null]              ┆ [null]             ┆ 0.056022  │\n",
       "│ EXXON MOBIL         ┆ 1   ┆ [\"30231G102\"] ┆ [null]              ┆ [null]             ┆ 0.056022  │\n",
       "│ Exxon Mobile Corp.  ┆ 1   ┆ [\"30231G102\"] ┆ [null]              ┆ [null]             ┆ 0.056022  │\n",
       "└─────────────────────┴─────┴───────────────┴─────────────────────┴────────────────────┴───────────┘"
      ]
     },
     "metadata": {},
     "output_type": "display_data"
    },
    {
     "name": "stdout",
     "output_type": "stream",
     "text": [
      "Normalized\n"
     ]
    },
    {
     "data": {
      "text/html": [
       "<div><style>\n",
       ".dataframe > thead > tr,\n",
       ".dataframe > tbody > tr {\n",
       "  text-align: right;\n",
       "  white-space: pre-wrap;\n",
       "}\n",
       "</style>\n",
       "<small>shape: (2, 6)</small><table border=\"1\" class=\"dataframe\"><thead><tr><th>issuer_name</th><th>len</th><th>cusip</th><th>isin</th><th>figi</th><th>% of obs</th></tr><tr><td>str</td><td>u32</td><td>list[str]</td><td>list[str]</td><td>list[str]</td><td>f64</td></tr></thead><tbody><tr><td>&quot;EXXON MOBIL CORPORATION&quot;</td><td>1784</td><td>[&quot;30231G102&quot;]</td><td>[&quot;US30231G1022&quot;]</td><td>[&quot;BBG000GZQ728&quot;]</td><td>99.832121</td></tr><tr><td>&quot;EXXONMOBIL&quot;</td><td>3</td><td>[null]</td><td>[null]</td><td>[null]</td><td>0.167879</td></tr></tbody></table></div>"
      ],
      "text/plain": [
       "shape: (2, 6)\n",
       "┌─────────────────────────┬──────┬───────────────┬──────────────────┬──────────────────┬───────────┐\n",
       "│ issuer_name             ┆ len  ┆ cusip         ┆ isin             ┆ figi             ┆ % of obs  │\n",
       "│ ---                     ┆ ---  ┆ ---           ┆ ---              ┆ ---              ┆ ---       │\n",
       "│ str                     ┆ u32  ┆ list[str]     ┆ list[str]        ┆ list[str]        ┆ f64       │\n",
       "╞═════════════════════════╪══════╪═══════════════╪══════════════════╪══════════════════╪═══════════╡\n",
       "│ EXXON MOBIL CORPORATION ┆ 1784 ┆ [\"30231G102\"] ┆ [\"US30231G1022\"] ┆ [\"BBG000GZQ728\"] ┆ 99.832121 │\n",
       "│ EXXONMOBIL              ┆ 3    ┆ [null]        ┆ [null]           ┆ [null]           ┆ 0.167879  │\n",
       "└─────────────────────────┴──────┴───────────────┴──────────────────┴──────────────────┴───────────┘"
      ]
     },
     "metadata": {},
     "output_type": "display_data"
    },
    {
     "name": "stdout",
     "output_type": "stream",
     "text": [
      "************************************************************ CHEVRON ************************************************************\n",
      "Un-Normalized\n"
     ]
    },
    {
     "data": {
      "text/html": [
       "<div><style>\n",
       ".dataframe > thead > tr,\n",
       ".dataframe > tbody > tr {\n",
       "  text-align: right;\n",
       "  white-space: pre-wrap;\n",
       "}\n",
       "</style>\n",
       "<small>shape: (13, 6)</small><table border=\"1\" class=\"dataframe\"><thead><tr><th>issuer_name</th><th>len</th><th>cusip</th><th>isin</th><th>figi</th><th>% of obs</th></tr><tr><td>str</td><td>u32</td><td>list[str]</td><td>list[str]</td><td>list[str]</td><td>f64</td></tr></thead><tbody><tr><td>&quot;CHEVRON CORPORATION&quot;</td><td>1034</td><td>[null, &quot;577081102&quot;, &quot;166764100&quot;]</td><td>[null, &quot;US1667641005&quot;]</td><td>[&quot;BBG000K4ND22&quot;, null]</td><td>56.564551</td></tr><tr><td>&quot;Chevron Corporation&quot;</td><td>751</td><td>[&quot;166764100&quot;, &quot;000166764&quot;, null]</td><td>[null, &quot;US1667641005&quot;]</td><td>[null, &quot;BBG000K4ND22&quot;]</td><td>41.083151</td></tr><tr><td>&quot;CHEVRON CORP&quot;</td><td>21</td><td>[&quot;166764100&quot;]</td><td>[null, &quot;US1667641005&quot;]</td><td>[&quot;BBG000K4ND22&quot;, null]</td><td>1.148796</td></tr><tr><td>&quot;Chevron Corp&quot;</td><td>8</td><td>[&quot;166764100&quot;, null]</td><td>[null, &quot;US1667641005&quot;]</td><td>[null, &quot;BBG000K4ND22&quot;]</td><td>0.437637</td></tr><tr><td>&quot;Chevron Corp.&quot;</td><td>4</td><td>[&quot;166764100&quot;]</td><td>[&quot;US1667641005&quot;, null]</td><td>[null]</td><td>0.218818</td></tr><tr><td>&hellip;</td><td>&hellip;</td><td>&hellip;</td><td>&hellip;</td><td>&hellip;</td><td>&hellip;</td></tr><tr><td>&quot;Chevron Corpoation&quot;</td><td>1</td><td>[&quot;166764100&quot;]</td><td>[&quot;US1667641005&quot;]</td><td>[null]</td><td>0.054705</td></tr><tr><td>&quot;Chevron&quot;</td><td>1</td><td>[&quot;166764100&quot;]</td><td>[null]</td><td>[null]</td><td>0.054705</td></tr><tr><td>&quot;Chevron Corp (CVX)&quot;</td><td>1</td><td>[&quot;166764100&quot;]</td><td>[&quot;US1667641005&quot;]</td><td>[null]</td><td>0.054705</td></tr><tr><td>&quot;CHEVRON CORP NEW COM&quot;</td><td>1</td><td>[&quot;166764100&quot;]</td><td>[&quot;US1667641005&quot;]</td><td>[null]</td><td>0.054705</td></tr><tr><td>&quot;Chevron Corporation &quot;</td><td>1</td><td>[null]</td><td>[null]</td><td>[null]</td><td>0.054705</td></tr></tbody></table></div>"
      ],
      "text/plain": [
       "shape: (13, 6)\n",
       "┌───────────────────┬──────┬───────────────────┬───────────────────┬───────────────────┬───────────┐\n",
       "│ issuer_name       ┆ len  ┆ cusip             ┆ isin              ┆ figi              ┆ % of obs  │\n",
       "│ ---               ┆ ---  ┆ ---               ┆ ---               ┆ ---               ┆ ---       │\n",
       "│ str               ┆ u32  ┆ list[str]         ┆ list[str]         ┆ list[str]         ┆ f64       │\n",
       "╞═══════════════════╪══════╪═══════════════════╪═══════════════════╪═══════════════════╪═══════════╡\n",
       "│ CHEVRON           ┆ 1034 ┆ [null,            ┆ [null,            ┆ [\"BBG000K4ND22\",  ┆ 56.564551 │\n",
       "│ CORPORATION       ┆      ┆ \"577081102\",      ┆ \"US1667641005\"]   ┆ null]             ┆           │\n",
       "│                   ┆      ┆ \"166764100…       ┆                   ┆                   ┆           │\n",
       "│ Chevron           ┆ 751  ┆ [\"166764100\",     ┆ [null,            ┆ [null,            ┆ 41.083151 │\n",
       "│ Corporation       ┆      ┆ \"000166764\", nul… ┆ \"US1667641005\"]   ┆ \"BBG000K4ND22\"]   ┆           │\n",
       "│ CHEVRON CORP      ┆ 21   ┆ [\"166764100\"]     ┆ [null,            ┆ [\"BBG000K4ND22\",  ┆ 1.148796  │\n",
       "│                   ┆      ┆                   ┆ \"US1667641005\"]   ┆ null]             ┆           │\n",
       "│ Chevron Corp      ┆ 8    ┆ [\"166764100\",     ┆ [null,            ┆ [null,            ┆ 0.437637  │\n",
       "│                   ┆      ┆ null]             ┆ \"US1667641005\"]   ┆ \"BBG000K4ND22\"]   ┆           │\n",
       "│ Chevron Corp.     ┆ 4    ┆ [\"166764100\"]     ┆ [\"US1667641005\",  ┆ [null]            ┆ 0.218818  │\n",
       "│                   ┆      ┆                   ┆ null]             ┆                   ┆           │\n",
       "│ …                 ┆ …    ┆ …                 ┆ …                 ┆ …                 ┆ …         │\n",
       "│ Chevron           ┆ 1    ┆ [\"166764100\"]     ┆ [\"US1667641005\"]  ┆ [null]            ┆ 0.054705  │\n",
       "│ Corpoation        ┆      ┆                   ┆                   ┆                   ┆           │\n",
       "│ Chevron           ┆ 1    ┆ [\"166764100\"]     ┆ [null]            ┆ [null]            ┆ 0.054705  │\n",
       "│ Chevron Corp      ┆ 1    ┆ [\"166764100\"]     ┆ [\"US1667641005\"]  ┆ [null]            ┆ 0.054705  │\n",
       "│ (CVX)             ┆      ┆                   ┆                   ┆                   ┆           │\n",
       "│ CHEVRON CORP NEW  ┆ 1    ┆ [\"166764100\"]     ┆ [\"US1667641005\"]  ┆ [null]            ┆ 0.054705  │\n",
       "│ COM               ┆      ┆                   ┆                   ┆                   ┆           │\n",
       "│ Chevron           ┆ 1    ┆ [null]            ┆ [null]            ┆ [null]            ┆ 0.054705  │\n",
       "│ Corporation       ┆      ┆                   ┆                   ┆                   ┆           │\n",
       "└───────────────────┴──────┴───────────────────┴───────────────────┴───────────────────┴───────────┘"
      ]
     },
     "metadata": {},
     "output_type": "display_data"
    },
    {
     "name": "stdout",
     "output_type": "stream",
     "text": [
      "Normalized\n"
     ]
    },
    {
     "data": {
      "text/html": [
       "<div><style>\n",
       ".dataframe > thead > tr,\n",
       ".dataframe > tbody > tr {\n",
       "  text-align: right;\n",
       "  white-space: pre-wrap;\n",
       "}\n",
       "</style>\n",
       "<small>shape: (2, 6)</small><table border=\"1\" class=\"dataframe\"><thead><tr><th>issuer_name</th><th>len</th><th>cusip</th><th>isin</th><th>figi</th><th>% of obs</th></tr><tr><td>str</td><td>u32</td><td>list[str]</td><td>list[str]</td><td>list[str]</td><td>f64</td></tr></thead><tbody><tr><td>&quot;CHEVRON CORPORATION&quot;</td><td>1829</td><td>[&quot;166764100&quot;]</td><td>[&quot;US1667641005&quot;]</td><td>[&quot;BBG000K4ND22&quot;]</td><td>99.945355</td></tr><tr><td>&quot;CHEVRON CORP&quot;</td><td>1</td><td>[null]</td><td>[null]</td><td>[null]</td><td>0.054645</td></tr></tbody></table></div>"
      ],
      "text/plain": [
       "shape: (2, 6)\n",
       "┌─────────────────────┬──────┬───────────────┬──────────────────┬──────────────────┬───────────┐\n",
       "│ issuer_name         ┆ len  ┆ cusip         ┆ isin             ┆ figi             ┆ % of obs  │\n",
       "│ ---                 ┆ ---  ┆ ---           ┆ ---              ┆ ---              ┆ ---       │\n",
       "│ str                 ┆ u32  ┆ list[str]     ┆ list[str]        ┆ list[str]        ┆ f64       │\n",
       "╞═════════════════════╪══════╪═══════════════╪══════════════════╪══════════════════╪═══════════╡\n",
       "│ CHEVRON CORPORATION ┆ 1829 ┆ [\"166764100\"] ┆ [\"US1667641005\"] ┆ [\"BBG000K4ND22\"] ┆ 99.945355 │\n",
       "│ CHEVRON CORP        ┆ 1    ┆ [null]        ┆ [null]           ┆ [null]           ┆ 0.054645  │\n",
       "└─────────────────────┴──────┴───────────────┴──────────────────┴──────────────────┴───────────┘"
      ]
     },
     "metadata": {},
     "output_type": "display_data"
    },
    {
     "name": "stdout",
     "output_type": "stream",
     "text": [
      "************************************************************ META PLATFORM ************************************************************\n",
      "Un-Normalized\n"
     ]
    },
    {
     "data": {
      "text/html": [
       "<div><style>\n",
       ".dataframe > thead > tr,\n",
       ".dataframe > tbody > tr {\n",
       "  text-align: right;\n",
       "  white-space: pre-wrap;\n",
       "}\n",
       "</style>\n",
       "<small>shape: (6, 6)</small><table border=\"1\" class=\"dataframe\"><thead><tr><th>issuer_name</th><th>len</th><th>cusip</th><th>isin</th><th>figi</th><th>% of obs</th></tr><tr><td>str</td><td>u32</td><td>list[str]</td><td>list[str]</td><td>list[str]</td><td>f64</td></tr></thead><tbody><tr><td>&quot;Meta Platforms, Inc.&quot;</td><td>949</td><td>[&quot;30303M102&quot;, null]</td><td>[&quot;US30303M1027&quot;, null]</td><td>[null]</td><td>53.737259</td></tr><tr><td>&quot;META PLATFORMS, INC.&quot;</td><td>808</td><td>[null, &quot;30303M102&quot;]</td><td>[&quot;US30303M1027&quot;, null]</td><td>[null]</td><td>45.753114</td></tr><tr><td>&quot;Meta Platforms&quot;</td><td>4</td><td>[null, &quot;30303M102&quot;]</td><td>[&quot;US30303M1027&quot;, null]</td><td>[null]</td><td>0.226501</td></tr><tr><td>&quot;Meta Platforms Inc.&quot;</td><td>2</td><td>[&quot;30303M102&quot;]</td><td>[&quot;US30303M1027&quot;]</td><td>[null]</td><td>0.11325</td></tr><tr><td>&quot;Meta Platforms Inc&quot;</td><td>2</td><td>[&quot;30303M102&quot;]</td><td>[&quot;US30303M1027&quot;]</td><td>[null, &quot;BBG000MM2P62&quot;]</td><td>0.11325</td></tr><tr><td>&quot;Meta Platforms, Inc&quot;</td><td>1</td><td>[&quot;30303M102&quot;]</td><td>[null]</td><td>[null]</td><td>0.056625</td></tr></tbody></table></div>"
      ],
      "text/plain": [
       "shape: (6, 6)\n",
       "┌──────────────────────┬─────┬───────────────┬──────────────────┬─────────────────┬───────────┐\n",
       "│ issuer_name          ┆ len ┆ cusip         ┆ isin             ┆ figi            ┆ % of obs  │\n",
       "│ ---                  ┆ --- ┆ ---           ┆ ---              ┆ ---             ┆ ---       │\n",
       "│ str                  ┆ u32 ┆ list[str]     ┆ list[str]        ┆ list[str]       ┆ f64       │\n",
       "╞══════════════════════╪═════╪═══════════════╪══════════════════╪═════════════════╪═══════════╡\n",
       "│ Meta Platforms, Inc. ┆ 949 ┆ [\"30303M102\", ┆ [\"US30303M1027\", ┆ [null]          ┆ 53.737259 │\n",
       "│                      ┆     ┆ null]         ┆ null]            ┆                 ┆           │\n",
       "│ META PLATFORMS, INC. ┆ 808 ┆ [null,        ┆ [\"US30303M1027\", ┆ [null]          ┆ 45.753114 │\n",
       "│                      ┆     ┆ \"30303M102\"]  ┆ null]            ┆                 ┆           │\n",
       "│ Meta Platforms       ┆ 4   ┆ [null,        ┆ [\"US30303M1027\", ┆ [null]          ┆ 0.226501  │\n",
       "│                      ┆     ┆ \"30303M102\"]  ┆ null]            ┆                 ┆           │\n",
       "│ Meta Platforms Inc.  ┆ 2   ┆ [\"30303M102\"] ┆ [\"US30303M1027\"] ┆ [null]          ┆ 0.11325   │\n",
       "│ Meta Platforms Inc   ┆ 2   ┆ [\"30303M102\"] ┆ [\"US30303M1027\"] ┆ [null,          ┆ 0.11325   │\n",
       "│                      ┆     ┆               ┆                  ┆ \"BBG000MM2P62\"] ┆           │\n",
       "│ Meta Platforms, Inc  ┆ 1   ┆ [\"30303M102\"] ┆ [null]           ┆ [null]          ┆ 0.056625  │\n",
       "└──────────────────────┴─────┴───────────────┴──────────────────┴─────────────────┴───────────┘"
      ]
     },
     "metadata": {},
     "output_type": "display_data"
    },
    {
     "name": "stdout",
     "output_type": "stream",
     "text": [
      "Normalized\n"
     ]
    },
    {
     "data": {
      "text/html": [
       "<div><style>\n",
       ".dataframe > thead > tr,\n",
       ".dataframe > tbody > tr {\n",
       "  text-align: right;\n",
       "  white-space: pre-wrap;\n",
       "}\n",
       "</style>\n",
       "<small>shape: (2, 6)</small><table border=\"1\" class=\"dataframe\"><thead><tr><th>issuer_name</th><th>len</th><th>cusip</th><th>isin</th><th>figi</th><th>% of obs</th></tr><tr><td>str</td><td>u32</td><td>list[str]</td><td>list[str]</td><td>list[str]</td><td>f64</td></tr></thead><tbody><tr><td>&quot;META PLATFORMS, INC.&quot;</td><td>1765</td><td>[&quot;30303M102&quot;]</td><td>[&quot;US30303M1027&quot;]</td><td>[&quot;BBG000MM2P62&quot;]</td><td>99.943375</td></tr><tr><td>&quot;META PLATFORMS&quot;</td><td>1</td><td>[null]</td><td>[null]</td><td>[null]</td><td>0.056625</td></tr></tbody></table></div>"
      ],
      "text/plain": [
       "shape: (2, 6)\n",
       "┌──────────────────────┬──────┬───────────────┬──────────────────┬──────────────────┬───────────┐\n",
       "│ issuer_name          ┆ len  ┆ cusip         ┆ isin             ┆ figi             ┆ % of obs  │\n",
       "│ ---                  ┆ ---  ┆ ---           ┆ ---              ┆ ---              ┆ ---       │\n",
       "│ str                  ┆ u32  ┆ list[str]     ┆ list[str]        ┆ list[str]        ┆ f64       │\n",
       "╞══════════════════════╪══════╪═══════════════╪══════════════════╪══════════════════╪═══════════╡\n",
       "│ META PLATFORMS, INC. ┆ 1765 ┆ [\"30303M102\"] ┆ [\"US30303M1027\"] ┆ [\"BBG000MM2P62\"] ┆ 99.943375 │\n",
       "│ META PLATFORMS       ┆ 1    ┆ [null]        ┆ [null]           ┆ [null]           ┆ 0.056625  │\n",
       "└──────────────────────┴──────┴───────────────┴──────────────────┴──────────────────┴───────────┘"
      ]
     },
     "metadata": {},
     "output_type": "display_data"
    },
    {
     "name": "stdout",
     "output_type": "stream",
     "text": [
      "************************************************************ AIR TRANSPORT ************************************************************\n",
      "Un-Normalized\n"
     ]
    },
    {
     "data": {
      "text/html": [
       "<div><style>\n",
       ".dataframe > thead > tr,\n",
       ".dataframe > tbody > tr {\n",
       "  text-align: right;\n",
       "  white-space: pre-wrap;\n",
       "}\n",
       "</style>\n",
       "<small>shape: (3, 6)</small><table border=\"1\" class=\"dataframe\"><thead><tr><th>issuer_name</th><th>len</th><th>cusip</th><th>isin</th><th>figi</th><th>% of obs</th></tr><tr><td>str</td><td>u32</td><td>list[str]</td><td>list[str]</td><td>list[str]</td><td>f64</td></tr></thead><tbody><tr><td>&quot;AIR TRANSPORT SERVICES GROUP, …</td><td>48</td><td>[&quot;00922R105&quot;, null]</td><td>[&quot;US00922R1059&quot;, null]</td><td>[null]</td><td>60.759494</td></tr><tr><td>&quot;Air Transport Services Group, …</td><td>30</td><td>[&quot;00922R105&quot;]</td><td>[null, &quot;US00922R1059&quot;]</td><td>[null]</td><td>37.974684</td></tr><tr><td>&quot;AIR TRANSPORT\n",
       "SERVICES GROUP, …</td><td>1</td><td>[&quot;00922R105&quot;]</td><td>[&quot;US00922R1059&quot;]</td><td>[null]</td><td>1.265823</td></tr></tbody></table></div>"
      ],
      "text/plain": [
       "shape: (3, 6)\n",
       "┌───────────────────┬─────┬─────────────────────┬──────────────────────────┬───────────┬───────────┐\n",
       "│ issuer_name       ┆ len ┆ cusip               ┆ isin                     ┆ figi      ┆ % of obs  │\n",
       "│ ---               ┆ --- ┆ ---                 ┆ ---                      ┆ ---       ┆ ---       │\n",
       "│ str               ┆ u32 ┆ list[str]           ┆ list[str]                ┆ list[str] ┆ f64       │\n",
       "╞═══════════════════╪═════╪═════════════════════╪══════════════════════════╪═══════════╪═══════════╡\n",
       "│ AIR TRANSPORT     ┆ 48  ┆ [\"00922R105\", null] ┆ [\"US00922R1059\", null]   ┆ [null]    ┆ 60.759494 │\n",
       "│ SERVICES GROUP, … ┆     ┆                     ┆                          ┆           ┆           │\n",
       "│ Air Transport     ┆ 30  ┆ [\"00922R105\"]       ┆ [null, \"US00922R1059\"]   ┆ [null]    ┆ 37.974684 │\n",
       "│ Services Group, … ┆     ┆                     ┆                          ┆           ┆           │\n",
       "│ AIR TRANSPORT     ┆ 1   ┆ [\"00922R105\"]       ┆ [\"US00922R1059\"]         ┆ [null]    ┆ 1.265823  │\n",
       "│ SERVICES GROUP, … ┆     ┆                     ┆                          ┆           ┆           │\n",
       "└───────────────────┴─────┴─────────────────────┴──────────────────────────┴───────────┴───────────┘"
      ]
     },
     "metadata": {},
     "output_type": "display_data"
    },
    {
     "name": "stdout",
     "output_type": "stream",
     "text": [
      "Normalized\n"
     ]
    },
    {
     "data": {
      "text/html": [
       "<div><style>\n",
       ".dataframe > thead > tr,\n",
       ".dataframe > tbody > tr {\n",
       "  text-align: right;\n",
       "  white-space: pre-wrap;\n",
       "}\n",
       "</style>\n",
       "<small>shape: (1, 6)</small><table border=\"1\" class=\"dataframe\"><thead><tr><th>issuer_name</th><th>len</th><th>cusip</th><th>isin</th><th>figi</th><th>% of obs</th></tr><tr><td>str</td><td>u32</td><td>list[str]</td><td>list[str]</td><td>list[str]</td><td>f64</td></tr></thead><tbody><tr><td>&quot;AIR TRANSPORT SERVICES GROUP, …</td><td>79</td><td>[&quot;00922R105&quot;]</td><td>[&quot;US00922R1059&quot;]</td><td>[null]</td><td>100.0</td></tr></tbody></table></div>"
      ],
      "text/plain": [
       "shape: (1, 6)\n",
       "┌─────────────────────────────────┬─────┬───────────────┬──────────────────┬───────────┬──────────┐\n",
       "│ issuer_name                     ┆ len ┆ cusip         ┆ isin             ┆ figi      ┆ % of obs │\n",
       "│ ---                             ┆ --- ┆ ---           ┆ ---              ┆ ---       ┆ ---      │\n",
       "│ str                             ┆ u32 ┆ list[str]     ┆ list[str]        ┆ list[str] ┆ f64      │\n",
       "╞═════════════════════════════════╪═════╪═══════════════╪══════════════════╪═══════════╪══════════╡\n",
       "│ AIR TRANSPORT SERVICES GROUP, … ┆ 79  ┆ [\"00922R105\"] ┆ [\"US00922R1059\"] ┆ [null]    ┆ 100.0    │\n",
       "└─────────────────────────────────┴─────┴───────────────┴──────────────────┴───────────┴──────────┘"
      ]
     },
     "metadata": {},
     "output_type": "display_data"
    },
    {
     "name": "stdout",
     "output_type": "stream",
     "text": [
      "************************************************************ BANK OF AMERICA ************************************************************\n",
      "Un-Normalized\n"
     ]
    },
    {
     "data": {
      "text/html": [
       "<div><style>\n",
       ".dataframe > thead > tr,\n",
       ".dataframe > tbody > tr {\n",
       "  text-align: right;\n",
       "  white-space: pre-wrap;\n",
       "}\n",
       "</style>\n",
       "<small>shape: (11, 6)</small><table border=\"1\" class=\"dataframe\"><thead><tr><th>issuer_name</th><th>len</th><th>cusip</th><th>isin</th><th>figi</th><th>% of obs</th></tr><tr><td>str</td><td>u32</td><td>list[str]</td><td>list[str]</td><td>list[str]</td><td>f64</td></tr></thead><tbody><tr><td>&quot;BANK OF AMERICA CORPORATION&quot;</td><td>961</td><td>[&quot;060505591&quot;, &quot;060505104&quot;, … &quot;060505633&quot;]</td><td>[&quot;US0605056334&quot;, &quot;US0605051046&quot;, … null]</td><td>[null, &quot;BBG000BCTLF6&quot;]</td><td>50.552341</td></tr><tr><td>&quot;Bank of America Corporation&quot;</td><td>733</td><td>[&quot;060505633&quot;, null, … &quot;060505583&quot;]</td><td>[&quot;US0605055831&quot;, &quot;US0605051046&quot;, … null]</td><td>[null]</td><td>38.558653</td></tr><tr><td>&quot;BANK OF AMERICA&quot;</td><td>112</td><td>[&quot;060505195&quot;, &quot;060505104&quot;, null]</td><td>[null]</td><td>[null]</td><td>5.891636</td></tr><tr><td>&quot;Bank of America&quot;</td><td>35</td><td>[&quot;000060505&quot;, &quot;060505104&quot;, null]</td><td>[null, &quot;US0605051046&quot;]</td><td>[null]</td><td>1.841136</td></tr><tr><td>&quot;Bank of America Corp&quot;</td><td>25</td><td>[&quot;060505104&quot;]</td><td>[null, &quot;US0605051046&quot;]</td><td>[&quot;BBG000BCTLF6&quot;, null]</td><td>1.315097</td></tr><tr><td>&hellip;</td><td>&hellip;</td><td>&hellip;</td><td>&hellip;</td><td>&hellip;</td><td>&hellip;</td></tr><tr><td>&quot;BANK OF AMERICA CORP&quot;</td><td>6</td><td>[&quot;060505104&quot;]</td><td>[&quot;US0605051046&quot;, null]</td><td>[null]</td><td>0.315623</td></tr><tr><td>&quot;Bank of America Corp.&quot;</td><td>5</td><td>[&quot;605051040&quot;, &quot;060505104&quot;]</td><td>[&quot;US0605051046&quot;, null]</td><td>[null]</td><td>0.263019</td></tr><tr><td>&quot;Bank Of America Corp.&quot;</td><td>3</td><td>[&quot;060505104&quot;]</td><td>[&quot;US0605051046&quot;]</td><td>[null]</td><td>0.157812</td></tr><tr><td>&quot;Bank of America Corporation (B…</td><td>2</td><td>[&quot;060505104&quot;]</td><td>[&quot;US0605051046&quot;]</td><td>[null]</td><td>0.105208</td></tr><tr><td>&quot;BANK OF AMERICA &quot;</td><td>1</td><td>[&quot;060505104&quot;]</td><td>[&quot;US0605051046&quot;]</td><td>[null]</td><td>0.052604</td></tr></tbody></table></div>"
      ],
      "text/plain": [
       "shape: (11, 6)\n",
       "┌────────────────────┬─────┬───────────────────┬───────────────────┬───────────────────┬───────────┐\n",
       "│ issuer_name        ┆ len ┆ cusip             ┆ isin              ┆ figi              ┆ % of obs  │\n",
       "│ ---                ┆ --- ┆ ---               ┆ ---               ┆ ---               ┆ ---       │\n",
       "│ str                ┆ u32 ┆ list[str]         ┆ list[str]         ┆ list[str]         ┆ f64       │\n",
       "╞════════════════════╪═════╪═══════════════════╪═══════════════════╪═══════════════════╪═══════════╡\n",
       "│ BANK OF AMERICA    ┆ 961 ┆ [\"060505591\",     ┆ [\"US0605056334\",  ┆ [null,            ┆ 50.552341 │\n",
       "│ CORPORATION        ┆     ┆ \"060505104\", … \"… ┆ \"US0605051046…    ┆ \"BBG000BCTLF6\"]   ┆           │\n",
       "│ Bank of America    ┆ 733 ┆ [\"060505633\",     ┆ [\"US0605055831\",  ┆ [null]            ┆ 38.558653 │\n",
       "│ Corporation        ┆     ┆ null, … \"0605055… ┆ \"US0605051046…    ┆                   ┆           │\n",
       "│ BANK OF AMERICA    ┆ 112 ┆ [\"060505195\",     ┆ [null]            ┆ [null]            ┆ 5.891636  │\n",
       "│                    ┆     ┆ \"060505104\", nul… ┆                   ┆                   ┆           │\n",
       "│ Bank of America    ┆ 35  ┆ [\"000060505\",     ┆ [null,            ┆ [null]            ┆ 1.841136  │\n",
       "│                    ┆     ┆ \"060505104\", nul… ┆ \"US0605051046\"]   ┆                   ┆           │\n",
       "│ Bank of America    ┆ 25  ┆ [\"060505104\"]     ┆ [null,            ┆ [\"BBG000BCTLF6\",  ┆ 1.315097  │\n",
       "│ Corp               ┆     ┆                   ┆ \"US0605051046\"]   ┆ null]             ┆           │\n",
       "│ …                  ┆ …   ┆ …                 ┆ …                 ┆ …                 ┆ …         │\n",
       "│ BANK OF AMERICA    ┆ 6   ┆ [\"060505104\"]     ┆ [\"US0605051046\",  ┆ [null]            ┆ 0.315623  │\n",
       "│ CORP               ┆     ┆                   ┆ null]             ┆                   ┆           │\n",
       "│ Bank of America    ┆ 5   ┆ [\"605051040\",     ┆ [\"US0605051046\",  ┆ [null]            ┆ 0.263019  │\n",
       "│ Corp.              ┆     ┆ \"060505104\"]      ┆ null]             ┆                   ┆           │\n",
       "│ Bank Of America    ┆ 3   ┆ [\"060505104\"]     ┆ [\"US0605051046\"]  ┆ [null]            ┆ 0.157812  │\n",
       "│ Corp.              ┆     ┆                   ┆                   ┆                   ┆           │\n",
       "│ Bank of America    ┆ 2   ┆ [\"060505104\"]     ┆ [\"US0605051046\"]  ┆ [null]            ┆ 0.105208  │\n",
       "│ Corporation (B…    ┆     ┆                   ┆                   ┆                   ┆           │\n",
       "│ BANK OF AMERICA    ┆ 1   ┆ [\"060505104\"]     ┆ [\"US0605051046\"]  ┆ [null]            ┆ 0.052604  │\n",
       "└────────────────────┴─────┴───────────────────┴───────────────────┴───────────────────┴───────────┘"
      ]
     },
     "metadata": {},
     "output_type": "display_data"
    },
    {
     "name": "stdout",
     "output_type": "stream",
     "text": [
      "Normalized\n"
     ]
    },
    {
     "data": {
      "text/html": [
       "<div><style>\n",
       ".dataframe > thead > tr,\n",
       ".dataframe > tbody > tr {\n",
       "  text-align: right;\n",
       "  white-space: pre-wrap;\n",
       "}\n",
       "</style>\n",
       "<small>shape: (3, 6)</small><table border=\"1\" class=\"dataframe\"><thead><tr><th>issuer_name</th><th>len</th><th>cusip</th><th>isin</th><th>figi</th><th>% of obs</th></tr><tr><td>str</td><td>u32</td><td>list[str]</td><td>list[str]</td><td>list[str]</td><td>f64</td></tr></thead><tbody><tr><td>&quot;BANK OF AMERICA CORPORATION&quot;</td><td>1783</td><td>[&quot;060505104&quot;]</td><td>[&quot;US0605051046&quot;]</td><td>[&quot;BBG000BCTLF6&quot;]</td><td>93.694167</td></tr><tr><td>&quot;BANK OF AMERICA&quot;</td><td>119</td><td>[null, &quot;060505195&quot;, &quot;000060505&quot;]</td><td>[null]</td><td>[null]</td><td>6.253284</td></tr><tr><td>&quot;BANK OF AMERICA CORP.&quot;</td><td>1</td><td>[&quot;605051040&quot;]</td><td>[null]</td><td>[null]</td><td>0.052549</td></tr></tbody></table></div>"
      ],
      "text/plain": [
       "shape: (3, 6)\n",
       "┌─────────────────┬──────┬───────────────────────┬──────────────────┬──────────────────┬───────────┐\n",
       "│ issuer_name     ┆ len  ┆ cusip                 ┆ isin             ┆ figi             ┆ % of obs  │\n",
       "│ ---             ┆ ---  ┆ ---                   ┆ ---              ┆ ---              ┆ ---       │\n",
       "│ str             ┆ u32  ┆ list[str]             ┆ list[str]        ┆ list[str]        ┆ f64       │\n",
       "╞═════════════════╪══════╪═══════════════════════╪══════════════════╪══════════════════╪═══════════╡\n",
       "│ BANK OF AMERICA ┆ 1783 ┆ [\"060505104\"]         ┆ [\"US0605051046\"] ┆ [\"BBG000BCTLF6\"] ┆ 93.694167 │\n",
       "│ CORPORATION     ┆      ┆                       ┆                  ┆                  ┆           │\n",
       "│ BANK OF AMERICA ┆ 119  ┆ [null, \"060505195\",   ┆ [null]           ┆ [null]           ┆ 6.253284  │\n",
       "│                 ┆      ┆ \"000060505…           ┆                  ┆                  ┆           │\n",
       "│ BANK OF AMERICA ┆ 1    ┆ [\"605051040\"]         ┆ [null]           ┆ [null]           ┆ 0.052549  │\n",
       "│ CORP.           ┆      ┆                       ┆                  ┆                  ┆           │\n",
       "└─────────────────┴──────┴───────────────────────┴──────────────────┴──────────────────┴───────────┘"
      ]
     },
     "metadata": {},
     "output_type": "display_data"
    },
    {
     "name": "stdout",
     "output_type": "stream",
     "text": [
      "************************************************************ BLACKROCK ************************************************************\n",
      "Un-Normalized\n"
     ]
    },
    {
     "data": {
      "text/html": [
       "<div><style>\n",
       ".dataframe > thead > tr,\n",
       ".dataframe > tbody > tr {\n",
       "  text-align: right;\n",
       "  white-space: pre-wrap;\n",
       "}\n",
       "</style>\n",
       "<small>shape: (38, 6)</small><table border=\"1\" class=\"dataframe\"><thead><tr><th>issuer_name</th><th>len</th><th>cusip</th><th>isin</th><th>figi</th><th>% of obs</th></tr><tr><td>str</td><td>u32</td><td>list[str]</td><td>list[str]</td><td>list[str]</td><td>f64</td></tr></thead><tbody><tr><td>&quot;BLACKROCK, INC.&quot;</td><td>696</td><td>[&quot;09247X101&quot;, null]</td><td>[null, &quot;US09247X1019&quot;]</td><td>[null]</td><td>47.476126</td></tr><tr><td>&quot;BlackRock, Inc.&quot;</td><td>456</td><td>[&quot;09247X101&quot;, &quot;09247K101&quot;, null]</td><td>[null, &quot;US09247X1019&quot;]</td><td>[&quot;BBG000C2PW58&quot;, null]</td><td>31.105048</td></tr><tr><td>&quot;BLACKROCK INC&quot;</td><td>46</td><td>[&quot;09247X101&quot;]</td><td>[null]</td><td>[null]</td><td>3.13779</td></tr><tr><td>&quot;BlackRock Funds&quot;</td><td>44</td><td>[&quot;09251A104&quot;, &quot;09255R202&quot;, … &quot;092501105&quot;]</td><td>[null]</td><td>[null]</td><td>3.001364</td></tr><tr><td>&quot;Blackrock&quot;</td><td>22</td><td>[&quot;09247X101&quot;]</td><td>[&quot;US09247X1019&quot;]</td><td>[null]</td><td>1.500682</td></tr><tr><td>&hellip;</td><td>&hellip;</td><td>&hellip;</td><td>&hellip;</td><td>&hellip;</td><td>&hellip;</td></tr><tr><td>&quot;BlackRock Income Trust&quot;</td><td>3</td><td>[&quot;09247F209&quot;]</td><td>[&quot;US09247F2092&quot;]</td><td>[&quot;BBG000BDC193&quot;]</td><td>0.204638</td></tr><tr><td>&quot;BLACKROCK, INC&quot;</td><td>2</td><td>[&quot;09247X101&quot;]</td><td>[null]</td><td>[null]</td><td>0.136426</td></tr><tr><td>&quot;BlackRock Inc&quot;</td><td>1</td><td>[&quot;09247X101&quot;]</td><td>[null]</td><td>[null]</td><td>0.068213</td></tr><tr><td>&quot;BlackRock US Core Property Fun…</td><td>1</td><td>[&quot;97MSCRP36&quot;]</td><td>[null]</td><td>[null]</td><td>0.068213</td></tr><tr><td>&quot;BLACKROCK &quot;</td><td>1</td><td>[&quot;09247X101&quot;]</td><td>[&quot;US09247X1019&quot;]</td><td>[null]</td><td>0.068213</td></tr></tbody></table></div>"
      ],
      "text/plain": [
       "shape: (38, 6)\n",
       "┌────────────────────┬─────┬───────────────────┬───────────────────┬───────────────────┬───────────┐\n",
       "│ issuer_name        ┆ len ┆ cusip             ┆ isin              ┆ figi              ┆ % of obs  │\n",
       "│ ---                ┆ --- ┆ ---               ┆ ---               ┆ ---               ┆ ---       │\n",
       "│ str                ┆ u32 ┆ list[str]         ┆ list[str]         ┆ list[str]         ┆ f64       │\n",
       "╞════════════════════╪═════╪═══════════════════╪═══════════════════╪═══════════════════╪═══════════╡\n",
       "│ BLACKROCK, INC.    ┆ 696 ┆ [\"09247X101\",     ┆ [null,            ┆ [null]            ┆ 47.476126 │\n",
       "│                    ┆     ┆ null]             ┆ \"US09247X1019\"]   ┆                   ┆           │\n",
       "│ BlackRock, Inc.    ┆ 456 ┆ [\"09247X101\",     ┆ [null,            ┆ [\"BBG000C2PW58\",  ┆ 31.105048 │\n",
       "│                    ┆     ┆ \"09247K101\", nul… ┆ \"US09247X1019\"]   ┆ null]             ┆           │\n",
       "│ BLACKROCK INC      ┆ 46  ┆ [\"09247X101\"]     ┆ [null]            ┆ [null]            ┆ 3.13779   │\n",
       "│ BlackRock Funds    ┆ 44  ┆ [\"09251A104\",     ┆ [null]            ┆ [null]            ┆ 3.001364  │\n",
       "│                    ┆     ┆ \"09255R202\", … \"… ┆                   ┆                   ┆           │\n",
       "│ Blackrock          ┆ 22  ┆ [\"09247X101\"]     ┆ [\"US09247X1019\"]  ┆ [null]            ┆ 1.500682  │\n",
       "│ …                  ┆ …   ┆ …                 ┆ …                 ┆ …                 ┆ …         │\n",
       "│ BlackRock Income   ┆ 3   ┆ [\"09247F209\"]     ┆ [\"US09247F2092\"]  ┆ [\"BBG000BDC193\"]  ┆ 0.204638  │\n",
       "│ Trust              ┆     ┆                   ┆                   ┆                   ┆           │\n",
       "│ BLACKROCK, INC     ┆ 2   ┆ [\"09247X101\"]     ┆ [null]            ┆ [null]            ┆ 0.136426  │\n",
       "│ BlackRock Inc      ┆ 1   ┆ [\"09247X101\"]     ┆ [null]            ┆ [null]            ┆ 0.068213  │\n",
       "│ BlackRock US Core  ┆ 1   ┆ [\"97MSCRP36\"]     ┆ [null]            ┆ [null]            ┆ 0.068213  │\n",
       "│ Property Fun…      ┆     ┆                   ┆                   ┆                   ┆           │\n",
       "│ BLACKROCK          ┆ 1   ┆ [\"09247X101\"]     ┆ [\"US09247X1019\"]  ┆ [null]            ┆ 0.068213  │\n",
       "└────────────────────┴─────┴───────────────────┴───────────────────┴───────────────────┴───────────┘"
      ]
     },
     "metadata": {},
     "output_type": "display_data"
    },
    {
     "name": "stdout",
     "output_type": "stream",
     "text": [
      "Normalized\n"
     ]
    },
    {
     "data": {
      "text/html": [
       "<div><style>\n",
       ".dataframe > thead > tr,\n",
       ".dataframe > tbody > tr {\n",
       "  text-align: right;\n",
       "  white-space: pre-wrap;\n",
       "}\n",
       "</style>\n",
       "<small>shape: (25, 6)</small><table border=\"1\" class=\"dataframe\"><thead><tr><th>issuer_name</th><th>len</th><th>cusip</th><th>isin</th><th>figi</th><th>% of obs</th></tr><tr><td>str</td><td>u32</td><td>list[str]</td><td>list[str]</td><td>list[str]</td><td>f64</td></tr></thead><tbody><tr><td>&quot;BLACKROCK, INC.&quot;</td><td>1244</td><td>[&quot;09247X101&quot;]</td><td>[&quot;US09247X1019&quot;]</td><td>[&quot;BBG000C2PW58&quot;]</td><td>84.741144</td></tr><tr><td>&quot;BLACKROCK FUNDS&quot;</td><td>55</td><td>[&quot;09260E105&quot;]</td><td>[&quot;US09260E1055&quot;]</td><td>[&quot;BBG000BDC193&quot;]</td><td>3.746594</td></tr><tr><td>&quot;BLACKROCK VARIABLE SERIES FUND…</td><td>16</td><td>[&quot;09258X107&quot;]</td><td>[&quot;US09258X1072&quot;]</td><td>[null]</td><td>1.089918</td></tr><tr><td>&quot;BLACKROCK ESG CAPITAL ALLOCATI…</td><td>16</td><td>[&quot;09262F100&quot;]</td><td>[&quot;US09262F1003&quot;]</td><td>[null]</td><td>1.089918</td></tr><tr><td>&quot;BLACKROCK TCP CAPITAL CORP.&quot;</td><td>15</td><td>[&quot;09259E108&quot;]</td><td>[&quot;US09259E1082&quot;]</td><td>[null]</td><td>1.021798</td></tr><tr><td>&hellip;</td><td>&hellip;</td><td>&hellip;</td><td>&hellip;</td><td>&hellip;</td><td>&hellip;</td></tr><tr><td>&quot;BLACKROCK FLOATING RATE INC PO…</td><td>4</td><td>[&quot;09260B762&quot;]</td><td>[null]</td><td>[null]</td><td>0.27248</td></tr><tr><td>&quot;BLACKROCK NY MUNI OPP FUNDS A1&quot;</td><td>4</td><td>[&quot;09253A813&quot;]</td><td>[null]</td><td>[null]</td><td>0.27248</td></tr><tr><td>&quot;BLACKROCK MUNICIPAL INCOME TRU…</td><td>3</td><td>[&quot;09248F109&quot;]</td><td>[&quot;US09248F1093&quot;]</td><td>[null]</td><td>0.20436</td></tr><tr><td>&quot;BLACKROCK CREDIT ALLOCATION, I…</td><td>3</td><td>[&quot;092508100&quot;]</td><td>[&quot;US0925081004&quot;]</td><td>[&quot;BBG000QHYF20&quot;]</td><td>0.20436</td></tr><tr><td>&quot;BLACKROCK US CORE PROPERTY FUN…</td><td>1</td><td>[&quot;97MSCRP36&quot;]</td><td>[null]</td><td>[null]</td><td>0.06812</td></tr></tbody></table></div>"
      ],
      "text/plain": [
       "shape: (25, 6)\n",
       "┌─────────────────────────┬──────┬───────────────┬──────────────────┬──────────────────┬───────────┐\n",
       "│ issuer_name             ┆ len  ┆ cusip         ┆ isin             ┆ figi             ┆ % of obs  │\n",
       "│ ---                     ┆ ---  ┆ ---           ┆ ---              ┆ ---              ┆ ---       │\n",
       "│ str                     ┆ u32  ┆ list[str]     ┆ list[str]        ┆ list[str]        ┆ f64       │\n",
       "╞═════════════════════════╪══════╪═══════════════╪══════════════════╪══════════════════╪═══════════╡\n",
       "│ BLACKROCK, INC.         ┆ 1244 ┆ [\"09247X101\"] ┆ [\"US09247X1019\"] ┆ [\"BBG000C2PW58\"] ┆ 84.741144 │\n",
       "│ BLACKROCK FUNDS         ┆ 55   ┆ [\"09260E105\"] ┆ [\"US09260E1055\"] ┆ [\"BBG000BDC193\"] ┆ 3.746594  │\n",
       "│ BLACKROCK VARIABLE      ┆ 16   ┆ [\"09258X107\"] ┆ [\"US09258X1072\"] ┆ [null]           ┆ 1.089918  │\n",
       "│ SERIES FUND…            ┆      ┆               ┆                  ┆                  ┆           │\n",
       "│ BLACKROCK ESG CAPITAL   ┆ 16   ┆ [\"09262F100\"] ┆ [\"US09262F1003\"] ┆ [null]           ┆ 1.089918  │\n",
       "│ ALLOCATI…               ┆      ┆               ┆                  ┆                  ┆           │\n",
       "│ BLACKROCK TCP CAPITAL   ┆ 15   ┆ [\"09259E108\"] ┆ [\"US09259E1082\"] ┆ [null]           ┆ 1.021798  │\n",
       "│ CORP.                   ┆      ┆               ┆                  ┆                  ┆           │\n",
       "│ …                       ┆ …    ┆ …             ┆ …                ┆ …                ┆ …         │\n",
       "│ BLACKROCK FLOATING RATE ┆ 4    ┆ [\"09260B762\"] ┆ [null]           ┆ [null]           ┆ 0.27248   │\n",
       "│ INC PO…                 ┆      ┆               ┆                  ┆                  ┆           │\n",
       "│ BLACKROCK NY MUNI OPP   ┆ 4    ┆ [\"09253A813\"] ┆ [null]           ┆ [null]           ┆ 0.27248   │\n",
       "│ FUNDS A1                ┆      ┆               ┆                  ┆                  ┆           │\n",
       "│ BLACKROCK MUNICIPAL     ┆ 3    ┆ [\"09248F109\"] ┆ [\"US09248F1093\"] ┆ [null]           ┆ 0.20436   │\n",
       "│ INCOME TRU…             ┆      ┆               ┆                  ┆                  ┆           │\n",
       "│ BLACKROCK CREDIT        ┆ 3    ┆ [\"092508100\"] ┆ [\"US0925081004\"] ┆ [\"BBG000QHYF20\"] ┆ 0.20436   │\n",
       "│ ALLOCATION, I…          ┆      ┆               ┆                  ┆                  ┆           │\n",
       "│ BLACKROCK US CORE       ┆ 1    ┆ [\"97MSCRP36\"] ┆ [null]           ┆ [null]           ┆ 0.06812   │\n",
       "│ PROPERTY FUN…           ┆      ┆               ┆                  ┆                  ┆           │\n",
       "└─────────────────────────┴──────┴───────────────┴──────────────────┴──────────────────┴───────────┘"
      ]
     },
     "metadata": {},
     "output_type": "display_data"
    },
    {
     "name": "stdout",
     "output_type": "stream",
     "text": [
      "************************************************************ SUNCOR ************************************************************\n",
      "Un-Normalized\n"
     ]
    },
    {
     "data": {
      "text/html": [
       "<div><style>\n",
       ".dataframe > thead > tr,\n",
       ".dataframe > tbody > tr {\n",
       "  text-align: right;\n",
       "  white-space: pre-wrap;\n",
       "}\n",
       "</style>\n",
       "<small>shape: (6, 6)</small><table border=\"1\" class=\"dataframe\"><thead><tr><th>issuer_name</th><th>len</th><th>cusip</th><th>isin</th><th>figi</th><th>% of obs</th></tr><tr><td>str</td><td>u32</td><td>list[str]</td><td>list[str]</td><td>list[str]</td><td>f64</td></tr></thead><tbody><tr><td>&quot;SUNCOR ENERGY INC.&quot;</td><td>148</td><td>[null, &quot;867224107&quot;]</td><td>[&quot;CA8672241079&quot;, null]</td><td>[null]</td><td>55.849057</td></tr><tr><td>&quot;Suncor Energy Inc.&quot;</td><td>65</td><td>[&quot;867229106&quot;, &quot;867224107&quot;, null]</td><td>[&quot;CA8672241079&quot;, null]</td><td>[null]</td><td>24.528302</td></tr><tr><td>&quot;SUNCOR ENERGY INC&quot;</td><td>36</td><td>[&quot;867224107&quot;]</td><td>[&quot;CA8672241079&quot;, null]</td><td>[null, &quot;BBG000BRK7L6&quot;]</td><td>13.584906</td></tr><tr><td>&quot;SUNCORP GROUP LTD&quot;</td><td>12</td><td>[&quot;Q8802S103&quot;, &quot;Q88040110&quot;]</td><td>[&quot;AU000000SUN6&quot;]</td><td>[null]</td><td>4.528302</td></tr><tr><td>&quot;Suncor Energy, Inc.&quot;</td><td>2</td><td>[&quot;867224107&quot;]</td><td>[&quot;CA8672241079&quot;, null]</td><td>[null]</td><td>0.754717</td></tr><tr><td>&quot;Suncor Energy Inc&quot;</td><td>2</td><td>[&quot;867224107&quot;]</td><td>[null, &quot;CA8672241079&quot;]</td><td>[null]</td><td>0.754717</td></tr></tbody></table></div>"
      ],
      "text/plain": [
       "shape: (6, 6)\n",
       "┌────────────────────┬─────┬───────────────────┬───────────────────┬───────────────────┬───────────┐\n",
       "│ issuer_name        ┆ len ┆ cusip             ┆ isin              ┆ figi              ┆ % of obs  │\n",
       "│ ---                ┆ --- ┆ ---               ┆ ---               ┆ ---               ┆ ---       │\n",
       "│ str                ┆ u32 ┆ list[str]         ┆ list[str]         ┆ list[str]         ┆ f64       │\n",
       "╞════════════════════╪═════╪═══════════════════╪═══════════════════╪═══════════════════╪═══════════╡\n",
       "│ SUNCOR ENERGY INC. ┆ 148 ┆ [null,            ┆ [\"CA8672241079\",  ┆ [null]            ┆ 55.849057 │\n",
       "│                    ┆     ┆ \"867224107\"]      ┆ null]             ┆                   ┆           │\n",
       "│ Suncor Energy Inc. ┆ 65  ┆ [\"867229106\",     ┆ [\"CA8672241079\",  ┆ [null]            ┆ 24.528302 │\n",
       "│                    ┆     ┆ \"867224107\", nul… ┆ null]             ┆                   ┆           │\n",
       "│ SUNCOR ENERGY INC  ┆ 36  ┆ [\"867224107\"]     ┆ [\"CA8672241079\",  ┆ [null,            ┆ 13.584906 │\n",
       "│                    ┆     ┆                   ┆ null]             ┆ \"BBG000BRK7L6\"]   ┆           │\n",
       "│ SUNCORP GROUP LTD  ┆ 12  ┆ [\"Q8802S103\",     ┆ [\"AU000000SUN6\"]  ┆ [null]            ┆ 4.528302  │\n",
       "│                    ┆     ┆ \"Q88040110\"]      ┆                   ┆                   ┆           │\n",
       "│ Suncor Energy,     ┆ 2   ┆ [\"867224107\"]     ┆ [\"CA8672241079\",  ┆ [null]            ┆ 0.754717  │\n",
       "│ Inc.               ┆     ┆                   ┆ null]             ┆                   ┆           │\n",
       "│ Suncor Energy Inc  ┆ 2   ┆ [\"867224107\"]     ┆ [null,            ┆ [null]            ┆ 0.754717  │\n",
       "│                    ┆     ┆                   ┆ \"CA8672241079\"]   ┆                   ┆           │\n",
       "└────────────────────┴─────┴───────────────────┴───────────────────┴───────────────────┴───────────┘"
      ]
     },
     "metadata": {},
     "output_type": "display_data"
    },
    {
     "name": "stdout",
     "output_type": "stream",
     "text": [
      "Normalized\n"
     ]
    },
    {
     "data": {
      "text/html": [
       "<div><style>\n",
       ".dataframe > thead > tr,\n",
       ".dataframe > tbody > tr {\n",
       "  text-align: right;\n",
       "  white-space: pre-wrap;\n",
       "}\n",
       "</style>\n",
       "<small>shape: (2, 6)</small><table border=\"1\" class=\"dataframe\"><thead><tr><th>issuer_name</th><th>len</th><th>cusip</th><th>isin</th><th>figi</th><th>% of obs</th></tr><tr><td>str</td><td>u32</td><td>list[str]</td><td>list[str]</td><td>list[str]</td><td>f64</td></tr></thead><tbody><tr><td>&quot;SUNCOR ENERGY INC.&quot;</td><td>253</td><td>[&quot;867224107&quot;]</td><td>[&quot;CA8672241079&quot;]</td><td>[&quot;BBG000BRK7L6&quot;]</td><td>95.471698</td></tr><tr><td>&quot;SUNCORP GROUP LTD&quot;</td><td>12</td><td>[&quot;Q88040110&quot;]</td><td>[&quot;AU000000SUN6&quot;]</td><td>[null]</td><td>4.528302</td></tr></tbody></table></div>"
      ],
      "text/plain": [
       "shape: (2, 6)\n",
       "┌────────────────────┬─────┬───────────────┬──────────────────┬──────────────────┬───────────┐\n",
       "│ issuer_name        ┆ len ┆ cusip         ┆ isin             ┆ figi             ┆ % of obs  │\n",
       "│ ---                ┆ --- ┆ ---           ┆ ---              ┆ ---              ┆ ---       │\n",
       "│ str                ┆ u32 ┆ list[str]     ┆ list[str]        ┆ list[str]        ┆ f64       │\n",
       "╞════════════════════╪═════╪═══════════════╪══════════════════╪══════════════════╪═══════════╡\n",
       "│ SUNCOR ENERGY INC. ┆ 253 ┆ [\"867224107\"] ┆ [\"CA8672241079\"] ┆ [\"BBG000BRK7L6\"] ┆ 95.471698 │\n",
       "│ SUNCORP GROUP LTD  ┆ 12  ┆ [\"Q88040110\"] ┆ [\"AU000000SUN6\"] ┆ [null]           ┆ 4.528302  │\n",
       "└────────────────────┴─────┴───────────────┴──────────────────┴──────────────────┴───────────┘"
      ]
     },
     "metadata": {},
     "output_type": "display_data"
    },
    {
     "name": "stdout",
     "output_type": "stream",
     "text": [
      "************************************************************ CONOCO PHILLIPS ************************************************************\n",
      "Un-Normalized\n"
     ]
    },
    {
     "data": {
      "text/html": [
       "<div><style>\n",
       ".dataframe > thead > tr,\n",
       ".dataframe > tbody > tr {\n",
       "  text-align: right;\n",
       "  white-space: pre-wrap;\n",
       "}\n",
       "</style>\n",
       "<small>shape: (3, 6)</small><table border=\"1\" class=\"dataframe\"><thead><tr><th>issuer_name</th><th>len</th><th>cusip</th><th>isin</th><th>figi</th><th>% of obs</th></tr><tr><td>str</td><td>u32</td><td>list[str]</td><td>list[str]</td><td>list[str]</td><td>f64</td></tr></thead><tbody><tr><td>&quot;CONOCO PHILLIPS&quot;</td><td>48</td><td>[&quot;20825C104&quot;]</td><td>[null]</td><td>[null]</td><td>87.272727</td></tr><tr><td>&quot;Conoco Phillips&quot;</td><td>6</td><td>[null, &quot;20825C104&quot;]</td><td>[null, &quot;US20825C1045&quot;]</td><td>[null]</td><td>10.909091</td></tr><tr><td>&quot;CONOCO PHILLIPS &quot;</td><td>1</td><td>[&quot;20825C104&quot;]</td><td>[&quot;US20825C1045&quot;]</td><td>[null]</td><td>1.818182</td></tr></tbody></table></div>"
      ],
      "text/plain": [
       "shape: (3, 6)\n",
       "┌──────────────────┬─────┬─────────────────────┬────────────────────────┬───────────┬───────────┐\n",
       "│ issuer_name      ┆ len ┆ cusip               ┆ isin                   ┆ figi      ┆ % of obs  │\n",
       "│ ---              ┆ --- ┆ ---                 ┆ ---                    ┆ ---       ┆ ---       │\n",
       "│ str              ┆ u32 ┆ list[str]           ┆ list[str]              ┆ list[str] ┆ f64       │\n",
       "╞══════════════════╪═════╪═════════════════════╪════════════════════════╪═══════════╪═══════════╡\n",
       "│ CONOCO PHILLIPS  ┆ 48  ┆ [\"20825C104\"]       ┆ [null]                 ┆ [null]    ┆ 87.272727 │\n",
       "│ Conoco Phillips  ┆ 6   ┆ [null, \"20825C104\"] ┆ [null, \"US20825C1045\"] ┆ [null]    ┆ 10.909091 │\n",
       "│ CONOCO PHILLIPS  ┆ 1   ┆ [\"20825C104\"]       ┆ [\"US20825C1045\"]       ┆ [null]    ┆ 1.818182  │\n",
       "└──────────────────┴─────┴─────────────────────┴────────────────────────┴───────────┴───────────┘"
      ]
     },
     "metadata": {},
     "output_type": "display_data"
    },
    {
     "name": "stdout",
     "output_type": "stream",
     "text": [
      "Normalized\n"
     ]
    },
    {
     "data": {
      "text/html": [
       "<div><style>\n",
       ".dataframe > thead > tr,\n",
       ".dataframe > tbody > tr {\n",
       "  text-align: right;\n",
       "  white-space: pre-wrap;\n",
       "}\n",
       "</style>\n",
       "<small>shape: (0, 6)</small><table border=\"1\" class=\"dataframe\"><thead><tr><th>issuer_name</th><th>len</th><th>cusip</th><th>isin</th><th>figi</th><th>% of obs</th></tr><tr><td>str</td><td>u32</td><td>list[str]</td><td>list[str]</td><td>list[str]</td><td>f64</td></tr></thead><tbody></tbody></table></div>"
      ],
      "text/plain": [
       "shape: (0, 6)\n",
       "┌─────────────┬─────┬───────────┬───────────┬───────────┬──────────┐\n",
       "│ issuer_name ┆ len ┆ cusip     ┆ isin      ┆ figi      ┆ % of obs │\n",
       "│ ---         ┆ --- ┆ ---       ┆ ---       ┆ ---       ┆ ---      │\n",
       "│ str         ┆ u32 ┆ list[str] ┆ list[str] ┆ list[str] ┆ f64      │\n",
       "╞═════════════╪═════╪═══════════╪═══════════╪═══════════╪══════════╡\n",
       "└─────────────┴─────┴───────────┴───────────┴───────────┴──────────┘"
      ]
     },
     "metadata": {},
     "output_type": "display_data"
    },
    {
     "name": "stdout",
     "output_type": "stream",
     "text": [
      "************************************************************ PHILLIPS 66 ************************************************************\n",
      "Un-Normalized\n"
     ]
    },
    {
     "data": {
      "text/html": [
       "<div><style>\n",
       ".dataframe > thead > tr,\n",
       ".dataframe > tbody > tr {\n",
       "  text-align: right;\n",
       "  white-space: pre-wrap;\n",
       "}\n",
       "</style>\n",
       "<small>shape: (3, 6)</small><table border=\"1\" class=\"dataframe\"><thead><tr><th>issuer_name</th><th>len</th><th>cusip</th><th>isin</th><th>figi</th><th>% of obs</th></tr><tr><td>str</td><td>u32</td><td>list[str]</td><td>list[str]</td><td>list[str]</td><td>f64</td></tr></thead><tbody><tr><td>&quot;PHILLIPS 66&quot;</td><td>420</td><td>[&quot;718546104&quot;, null]</td><td>[null, &quot;US7185461040&quot;]</td><td>[null, &quot;BBG00286S4N9&quot;]</td><td>58.414465</td></tr><tr><td>&quot;Phillips 66&quot;</td><td>298</td><td>[null, &quot;718546104&quot;]</td><td>[null, &quot;US7185461040&quot;]</td><td>[null]</td><td>41.446453</td></tr><tr><td>&quot;Phillips 66 (PSX)&quot;</td><td>1</td><td>[&quot;718546104&quot;]</td><td>[&quot;US7185461040&quot;]</td><td>[null]</td><td>0.139082</td></tr></tbody></table></div>"
      ],
      "text/plain": [
       "shape: (3, 6)\n",
       "┌───────────────────┬─────┬───────────────┬──────────────────┬─────────────────────────┬───────────┐\n",
       "│ issuer_name       ┆ len ┆ cusip         ┆ isin             ┆ figi                    ┆ % of obs  │\n",
       "│ ---               ┆ --- ┆ ---           ┆ ---              ┆ ---                     ┆ ---       │\n",
       "│ str               ┆ u32 ┆ list[str]     ┆ list[str]        ┆ list[str]               ┆ f64       │\n",
       "╞═══════════════════╪═════╪═══════════════╪══════════════════╪═════════════════════════╪═══════════╡\n",
       "│ PHILLIPS 66       ┆ 420 ┆ [\"718546104\", ┆ [null,           ┆ [null, \"BBG00286S4N9\"]  ┆ 58.414465 │\n",
       "│                   ┆     ┆ null]         ┆ \"US7185461040\"]  ┆                         ┆           │\n",
       "│ Phillips 66       ┆ 298 ┆ [null,        ┆ [null,           ┆ [null]                  ┆ 41.446453 │\n",
       "│                   ┆     ┆ \"718546104\"]  ┆ \"US7185461040\"]  ┆                         ┆           │\n",
       "│ Phillips 66 (PSX) ┆ 1   ┆ [\"718546104\"] ┆ [\"US7185461040\"] ┆ [null]                  ┆ 0.139082  │\n",
       "└───────────────────┴─────┴───────────────┴──────────────────┴─────────────────────────┴───────────┘"
      ]
     },
     "metadata": {},
     "output_type": "display_data"
    },
    {
     "name": "stdout",
     "output_type": "stream",
     "text": [
      "Normalized\n"
     ]
    },
    {
     "data": {
      "text/html": [
       "<div><style>\n",
       ".dataframe > thead > tr,\n",
       ".dataframe > tbody > tr {\n",
       "  text-align: right;\n",
       "  white-space: pre-wrap;\n",
       "}\n",
       "</style>\n",
       "<small>shape: (1, 6)</small><table border=\"1\" class=\"dataframe\"><thead><tr><th>issuer_name</th><th>len</th><th>cusip</th><th>isin</th><th>figi</th><th>% of obs</th></tr><tr><td>str</td><td>u32</td><td>list[str]</td><td>list[str]</td><td>list[str]</td><td>f64</td></tr></thead><tbody><tr><td>&quot;PHILLIPS 66&quot;</td><td>722</td><td>[&quot;718546104&quot;]</td><td>[&quot;US7185461040&quot;]</td><td>[&quot;BBG00286S4N9&quot;]</td><td>100.0</td></tr></tbody></table></div>"
      ],
      "text/plain": [
       "shape: (1, 6)\n",
       "┌─────────────┬─────┬───────────────┬──────────────────┬──────────────────┬──────────┐\n",
       "│ issuer_name ┆ len ┆ cusip         ┆ isin             ┆ figi             ┆ % of obs │\n",
       "│ ---         ┆ --- ┆ ---           ┆ ---              ┆ ---              ┆ ---      │\n",
       "│ str         ┆ u32 ┆ list[str]     ┆ list[str]        ┆ list[str]        ┆ f64      │\n",
       "╞═════════════╪═════╪═══════════════╪══════════════════╪══════════════════╪══════════╡\n",
       "│ PHILLIPS 66 ┆ 722 ┆ [\"718546104\"] ┆ [\"US7185461040\"] ┆ [\"BBG00286S4N9\"] ┆ 100.0    │\n",
       "└─────────────┴─────┴───────────────┴──────────────────┴──────────────────┴──────────┘"
      ]
     },
     "metadata": {},
     "output_type": "display_data"
    },
    {
     "name": "stdout",
     "output_type": "stream",
     "text": [
      "************************************************************ BRITISH PETROLEUM ************************************************************\n",
      "Un-Normalized\n"
     ]
    },
    {
     "data": {
      "text/html": [
       "<div><style>\n",
       ".dataframe > thead > tr,\n",
       ".dataframe > tbody > tr {\n",
       "  text-align: right;\n",
       "  white-space: pre-wrap;\n",
       "}\n",
       "</style>\n",
       "<small>shape: (0, 6)</small><table border=\"1\" class=\"dataframe\"><thead><tr><th>issuer_name</th><th>len</th><th>cusip</th><th>isin</th><th>figi</th><th>% of obs</th></tr><tr><td>str</td><td>u32</td><td>list[str]</td><td>list[str]</td><td>list[str]</td><td>f64</td></tr></thead><tbody></tbody></table></div>"
      ],
      "text/plain": [
       "shape: (0, 6)\n",
       "┌─────────────┬─────┬───────────┬───────────┬───────────┬──────────┐\n",
       "│ issuer_name ┆ len ┆ cusip     ┆ isin      ┆ figi      ┆ % of obs │\n",
       "│ ---         ┆ --- ┆ ---       ┆ ---       ┆ ---       ┆ ---      │\n",
       "│ str         ┆ u32 ┆ list[str] ┆ list[str] ┆ list[str] ┆ f64      │\n",
       "╞═════════════╪═════╪═══════════╪═══════════╪═══════════╪══════════╡\n",
       "└─────────────┴─────┴───────────┴───────────┴───────────┴──────────┘"
      ]
     },
     "metadata": {},
     "output_type": "display_data"
    },
    {
     "name": "stdout",
     "output_type": "stream",
     "text": [
      "Normalized\n"
     ]
    },
    {
     "data": {
      "text/html": [
       "<div><style>\n",
       ".dataframe > thead > tr,\n",
       ".dataframe > tbody > tr {\n",
       "  text-align: right;\n",
       "  white-space: pre-wrap;\n",
       "}\n",
       "</style>\n",
       "<small>shape: (0, 6)</small><table border=\"1\" class=\"dataframe\"><thead><tr><th>issuer_name</th><th>len</th><th>cusip</th><th>isin</th><th>figi</th><th>% of obs</th></tr><tr><td>str</td><td>u32</td><td>list[str]</td><td>list[str]</td><td>list[str]</td><td>f64</td></tr></thead><tbody></tbody></table></div>"
      ],
      "text/plain": [
       "shape: (0, 6)\n",
       "┌─────────────┬─────┬───────────┬───────────┬───────────┬──────────┐\n",
       "│ issuer_name ┆ len ┆ cusip     ┆ isin      ┆ figi      ┆ % of obs │\n",
       "│ ---         ┆ --- ┆ ---       ┆ ---       ┆ ---       ┆ ---      │\n",
       "│ str         ┆ u32 ┆ list[str] ┆ list[str] ┆ list[str] ┆ f64      │\n",
       "╞═════════════╪═════╪═══════════╪═══════════╪═══════════╪══════════╡\n",
       "└─────────────┴─────┴───────────┴───────────┴───────────┴──────────┘"
      ]
     },
     "metadata": {},
     "output_type": "display_data"
    }
   ],
   "source": [
    "for name in (\n",
    "    # normed5[\"issuer_name\"].value_counts(sort=True).head(30).to_series().to_list()\n",
    "    [\n",
    "        \"microsoft\",\n",
    "        \"disney\",\n",
    "        \"amazon\",\n",
    "        \"jpmorgan\",\n",
    "        \"procter\",\n",
    "        \"oracle\",\n",
    "        \"apple\",\n",
    "        \"visa\",\n",
    "        \"exxon\",\n",
    "        \"chevron\",\n",
    "        \"meta platform\",\n",
    "        \"air transport\",\n",
    "        \"bank of america\",\n",
    "        \"blackrock\",\n",
    "        \"suncor\",\n",
    "        \"conoco phillips\",\n",
    "        \"phillips 66\",\n",
    "        \"british petroleum\",\n",
    "    ]\n",
    "):\n",
    "    print(\"*\" * 60, name.upper(), \"*\" * 60)\n",
    "    t_unnormalized = (\n",
    "        votes.select(COMPANY_COLS)\n",
    "        .filter(pl.col(\"issuer_name\").str.contains(f\"(?i){name}\"))\n",
    "        .group_by(\"issuer_name\")\n",
    "        .agg(pl.len(), pl.all().unique())\n",
    "        .with_columns((pl.col(\"len\") * 100 / pl.col(\"len\").sum()).alias(\"% of obs\"))\n",
    "        .sort(\"len\", descending=True)\n",
    "    )\n",
    "    t = (\n",
    "        normed5.select(COMPANY_COLS)\n",
    "        .filter(pl.col(\"issuer_name\").str.contains(f\"(?i){name}\"))\n",
    "        .group_by(\"issuer_name\")\n",
    "        .agg(pl.len(), pl.all().unique())\n",
    "        .with_columns((pl.col(\"len\") * 100 / pl.col(\"len\").sum()).alias(\"% of obs\"))\n",
    "        .sort(\"len\", descending=True)\n",
    "    )\n",
    "    print(\"Un-Normalized\")\n",
    "    display(t_unnormalized)\n",
    "    print(\"Normalized\")\n",
    "    display(t)"
   ]
  },
  {
   "cell_type": "code",
   "execution_count": 50,
   "metadata": {},
   "outputs": [
    {
     "data": {
      "text/html": [
       "<div><style>\n",
       ".dataframe > thead > tr,\n",
       ".dataframe > tbody > tr {\n",
       "  text-align: right;\n",
       "  white-space: pre-wrap;\n",
       "}\n",
       "</style>\n",
       "<small>shape: (286_424, 4)</small><table border=\"1\" class=\"dataframe\"><thead><tr><th>issuer_name</th><th>cusip</th><th>isin</th><th>figi</th></tr><tr><td>str</td><td>str</td><td>str</td><td>str</td></tr></thead><tbody><tr><td>&quot;AMPHENOL CORPORATION&quot;</td><td>&quot;032095101&quot;</td><td>&quot;US0320951017&quot;</td><td>null</td></tr><tr><td>&quot;THE SHERWIN-WILLIAMS COMPANY&quot;</td><td>&quot;824348106&quot;</td><td>&quot;US8243481061&quot;</td><td>null</td></tr><tr><td>&quot;THE SHERWIN-WILLIAMS COMPANY&quot;</td><td>&quot;824348106&quot;</td><td>&quot;US8243481061&quot;</td><td>null</td></tr><tr><td>&quot;AMPHENOL CORPORATION&quot;</td><td>&quot;032095101&quot;</td><td>&quot;US0320951017&quot;</td><td>null</td></tr><tr><td>&quot;Toast, Inc.&quot;</td><td>&quot;888787108&quot;</td><td>null</td><td>null</td></tr><tr><td>&hellip;</td><td>&hellip;</td><td>&hellip;</td><td>&hellip;</td></tr><tr><td>&quot;INTEL CORPORATION&quot;</td><td>&quot;458140100&quot;</td><td>null</td><td>null</td></tr><tr><td>&quot;THE SHERWIN-WILLIAMS COMPANY&quot;</td><td>&quot;824348106&quot;</td><td>null</td><td>null</td></tr><tr><td>&quot;THE KROGER CO.&quot;</td><td>&quot;501044101&quot;</td><td>null</td><td>null</td></tr><tr><td>&quot;CHOICE HOTELS INTERNATIONAL, I…</td><td>&quot;169905106&quot;</td><td>null</td><td>null</td></tr><tr><td>&quot;HUBBELL INCORPORATED&quot;</td><td>&quot;443510607&quot;</td><td>null</td><td>null</td></tr></tbody></table></div>"
      ],
      "text/plain": [
       "shape: (286_424, 4)\n",
       "┌─────────────────────────────────┬───────────┬──────────────┬──────┐\n",
       "│ issuer_name                     ┆ cusip     ┆ isin         ┆ figi │\n",
       "│ ---                             ┆ ---       ┆ ---          ┆ ---  │\n",
       "│ str                             ┆ str       ┆ str          ┆ str  │\n",
       "╞═════════════════════════════════╪═══════════╪══════════════╪══════╡\n",
       "│ AMPHENOL CORPORATION            ┆ 032095101 ┆ US0320951017 ┆ null │\n",
       "│ THE SHERWIN-WILLIAMS COMPANY    ┆ 824348106 ┆ US8243481061 ┆ null │\n",
       "│ THE SHERWIN-WILLIAMS COMPANY    ┆ 824348106 ┆ US8243481061 ┆ null │\n",
       "│ AMPHENOL CORPORATION            ┆ 032095101 ┆ US0320951017 ┆ null │\n",
       "│ Toast, Inc.                     ┆ 888787108 ┆ null         ┆ null │\n",
       "│ …                               ┆ …         ┆ …            ┆ …    │\n",
       "│ INTEL CORPORATION               ┆ 458140100 ┆ null         ┆ null │\n",
       "│ THE SHERWIN-WILLIAMS COMPANY    ┆ 824348106 ┆ null         ┆ null │\n",
       "│ THE KROGER CO.                  ┆ 501044101 ┆ null         ┆ null │\n",
       "│ CHOICE HOTELS INTERNATIONAL, I… ┆ 169905106 ┆ null         ┆ null │\n",
       "│ HUBBELL INCORPORATED            ┆ 443510607 ┆ null         ┆ null │\n",
       "└─────────────────────────────────┴───────────┴──────────────┴──────┘"
      ]
     },
     "execution_count": 50,
     "metadata": {},
     "output_type": "execute_result"
    }
   ],
   "source": [
    "votes.filter(normed5[\"issuer_name\"] != votes[\"issuer_name\"]).select(COMPANY_COLS)"
   ]
  },
  {
   "cell_type": "code",
   "execution_count": 51,
   "metadata": {},
   "outputs": [
    {
     "data": {
      "text/html": [
       "<div><style>\n",
       ".dataframe > thead > tr,\n",
       ".dataframe > tbody > tr {\n",
       "  text-align: right;\n",
       "  white-space: pre-wrap;\n",
       "}\n",
       "</style>\n",
       "<small>shape: (286_424, 4)</small><table border=\"1\" class=\"dataframe\"><thead><tr><th>issuer_name</th><th>cusip</th><th>isin</th><th>figi</th></tr><tr><td>str</td><td>str</td><td>str</td><td>str</td></tr></thead><tbody><tr><td>&quot;Amphenol Corporation&quot;</td><td>&quot;032095101&quot;</td><td>&quot;US0320951017&quot;</td><td>null</td></tr><tr><td>&quot;The Sherwin-Williams Company&quot;</td><td>&quot;824348106&quot;</td><td>&quot;US8243481061&quot;</td><td>&quot;BBG000BSXQV7&quot;</td></tr><tr><td>&quot;The Sherwin-Williams Company&quot;</td><td>&quot;824348106&quot;</td><td>&quot;US8243481061&quot;</td><td>&quot;BBG000BSXQV7&quot;</td></tr><tr><td>&quot;Amphenol Corporation&quot;</td><td>&quot;032095101&quot;</td><td>&quot;US0320951017&quot;</td><td>null</td></tr><tr><td>&quot;TOAST, INC.&quot;</td><td>&quot;888787108&quot;</td><td>&quot;US8887871080&quot;</td><td>null</td></tr><tr><td>&hellip;</td><td>&hellip;</td><td>&hellip;</td><td>&hellip;</td></tr><tr><td>&quot;Intel Corporation&quot;</td><td>&quot;458140100&quot;</td><td>&quot;US4581401001&quot;</td><td>&quot;BBG000C0G1D1&quot;</td></tr><tr><td>&quot;The Sherwin-Williams Company&quot;</td><td>&quot;824348106&quot;</td><td>&quot;US8243481061&quot;</td><td>&quot;BBG000BSXQV7&quot;</td></tr><tr><td>&quot;The Kroger Co.&quot;</td><td>&quot;501044101&quot;</td><td>&quot;US5010441013&quot;</td><td>&quot;BBG000BMY992&quot;</td></tr><tr><td>&quot;Choice Hotels International, I…</td><td>&quot;169905106&quot;</td><td>&quot;US1699051066&quot;</td><td>null</td></tr><tr><td>&quot;Hubbell Incorporated&quot;</td><td>&quot;443510607&quot;</td><td>&quot;US4435106079&quot;</td><td>null</td></tr></tbody></table></div>"
      ],
      "text/plain": [
       "shape: (286_424, 4)\n",
       "┌─────────────────────────────────┬───────────┬──────────────┬──────────────┐\n",
       "│ issuer_name                     ┆ cusip     ┆ isin         ┆ figi         │\n",
       "│ ---                             ┆ ---       ┆ ---          ┆ ---          │\n",
       "│ str                             ┆ str       ┆ str          ┆ str          │\n",
       "╞═════════════════════════════════╪═══════════╪══════════════╪══════════════╡\n",
       "│ Amphenol Corporation            ┆ 032095101 ┆ US0320951017 ┆ null         │\n",
       "│ The Sherwin-Williams Company    ┆ 824348106 ┆ US8243481061 ┆ BBG000BSXQV7 │\n",
       "│ The Sherwin-Williams Company    ┆ 824348106 ┆ US8243481061 ┆ BBG000BSXQV7 │\n",
       "│ Amphenol Corporation            ┆ 032095101 ┆ US0320951017 ┆ null         │\n",
       "│ TOAST, INC.                     ┆ 888787108 ┆ US8887871080 ┆ null         │\n",
       "│ …                               ┆ …         ┆ …            ┆ …            │\n",
       "│ Intel Corporation               ┆ 458140100 ┆ US4581401001 ┆ BBG000C0G1D1 │\n",
       "│ The Sherwin-Williams Company    ┆ 824348106 ┆ US8243481061 ┆ BBG000BSXQV7 │\n",
       "│ The Kroger Co.                  ┆ 501044101 ┆ US5010441013 ┆ BBG000BMY992 │\n",
       "│ Choice Hotels International, I… ┆ 169905106 ┆ US1699051066 ┆ null         │\n",
       "│ Hubbell Incorporated            ┆ 443510607 ┆ US4435106079 ┆ null         │\n",
       "└─────────────────────────────────┴───────────┴──────────────┴──────────────┘"
      ]
     },
     "execution_count": 51,
     "metadata": {},
     "output_type": "execute_result"
    }
   ],
   "source": [
    "normed5.filter(normed5[\"issuer_name\"] != votes[\"issuer_name\"]).select(COMPANY_COLS)"
   ]
  },
  {
   "cell_type": "code",
   "execution_count": 42,
   "metadata": {},
   "outputs": [
    {
     "data": {
      "text/plain": [
       "7545"
      ]
     },
     "execution_count": 42,
     "metadata": {},
     "output_type": "execute_result"
    }
   ],
   "source": [
    "normed5[\"cusip\"].n_unique()"
   ]
  },
  {
   "cell_type": "code",
   "execution_count": 14,
   "metadata": {},
   "outputs": [
    {
     "data": {
      "text/html": [
       "<div><style>\n",
       ".dataframe > thead > tr,\n",
       ".dataframe > tbody > tr {\n",
       "  text-align: right;\n",
       "  white-space: pre-wrap;\n",
       "}\n",
       "</style>\n",
       "<small>shape: (778_944, 4)</small><table border=\"1\" class=\"dataframe\"><thead><tr><th>issuer_name</th><th>cusip</th><th>isin</th><th>figi</th></tr><tr><td>str</td><td>str</td><td>str</td><td>str</td></tr></thead><tbody><tr><td>&quot;CANADIAN PACIFIC KANSAS CITY L…</td><td>&quot;13646K108&quot;</td><td>&quot;CA13646K1084&quot;</td><td>null</td></tr><tr><td>&quot;AAON, INC.&quot;</td><td>&quot;000360206&quot;</td><td>&quot;US0003602069&quot;</td><td>null</td></tr><tr><td>&quot;AMAZON.COM, INC.&quot;</td><td>&quot;023135106&quot;</td><td>&quot;US0231351067&quot;</td><td>null</td></tr><tr><td>&quot;AMPHENOL CORPORATION&quot;</td><td>&quot;032095101&quot;</td><td>&quot;US0320951017&quot;</td><td>null</td></tr><tr><td>&quot;MICROSOFT CORPORATION&quot;</td><td>&quot;594918104&quot;</td><td>&quot;US5949181045&quot;</td><td>null</td></tr><tr><td>&hellip;</td><td>&hellip;</td><td>&hellip;</td><td>&hellip;</td></tr><tr><td>&quot;VERALTO CORPORATION&quot;</td><td>&quot;92338C103&quot;</td><td>null</td><td>null</td></tr><tr><td>&quot;ANALOG DEVICES, INC.&quot;</td><td>&quot;032654105&quot;</td><td>null</td><td>null</td></tr><tr><td>&quot;EDITAS MEDICINE, INC.&quot;</td><td>&quot;28106W103&quot;</td><td>null</td><td>null</td></tr><tr><td>&quot;LOCKHEED MARTIN CORPORATION&quot;</td><td>&quot;539830109&quot;</td><td>null</td><td>null</td></tr><tr><td>&quot;INTUIT INC.&quot;</td><td>&quot;461202103&quot;</td><td>null</td><td>null</td></tr></tbody></table></div>"
      ],
      "text/plain": [
       "shape: (778_944, 4)\n",
       "┌─────────────────────────────────┬───────────┬──────────────┬──────┐\n",
       "│ issuer_name                     ┆ cusip     ┆ isin         ┆ figi │\n",
       "│ ---                             ┆ ---       ┆ ---          ┆ ---  │\n",
       "│ str                             ┆ str       ┆ str          ┆ str  │\n",
       "╞═════════════════════════════════╪═══════════╪══════════════╪══════╡\n",
       "│ CANADIAN PACIFIC KANSAS CITY L… ┆ 13646K108 ┆ CA13646K1084 ┆ null │\n",
       "│ AAON, INC.                      ┆ 000360206 ┆ US0003602069 ┆ null │\n",
       "│ AMAZON.COM, INC.                ┆ 023135106 ┆ US0231351067 ┆ null │\n",
       "│ AMPHENOL CORPORATION            ┆ 032095101 ┆ US0320951017 ┆ null │\n",
       "│ MICROSOFT CORPORATION           ┆ 594918104 ┆ US5949181045 ┆ null │\n",
       "│ …                               ┆ …         ┆ …            ┆ …    │\n",
       "│ VERALTO CORPORATION             ┆ 92338C103 ┆ null         ┆ null │\n",
       "│ ANALOG DEVICES, INC.            ┆ 032654105 ┆ null         ┆ null │\n",
       "│ EDITAS MEDICINE, INC.           ┆ 28106W103 ┆ null         ┆ null │\n",
       "│ LOCKHEED MARTIN CORPORATION     ┆ 539830109 ┆ null         ┆ null │\n",
       "│ INTUIT INC.                     ┆ 461202103 ┆ null         ┆ null │\n",
       "└─────────────────────────────────┴───────────┴──────────────┴──────┘"
      ]
     },
     "execution_count": 14,
     "metadata": {},
     "output_type": "execute_result"
    }
   ],
   "source": [
    "votes.select(COMPANY_COLS)"
   ]
  },
  {
   "cell_type": "code",
   "execution_count": 6,
   "metadata": {},
   "outputs": [
    {
     "data": {
      "text/html": [
       "<div><style>\n",
       ".dataframe > thead > tr,\n",
       ".dataframe > tbody > tr {\n",
       "  text-align: right;\n",
       "  white-space: pre-wrap;\n",
       "}\n",
       "</style>\n",
       "<small>shape: (1, 4)</small><table border=\"1\" class=\"dataframe\"><thead><tr><th>issuer_name</th><th>cusip</th><th>isin</th><th>figi</th></tr><tr><td>u32</td><td>u32</td><td>u32</td><td>u32</td></tr></thead><tbody><tr><td>0</td><td>11703</td><td>8315</td><td>514694</td></tr></tbody></table></div>"
      ],
      "text/plain": [
       "shape: (1, 4)\n",
       "┌─────────────┬───────┬──────┬────────┐\n",
       "│ issuer_name ┆ cusip ┆ isin ┆ figi   │\n",
       "│ ---         ┆ ---   ┆ ---  ┆ ---    │\n",
       "│ u32         ┆ u32   ┆ u32  ┆ u32    │\n",
       "╞═════════════╪═══════╪══════╪════════╡\n",
       "│ 0           ┆ 11703 ┆ 8315 ┆ 514694 │\n",
       "└─────────────┴───────┴──────┴────────┘"
      ]
     },
     "execution_count": 6,
     "metadata": {},
     "output_type": "execute_result"
    }
   ],
   "source": [
    "normed5.select(pl.all().is_null().sum())"
   ]
  },
  {
   "cell_type": "code",
   "execution_count": null,
   "metadata": {},
   "outputs": [],
   "source": [
    "normed4 = normalize_subset4(\n",
    "    votes,\n",
    "    connected_subgraphs_postprocessor=partition_companies_graph_where_necessary,\n",
    "    cols_to_normalize=[\"issuer_name\", \"cusip\", \"isin\", \"figi\"],\n",
    ")"
   ]
  },
  {
   "cell_type": "code",
   "execution_count": null,
   "metadata": {},
   "outputs": [],
   "source": [
    "pp3 = partial(\n",
    "    partition_companies_graph_where_necessary,\n",
    "    # verbose=True,\n",
    ")\n",
    "\n",
    "\n",
    "normed3 = normalize_subset3(\n",
    "    votes,\n",
    "    connected_subgraphs_postprocessor=pp3,\n",
    "    cols_to_normalize=[\"issuer_name\", \"cusip\", \"isin\", \"figi\"],\n",
    ")"
   ]
  },
  {
   "cell_type": "code",
   "execution_count": null,
   "metadata": {},
   "outputs": [],
   "source": [
    "normed3"
   ]
  },
  {
   "cell_type": "code",
   "execution_count": null,
   "metadata": {},
   "outputs": [],
   "source": [
    "normed3.select(COMPANY_COLS.is_null()).sum().sum_horizontal()"
   ]
  },
  {
   "cell_type": "code",
   "execution_count": null,
   "metadata": {},
   "outputs": [],
   "source": [
    "votes.select(COMPANY_COLS.is_null().sum()).sum_horizontal().item()"
   ]
  },
  {
   "cell_type": "code",
   "execution_count": null,
   "metadata": {},
   "outputs": [],
   "source": []
  },
  {
   "cell_type": "code",
   "execution_count": null,
   "metadata": {},
   "outputs": [],
   "source": []
  },
  {
   "cell_type": "markdown",
   "metadata": {},
   "source": [
    "## Check that removed nodes are repopulated"
   ]
  },
  {
   "cell_type": "code",
   "execution_count": 5,
   "metadata": {},
   "outputs": [],
   "source": [
    "G = tuple(\n",
    "    unconsolidated_df_to_subgraphs(\n",
    "        votes.select(COMPANY_COLS), connected_subgraphs_postprocessor=None\n",
    "    )\n",
    ")"
   ]
  },
  {
   "cell_type": "code",
   "execution_count": 6,
   "metadata": {},
   "outputs": [],
   "source": [
    "sb = extract_specific_name_subgraph(G, \"STARBUCKS\")"
   ]
  },
  {
   "cell_type": "code",
   "execution_count": null,
   "metadata": {},
   "outputs": [],
   "source": [
    "len(sb.nodes)"
   ]
  },
  {
   "cell_type": "code",
   "execution_count": null,
   "metadata": {},
   "outputs": [],
   "source": [
    "partitioned = partition_companies_graph_where_necessary(sb, verbose=True)"
   ]
  },
  {
   "cell_type": "code",
   "execution_count": null,
   "metadata": {},
   "outputs": [],
   "source": [
    "print(len(partitioned.nodes))\n",
    "draw_graph(partitioned, 5)"
   ]
  },
  {
   "cell_type": "code",
   "execution_count": null,
   "metadata": {},
   "outputs": [],
   "source": []
  },
  {
   "cell_type": "code",
   "execution_count": null,
   "metadata": {},
   "outputs": [],
   "source": []
  },
  {
   "cell_type": "code",
   "execution_count": null,
   "metadata": {},
   "outputs": [],
   "source": []
  },
  {
   "cell_type": "code",
   "execution_count": null,
   "metadata": {},
   "outputs": [],
   "source": []
  },
  {
   "cell_type": "code",
   "execution_count": 5,
   "metadata": {},
   "outputs": [],
   "source": []
  },
  {
   "cell_type": "code",
   "execution_count": 10,
   "metadata": {},
   "outputs": [],
   "source": [
    "G = tuple(\n",
    "    unconsolidated_df_to_subgraphs(\n",
    "        votes.select(COMPANY_COLS), connected_subgraphs_postprocessor=None\n",
    "    )\n",
    ")"
   ]
  },
  {
   "cell_type": "code",
   "execution_count": null,
   "metadata": {},
   "outputs": [],
   "source": [
    "list(G[0].nodes.data())[0]"
   ]
  },
  {
   "cell_type": "code",
   "execution_count": null,
   "metadata": {},
   "outputs": [],
   "source": [
    "partition_via_louvain(G[4], verbose=True)\n",
    "# draw_graph(G[4], 5)"
   ]
  },
  {
   "cell_type": "code",
   "execution_count": null,
   "metadata": {},
   "outputs": [],
   "source": [
    "from record_consolidation.df_consolidations import normalize_subset\n",
    "\n",
    "pp = partial(\n",
    "    partition_companies_graph_where_necessary,\n",
    "    # verbose=True,\n",
    ")\n",
    "\n",
    "atomic = extract_normalized_atomic(\n",
    "    votes.select(COMPANY_COLS), connected_subgraphs_postprocessor=pp\n",
    ")\n",
    "normed = normalize_subset(\n",
    "    votes,\n",
    "    connected_subgraphs_postprocessor=pp,\n",
    "    cols_to_normalize=[\"issuer_name\", \"cusip\", \"isin\", \"figi\"],\n",
    ")"
   ]
  },
  {
   "cell_type": "code",
   "execution_count": null,
   "metadata": {},
   "outputs": [],
   "source": [
    "votes.select(pl.all().is_null().sum())"
   ]
  },
  {
   "cell_type": "code",
   "execution_count": null,
   "metadata": {},
   "outputs": [],
   "source": [
    "normed.select(\n",
    "    pl.all().is_null().sum()\n",
    ")  # .filter(pl.col(\"issuer_name\") == pl.lit(\"AAON, INC.\"))"
   ]
  },
  {
   "cell_type": "code",
   "execution_count": null,
   "metadata": {},
   "outputs": [],
   "source": [
    "atomic.select(pl.all().is_null().sum())"
   ]
  },
  {
   "cell_type": "markdown",
   "metadata": {},
   "source": [
    "# ISSUE\n",
    "\n",
    "## Problem\n",
    "Nulls are being propagated in the \n",
    "\n",
    "## Diagnosis\n",
    "(Best guess): When nodes are cut wholesale out of the graph - rather than even just having all edges cut - they don't end up in the canonical mapping, and so become null..."
   ]
  },
  {
   "cell_type": "code",
   "execution_count": null,
   "metadata": {},
   "outputs": [],
   "source": [
    "removed_issuers = (\n",
    "    votes.filter(normed[\"issuer_name\"].is_null())\n",
    "    .filter(pl.col(\"issuer_name\").is_not_null())[\"issuer_name\"]\n",
    "    .unique()\n",
    "    .to_list()\n",
    ")\n",
    "removed_issuers"
   ]
  },
  {
   "cell_type": "code",
   "execution_count": null,
   "metadata": {},
   "outputs": [],
   "source": [
    "emerson = extract_specific_name_subgraph(G, \"emerson electric co.\")\n",
    "draw_graph(emerson, 5)"
   ]
  },
  {
   "cell_type": "code",
   "execution_count": null,
   "metadata": {},
   "outputs": [],
   "source": [
    "emerson_partitioned = partition_companies_graph_where_necessary(\n",
    "    emerson, verbose=True, verbose_within_partitioning_algs=True\n",
    ")"
   ]
  },
  {
   "cell_type": "code",
   "execution_count": null,
   "metadata": {},
   "outputs": [],
   "source": [
    "for issuer in removed_issuers:\n",
    "    try:\n",
    "        draw_graph(extract_specific_name_subgraph(G, issuer), size=5)\n",
    "    except:\n",
    "        print(issuer)"
   ]
  },
  {
   "cell_type": "code",
   "execution_count": null,
   "metadata": {},
   "outputs": [],
   "source": [
    "votes.select(COMPANY_COLS).filter(\n",
    "    pl.col(\"issuer_name\") == pl.lit(\"Northrup Grumman Corporation \")\n",
    ")"
   ]
  },
  {
   "cell_type": "code",
   "execution_count": null,
   "metadata": {},
   "outputs": [],
   "source": [
    "removed_issuers"
   ]
  },
  {
   "cell_type": "code",
   "execution_count": null,
   "metadata": {},
   "outputs": [],
   "source": [
    "atomized_subset = extract_normalized_atomic(\n",
    "    votes.select(COMPANY_COLS), connected_subgraphs_postprocessor=pp\n",
    ")"
   ]
  },
  {
   "cell_type": "code",
   "execution_count": null,
   "metadata": {},
   "outputs": [],
   "source": [
    "s = \"walmart\"\n",
    "atomized_subset.filter(pl.col(\"issuer_name\").str.contains(f\"(?i){s}\"))"
   ]
  },
  {
   "cell_type": "code",
   "execution_count": null,
   "metadata": {},
   "outputs": [],
   "source": [
    "atomized_subset.filter(pl.col(\"issuer_name\").is_in(removed_issuers))"
   ]
  },
  {
   "cell_type": "code",
   "execution_count": 26,
   "metadata": {},
   "outputs": [],
   "source": [
    "normed_comps = normed.select(COMPANY_COLS)"
   ]
  },
  {
   "cell_type": "code",
   "execution_count": null,
   "metadata": {},
   "outputs": [],
   "source": [
    "normed_comps.filter(pl.col(\"issuer_name\").is_null())"
   ]
  },
  {
   "cell_type": "code",
   "execution_count": null,
   "metadata": {},
   "outputs": [],
   "source": [
    "normed3"
   ]
  },
  {
   "cell_type": "code",
   "execution_count": null,
   "metadata": {},
   "outputs": [],
   "source": [
    "votes"
   ]
  },
  {
   "cell_type": "code",
   "execution_count": null,
   "metadata": {},
   "outputs": [],
   "source": [
    "null_issuers = normed_comps[\"issuer_name\"].is_null()\n",
    "\n",
    "\n",
    "display(votes.select(COMPANY_COLS).filter(null_issuers).head())  # .sort(\n",
    "#     pl.all()\n",
    "# ).unique(maintain_order=True).to_pandas()\n",
    "display(normed_comps.filter(null_issuers).head())"
   ]
  },
  {
   "cell_type": "code",
   "execution_count": null,
   "metadata": {},
   "outputs": [],
   "source": [
    "atomized_subset.filter(cusip=\"291011104\")"
   ]
  },
  {
   "cell_type": "code",
   "execution_count": null,
   "metadata": {},
   "outputs": [],
   "source": [
    "normed.select(pl.all().is_null().sum())"
   ]
  }
 ],
 "metadata": {
  "kernelspec": {
   "display_name": ".venv",
   "language": "python",
   "name": "python3"
  },
  "language_info": {
   "codemirror_mode": {
    "name": "ipython",
    "version": 3
   },
   "file_extension": ".py",
   "mimetype": "text/x-python",
   "name": "python",
   "nbconvert_exporter": "python",
   "pygments_lexer": "ipython3",
   "version": "3.12.3"
  }
 },
 "nbformat": 4,
 "nbformat_minor": 2
}
