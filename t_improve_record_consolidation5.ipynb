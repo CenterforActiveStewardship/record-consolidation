{
 "cells": [
  {
   "cell_type": "code",
   "execution_count": 24,
   "metadata": {},
   "outputs": [],
   "source": [
    "import polars as pl\n",
    "from record_consolidation.graphs import (\n",
    "    unconsolidated_df_to_subgraphs,\n",
    ")\n",
    "from record_consolidation.subgraph_post_processing.specific_algs.deprecated__split_high_betweenness import (\n",
    "    draw_graph,\n",
    ")\n",
    "import networkx as nx\n",
    "\n",
    "from record_consolidation.subgraph_post_processing.specific_algs.partition_companies import (\n",
    "    partition_companies_graph_where_necessary,\n",
    ")\n",
    "\n",
    "from record_consolidation.subgraph_post_processing.specific_algs.partitioning_algs import (\n",
    "    partition_via_louvain,\n",
    ")\n",
    "\n",
    "from functools import partial\n",
    "from record_consolidation.graphs import extract_normalized_atomic\n",
    "\n",
    "from record_consolidation.df_consolidations import (\n",
    "    normalize_subset,\n",
    ")"
   ]
  },
  {
   "cell_type": "code",
   "execution_count": 25,
   "metadata": {},
   "outputs": [],
   "source": [
    "from typing import Iterable\n",
    "from warnings import warn\n",
    "\n",
    "\n",
    "def extract_specific_name_subgraph(\n",
    "    connected_subgs: Iterable[nx.Graph], name: str\n",
    ") -> nx.Graph:\n",
    "    collected: list[nx.Graph] = []\n",
    "    for subg in connected_subgs:\n",
    "        for n in subg.nodes.data():\n",
    "            if name.lower() in (n[0]).lower():\n",
    "                collected.append(subg)\n",
    "    collected = set(collected)\n",
    "    if len(collected) == 0:\n",
    "        raise ValueError(f\"Could not find {name=} in connected_subgs.\")\n",
    "    if len(collected) > 1:\n",
    "        alert_str = f\"{len(collected)} subgraphs have {name=}.\\n{[len(subg.nodes) for subg in collected]=}\"\n",
    "        warn(alert_str)\n",
    "        return max(collected, key=lambda g: len(g.nodes))\n",
    "\n",
    "        # raise ValueError(alert_str)\n",
    "    return tuple(collected)[0]"
   ]
  },
  {
   "cell_type": "code",
   "execution_count": 26,
   "metadata": {},
   "outputs": [],
   "source": [
    "# votes: pl.DataFrame = access_db_table(\"raw_output\", \"votes\")\n",
    "votes: pl.DataFrame = pl.read_parquet(\"raw_votes.parquet\")\n",
    "COMPANY_COLS = pl.col([\"issuer_name\", \"cusip\", \"isin\", \"figi\"])\n",
    "COMPANY_COLS_L = [\"issuer_name\", \"cusip\", \"isin\", \"figi\"]\n",
    "MEETING_COLS = pl.col([\"issuer_name\", \"meeting_date\", \"cusip\", \"isin\", \"figi\"])"
   ]
  },
  {
   "cell_type": "code",
   "execution_count": 27,
   "metadata": {},
   "outputs": [],
   "source": [
    "# from record_consolidation.utils.polars_df import remove_string_nulls_and_uppercase\n",
    "\n",
    "\n",
    "# raw_subgraphs = tuple(\n",
    "#     unconsolidated_df_to_subgraphs(\n",
    "#         votes.select(COMPANY_COLS),\n",
    "#         connected_subgraphs_postprocessor=None,\n",
    "#         pre_processing_fnc=remove_string_nulls_and_uppercase,\n",
    "#     )\n",
    "# )\n",
    "# mattel_subg = extract_specific_name_subgraph(raw_subgraphs, \"mattel\")\n",
    "# draw_graph(mattel_subg, 7)"
   ]
  },
  {
   "cell_type": "code",
   "execution_count": null,
   "metadata": {},
   "outputs": [],
   "source": []
  },
  {
   "cell_type": "code",
   "execution_count": 28,
   "metadata": {},
   "outputs": [],
   "source": [
    "# from record_consolidation.graphs import extract_consolidation_mapping_from_subgraphs\n",
    "# from record_consolidation.utils.polars_df import remove_string_nulls_and_uppercase\n",
    "\n",
    "\n",
    "# canonical_mapping = extract_consolidation_mapping_from_subgraphs(\n",
    "#     unconsolidated_df_to_subgraphs(\n",
    "#         votes.select(COMPANY_COLS),\n",
    "#         connected_subgraphs_postprocessor=partition_companies_graph_where_necessary,\n",
    "#         pre_processing_fnc=remove_string_nulls_and_uppercase,\n",
    "#     )\n",
    "# )"
   ]
  },
  {
   "cell_type": "code",
   "execution_count": null,
   "metadata": {},
   "outputs": [],
   "source": []
  },
  {
   "cell_type": "code",
   "execution_count": 29,
   "metadata": {},
   "outputs": [
    {
     "ename": "KeyboardInterrupt",
     "evalue": "",
     "output_type": "error",
     "traceback": [
      "\u001b[0;31m---------------------------------------------------------------------------\u001b[0m",
      "\u001b[0;31mKeyboardInterrupt\u001b[0m                         Traceback (most recent call last)",
      "Cell \u001b[0;32mIn[29], line 1\u001b[0m\n\u001b[0;32m----> 1\u001b[0m normed5_intra \u001b[38;5;241m=\u001b[39m \u001b[43mnormalize_subset\u001b[49m\u001b[43m(\u001b[49m\n\u001b[1;32m      2\u001b[0m \u001b[43m    \u001b[49m\u001b[43mvotes\u001b[49m\u001b[43m,\u001b[49m\n\u001b[1;32m      3\u001b[0m \u001b[43m    \u001b[49m\u001b[43mconnected_subgraphs_postprocessor\u001b[49m\u001b[38;5;241;43m=\u001b[39;49m\u001b[43mpartition_companies_graph_where_necessary\u001b[49m\u001b[43m,\u001b[49m\n\u001b[1;32m      4\u001b[0m \u001b[43m    \u001b[49m\u001b[43mcols_to_normalize\u001b[49m\u001b[38;5;241;43m=\u001b[39;49m\u001b[43m[\u001b[49m\u001b[38;5;124;43m\"\u001b[39;49m\u001b[38;5;124;43missuer_name\u001b[39;49m\u001b[38;5;124;43m\"\u001b[39;49m\u001b[43m,\u001b[49m\u001b[43m \u001b[49m\u001b[38;5;124;43m\"\u001b[39;49m\u001b[38;5;124;43mcusip\u001b[39;49m\u001b[38;5;124;43m\"\u001b[39;49m\u001b[43m,\u001b[49m\u001b[43m \u001b[49m\u001b[38;5;124;43m\"\u001b[39;49m\u001b[38;5;124;43misin\u001b[39;49m\u001b[38;5;124;43m\"\u001b[39;49m\u001b[43m,\u001b[49m\u001b[43m \u001b[49m\u001b[38;5;124;43m\"\u001b[39;49m\u001b[38;5;124;43mfigi\u001b[39;49m\u001b[38;5;124;43m\"\u001b[39;49m\u001b[43m]\u001b[49m\u001b[43m,\u001b[49m\n\u001b[1;32m      5\u001b[0m \u001b[43m)\u001b[49m\n\u001b[1;32m      6\u001b[0m normed5_NO_intra \u001b[38;5;241m=\u001b[39m normalize_subset(\n\u001b[1;32m      7\u001b[0m     votes,\n\u001b[1;32m      8\u001b[0m     connected_subgraphs_postprocessor\u001b[38;5;241m=\u001b[39mpartition_companies_graph_where_necessary,\n\u001b[1;32m      9\u001b[0m     cols_to_normalize\u001b[38;5;241m=\u001b[39m[\u001b[38;5;124m\"\u001b[39m\u001b[38;5;124missuer_name\u001b[39m\u001b[38;5;124m\"\u001b[39m, \u001b[38;5;124m\"\u001b[39m\u001b[38;5;124mcusip\u001b[39m\u001b[38;5;124m\"\u001b[39m, \u001b[38;5;124m\"\u001b[39m\u001b[38;5;124misin\u001b[39m\u001b[38;5;124m\"\u001b[39m, \u001b[38;5;124m\"\u001b[39m\u001b[38;5;124mfigi\u001b[39m\u001b[38;5;124m\"\u001b[39m],\n\u001b[1;32m     10\u001b[0m     consolidate_twice\u001b[38;5;241m=\u001b[39m\u001b[38;5;28;01mFalse\u001b[39;00m,\n\u001b[1;32m     11\u001b[0m )\n",
      "File \u001b[0;32m~/repos/record-consolidation/src/record_consolidation/df_consolidations.py:229\u001b[0m, in \u001b[0;36mnormalize_subset\u001b[0;34m(df, connected_subgraphs_postprocessor, pre_processing_fnc_before_clustering, cols_to_normalize, atomized_subset, non_null_fields, consolidate_twice)\u001b[0m\n\u001b[1;32m    227\u001b[0m \u001b[38;5;28;01mif\u001b[39;00m pre_processing_fnc_before_clustering:\n\u001b[1;32m    228\u001b[0m     subset \u001b[38;5;241m=\u001b[39m subset\u001b[38;5;241m.\u001b[39mpipe(pre_processing_fnc_before_clustering)\n\u001b[0;32m--> 229\u001b[0m subset \u001b[38;5;241m=\u001b[39m \u001b[43m_consolidate_intra_field\u001b[49m\u001b[43m(\u001b[49m\n\u001b[1;32m    230\u001b[0m \u001b[43m    \u001b[49m\u001b[43msubset\u001b[49m\u001b[43m,\u001b[49m\n\u001b[1;32m    231\u001b[0m \u001b[43m    \u001b[49m\u001b[43mconnected_subgraphs_postprocessor\u001b[49m\u001b[38;5;241;43m=\u001b[39;49m\u001b[43mconnected_subgraphs_postprocessor\u001b[49m\u001b[43m,\u001b[49m\n\u001b[1;32m    232\u001b[0m \u001b[43m    \u001b[49m\u001b[43mpre_processing_fnc\u001b[49m\u001b[38;5;241;43m=\u001b[39;49m\u001b[43mpre_processing_fnc_before_clustering\u001b[49m\u001b[43m,\u001b[49m\n\u001b[1;32m    233\u001b[0m \u001b[43m\u001b[49m\u001b[43m)\u001b[49m\n\u001b[1;32m    235\u001b[0m \u001b[38;5;66;03m# TODO: sloppy typing\u001b[39;00m\n\u001b[1;32m    236\u001b[0m \u001b[38;5;28;01mif\u001b[39;00m atomized_subset \u001b[38;5;129;01mis\u001b[39;00m \u001b[38;5;28;01mNone\u001b[39;00m:\n",
      "File \u001b[0;32m~/repos/record-consolidation/src/record_consolidation/df_consolidations.py:39\u001b[0m, in \u001b[0;36m_consolidate_intra_field\u001b[0;34m(df, connected_subgraphs_postprocessor, pre_processing_fnc)\u001b[0m\n\u001b[1;32m     16\u001b[0m \u001b[38;5;28;01mdef\u001b[39;00m \u001b[38;5;21m_consolidate_intra_field\u001b[39m(\n\u001b[1;32m     17\u001b[0m     df: pl\u001b[38;5;241m.\u001b[39mDataFrame,\n\u001b[1;32m     18\u001b[0m     connected_subgraphs_postprocessor: SubGraphPostProcessorFnc \u001b[38;5;241m|\u001b[39m \u001b[38;5;28;01mNone\u001b[39;00m,\n\u001b[1;32m     19\u001b[0m     pre_processing_fnc: Callable[[pl\u001b[38;5;241m.\u001b[39mDataFrame], pl\u001b[38;5;241m.\u001b[39mDataFrame] \u001b[38;5;241m|\u001b[39m \u001b[38;5;28;01mNone\u001b[39;00m,\n\u001b[1;32m     20\u001b[0m ) \u001b[38;5;241m-\u001b[39m\u001b[38;5;241m>\u001b[39m pl\u001b[38;5;241m.\u001b[39mDataFrame:\n\u001b[1;32m     21\u001b[0m \u001b[38;5;250m    \u001b[39m\u001b[38;5;124;03m\"\"\"\u001b[39;00m\n\u001b[1;32m     22\u001b[0m \u001b[38;5;124;03m    Consolidates fields within a DataFrame by mapping each field's values to their canonical values.\u001b[39;00m\n\u001b[1;32m     23\u001b[0m \n\u001b[0;32m   (...)\u001b[0m\n\u001b[1;32m     35\u001b[0m \u001b[38;5;124;03m        pl.DataFrame: A new DataFrame with values consolidated within each field.\u001b[39;00m\n\u001b[1;32m     36\u001b[0m \u001b[38;5;124;03m    \"\"\"\u001b[39;00m\n\u001b[1;32m     37\u001b[0m     consolidation_mapping: \u001b[38;5;28mdict\u001b[39m[\u001b[38;5;28mstr\u001b[39m, \u001b[38;5;28mdict\u001b[39m[\u001b[38;5;28mstr\u001b[39m, Any]] \u001b[38;5;241m=\u001b[39m (\n\u001b[1;32m     38\u001b[0m         extract_consolidation_mapping_from_subgraphs(\n\u001b[0;32m---> 39\u001b[0m             \u001b[43munconsolidated_df_to_subgraphs\u001b[49m\u001b[43m(\u001b[49m\n\u001b[1;32m     40\u001b[0m \u001b[43m                \u001b[49m\u001b[43mdf\u001b[49m\u001b[43m,\u001b[49m\n\u001b[1;32m     41\u001b[0m \u001b[43m                \u001b[49m\u001b[43mconnected_subgraphs_postprocessor\u001b[49m\u001b[38;5;241;43m=\u001b[39;49m\u001b[43mconnected_subgraphs_postprocessor\u001b[49m\u001b[43m,\u001b[49m\n\u001b[1;32m     42\u001b[0m \u001b[43m                \u001b[49m\u001b[43mpre_processing_fnc\u001b[49m\u001b[38;5;241;43m=\u001b[39;49m\u001b[43mpre_processing_fnc\u001b[49m\u001b[43m,\u001b[49m\n\u001b[1;32m     43\u001b[0m \u001b[43m            \u001b[49m\u001b[43m)\u001b[49m\n\u001b[1;32m     44\u001b[0m         )\n\u001b[1;32m     45\u001b[0m     )\n\u001b[1;32m     46\u001b[0m     \u001b[38;5;28;01mreturn\u001b[39;00m df\u001b[38;5;241m.\u001b[39mwith_columns(\n\u001b[1;32m     47\u001b[0m         pl\u001b[38;5;241m.\u001b[39mcol(field)\u001b[38;5;241m.\u001b[39mreplace_strict(mapping, default\u001b[38;5;241m=\u001b[39mpl\u001b[38;5;241m.\u001b[39mcol(field))\n\u001b[1;32m     48\u001b[0m         \u001b[38;5;28;01mfor\u001b[39;00m field, mapping \u001b[38;5;129;01min\u001b[39;00m consolidation_mapping\u001b[38;5;241m.\u001b[39mitems()\n\u001b[1;32m     49\u001b[0m     )\n",
      "File \u001b[0;32m~/repos/record-consolidation/src/record_consolidation/graphs.py:81\u001b[0m, in \u001b[0;36munconsolidated_df_to_subgraphs\u001b[0;34m(df, connected_subgraphs_postprocessor, pre_processing_fnc, weight_edges, return_as_connected_subgraphs)\u001b[0m\n\u001b[1;32m     78\u001b[0m \u001b[38;5;28;01mif\u001b[39;00m pre_processing_fnc \u001b[38;5;129;01mis\u001b[39;00m \u001b[38;5;129;01mnot\u001b[39;00m \u001b[38;5;28;01mNone\u001b[39;00m:\n\u001b[1;32m     79\u001b[0m     df \u001b[38;5;241m=\u001b[39m df\u001b[38;5;241m.\u001b[39mpipe(pre_processing_fnc)\n\u001b[0;32m---> 81\u001b[0m G \u001b[38;5;241m=\u001b[39m \u001b[43m_convert_to_graph\u001b[49m\u001b[43m(\u001b[49m\u001b[43mdf\u001b[49m\u001b[43m,\u001b[49m\u001b[43m \u001b[49m\u001b[43mweight_edges\u001b[49m\u001b[38;5;241;43m=\u001b[39;49m\u001b[43mweight_edges\u001b[49m\u001b[43m)\u001b[49m\n\u001b[1;32m     83\u001b[0m \u001b[38;5;28;01mif\u001b[39;00m \u001b[38;5;129;01mnot\u001b[39;00m return_as_connected_subgraphs:\n\u001b[1;32m     84\u001b[0m     \u001b[38;5;28;01mraise\u001b[39;00m \u001b[38;5;167;01mNotImplementedError\u001b[39;00m()\n",
      "File \u001b[0;32m~/repos/record-consolidation/src/record_consolidation/graphs.py:28\u001b[0m, in \u001b[0;36m_convert_to_graph\u001b[0;34m(df, weight_edges)\u001b[0m\n\u001b[1;32m     26\u001b[0m             G\u001b[38;5;241m.\u001b[39madd_node(value, field\u001b[38;5;241m=\u001b[39mfield, count\u001b[38;5;241m=\u001b[39m\u001b[38;5;241m1\u001b[39m)\n\u001b[1;32m     27\u001b[0m         \u001b[38;5;28;01melse\u001b[39;00m:\n\u001b[0;32m---> 28\u001b[0m             \u001b[43mG\u001b[49m\u001b[38;5;241;43m.\u001b[39;49m\u001b[43mnodes\u001b[49m\u001b[43m[\u001b[49m\u001b[43mvalue\u001b[49m\u001b[43m]\u001b[49m[\u001b[38;5;124m\"\u001b[39m\u001b[38;5;124mcount\u001b[39m\u001b[38;5;124m\"\u001b[39m] \u001b[38;5;241m+\u001b[39m\u001b[38;5;241m=\u001b[39m \u001b[38;5;241m1\u001b[39m\n\u001b[1;32m     29\u001b[0m         seen_values\u001b[38;5;241m.\u001b[39madd(value)  \u001b[38;5;66;03m# Mark this value as seen in this row\u001b[39;00m\n\u001b[1;32m     31\u001b[0m \u001b[38;5;66;03m# Add edges between combinations of values\u001b[39;00m\n",
      "File \u001b[0;32m~/repos/record-consolidation/.venv/lib/python3.12/site-packages/networkx/classes/reportviews.py:188\u001b[0m, in \u001b[0;36mNodeView.__getitem__\u001b[0;34m(self, n)\u001b[0m\n\u001b[1;32m    185\u001b[0m \u001b[38;5;28;01mdef\u001b[39;00m \u001b[38;5;21m__iter__\u001b[39m(\u001b[38;5;28mself\u001b[39m):\n\u001b[1;32m    186\u001b[0m     \u001b[38;5;28;01mreturn\u001b[39;00m \u001b[38;5;28miter\u001b[39m(\u001b[38;5;28mself\u001b[39m\u001b[38;5;241m.\u001b[39m_nodes)\n\u001b[0;32m--> 188\u001b[0m \u001b[38;5;28;01mdef\u001b[39;00m \u001b[38;5;21m__getitem__\u001b[39m(\u001b[38;5;28mself\u001b[39m, n):\n\u001b[1;32m    189\u001b[0m     \u001b[38;5;28;01mif\u001b[39;00m \u001b[38;5;28misinstance\u001b[39m(n, \u001b[38;5;28mslice\u001b[39m):\n\u001b[1;32m    190\u001b[0m         \u001b[38;5;28;01mraise\u001b[39;00m nx\u001b[38;5;241m.\u001b[39mNetworkXError(\n\u001b[1;32m    191\u001b[0m             \u001b[38;5;124mf\u001b[39m\u001b[38;5;124m\"\u001b[39m\u001b[38;5;132;01m{\u001b[39;00m\u001b[38;5;28mtype\u001b[39m(\u001b[38;5;28mself\u001b[39m)\u001b[38;5;241m.\u001b[39m\u001b[38;5;18m__name__\u001b[39m\u001b[38;5;132;01m}\u001b[39;00m\u001b[38;5;124m does not support slicing, \u001b[39m\u001b[38;5;124m\"\u001b[39m\n\u001b[1;32m    192\u001b[0m             \u001b[38;5;124mf\u001b[39m\u001b[38;5;124m\"\u001b[39m\u001b[38;5;124mtry list(G.nodes)[\u001b[39m\u001b[38;5;132;01m{\u001b[39;00mn\u001b[38;5;241m.\u001b[39mstart\u001b[38;5;132;01m}\u001b[39;00m\u001b[38;5;124m:\u001b[39m\u001b[38;5;132;01m{\u001b[39;00mn\u001b[38;5;241m.\u001b[39mstop\u001b[38;5;132;01m}\u001b[39;00m\u001b[38;5;124m:\u001b[39m\u001b[38;5;132;01m{\u001b[39;00mn\u001b[38;5;241m.\u001b[39mstep\u001b[38;5;132;01m}\u001b[39;00m\u001b[38;5;124m]\u001b[39m\u001b[38;5;124m\"\u001b[39m\n\u001b[1;32m    193\u001b[0m         )\n",
      "\u001b[0;31mKeyboardInterrupt\u001b[0m: "
     ]
    }
   ],
   "source": [
    "normed5_intra = normalize_subset(\n",
    "    votes,\n",
    "    connected_subgraphs_postprocessor=partition_companies_graph_where_necessary,\n",
    "    cols_to_normalize=[\"issuer_name\", \"cusip\", \"isin\", \"figi\"],\n",
    ")\n",
    "normed5_NO_intra = normalize_subset(\n",
    "    votes,\n",
    "    connected_subgraphs_postprocessor=partition_companies_graph_where_necessary,\n",
    "    cols_to_normalize=[\"issuer_name\", \"cusip\", \"isin\", \"figi\"],\n",
    "    consolidate_twice=False,\n",
    ")"
   ]
  },
  {
   "cell_type": "code",
   "execution_count": 7,
   "metadata": {},
   "outputs": [
    {
     "data": {
      "text/html": [
       "<div><style>\n",
       ".dataframe > thead > tr,\n",
       ".dataframe > tbody > tr {\n",
       "  text-align: right;\n",
       "  white-space: pre-wrap;\n",
       "}\n",
       "</style>\n",
       "<small>shape: (6, 2)</small><table border=\"1\" class=\"dataframe\"><thead><tr><th>meeting_date</th><th>count</th></tr><tr><td>str</td><td>u32</td></tr></thead><tbody><tr><td>&quot;2024-05-21&quot;</td><td>2641</td></tr><tr><td>&quot;2024-05-22&quot;</td><td>9</td></tr><tr><td>&quot;2024-05-20&quot;</td><td>4</td></tr><tr><td>&quot;0024-05-20&quot;</td><td>1</td></tr><tr><td>&quot;2024-05-24&quot;</td><td>1</td></tr><tr><td>&quot;2134-07-25&quot;</td><td>1</td></tr></tbody></table></div>"
      ],
      "text/plain": [
       "shape: (6, 2)\n",
       "┌──────────────┬───────┐\n",
       "│ meeting_date ┆ count │\n",
       "│ ---          ┆ ---   │\n",
       "│ str          ┆ u32   │\n",
       "╞══════════════╪═══════╡\n",
       "│ 2024-05-21   ┆ 2641  │\n",
       "│ 2024-05-22   ┆ 9     │\n",
       "│ 2024-05-20   ┆ 4     │\n",
       "│ 0024-05-20   ┆ 1     │\n",
       "│ 2024-05-24   ┆ 1     │\n",
       "│ 2134-07-25   ┆ 1     │\n",
       "└──────────────┴───────┘"
      ]
     },
     "execution_count": 7,
     "metadata": {},
     "output_type": "execute_result"
    }
   ],
   "source": [
    "jpmorgans = normed5_intra.filter(\n",
    "    pl.col(\"issuer_name\").str.contains(\"(?i)jpmorgan\")\n",
    ").sort([\"accession\", \"order_recorded\"], descending=False)\n",
    "jpmorgans.write_csv(\"jpmorgans.csv\")\n",
    "jpmorgans[\"meeting_date\"].value_counts(sort=True)"
   ]
  },
  {
   "cell_type": "code",
   "execution_count": 8,
   "metadata": {},
   "outputs": [],
   "source": [
    "import plotly.express as px"
   ]
  },
  {
   "cell_type": "code",
   "execution_count": 9,
   "metadata": {},
   "outputs": [
    {
     "data": {
      "application/vnd.plotly.v1+json": {
       "config": {
        "plotlyServerURL": "https://plotly.com"
       },
       "data": [
        {
         "alignmentgroup": "True",
         "bingroup": "x",
         "hovertemplate": "len=%{x}<br>count=%{y}<extra></extra>",
         "legendgroup": "",
         "marker": {
          "color": "#636efa",
          "pattern": {
           "shape": ""
          }
         },
         "name": "",
         "nbinsx": 160,
         "offsetgroup": "",
         "orientation": "v",
         "showlegend": false,
         "type": "histogram",
         "x": [
          1,
          1,
          1,
          1,
          1,
          1,
          1,
          1,
          1,
          1,
          1,
          1,
          1,
          1,
          1,
          1,
          1,
          1,
          1,
          1,
          1,
          1,
          1,
          1,
          1,
          1,
          1,
          1,
          1,
          1,
          1,
          1,
          1,
          1,
          1,
          1,
          1,
          1,
          1,
          1,
          1,
          1,
          1,
          1,
          1,
          1,
          1,
          1,
          1,
          1,
          1,
          1,
          1,
          1,
          1,
          1,
          1,
          1,
          1,
          1,
          1,
          1,
          1,
          1,
          1,
          1,
          1,
          1,
          1,
          1,
          1,
          1,
          1,
          1,
          1,
          1,
          1,
          1,
          1,
          1,
          1,
          1,
          1,
          1,
          1,
          1,
          1,
          1,
          1,
          1,
          1,
          1,
          1,
          1,
          1,
          1,
          1,
          1,
          1,
          1,
          1,
          1,
          1,
          1,
          1,
          1,
          1,
          1,
          1,
          1,
          1,
          1,
          1,
          1,
          1,
          1,
          1,
          1,
          1,
          1,
          1,
          1,
          1,
          1,
          1,
          1,
          1,
          1,
          1,
          1,
          1,
          1,
          1,
          1,
          1,
          1,
          1,
          1,
          1,
          1,
          1,
          1,
          1,
          1,
          1,
          1,
          1,
          1,
          1,
          1,
          1,
          1,
          1,
          1,
          1,
          1,
          1,
          1,
          1,
          1,
          1,
          1,
          1,
          1,
          1,
          1,
          1,
          1,
          1,
          1,
          1,
          1,
          1,
          1,
          1,
          1,
          1,
          1,
          1,
          1,
          1,
          1,
          1,
          1,
          1,
          1,
          1,
          1,
          1,
          1,
          1,
          1,
          1,
          1,
          1,
          1,
          1,
          1,
          1,
          1,
          1,
          1,
          1,
          1,
          1,
          1,
          1,
          1,
          1,
          1,
          1,
          1,
          1,
          1,
          1,
          1,
          1,
          1,
          1,
          1,
          1,
          1,
          1,
          1,
          1,
          1,
          1,
          1,
          1,
          1,
          1,
          1,
          1,
          1,
          1,
          1,
          1,
          1,
          1,
          1,
          1,
          1,
          1,
          1,
          1,
          1,
          1,
          1,
          1,
          1,
          1,
          1,
          1,
          1,
          1,
          1,
          1,
          1,
          1,
          1,
          1,
          1,
          1,
          1,
          1,
          1,
          1,
          1,
          1,
          1,
          1,
          1,
          1,
          1,
          1,
          1,
          1,
          1,
          1,
          1,
          1,
          1,
          1,
          1,
          1,
          1,
          1,
          1,
          1,
          1,
          1,
          1,
          1,
          1,
          1,
          1,
          1,
          1,
          1,
          1,
          1,
          1,
          1,
          1,
          1,
          1,
          1,
          1,
          1,
          1,
          1,
          1,
          1,
          1,
          1,
          1,
          1,
          1,
          1,
          1,
          1,
          1,
          1,
          1,
          1,
          1,
          1,
          1,
          1,
          1,
          1,
          1,
          1,
          1,
          1,
          1,
          1,
          1,
          1,
          1,
          1,
          1,
          1,
          1,
          1,
          1,
          1,
          1,
          1,
          1,
          1,
          1,
          1,
          1,
          1,
          1,
          1,
          1,
          1,
          1,
          1,
          1,
          1,
          1,
          1,
          1,
          1,
          1,
          1,
          1,
          1,
          1,
          1,
          1,
          1,
          1,
          1,
          1,
          1,
          1,
          2,
          2,
          2,
          2,
          2,
          2,
          2,
          2,
          2,
          2,
          2,
          2,
          2,
          2,
          2,
          2,
          2,
          2,
          2,
          2,
          2,
          2,
          2,
          2,
          2,
          2,
          2,
          2,
          2,
          2,
          2,
          2,
          2,
          2,
          2,
          2,
          2,
          2,
          3,
          3,
          3,
          3,
          3,
          3,
          3,
          3,
          3,
          3,
          3,
          3,
          3,
          3,
          3,
          3,
          4,
          4,
          4,
          4,
          4,
          4,
          5,
          6,
          6,
          10,
          11,
          11,
          15,
          19,
          20,
          20,
          20,
          20,
          20,
          20,
          20,
          20,
          20,
          20,
          20,
          20,
          20,
          20,
          20,
          20,
          20,
          20,
          20,
          20,
          20,
          20,
          20,
          20,
          20,
          20,
          20,
          20,
          20,
          20,
          20,
          21,
          21,
          24,
          27,
          30,
          40,
          40,
          40,
          40,
          40,
          46,
          56,
          60,
          60,
          60,
          60,
          60,
          77,
          80,
          80,
          80,
          84,
          140,
          160
         ],
         "xaxis": "x",
         "yaxis": "y"
        }
       ],
       "layout": {
        "barmode": "relative",
        "legend": {
         "tracegroupgap": 0
        },
        "margin": {
         "t": 60
        },
        "template": {
         "data": {
          "bar": [
           {
            "error_x": {
             "color": "#2a3f5f"
            },
            "error_y": {
             "color": "#2a3f5f"
            },
            "marker": {
             "line": {
              "color": "#E5ECF6",
              "width": 0.5
             },
             "pattern": {
              "fillmode": "overlay",
              "size": 10,
              "solidity": 0.2
             }
            },
            "type": "bar"
           }
          ],
          "barpolar": [
           {
            "marker": {
             "line": {
              "color": "#E5ECF6",
              "width": 0.5
             },
             "pattern": {
              "fillmode": "overlay",
              "size": 10,
              "solidity": 0.2
             }
            },
            "type": "barpolar"
           }
          ],
          "carpet": [
           {
            "aaxis": {
             "endlinecolor": "#2a3f5f",
             "gridcolor": "white",
             "linecolor": "white",
             "minorgridcolor": "white",
             "startlinecolor": "#2a3f5f"
            },
            "baxis": {
             "endlinecolor": "#2a3f5f",
             "gridcolor": "white",
             "linecolor": "white",
             "minorgridcolor": "white",
             "startlinecolor": "#2a3f5f"
            },
            "type": "carpet"
           }
          ],
          "choropleth": [
           {
            "colorbar": {
             "outlinewidth": 0,
             "ticks": ""
            },
            "type": "choropleth"
           }
          ],
          "contour": [
           {
            "colorbar": {
             "outlinewidth": 0,
             "ticks": ""
            },
            "colorscale": [
             [
              0,
              "#0d0887"
             ],
             [
              0.1111111111111111,
              "#46039f"
             ],
             [
              0.2222222222222222,
              "#7201a8"
             ],
             [
              0.3333333333333333,
              "#9c179e"
             ],
             [
              0.4444444444444444,
              "#bd3786"
             ],
             [
              0.5555555555555556,
              "#d8576b"
             ],
             [
              0.6666666666666666,
              "#ed7953"
             ],
             [
              0.7777777777777778,
              "#fb9f3a"
             ],
             [
              0.8888888888888888,
              "#fdca26"
             ],
             [
              1,
              "#f0f921"
             ]
            ],
            "type": "contour"
           }
          ],
          "contourcarpet": [
           {
            "colorbar": {
             "outlinewidth": 0,
             "ticks": ""
            },
            "type": "contourcarpet"
           }
          ],
          "heatmap": [
           {
            "colorbar": {
             "outlinewidth": 0,
             "ticks": ""
            },
            "colorscale": [
             [
              0,
              "#0d0887"
             ],
             [
              0.1111111111111111,
              "#46039f"
             ],
             [
              0.2222222222222222,
              "#7201a8"
             ],
             [
              0.3333333333333333,
              "#9c179e"
             ],
             [
              0.4444444444444444,
              "#bd3786"
             ],
             [
              0.5555555555555556,
              "#d8576b"
             ],
             [
              0.6666666666666666,
              "#ed7953"
             ],
             [
              0.7777777777777778,
              "#fb9f3a"
             ],
             [
              0.8888888888888888,
              "#fdca26"
             ],
             [
              1,
              "#f0f921"
             ]
            ],
            "type": "heatmap"
           }
          ],
          "heatmapgl": [
           {
            "colorbar": {
             "outlinewidth": 0,
             "ticks": ""
            },
            "colorscale": [
             [
              0,
              "#0d0887"
             ],
             [
              0.1111111111111111,
              "#46039f"
             ],
             [
              0.2222222222222222,
              "#7201a8"
             ],
             [
              0.3333333333333333,
              "#9c179e"
             ],
             [
              0.4444444444444444,
              "#bd3786"
             ],
             [
              0.5555555555555556,
              "#d8576b"
             ],
             [
              0.6666666666666666,
              "#ed7953"
             ],
             [
              0.7777777777777778,
              "#fb9f3a"
             ],
             [
              0.8888888888888888,
              "#fdca26"
             ],
             [
              1,
              "#f0f921"
             ]
            ],
            "type": "heatmapgl"
           }
          ],
          "histogram": [
           {
            "marker": {
             "pattern": {
              "fillmode": "overlay",
              "size": 10,
              "solidity": 0.2
             }
            },
            "type": "histogram"
           }
          ],
          "histogram2d": [
           {
            "colorbar": {
             "outlinewidth": 0,
             "ticks": ""
            },
            "colorscale": [
             [
              0,
              "#0d0887"
             ],
             [
              0.1111111111111111,
              "#46039f"
             ],
             [
              0.2222222222222222,
              "#7201a8"
             ],
             [
              0.3333333333333333,
              "#9c179e"
             ],
             [
              0.4444444444444444,
              "#bd3786"
             ],
             [
              0.5555555555555556,
              "#d8576b"
             ],
             [
              0.6666666666666666,
              "#ed7953"
             ],
             [
              0.7777777777777778,
              "#fb9f3a"
             ],
             [
              0.8888888888888888,
              "#fdca26"
             ],
             [
              1,
              "#f0f921"
             ]
            ],
            "type": "histogram2d"
           }
          ],
          "histogram2dcontour": [
           {
            "colorbar": {
             "outlinewidth": 0,
             "ticks": ""
            },
            "colorscale": [
             [
              0,
              "#0d0887"
             ],
             [
              0.1111111111111111,
              "#46039f"
             ],
             [
              0.2222222222222222,
              "#7201a8"
             ],
             [
              0.3333333333333333,
              "#9c179e"
             ],
             [
              0.4444444444444444,
              "#bd3786"
             ],
             [
              0.5555555555555556,
              "#d8576b"
             ],
             [
              0.6666666666666666,
              "#ed7953"
             ],
             [
              0.7777777777777778,
              "#fb9f3a"
             ],
             [
              0.8888888888888888,
              "#fdca26"
             ],
             [
              1,
              "#f0f921"
             ]
            ],
            "type": "histogram2dcontour"
           }
          ],
          "mesh3d": [
           {
            "colorbar": {
             "outlinewidth": 0,
             "ticks": ""
            },
            "type": "mesh3d"
           }
          ],
          "parcoords": [
           {
            "line": {
             "colorbar": {
              "outlinewidth": 0,
              "ticks": ""
             }
            },
            "type": "parcoords"
           }
          ],
          "pie": [
           {
            "automargin": true,
            "type": "pie"
           }
          ],
          "scatter": [
           {
            "fillpattern": {
             "fillmode": "overlay",
             "size": 10,
             "solidity": 0.2
            },
            "type": "scatter"
           }
          ],
          "scatter3d": [
           {
            "line": {
             "colorbar": {
              "outlinewidth": 0,
              "ticks": ""
             }
            },
            "marker": {
             "colorbar": {
              "outlinewidth": 0,
              "ticks": ""
             }
            },
            "type": "scatter3d"
           }
          ],
          "scattercarpet": [
           {
            "marker": {
             "colorbar": {
              "outlinewidth": 0,
              "ticks": ""
             }
            },
            "type": "scattercarpet"
           }
          ],
          "scattergeo": [
           {
            "marker": {
             "colorbar": {
              "outlinewidth": 0,
              "ticks": ""
             }
            },
            "type": "scattergeo"
           }
          ],
          "scattergl": [
           {
            "marker": {
             "colorbar": {
              "outlinewidth": 0,
              "ticks": ""
             }
            },
            "type": "scattergl"
           }
          ],
          "scattermapbox": [
           {
            "marker": {
             "colorbar": {
              "outlinewidth": 0,
              "ticks": ""
             }
            },
            "type": "scattermapbox"
           }
          ],
          "scatterpolar": [
           {
            "marker": {
             "colorbar": {
              "outlinewidth": 0,
              "ticks": ""
             }
            },
            "type": "scatterpolar"
           }
          ],
          "scatterpolargl": [
           {
            "marker": {
             "colorbar": {
              "outlinewidth": 0,
              "ticks": ""
             }
            },
            "type": "scatterpolargl"
           }
          ],
          "scatterternary": [
           {
            "marker": {
             "colorbar": {
              "outlinewidth": 0,
              "ticks": ""
             }
            },
            "type": "scatterternary"
           }
          ],
          "surface": [
           {
            "colorbar": {
             "outlinewidth": 0,
             "ticks": ""
            },
            "colorscale": [
             [
              0,
              "#0d0887"
             ],
             [
              0.1111111111111111,
              "#46039f"
             ],
             [
              0.2222222222222222,
              "#7201a8"
             ],
             [
              0.3333333333333333,
              "#9c179e"
             ],
             [
              0.4444444444444444,
              "#bd3786"
             ],
             [
              0.5555555555555556,
              "#d8576b"
             ],
             [
              0.6666666666666666,
              "#ed7953"
             ],
             [
              0.7777777777777778,
              "#fb9f3a"
             ],
             [
              0.8888888888888888,
              "#fdca26"
             ],
             [
              1,
              "#f0f921"
             ]
            ],
            "type": "surface"
           }
          ],
          "table": [
           {
            "cells": {
             "fill": {
              "color": "#EBF0F8"
             },
             "line": {
              "color": "white"
             }
            },
            "header": {
             "fill": {
              "color": "#C8D4E3"
             },
             "line": {
              "color": "white"
             }
            },
            "type": "table"
           }
          ]
         },
         "layout": {
          "annotationdefaults": {
           "arrowcolor": "#2a3f5f",
           "arrowhead": 0,
           "arrowwidth": 1
          },
          "autotypenumbers": "strict",
          "coloraxis": {
           "colorbar": {
            "outlinewidth": 0,
            "ticks": ""
           }
          },
          "colorscale": {
           "diverging": [
            [
             0,
             "#8e0152"
            ],
            [
             0.1,
             "#c51b7d"
            ],
            [
             0.2,
             "#de77ae"
            ],
            [
             0.3,
             "#f1b6da"
            ],
            [
             0.4,
             "#fde0ef"
            ],
            [
             0.5,
             "#f7f7f7"
            ],
            [
             0.6,
             "#e6f5d0"
            ],
            [
             0.7,
             "#b8e186"
            ],
            [
             0.8,
             "#7fbc41"
            ],
            [
             0.9,
             "#4d9221"
            ],
            [
             1,
             "#276419"
            ]
           ],
           "sequential": [
            [
             0,
             "#0d0887"
            ],
            [
             0.1111111111111111,
             "#46039f"
            ],
            [
             0.2222222222222222,
             "#7201a8"
            ],
            [
             0.3333333333333333,
             "#9c179e"
            ],
            [
             0.4444444444444444,
             "#bd3786"
            ],
            [
             0.5555555555555556,
             "#d8576b"
            ],
            [
             0.6666666666666666,
             "#ed7953"
            ],
            [
             0.7777777777777778,
             "#fb9f3a"
            ],
            [
             0.8888888888888888,
             "#fdca26"
            ],
            [
             1,
             "#f0f921"
            ]
           ],
           "sequentialminus": [
            [
             0,
             "#0d0887"
            ],
            [
             0.1111111111111111,
             "#46039f"
            ],
            [
             0.2222222222222222,
             "#7201a8"
            ],
            [
             0.3333333333333333,
             "#9c179e"
            ],
            [
             0.4444444444444444,
             "#bd3786"
            ],
            [
             0.5555555555555556,
             "#d8576b"
            ],
            [
             0.6666666666666666,
             "#ed7953"
            ],
            [
             0.7777777777777778,
             "#fb9f3a"
            ],
            [
             0.8888888888888888,
             "#fdca26"
            ],
            [
             1,
             "#f0f921"
            ]
           ]
          },
          "colorway": [
           "#636efa",
           "#EF553B",
           "#00cc96",
           "#ab63fa",
           "#FFA15A",
           "#19d3f3",
           "#FF6692",
           "#B6E880",
           "#FF97FF",
           "#FECB52"
          ],
          "font": {
           "color": "#2a3f5f"
          },
          "geo": {
           "bgcolor": "white",
           "lakecolor": "white",
           "landcolor": "#E5ECF6",
           "showlakes": true,
           "showland": true,
           "subunitcolor": "white"
          },
          "hoverlabel": {
           "align": "left"
          },
          "hovermode": "closest",
          "mapbox": {
           "style": "light"
          },
          "paper_bgcolor": "white",
          "plot_bgcolor": "#E5ECF6",
          "polar": {
           "angularaxis": {
            "gridcolor": "white",
            "linecolor": "white",
            "ticks": ""
           },
           "bgcolor": "#E5ECF6",
           "radialaxis": {
            "gridcolor": "white",
            "linecolor": "white",
            "ticks": ""
           }
          },
          "scene": {
           "xaxis": {
            "backgroundcolor": "#E5ECF6",
            "gridcolor": "white",
            "gridwidth": 2,
            "linecolor": "white",
            "showbackground": true,
            "ticks": "",
            "zerolinecolor": "white"
           },
           "yaxis": {
            "backgroundcolor": "#E5ECF6",
            "gridcolor": "white",
            "gridwidth": 2,
            "linecolor": "white",
            "showbackground": true,
            "ticks": "",
            "zerolinecolor": "white"
           },
           "zaxis": {
            "backgroundcolor": "#E5ECF6",
            "gridcolor": "white",
            "gridwidth": 2,
            "linecolor": "white",
            "showbackground": true,
            "ticks": "",
            "zerolinecolor": "white"
           }
          },
          "shapedefaults": {
           "line": {
            "color": "#2a3f5f"
           }
          },
          "ternary": {
           "aaxis": {
            "gridcolor": "white",
            "linecolor": "white",
            "ticks": ""
           },
           "baxis": {
            "gridcolor": "white",
            "linecolor": "white",
            "ticks": ""
           },
           "bgcolor": "#E5ECF6",
           "caxis": {
            "gridcolor": "white",
            "linecolor": "white",
            "ticks": ""
           }
          },
          "title": {
           "x": 0.05
          },
          "xaxis": {
           "automargin": true,
           "gridcolor": "white",
           "linecolor": "white",
           "ticks": "",
           "title": {
            "standoff": 15
           },
           "zerolinecolor": "white",
           "zerolinewidth": 2
          },
          "yaxis": {
           "automargin": true,
           "gridcolor": "white",
           "linecolor": "white",
           "ticks": "",
           "title": {
            "standoff": 15
           },
           "zerolinecolor": "white",
           "zerolinewidth": 2
          }
         }
        },
        "xaxis": {
         "anchor": "y",
         "domain": [
          0,
          1
         ],
         "title": {
          "text": "len"
         }
        },
        "yaxis": {
         "anchor": "x",
         "domain": [
          0,
          1
         ],
         "title": {
          "text": "count"
         }
        }
       }
      }
     },
     "metadata": {},
     "output_type": "display_data"
    }
   ],
   "source": [
    "px.histogram(\n",
    "    jpmorgans.group_by(\"accession\").agg(pl.len()).sort(\"len\"), x=\"len\", nbins=160\n",
    ")"
   ]
  },
  {
   "cell_type": "code",
   "execution_count": 32,
   "metadata": {},
   "outputs": [],
   "source": [
    "jpmorgans.write_csv(\"jpmorgans.csv\")"
   ]
  },
  {
   "cell_type": "code",
   "execution_count": 21,
   "metadata": {},
   "outputs": [
    {
     "data": {
      "application/vnd.plotly.v1+json": {
       "config": {
        "plotlyServerURL": "https://plotly.com"
       },
       "data": [
        {
         "alignmentgroup": "True",
         "bingroup": "x",
         "hovertemplate": "n_order_recorded=%{x}<br>count=%{y}<extra></extra>",
         "legendgroup": "",
         "marker": {
          "color": "#636efa",
          "pattern": {
           "shape": ""
          }
         },
         "name": "",
         "nbinsx": 50,
         "offsetgroup": "",
         "orientation": "v",
         "showlegend": false,
         "type": "histogram",
         "x": [
          160,
          140,
          84,
          80,
          80,
          80,
          77,
          60,
          60,
          60,
          60,
          60,
          56,
          46,
          40,
          40,
          40,
          40,
          40,
          40,
          31,
          30,
          27,
          24,
          21,
          21,
          20,
          20,
          20,
          20,
          20,
          20,
          20,
          20,
          20,
          20,
          20,
          20,
          20,
          20,
          20,
          20,
          20,
          20,
          20,
          20,
          20,
          20,
          20,
          20,
          20,
          20,
          20,
          20,
          19,
          15,
          12,
          11,
          10,
          6,
          6,
          5,
          4,
          4,
          4,
          4,
          4,
          3,
          3,
          3,
          3,
          3,
          3,
          3,
          3,
          3,
          3,
          3,
          3,
          3,
          3,
          3,
          3,
          3,
          2,
          2,
          2,
          2,
          2,
          2,
          2,
          2,
          2,
          2,
          2,
          2,
          2,
          2,
          2,
          2,
          2,
          2,
          2,
          2,
          2,
          2,
          2,
          2,
          2,
          2,
          2,
          2,
          2,
          2,
          2,
          2,
          2,
          2,
          2,
          2,
          2,
          2,
          2,
          2,
          1,
          1,
          1,
          1,
          1,
          1,
          1,
          1,
          1,
          1,
          1,
          1,
          1,
          1,
          1,
          1,
          1,
          1,
          1,
          1,
          1,
          1,
          1,
          1,
          1,
          1,
          1,
          1,
          1,
          1,
          1,
          1,
          1,
          1,
          1,
          1,
          1,
          1,
          1,
          1,
          1,
          1,
          1,
          1,
          1,
          1,
          1,
          1,
          1,
          1,
          1,
          1,
          1,
          1,
          1,
          1,
          1,
          1,
          1,
          1,
          1,
          1,
          1,
          1,
          1,
          1,
          1,
          1,
          1,
          1,
          1,
          1,
          1,
          1,
          1,
          1,
          1,
          1,
          1,
          1,
          1,
          1,
          1,
          1,
          1,
          1,
          1,
          1,
          1,
          1,
          1,
          1,
          1,
          1,
          1,
          1,
          1,
          1,
          1,
          1,
          1,
          1,
          1,
          1,
          1,
          1,
          1,
          1,
          1,
          1,
          1,
          1,
          1,
          1,
          1,
          1,
          1,
          1,
          1,
          1,
          1,
          1,
          1,
          1,
          1,
          1,
          1,
          1,
          1,
          1,
          1,
          1,
          1,
          1,
          1,
          1,
          1,
          1,
          1,
          1,
          1,
          1,
          1,
          1,
          1,
          1,
          1,
          1,
          1,
          1,
          1,
          1,
          1,
          1,
          1,
          1,
          1,
          1,
          1,
          1,
          1,
          1,
          1,
          1,
          1,
          1,
          1,
          1,
          1,
          1,
          1,
          1,
          1,
          1,
          1,
          1,
          1,
          1,
          1,
          1,
          1,
          1,
          1,
          1,
          1,
          1,
          1,
          1,
          1,
          1,
          1,
          1,
          1,
          1,
          1,
          1,
          1,
          1,
          1,
          1,
          1,
          1,
          1,
          1,
          1,
          1,
          1,
          1,
          1,
          1,
          1,
          1,
          1,
          1,
          1,
          1,
          1,
          1,
          1,
          1,
          1,
          1,
          1,
          1,
          1,
          1,
          1,
          1,
          1,
          1,
          1,
          1,
          1,
          1,
          1,
          1,
          1,
          1,
          1,
          1,
          1,
          1,
          1,
          1,
          1,
          1,
          1,
          1,
          1,
          1,
          1,
          1,
          1,
          1,
          1,
          1,
          1,
          1,
          1,
          1,
          1,
          1,
          1,
          1,
          1,
          1,
          1,
          1,
          1,
          1,
          1,
          1,
          1,
          1,
          1,
          1,
          1,
          1,
          1,
          1,
          1,
          1,
          1,
          1,
          1,
          1,
          1,
          1,
          1,
          1,
          1,
          1,
          1,
          1,
          1,
          1,
          1,
          1,
          1,
          1,
          1,
          1,
          1,
          1,
          1,
          1,
          1,
          1,
          1,
          1,
          1,
          1,
          1,
          1,
          1,
          1,
          1,
          1,
          1,
          1,
          1,
          1,
          1,
          1,
          1,
          1,
          1,
          1,
          1,
          1,
          1,
          1,
          1,
          1,
          1,
          1,
          1,
          1,
          1,
          1,
          1,
          1,
          1,
          1,
          1,
          1,
          1,
          1,
          1,
          1,
          1,
          1,
          1,
          1,
          1,
          1,
          1,
          1,
          1,
          1,
          1,
          1,
          1,
          1,
          1,
          1,
          1,
          1
         ],
         "xaxis": "x",
         "yaxis": "y"
        }
       ],
       "layout": {
        "barmode": "relative",
        "legend": {
         "tracegroupgap": 0
        },
        "margin": {
         "t": 60
        },
        "template": {
         "data": {
          "bar": [
           {
            "error_x": {
             "color": "#2a3f5f"
            },
            "error_y": {
             "color": "#2a3f5f"
            },
            "marker": {
             "line": {
              "color": "#E5ECF6",
              "width": 0.5
             },
             "pattern": {
              "fillmode": "overlay",
              "size": 10,
              "solidity": 0.2
             }
            },
            "type": "bar"
           }
          ],
          "barpolar": [
           {
            "marker": {
             "line": {
              "color": "#E5ECF6",
              "width": 0.5
             },
             "pattern": {
              "fillmode": "overlay",
              "size": 10,
              "solidity": 0.2
             }
            },
            "type": "barpolar"
           }
          ],
          "carpet": [
           {
            "aaxis": {
             "endlinecolor": "#2a3f5f",
             "gridcolor": "white",
             "linecolor": "white",
             "minorgridcolor": "white",
             "startlinecolor": "#2a3f5f"
            },
            "baxis": {
             "endlinecolor": "#2a3f5f",
             "gridcolor": "white",
             "linecolor": "white",
             "minorgridcolor": "white",
             "startlinecolor": "#2a3f5f"
            },
            "type": "carpet"
           }
          ],
          "choropleth": [
           {
            "colorbar": {
             "outlinewidth": 0,
             "ticks": ""
            },
            "type": "choropleth"
           }
          ],
          "contour": [
           {
            "colorbar": {
             "outlinewidth": 0,
             "ticks": ""
            },
            "colorscale": [
             [
              0,
              "#0d0887"
             ],
             [
              0.1111111111111111,
              "#46039f"
             ],
             [
              0.2222222222222222,
              "#7201a8"
             ],
             [
              0.3333333333333333,
              "#9c179e"
             ],
             [
              0.4444444444444444,
              "#bd3786"
             ],
             [
              0.5555555555555556,
              "#d8576b"
             ],
             [
              0.6666666666666666,
              "#ed7953"
             ],
             [
              0.7777777777777778,
              "#fb9f3a"
             ],
             [
              0.8888888888888888,
              "#fdca26"
             ],
             [
              1,
              "#f0f921"
             ]
            ],
            "type": "contour"
           }
          ],
          "contourcarpet": [
           {
            "colorbar": {
             "outlinewidth": 0,
             "ticks": ""
            },
            "type": "contourcarpet"
           }
          ],
          "heatmap": [
           {
            "colorbar": {
             "outlinewidth": 0,
             "ticks": ""
            },
            "colorscale": [
             [
              0,
              "#0d0887"
             ],
             [
              0.1111111111111111,
              "#46039f"
             ],
             [
              0.2222222222222222,
              "#7201a8"
             ],
             [
              0.3333333333333333,
              "#9c179e"
             ],
             [
              0.4444444444444444,
              "#bd3786"
             ],
             [
              0.5555555555555556,
              "#d8576b"
             ],
             [
              0.6666666666666666,
              "#ed7953"
             ],
             [
              0.7777777777777778,
              "#fb9f3a"
             ],
             [
              0.8888888888888888,
              "#fdca26"
             ],
             [
              1,
              "#f0f921"
             ]
            ],
            "type": "heatmap"
           }
          ],
          "heatmapgl": [
           {
            "colorbar": {
             "outlinewidth": 0,
             "ticks": ""
            },
            "colorscale": [
             [
              0,
              "#0d0887"
             ],
             [
              0.1111111111111111,
              "#46039f"
             ],
             [
              0.2222222222222222,
              "#7201a8"
             ],
             [
              0.3333333333333333,
              "#9c179e"
             ],
             [
              0.4444444444444444,
              "#bd3786"
             ],
             [
              0.5555555555555556,
              "#d8576b"
             ],
             [
              0.6666666666666666,
              "#ed7953"
             ],
             [
              0.7777777777777778,
              "#fb9f3a"
             ],
             [
              0.8888888888888888,
              "#fdca26"
             ],
             [
              1,
              "#f0f921"
             ]
            ],
            "type": "heatmapgl"
           }
          ],
          "histogram": [
           {
            "marker": {
             "pattern": {
              "fillmode": "overlay",
              "size": 10,
              "solidity": 0.2
             }
            },
            "type": "histogram"
           }
          ],
          "histogram2d": [
           {
            "colorbar": {
             "outlinewidth": 0,
             "ticks": ""
            },
            "colorscale": [
             [
              0,
              "#0d0887"
             ],
             [
              0.1111111111111111,
              "#46039f"
             ],
             [
              0.2222222222222222,
              "#7201a8"
             ],
             [
              0.3333333333333333,
              "#9c179e"
             ],
             [
              0.4444444444444444,
              "#bd3786"
             ],
             [
              0.5555555555555556,
              "#d8576b"
             ],
             [
              0.6666666666666666,
              "#ed7953"
             ],
             [
              0.7777777777777778,
              "#fb9f3a"
             ],
             [
              0.8888888888888888,
              "#fdca26"
             ],
             [
              1,
              "#f0f921"
             ]
            ],
            "type": "histogram2d"
           }
          ],
          "histogram2dcontour": [
           {
            "colorbar": {
             "outlinewidth": 0,
             "ticks": ""
            },
            "colorscale": [
             [
              0,
              "#0d0887"
             ],
             [
              0.1111111111111111,
              "#46039f"
             ],
             [
              0.2222222222222222,
              "#7201a8"
             ],
             [
              0.3333333333333333,
              "#9c179e"
             ],
             [
              0.4444444444444444,
              "#bd3786"
             ],
             [
              0.5555555555555556,
              "#d8576b"
             ],
             [
              0.6666666666666666,
              "#ed7953"
             ],
             [
              0.7777777777777778,
              "#fb9f3a"
             ],
             [
              0.8888888888888888,
              "#fdca26"
             ],
             [
              1,
              "#f0f921"
             ]
            ],
            "type": "histogram2dcontour"
           }
          ],
          "mesh3d": [
           {
            "colorbar": {
             "outlinewidth": 0,
             "ticks": ""
            },
            "type": "mesh3d"
           }
          ],
          "parcoords": [
           {
            "line": {
             "colorbar": {
              "outlinewidth": 0,
              "ticks": ""
             }
            },
            "type": "parcoords"
           }
          ],
          "pie": [
           {
            "automargin": true,
            "type": "pie"
           }
          ],
          "scatter": [
           {
            "fillpattern": {
             "fillmode": "overlay",
             "size": 10,
             "solidity": 0.2
            },
            "type": "scatter"
           }
          ],
          "scatter3d": [
           {
            "line": {
             "colorbar": {
              "outlinewidth": 0,
              "ticks": ""
             }
            },
            "marker": {
             "colorbar": {
              "outlinewidth": 0,
              "ticks": ""
             }
            },
            "type": "scatter3d"
           }
          ],
          "scattercarpet": [
           {
            "marker": {
             "colorbar": {
              "outlinewidth": 0,
              "ticks": ""
             }
            },
            "type": "scattercarpet"
           }
          ],
          "scattergeo": [
           {
            "marker": {
             "colorbar": {
              "outlinewidth": 0,
              "ticks": ""
             }
            },
            "type": "scattergeo"
           }
          ],
          "scattergl": [
           {
            "marker": {
             "colorbar": {
              "outlinewidth": 0,
              "ticks": ""
             }
            },
            "type": "scattergl"
           }
          ],
          "scattermapbox": [
           {
            "marker": {
             "colorbar": {
              "outlinewidth": 0,
              "ticks": ""
             }
            },
            "type": "scattermapbox"
           }
          ],
          "scatterpolar": [
           {
            "marker": {
             "colorbar": {
              "outlinewidth": 0,
              "ticks": ""
             }
            },
            "type": "scatterpolar"
           }
          ],
          "scatterpolargl": [
           {
            "marker": {
             "colorbar": {
              "outlinewidth": 0,
              "ticks": ""
             }
            },
            "type": "scatterpolargl"
           }
          ],
          "scatterternary": [
           {
            "marker": {
             "colorbar": {
              "outlinewidth": 0,
              "ticks": ""
             }
            },
            "type": "scatterternary"
           }
          ],
          "surface": [
           {
            "colorbar": {
             "outlinewidth": 0,
             "ticks": ""
            },
            "colorscale": [
             [
              0,
              "#0d0887"
             ],
             [
              0.1111111111111111,
              "#46039f"
             ],
             [
              0.2222222222222222,
              "#7201a8"
             ],
             [
              0.3333333333333333,
              "#9c179e"
             ],
             [
              0.4444444444444444,
              "#bd3786"
             ],
             [
              0.5555555555555556,
              "#d8576b"
             ],
             [
              0.6666666666666666,
              "#ed7953"
             ],
             [
              0.7777777777777778,
              "#fb9f3a"
             ],
             [
              0.8888888888888888,
              "#fdca26"
             ],
             [
              1,
              "#f0f921"
             ]
            ],
            "type": "surface"
           }
          ],
          "table": [
           {
            "cells": {
             "fill": {
              "color": "#EBF0F8"
             },
             "line": {
              "color": "white"
             }
            },
            "header": {
             "fill": {
              "color": "#C8D4E3"
             },
             "line": {
              "color": "white"
             }
            },
            "type": "table"
           }
          ]
         },
         "layout": {
          "annotationdefaults": {
           "arrowcolor": "#2a3f5f",
           "arrowhead": 0,
           "arrowwidth": 1
          },
          "autotypenumbers": "strict",
          "coloraxis": {
           "colorbar": {
            "outlinewidth": 0,
            "ticks": ""
           }
          },
          "colorscale": {
           "diverging": [
            [
             0,
             "#8e0152"
            ],
            [
             0.1,
             "#c51b7d"
            ],
            [
             0.2,
             "#de77ae"
            ],
            [
             0.3,
             "#f1b6da"
            ],
            [
             0.4,
             "#fde0ef"
            ],
            [
             0.5,
             "#f7f7f7"
            ],
            [
             0.6,
             "#e6f5d0"
            ],
            [
             0.7,
             "#b8e186"
            ],
            [
             0.8,
             "#7fbc41"
            ],
            [
             0.9,
             "#4d9221"
            ],
            [
             1,
             "#276419"
            ]
           ],
           "sequential": [
            [
             0,
             "#0d0887"
            ],
            [
             0.1111111111111111,
             "#46039f"
            ],
            [
             0.2222222222222222,
             "#7201a8"
            ],
            [
             0.3333333333333333,
             "#9c179e"
            ],
            [
             0.4444444444444444,
             "#bd3786"
            ],
            [
             0.5555555555555556,
             "#d8576b"
            ],
            [
             0.6666666666666666,
             "#ed7953"
            ],
            [
             0.7777777777777778,
             "#fb9f3a"
            ],
            [
             0.8888888888888888,
             "#fdca26"
            ],
            [
             1,
             "#f0f921"
            ]
           ],
           "sequentialminus": [
            [
             0,
             "#0d0887"
            ],
            [
             0.1111111111111111,
             "#46039f"
            ],
            [
             0.2222222222222222,
             "#7201a8"
            ],
            [
             0.3333333333333333,
             "#9c179e"
            ],
            [
             0.4444444444444444,
             "#bd3786"
            ],
            [
             0.5555555555555556,
             "#d8576b"
            ],
            [
             0.6666666666666666,
             "#ed7953"
            ],
            [
             0.7777777777777778,
             "#fb9f3a"
            ],
            [
             0.8888888888888888,
             "#fdca26"
            ],
            [
             1,
             "#f0f921"
            ]
           ]
          },
          "colorway": [
           "#636efa",
           "#EF553B",
           "#00cc96",
           "#ab63fa",
           "#FFA15A",
           "#19d3f3",
           "#FF6692",
           "#B6E880",
           "#FF97FF",
           "#FECB52"
          ],
          "font": {
           "color": "#2a3f5f"
          },
          "geo": {
           "bgcolor": "white",
           "lakecolor": "white",
           "landcolor": "#E5ECF6",
           "showlakes": true,
           "showland": true,
           "subunitcolor": "white"
          },
          "hoverlabel": {
           "align": "left"
          },
          "hovermode": "closest",
          "mapbox": {
           "style": "light"
          },
          "paper_bgcolor": "white",
          "plot_bgcolor": "#E5ECF6",
          "polar": {
           "angularaxis": {
            "gridcolor": "white",
            "linecolor": "white",
            "ticks": ""
           },
           "bgcolor": "#E5ECF6",
           "radialaxis": {
            "gridcolor": "white",
            "linecolor": "white",
            "ticks": ""
           }
          },
          "scene": {
           "xaxis": {
            "backgroundcolor": "#E5ECF6",
            "gridcolor": "white",
            "gridwidth": 2,
            "linecolor": "white",
            "showbackground": true,
            "ticks": "",
            "zerolinecolor": "white"
           },
           "yaxis": {
            "backgroundcolor": "#E5ECF6",
            "gridcolor": "white",
            "gridwidth": 2,
            "linecolor": "white",
            "showbackground": true,
            "ticks": "",
            "zerolinecolor": "white"
           },
           "zaxis": {
            "backgroundcolor": "#E5ECF6",
            "gridcolor": "white",
            "gridwidth": 2,
            "linecolor": "white",
            "showbackground": true,
            "ticks": "",
            "zerolinecolor": "white"
           }
          },
          "shapedefaults": {
           "line": {
            "color": "#2a3f5f"
           }
          },
          "ternary": {
           "aaxis": {
            "gridcolor": "white",
            "linecolor": "white",
            "ticks": ""
           },
           "baxis": {
            "gridcolor": "white",
            "linecolor": "white",
            "ticks": ""
           },
           "bgcolor": "#E5ECF6",
           "caxis": {
            "gridcolor": "white",
            "linecolor": "white",
            "ticks": ""
           }
          },
          "title": {
           "x": 0.05
          },
          "xaxis": {
           "automargin": true,
           "gridcolor": "white",
           "linecolor": "white",
           "ticks": "",
           "title": {
            "standoff": 15
           },
           "zerolinecolor": "white",
           "zerolinewidth": 2
          },
          "yaxis": {
           "automargin": true,
           "gridcolor": "white",
           "linecolor": "white",
           "ticks": "",
           "title": {
            "standoff": 15
           },
           "zerolinecolor": "white",
           "zerolinewidth": 2
          }
         }
        },
        "xaxis": {
         "anchor": "y",
         "domain": [
          0,
          1
         ],
         "title": {
          "text": "n_order_recorded"
         }
        },
        "yaxis": {
         "anchor": "x",
         "domain": [
          0,
          1
         ],
         "title": {
          "text": "count"
         }
        }
       }
      }
     },
     "metadata": {},
     "output_type": "display_data"
    }
   ],
   "source": [
    "px.histogram(\n",
    "    jpmorgans.group_by(\"filer_cik\")\n",
    "    .agg(\n",
    "        pl.col(\"order_recorded\"),\n",
    "        pl.col(\"order_recorded\").len().alias(\"n_order_recorded\"),\n",
    "    )\n",
    "    .sort(\"n_order_recorded\", descending=True)\n",
    "    .filter(pl.col(\"n_order_recorded\") < pl.lit(800)),\n",
    "    x=\"n_order_recorded\",\n",
    "    nbins=50,\n",
    ")"
   ]
  },
  {
   "cell_type": "code",
   "execution_count": 24,
   "metadata": {},
   "outputs": [
    {
     "data": {
      "text/html": [
       "<div>\n",
       "<style scoped>\n",
       "    .dataframe tbody tr th:only-of-type {\n",
       "        vertical-align: middle;\n",
       "    }\n",
       "\n",
       "    .dataframe tbody tr th {\n",
       "        vertical-align: top;\n",
       "    }\n",
       "\n",
       "    .dataframe thead th {\n",
       "        text-align: right;\n",
       "    }\n",
       "</style>\n",
       "<table border=\"1\" class=\"dataframe\">\n",
       "  <thead>\n",
       "    <tr style=\"text-align: right;\">\n",
       "      <th></th>\n",
       "      <th>order_recorded</th>\n",
       "      <th>count</th>\n",
       "    </tr>\n",
       "  </thead>\n",
       "  <tbody>\n",
       "    <tr>\n",
       "      <th>0</th>\n",
       "      <td>0</td>\n",
       "      <td>787</td>\n",
       "    </tr>\n",
       "    <tr>\n",
       "      <th>1</th>\n",
       "      <td>1</td>\n",
       "      <td>132</td>\n",
       "    </tr>\n",
       "    <tr>\n",
       "      <th>2</th>\n",
       "      <td>2</td>\n",
       "      <td>106</td>\n",
       "    </tr>\n",
       "    <tr>\n",
       "      <th>3</th>\n",
       "      <td>3</td>\n",
       "      <td>94</td>\n",
       "    </tr>\n",
       "    <tr>\n",
       "      <th>4</th>\n",
       "      <td>4</td>\n",
       "      <td>92</td>\n",
       "    </tr>\n",
       "    <tr>\n",
       "      <th>5</th>\n",
       "      <td>5</td>\n",
       "      <td>92</td>\n",
       "    </tr>\n",
       "    <tr>\n",
       "      <th>6</th>\n",
       "      <td>6</td>\n",
       "      <td>91</td>\n",
       "    </tr>\n",
       "    <tr>\n",
       "      <th>7</th>\n",
       "      <td>9</td>\n",
       "      <td>91</td>\n",
       "    </tr>\n",
       "    <tr>\n",
       "      <th>8</th>\n",
       "      <td>10</td>\n",
       "      <td>91</td>\n",
       "    </tr>\n",
       "    <tr>\n",
       "      <th>9</th>\n",
       "      <td>7</td>\n",
       "      <td>91</td>\n",
       "    </tr>\n",
       "    <tr>\n",
       "      <th>10</th>\n",
       "      <td>8</td>\n",
       "      <td>91</td>\n",
       "    </tr>\n",
       "    <tr>\n",
       "      <th>11</th>\n",
       "      <td>13</td>\n",
       "      <td>89</td>\n",
       "    </tr>\n",
       "    <tr>\n",
       "      <th>12</th>\n",
       "      <td>18</td>\n",
       "      <td>89</td>\n",
       "    </tr>\n",
       "    <tr>\n",
       "      <th>13</th>\n",
       "      <td>11</td>\n",
       "      <td>89</td>\n",
       "    </tr>\n",
       "    <tr>\n",
       "      <th>14</th>\n",
       "      <td>14</td>\n",
       "      <td>89</td>\n",
       "    </tr>\n",
       "    <tr>\n",
       "      <th>15</th>\n",
       "      <td>15</td>\n",
       "      <td>89</td>\n",
       "    </tr>\n",
       "    <tr>\n",
       "      <th>16</th>\n",
       "      <td>17</td>\n",
       "      <td>89</td>\n",
       "    </tr>\n",
       "    <tr>\n",
       "      <th>17</th>\n",
       "      <td>12</td>\n",
       "      <td>89</td>\n",
       "    </tr>\n",
       "    <tr>\n",
       "      <th>18</th>\n",
       "      <td>16</td>\n",
       "      <td>89</td>\n",
       "    </tr>\n",
       "    <tr>\n",
       "      <th>19</th>\n",
       "      <td>19</td>\n",
       "      <td>88</td>\n",
       "    </tr>\n",
       "    <tr>\n",
       "      <th>20</th>\n",
       "      <td>20</td>\n",
       "      <td>9</td>\n",
       "    </tr>\n",
       "    <tr>\n",
       "      <th>21</th>\n",
       "      <td>21</td>\n",
       "      <td>3</td>\n",
       "    </tr>\n",
       "    <tr>\n",
       "      <th>22</th>\n",
       "      <td>23</td>\n",
       "      <td>3</td>\n",
       "    </tr>\n",
       "    <tr>\n",
       "      <th>23</th>\n",
       "      <td>25</td>\n",
       "      <td>3</td>\n",
       "    </tr>\n",
       "    <tr>\n",
       "      <th>24</th>\n",
       "      <td>22</td>\n",
       "      <td>3</td>\n",
       "    </tr>\n",
       "    <tr>\n",
       "      <th>25</th>\n",
       "      <td>24</td>\n",
       "      <td>3</td>\n",
       "    </tr>\n",
       "    <tr>\n",
       "      <th>26</th>\n",
       "      <td>26</td>\n",
       "      <td>3</td>\n",
       "    </tr>\n",
       "    <tr>\n",
       "      <th>27</th>\n",
       "      <td>43</td>\n",
       "      <td>2</td>\n",
       "    </tr>\n",
       "    <tr>\n",
       "      <th>28</th>\n",
       "      <td>44</td>\n",
       "      <td>2</td>\n",
       "    </tr>\n",
       "    <tr>\n",
       "      <th>29</th>\n",
       "      <td>45</td>\n",
       "      <td>2</td>\n",
       "    </tr>\n",
       "  </tbody>\n",
       "</table>\n",
       "</div>"
      ],
      "text/plain": [
       "    order_recorded  count\n",
       "0                0    787\n",
       "1                1    132\n",
       "2                2    106\n",
       "3                3     94\n",
       "4                4     92\n",
       "5                5     92\n",
       "6                6     91\n",
       "7                9     91\n",
       "8               10     91\n",
       "9                7     91\n",
       "10               8     91\n",
       "11              13     89\n",
       "12              18     89\n",
       "13              11     89\n",
       "14              14     89\n",
       "15              15     89\n",
       "16              17     89\n",
       "17              12     89\n",
       "18              16     89\n",
       "19              19     88\n",
       "20              20      9\n",
       "21              21      3\n",
       "22              23      3\n",
       "23              25      3\n",
       "24              22      3\n",
       "25              24      3\n",
       "26              26      3\n",
       "27              43      2\n",
       "28              44      2\n",
       "29              45      2"
      ]
     },
     "execution_count": 24,
     "metadata": {},
     "output_type": "execute_result"
    }
   ],
   "source": [
    "jpmorgans[\"order_recorded\"].value_counts(sort=True).head(30).to_pandas()"
   ]
  },
  {
   "cell_type": "code",
   "execution_count": null,
   "metadata": {},
   "outputs": [],
   "source": []
  },
  {
   "cell_type": "code",
   "execution_count": 10,
   "metadata": {},
   "outputs": [
    {
     "name": "stdout",
     "output_type": "stream",
     "text": [
      "issuer_name\n",
      "shape: (0, 24)\n",
      "┌─────────────┬───────┬──────┬──────┬───┬───────────┬────────────┬─────────┬──────────────┐\n",
      "│ issuer_name ┆ cusip ┆ isin ┆ figi ┆ … ┆ filer_cik ┆ filer_name ┆ fund_id ┆ fund_id_type │\n",
      "│ ---         ┆ ---   ┆ ---  ┆ ---  ┆   ┆ ---       ┆ ---        ┆ ---     ┆ ---          │\n",
      "│ str         ┆ str   ┆ str  ┆ str  ┆   ┆ str       ┆ str        ┆ str     ┆ str          │\n",
      "╞═════════════╪═══════╪══════╪══════╪═══╪═══════════╪════════════╪═════════╪══════════════╡\n",
      "└─────────────┴───────┴──────┴──────┴───┴───────────┴────────────┴─────────┴──────────────┘\n",
      "cusip\n",
      "shape: (0, 24)\n",
      "┌─────────────┬───────┬──────┬──────┬───┬───────────┬────────────┬─────────┬──────────────┐\n",
      "│ issuer_name ┆ cusip ┆ isin ┆ figi ┆ … ┆ filer_cik ┆ filer_name ┆ fund_id ┆ fund_id_type │\n",
      "│ ---         ┆ ---   ┆ ---  ┆ ---  ┆   ┆ ---       ┆ ---        ┆ ---     ┆ ---          │\n",
      "│ str         ┆ str   ┆ str  ┆ str  ┆   ┆ str       ┆ str        ┆ str     ┆ str          │\n",
      "╞═════════════╪═══════╪══════╪══════╪═══╪═══════════╪════════════╪═════════╪══════════════╡\n",
      "└─────────────┴───────┴──────┴──────┴───┴───────────┴────────────┴─────────┴──────────────┘\n",
      "isin\n",
      "shape: (0, 24)\n",
      "┌─────────────┬───────┬──────┬──────┬───┬───────────┬────────────┬─────────┬──────────────┐\n",
      "│ issuer_name ┆ cusip ┆ isin ┆ figi ┆ … ┆ filer_cik ┆ filer_name ┆ fund_id ┆ fund_id_type │\n",
      "│ ---         ┆ ---   ┆ ---  ┆ ---  ┆   ┆ ---       ┆ ---        ┆ ---     ┆ ---          │\n",
      "│ str         ┆ str   ┆ str  ┆ str  ┆   ┆ str       ┆ str        ┆ str     ┆ str          │\n",
      "╞═════════════╪═══════╪══════╪══════╪═══╪═══════════╪════════════╪═════════╪══════════════╡\n",
      "└─────────────┴───────┴──────┴──────┴───┴───────────┴────────────┴─────────┴──────────────┘\n",
      "figi\n",
      "shape: (0, 24)\n",
      "┌─────────────┬───────┬──────┬──────┬───┬───────────┬────────────┬─────────┬──────────────┐\n",
      "│ issuer_name ┆ cusip ┆ isin ┆ figi ┆ … ┆ filer_cik ┆ filer_name ┆ fund_id ┆ fund_id_type │\n",
      "│ ---         ┆ ---   ┆ ---  ┆ ---  ┆   ┆ ---       ┆ ---        ┆ ---     ┆ ---          │\n",
      "│ str         ┆ str   ┆ str  ┆ str  ┆   ┆ str       ┆ str        ┆ str     ┆ str          │\n",
      "╞═════════════╪═══════╪══════╪══════╪═══╪═══════════╪════════════╪═════════╪══════════════╡\n",
      "└─────────────┴───────┴──────┴──────┴───┴───────────┴────────────┴─────────┴──────────────┘\n"
     ]
    }
   ],
   "source": [
    "for col in COMPANY_COLS_L:\n",
    "    print(col)\n",
    "    new_nulls = votes[col].is_not_null() & normed5_intra[col].is_null()\n",
    "    print(votes.filter(new_nulls))"
   ]
  },
  {
   "cell_type": "code",
   "execution_count": 11,
   "metadata": {},
   "outputs": [
    {
     "data": {
      "text/html": [
       "<div><style>\n",
       ".dataframe > thead > tr,\n",
       ".dataframe > tbody > tr {\n",
       "  text-align: right;\n",
       "  white-space: pre-wrap;\n",
       "}\n",
       "</style>\n",
       "<small>shape: (1, 4)</small><table border=\"1\" class=\"dataframe\"><thead><tr><th>issuer_name</th><th>cusip</th><th>isin</th><th>figi</th></tr><tr><td>f64</td><td>f64</td><td>f64</td><td>f64</td></tr></thead><tbody><tr><td>NaN</td><td>4.746032</td><td>95.557173</td><td>1.505622</td></tr></tbody></table></div>"
      ],
      "text/plain": [
       "shape: (1, 4)\n",
       "┌─────────────┬──────────┬───────────┬──────────┐\n",
       "│ issuer_name ┆ cusip    ┆ isin      ┆ figi     │\n",
       "│ ---         ┆ ---      ┆ ---       ┆ ---      │\n",
       "│ f64         ┆ f64      ┆ f64       ┆ f64      │\n",
       "╞═════════════╪══════════╪═══════════╪══════════╡\n",
       "│ NaN         ┆ 4.746032 ┆ 95.557173 ┆ 1.505622 │\n",
       "└─────────────┴──────────┴───────────┴──────────┘"
      ]
     },
     "metadata": {},
     "output_type": "display_data"
    }
   ],
   "source": [
    "# older\n",
    "\n",
    "display(\n",
    "    votes.select(COMPANY_COLS.is_null().sum())\n",
    "    / normed5_intra.select(pl.all().is_null().sum())\n",
    ")"
   ]
  },
  {
   "cell_type": "code",
   "execution_count": 12,
   "metadata": {},
   "outputs": [
    {
     "data": {
      "text/html": [
       "<div><style>\n",
       ".dataframe > thead > tr,\n",
       ".dataframe > tbody > tr {\n",
       "  text-align: right;\n",
       "  white-space: pre-wrap;\n",
       "}\n",
       "</style>\n",
       "<small>shape: (1, 4)</small><table border=\"1\" class=\"dataframe\"><thead><tr><th>issuer_name</th><th>cusip</th><th>isin</th><th>figi</th></tr><tr><td>f64</td><td>f64</td><td>f64</td><td>f64</td></tr></thead><tbody><tr><td>NaN</td><td>4.746032</td><td>95.557173</td><td>1.505622</td></tr></tbody></table></div>"
      ],
      "text/plain": [
       "shape: (1, 4)\n",
       "┌─────────────┬──────────┬───────────┬──────────┐\n",
       "│ issuer_name ┆ cusip    ┆ isin      ┆ figi     │\n",
       "│ ---         ┆ ---      ┆ ---       ┆ ---      │\n",
       "│ f64         ┆ f64      ┆ f64       ┆ f64      │\n",
       "╞═════════════╪══════════╪═══════════╪══════════╡\n",
       "│ NaN         ┆ 4.746032 ┆ 95.557173 ┆ 1.505622 │\n",
       "└─────────────┴──────────┴───────────┴──────────┘"
      ]
     },
     "metadata": {},
     "output_type": "display_data"
    }
   ],
   "source": [
    "# prev\n",
    "\n",
    "display(\n",
    "    votes.select(COMPANY_COLS.is_null().sum())\n",
    "    / normed5_intra.select(pl.all().is_null().sum())\n",
    ")"
   ]
  },
  {
   "cell_type": "code",
   "execution_count": 13,
   "metadata": {},
   "outputs": [
    {
     "data": {
      "text/html": [
       "<div><style>\n",
       ".dataframe > thead > tr,\n",
       ".dataframe > tbody > tr {\n",
       "  text-align: right;\n",
       "  white-space: pre-wrap;\n",
       "}\n",
       "</style>\n",
       "<small>shape: (1, 4)</small><table border=\"1\" class=\"dataframe\"><thead><tr><th>issuer_name</th><th>cusip</th><th>isin</th><th>figi</th></tr><tr><td>f64</td><td>f64</td><td>f64</td><td>f64</td></tr></thead><tbody><tr><td>NaN</td><td>4.746032</td><td>95.557173</td><td>1.505622</td></tr></tbody></table></div>"
      ],
      "text/plain": [
       "shape: (1, 4)\n",
       "┌─────────────┬──────────┬───────────┬──────────┐\n",
       "│ issuer_name ┆ cusip    ┆ isin      ┆ figi     │\n",
       "│ ---         ┆ ---      ┆ ---       ┆ ---      │\n",
       "│ f64         ┆ f64      ┆ f64       ┆ f64      │\n",
       "╞═════════════╪══════════╪═══════════╪══════════╡\n",
       "│ NaN         ┆ 4.746032 ┆ 95.557173 ┆ 1.505622 │\n",
       "└─────────────┴──────────┴───────────┴──────────┘"
      ]
     },
     "metadata": {},
     "output_type": "display_data"
    }
   ],
   "source": [
    "display(\n",
    "    votes.select(COMPANY_COLS.is_null().sum())\n",
    "    / normed5_intra.select(pl.all().is_null().sum())\n",
    ")"
   ]
  },
  {
   "cell_type": "code",
   "execution_count": null,
   "metadata": {},
   "outputs": [],
   "source": []
  },
  {
   "cell_type": "code",
   "execution_count": 14,
   "metadata": {},
   "outputs": [
    {
     "data": {
      "text/plain": [
       "19277"
      ]
     },
     "execution_count": 14,
     "metadata": {},
     "output_type": "execute_result"
    }
   ],
   "source": [
    "votes[\"issuer_name\"].n_unique()"
   ]
  },
  {
   "cell_type": "code",
   "execution_count": null,
   "metadata": {},
   "outputs": [],
   "source": []
  },
  {
   "cell_type": "code",
   "execution_count": 15,
   "metadata": {},
   "outputs": [
    {
     "data": {
      "text/plain": [
       "['MICROSOFT CORPORATION',\n",
       " 'THE WALT DISNEY COMPANY',\n",
       " 'AMAZON.COM, INC.',\n",
       " 'ALPHABET INC.',\n",
       " 'JPMORGAN CHASE & CO.',\n",
       " 'THE PROCTER & GAMBLE COMPANY',\n",
       " 'ORACLE CORPORATION',\n",
       " 'CISCO SYSTEMS, INC.',\n",
       " 'APPLE INC.',\n",
       " 'JOHNSON & JOHNSON',\n",
       " 'PEPSICO, INC.',\n",
       " 'VISA INC.',\n",
       " 'CHEVRON CORPORATION',\n",
       " 'MASTERCARD INCORPORATED',\n",
       " 'ABBVIE INC.',\n",
       " 'BANK OF AMERICA CORPORATION',\n",
       " 'MERCK & CO., INC.',\n",
       " 'CHUBB LIMITED',\n",
       " 'THE HOME DEPOT, INC.',\n",
       " 'NVIDIA CORPORATION',\n",
       " 'TE CONNECTIVITY LTD.',\n",
       " 'EXXON MOBIL CORPORATION',\n",
       " 'META PLATFORMS, INC.',\n",
       " 'UNITEDHEALTH GROUP INCORPORATED',\n",
       " 'VERIZON COMMUNICATIONS INC.',\n",
       " 'THE COCA-COLA COMPANY',\n",
       " 'SALESFORCE, INC.',\n",
       " \"MCDONALD'S CORPORATION\",\n",
       " 'WELLS FARGO & COMPANY',\n",
       " 'ADOBE INC.']"
      ]
     },
     "execution_count": 15,
     "metadata": {},
     "output_type": "execute_result"
    }
   ],
   "source": [
    "normed5_intra[\"issuer_name\"].value_counts(sort=True).head(30).to_series().to_list()"
   ]
  },
  {
   "cell_type": "code",
   "execution_count": 16,
   "metadata": {},
   "outputs": [
    {
     "name": "stdout",
     "output_type": "stream",
     "text": [
      "Post-processing subgraphs.\n"
     ]
    },
    {
     "name": "stderr",
     "output_type": "stream",
     "text": [
      "7615it [00:02, 3299.10it/s]\n"
     ]
    }
   ],
   "source": [
    "from record_consolidation.utils.polars_df import remove_string_nulls_and_uppercase\n",
    "\n",
    "\n",
    "atomic = extract_normalized_atomic(\n",
    "    votes.select(COMPANY_COLS),\n",
    "    partition_companies_graph_where_necessary,\n",
    "    pre_processing_fnc=remove_string_nulls_and_uppercase,\n",
    ")"
   ]
  },
  {
   "cell_type": "code",
   "execution_count": 19,
   "metadata": {},
   "outputs": [
    {
     "data": {
      "text/html": [
       "<div><style>\n",
       ".dataframe > thead > tr,\n",
       ".dataframe > tbody > tr {\n",
       "  text-align: right;\n",
       "  white-space: pre-wrap;\n",
       "}\n",
       "</style>\n",
       "<small>shape: (7_690, 4)</small><table border=\"1\" class=\"dataframe\"><thead><tr><th>cusip</th><th>isin</th><th>issuer_name</th><th>figi</th></tr><tr><td>str</td><td>str</td><td>str</td><td>str</td></tr></thead><tbody><tr><td>&quot;13646K108&quot;</td><td>&quot;CA13646K1084&quot;</td><td>&quot;CANADIAN PACIFIC KANSAS CITY L…</td><td>null</td></tr><tr><td>&quot;000360206&quot;</td><td>&quot;US0003602069&quot;</td><td>&quot;AAON, INC.&quot;</td><td>null</td></tr><tr><td>&quot;023135106&quot;</td><td>&quot;US0231351067&quot;</td><td>&quot;AMAZON.COM, INC.&quot;</td><td>&quot;BBG000BVPV84&quot;</td></tr><tr><td>&quot;032095101&quot;</td><td>&quot;US0320951017&quot;</td><td>&quot;AMPHENOL CORPORATION&quot;</td><td>null</td></tr><tr><td>&quot;26441C204&quot;</td><td>&quot;US26441C2044&quot;</td><td>&quot;DUKE ENERGY CORPORATION&quot;</td><td>null</td></tr><tr><td>&hellip;</td><td>&hellip;</td><td>&hellip;</td><td>&hellip;</td></tr><tr><td>&quot;78074G200&quot;</td><td>&quot;US78074G2003&quot;</td><td>&quot;ROYALE ENERGY, INC.&quot;</td><td>null</td></tr><tr><td>&quot;G3654P100&quot;</td><td>&quot;GB00BCKFY513&quot;</td><td>&quot;FOXTONS GROUP PLC&quot;</td><td>null</td></tr><tr><td>&quot;K16018192&quot;</td><td>&quot;DK0060448595&quot;</td><td>&quot;COLOPLAST A/S&quot;</td><td>null</td></tr><tr><td>&quot;629444100&quot;</td><td>&quot;US6294441000&quot;</td><td>&quot;NRX PHARMACEUTICALS, INC.&quot;</td><td>null</td></tr><tr><td>&quot;524686623&quot;</td><td>null</td><td>&quot;LEGG MASON&quot;</td><td>null</td></tr></tbody></table></div>"
      ],
      "text/plain": [
       "shape: (7_690, 4)\n",
       "┌───────────┬──────────────┬─────────────────────────────────┬──────────────┐\n",
       "│ cusip     ┆ isin         ┆ issuer_name                     ┆ figi         │\n",
       "│ ---       ┆ ---          ┆ ---                             ┆ ---          │\n",
       "│ str       ┆ str          ┆ str                             ┆ str          │\n",
       "╞═══════════╪══════════════╪═════════════════════════════════╪══════════════╡\n",
       "│ 13646K108 ┆ CA13646K1084 ┆ CANADIAN PACIFIC KANSAS CITY L… ┆ null         │\n",
       "│ 000360206 ┆ US0003602069 ┆ AAON, INC.                      ┆ null         │\n",
       "│ 023135106 ┆ US0231351067 ┆ AMAZON.COM, INC.                ┆ BBG000BVPV84 │\n",
       "│ 032095101 ┆ US0320951017 ┆ AMPHENOL CORPORATION            ┆ null         │\n",
       "│ 26441C204 ┆ US26441C2044 ┆ DUKE ENERGY CORPORATION         ┆ null         │\n",
       "│ …         ┆ …            ┆ …                               ┆ …            │\n",
       "│ 78074G200 ┆ US78074G2003 ┆ ROYALE ENERGY, INC.             ┆ null         │\n",
       "│ G3654P100 ┆ GB00BCKFY513 ┆ FOXTONS GROUP PLC               ┆ null         │\n",
       "│ K16018192 ┆ DK0060448595 ┆ COLOPLAST A/S                   ┆ null         │\n",
       "│ 629444100 ┆ US6294441000 ┆ NRX PHARMACEUTICALS, INC.       ┆ null         │\n",
       "│ 524686623 ┆ null         ┆ LEGG MASON                      ┆ null         │\n",
       "└───────────┴──────────────┴─────────────────────────────────┴──────────────┘"
      ]
     },
     "execution_count": 19,
     "metadata": {},
     "output_type": "execute_result"
    }
   ],
   "source": [
    "atomic"
   ]
  },
  {
   "cell_type": "code",
   "execution_count": 20,
   "metadata": {},
   "outputs": [
    {
     "data": {
      "text/html": [
       "<div><style>\n",
       ".dataframe > thead > tr,\n",
       ".dataframe > tbody > tr {\n",
       "  text-align: right;\n",
       "  white-space: pre-wrap;\n",
       "}\n",
       "</style>\n",
       "<small>shape: (778_944, 2)</small><table border=\"1\" class=\"dataframe\"><thead><tr><th>issuer_name</th><th>normed_issuer_name</th></tr><tr><td>str</td><td>str</td></tr></thead><tbody><tr><td>&quot;CANADIAN PACIFIC KANSAS CITY L…</td><td>&quot;CANADIAN PACIFIC KANSAS CITY L…</td></tr><tr><td>&quot;AAON, INC.&quot;</td><td>&quot;AAON, INC.&quot;</td></tr><tr><td>&quot;AMAZON.COM, INC.&quot;</td><td>&quot;AMAZON.COM, INC.&quot;</td></tr><tr><td>&quot;AMPHENOL CORPORATION&quot;</td><td>&quot;AMPHENOL CORPORATION&quot;</td></tr><tr><td>&quot;MICROSOFT CORPORATION&quot;</td><td>&quot;MICROSOFT CORPORATION&quot;</td></tr><tr><td>&hellip;</td><td>&hellip;</td></tr><tr><td>&quot;VERALTO CORPORATION&quot;</td><td>&quot;VERALTO CORPORATION&quot;</td></tr><tr><td>&quot;ANALOG DEVICES, INC.&quot;</td><td>&quot;ANALOG DEVICES, INC.&quot;</td></tr><tr><td>&quot;EDITAS MEDICINE, INC.&quot;</td><td>&quot;EDITAS MEDICINE, INC.&quot;</td></tr><tr><td>&quot;LOCKHEED MARTIN CORPORATION&quot;</td><td>&quot;LOCKHEED MARTIN CORPORATION&quot;</td></tr><tr><td>&quot;INTUIT INC.&quot;</td><td>&quot;INTUIT INC.&quot;</td></tr></tbody></table></div>"
      ],
      "text/plain": [
       "shape: (778_944, 2)\n",
       "┌─────────────────────────────────┬─────────────────────────────────┐\n",
       "│ issuer_name                     ┆ normed_issuer_name              │\n",
       "│ ---                             ┆ ---                             │\n",
       "│ str                             ┆ str                             │\n",
       "╞═════════════════════════════════╪═════════════════════════════════╡\n",
       "│ CANADIAN PACIFIC KANSAS CITY L… ┆ CANADIAN PACIFIC KANSAS CITY L… │\n",
       "│ AAON, INC.                      ┆ AAON, INC.                      │\n",
       "│ AMAZON.COM, INC.                ┆ AMAZON.COM, INC.                │\n",
       "│ AMPHENOL CORPORATION            ┆ AMPHENOL CORPORATION            │\n",
       "│ MICROSOFT CORPORATION           ┆ MICROSOFT CORPORATION           │\n",
       "│ …                               ┆ …                               │\n",
       "│ VERALTO CORPORATION             ┆ VERALTO CORPORATION             │\n",
       "│ ANALOG DEVICES, INC.            ┆ ANALOG DEVICES, INC.            │\n",
       "│ EDITAS MEDICINE, INC.           ┆ EDITAS MEDICINE, INC.           │\n",
       "│ LOCKHEED MARTIN CORPORATION     ┆ LOCKHEED MARTIN CORPORATION     │\n",
       "│ INTUIT INC.                     ┆ INTUIT INC.                     │\n",
       "└─────────────────────────────────┴─────────────────────────────────┘"
      ]
     },
     "execution_count": 20,
     "metadata": {},
     "output_type": "execute_result"
    }
   ],
   "source": [
    "names_comparison = pl.concat(\n",
    "    [\n",
    "        votes.select(\"issuer_name\"),\n",
    "        normed5_intra.select(\"issuer_name\").rename(\n",
    "            {\"issuer_name\": \"normed_issuer_name\"}\n",
    "        ),\n",
    "    ],\n",
    "    how=\"horizontal\",\n",
    ")\n",
    "names_comparison"
   ]
  },
  {
   "cell_type": "code",
   "execution_count": 21,
   "metadata": {},
   "outputs": [
    {
     "data": {
      "text/html": [
       "<div><style>\n",
       ".dataframe > thead > tr,\n",
       ".dataframe > tbody > tr {\n",
       "  text-align: right;\n",
       "  white-space: pre-wrap;\n",
       "}\n",
       "</style>\n",
       "<small>shape: (55, 2)</small><table border=\"1\" class=\"dataframe\"><thead><tr><th>issuer_name</th><th>normed_issuer_name</th></tr><tr><td>str</td><td>str</td></tr></thead><tbody><tr><td>&quot;Conoco Phillips&quot;</td><td>&quot;CONOCOPHILLIPS&quot;</td></tr><tr><td>&quot;Conoco Phillips&quot;</td><td>&quot;CONOCOPHILLIPS&quot;</td></tr><tr><td>&quot;Conoco Phillips&quot;</td><td>&quot;CONOCOPHILLIPS&quot;</td></tr><tr><td>&quot;Conoco Phillips&quot;</td><td>&quot;CONOCOPHILLIPS&quot;</td></tr><tr><td>&quot;Conoco Phillips&quot;</td><td>&quot;CONOCOPHILLIPS&quot;</td></tr><tr><td>&hellip;</td><td>&hellip;</td></tr><tr><td>&quot;CONOCO PHILLIPS&quot;</td><td>&quot;CONOCOPHILLIPS&quot;</td></tr><tr><td>&quot;CONOCO PHILLIPS&quot;</td><td>&quot;CONOCOPHILLIPS&quot;</td></tr><tr><td>&quot;CONOCO PHILLIPS&quot;</td><td>&quot;CONOCOPHILLIPS&quot;</td></tr><tr><td>&quot;CONOCO PHILLIPS&quot;</td><td>&quot;CONOCOPHILLIPS&quot;</td></tr><tr><td>&quot;CONOCO PHILLIPS &quot;</td><td>&quot;CONOCOPHILLIPS&quot;</td></tr></tbody></table></div>"
      ],
      "text/plain": [
       "shape: (55, 2)\n",
       "┌──────────────────┬────────────────────┐\n",
       "│ issuer_name      ┆ normed_issuer_name │\n",
       "│ ---              ┆ ---                │\n",
       "│ str              ┆ str                │\n",
       "╞══════════════════╪════════════════════╡\n",
       "│ Conoco Phillips  ┆ CONOCOPHILLIPS     │\n",
       "│ Conoco Phillips  ┆ CONOCOPHILLIPS     │\n",
       "│ Conoco Phillips  ┆ CONOCOPHILLIPS     │\n",
       "│ Conoco Phillips  ┆ CONOCOPHILLIPS     │\n",
       "│ Conoco Phillips  ┆ CONOCOPHILLIPS     │\n",
       "│ …                ┆ …                  │\n",
       "│ CONOCO PHILLIPS  ┆ CONOCOPHILLIPS     │\n",
       "│ CONOCO PHILLIPS  ┆ CONOCOPHILLIPS     │\n",
       "│ CONOCO PHILLIPS  ┆ CONOCOPHILLIPS     │\n",
       "│ CONOCO PHILLIPS  ┆ CONOCOPHILLIPS     │\n",
       "│ CONOCO PHILLIPS  ┆ CONOCOPHILLIPS     │\n",
       "└──────────────────┴────────────────────┘"
      ]
     },
     "execution_count": 21,
     "metadata": {},
     "output_type": "execute_result"
    }
   ],
   "source": [
    "names_comparison.filter(pl.col(\"issuer_name\").str.contains(\"(?i)conoco phillips\"))"
   ]
  },
  {
   "cell_type": "code",
   "execution_count": null,
   "metadata": {},
   "outputs": [],
   "source": []
  },
  {
   "cell_type": "code",
   "execution_count": null,
   "metadata": {},
   "outputs": [],
   "source": []
  },
  {
   "cell_type": "code",
   "execution_count": 22,
   "metadata": {},
   "outputs": [
    {
     "data": {
      "text/html": [
       "<div><style>\n",
       ".dataframe > thead > tr,\n",
       ".dataframe > tbody > tr {\n",
       "  text-align: right;\n",
       "  white-space: pre-wrap;\n",
       "}\n",
       "</style>\n",
       "<small>shape: (0, 24)</small><table border=\"1\" class=\"dataframe\"><thead><tr><th>issuer_name</th><th>cusip</th><th>isin</th><th>figi</th><th>meeting_date</th><th>date_parsed_w_certainty</th><th>vote_description</th><th>other_vote_description</th><th>vote_source</th><th>management_recommendation</th><th>how_voted</th><th>shares_voted</th><th>total_shares_voted</th><th>shares_on_loan</th><th>vote_manager</th><th>vote_series</th><th>vote_other_info</th><th>accession</th><th>date_recorded</th><th>order_recorded</th><th>filer_cik</th><th>filer_name</th><th>fund_id</th><th>fund_id_type</th></tr><tr><td>str</td><td>str</td><td>str</td><td>str</td><td>str</td><td>i64</td><td>str</td><td>str</td><td>str</td><td>str</td><td>str</td><td>f64</td><td>f64</td><td>f64</td><td>null</td><td>str</td><td>str</td><td>str</td><td>str</td><td>i64</td><td>str</td><td>str</td><td>str</td><td>str</td></tr></thead><tbody></tbody></table></div>"
      ],
      "text/plain": [
       "shape: (0, 24)\n",
       "┌─────────────┬───────┬──────┬──────┬───┬───────────┬────────────┬─────────┬──────────────┐\n",
       "│ issuer_name ┆ cusip ┆ isin ┆ figi ┆ … ┆ filer_cik ┆ filer_name ┆ fund_id ┆ fund_id_type │\n",
       "│ ---         ┆ ---   ┆ ---  ┆ ---  ┆   ┆ ---       ┆ ---        ┆ ---     ┆ ---          │\n",
       "│ str         ┆ str   ┆ str  ┆ str  ┆   ┆ str       ┆ str        ┆ str     ┆ str          │\n",
       "╞═════════════╪═══════╪══════╪══════╪═══╪═══════════╪════════════╪═════════╪══════════════╡\n",
       "└─────────────┴───────┴──────┴──────┴───┴───────────┴────────────┴─────────┴──────────────┘"
      ]
     },
     "execution_count": 22,
     "metadata": {},
     "output_type": "execute_result"
    }
   ],
   "source": [
    "normed5_intra.filter(\n",
    "    (pl.col(\"issuer_name\") == pl.lit(\"MICROSOFT CORPORATION\"))\n",
    "    & (pl.col(\"cusip\").is_null())\n",
    ")"
   ]
  },
  {
   "cell_type": "code",
   "execution_count": 30,
   "metadata": {},
   "outputs": [
    {
     "name": "stdout",
     "output_type": "stream",
     "text": [
      "************************************************************ MICROSOFT ************************************************************\n",
      "Un-Normalized (n=4729)\n"
     ]
    },
    {
     "data": {
      "text/html": [
       "<div><style>\n",
       ".dataframe > thead > tr,\n",
       ".dataframe > tbody > tr {\n",
       "  text-align: right;\n",
       "  white-space: pre-wrap;\n",
       "}\n",
       "</style>\n",
       "<small>shape: (13, 6)</small><table border=\"1\" class=\"dataframe\"><thead><tr><th>issuer_name</th><th>len</th><th>cusip</th><th>isin</th><th>figi</th><th>% of obs</th></tr><tr><td>str</td><td>u32</td><td>list[str]</td><td>list[str]</td><td>list[str]</td><td>f64</td></tr></thead><tbody><tr><td>&quot;MICROSOFT CORPORATION&quot;</td><td>2555</td><td>[&quot;594918104&quot;, null, &quot;594918105&quot;]</td><td>[null, &quot;US5949181045&quot;]</td><td>[null]</td><td>54.028336</td></tr><tr><td>&quot;Microsoft Corporation&quot;</td><td>1795</td><td>[&quot;594918104&quot;, &quot;594918103&quot;, … &quot;000594918&quot;]</td><td>[null, &quot;US5949181045&quot;]</td><td>[&quot;BBG000BPH459&quot;, null]</td><td>37.957285</td></tr><tr><td>&quot;Microsoft Corp&quot;</td><td>226</td><td>[null, &quot;594918104&quot;]</td><td>[null, &quot;US5949181045&quot;]</td><td>[null, &quot;BBG000BPH459&quot;]</td><td>4.779023</td></tr><tr><td>&quot;MICROSOFT\n",
       "CORPORATION&quot;</td><td>64</td><td>[&quot;594918104&quot;]</td><td>[&quot;US5949181045&quot;, null]</td><td>[null]</td><td>1.353352</td></tr><tr><td>&quot;Microsoft Corp.&quot;</td><td>60</td><td>[&quot;594918104&quot;]</td><td>[&quot;US5949181045&quot;, null]</td><td>[&quot;BBG000BPH459&quot;, null]</td><td>1.268767</td></tr><tr><td>&hellip;</td><td>&hellip;</td><td>&hellip;</td><td>&hellip;</td><td>&hellip;</td><td>&hellip;</td></tr><tr><td>&quot;MICROSOFT&quot;</td><td>2</td><td>[&quot;594918104&quot;, null]</td><td>[null]</td><td>[null]</td><td>0.042292</td></tr><tr><td>&quot;MICROSOFT CORPORATION COM&quot;</td><td>2</td><td>[&quot;594918104&quot;]</td><td>[&quot;US5949181045&quot;]</td><td>[null]</td><td>0.042292</td></tr><tr><td>&quot;MICROSOFTCORPORATION&quot;</td><td>2</td><td>[&quot;594918104&quot;]</td><td>[&quot;US5949181045&quot;]</td><td>[null]</td><td>0.042292</td></tr><tr><td>&quot;MICROSOFT CORP COM&quot;</td><td>1</td><td>[&quot;594918104&quot;]</td><td>[&quot;US5949181045&quot;]</td><td>[null]</td><td>0.021146</td></tr><tr><td>&quot;Microsoft Annual Meeting&quot;</td><td>1</td><td>[&quot;594918104&quot;]</td><td>[null]</td><td>[null]</td><td>0.021146</td></tr></tbody></table></div>"
      ],
      "text/plain": [
       "shape: (13, 6)\n",
       "┌───────────────────┬──────┬───────────────────┬───────────────────┬───────────────────┬───────────┐\n",
       "│ issuer_name       ┆ len  ┆ cusip             ┆ isin              ┆ figi              ┆ % of obs  │\n",
       "│ ---               ┆ ---  ┆ ---               ┆ ---               ┆ ---               ┆ ---       │\n",
       "│ str               ┆ u32  ┆ list[str]         ┆ list[str]         ┆ list[str]         ┆ f64       │\n",
       "╞═══════════════════╪══════╪═══════════════════╪═══════════════════╪═══════════════════╪═══════════╡\n",
       "│ MICROSOFT         ┆ 2555 ┆ [\"594918104\",     ┆ [null,            ┆ [null]            ┆ 54.028336 │\n",
       "│ CORPORATION       ┆      ┆ null, \"594918105… ┆ \"US5949181045\"]   ┆                   ┆           │\n",
       "│ Microsoft         ┆ 1795 ┆ [\"594918104\",     ┆ [null,            ┆ [\"BBG000BPH459\",  ┆ 37.957285 │\n",
       "│ Corporation       ┆      ┆ \"594918103\", … \"… ┆ \"US5949181045\"]   ┆ null]             ┆           │\n",
       "│ Microsoft Corp    ┆ 226  ┆ [null,            ┆ [null,            ┆ [null,            ┆ 4.779023  │\n",
       "│                   ┆      ┆ \"594918104\"]      ┆ \"US5949181045\"]   ┆ \"BBG000BPH459\"]   ┆           │\n",
       "│ MICROSOFT         ┆ 64   ┆ [\"594918104\"]     ┆ [\"US5949181045\",  ┆ [null]            ┆ 1.353352  │\n",
       "│ CORPORATION       ┆      ┆                   ┆ null]             ┆                   ┆           │\n",
       "│ Microsoft Corp.   ┆ 60   ┆ [\"594918104\"]     ┆ [\"US5949181045\",  ┆ [\"BBG000BPH459\",  ┆ 1.268767  │\n",
       "│                   ┆      ┆                   ┆ null]             ┆ null]             ┆           │\n",
       "│ …                 ┆ …    ┆ …                 ┆ …                 ┆ …                 ┆ …         │\n",
       "│ MICROSOFT         ┆ 2    ┆ [\"594918104\",     ┆ [null]            ┆ [null]            ┆ 0.042292  │\n",
       "│                   ┆      ┆ null]             ┆                   ┆                   ┆           │\n",
       "│ MICROSOFT         ┆ 2    ┆ [\"594918104\"]     ┆ [\"US5949181045\"]  ┆ [null]            ┆ 0.042292  │\n",
       "│ CORPORATION COM   ┆      ┆                   ┆                   ┆                   ┆           │\n",
       "│ MICROSOFTCORPORAT ┆ 2    ┆ [\"594918104\"]     ┆ [\"US5949181045\"]  ┆ [null]            ┆ 0.042292  │\n",
       "│ ION               ┆      ┆                   ┆                   ┆                   ┆           │\n",
       "│ MICROSOFT CORP    ┆ 1    ┆ [\"594918104\"]     ┆ [\"US5949181045\"]  ┆ [null]            ┆ 0.021146  │\n",
       "│ COM               ┆      ┆                   ┆                   ┆                   ┆           │\n",
       "│ Microsoft Annual  ┆ 1    ┆ [\"594918104\"]     ┆ [null]            ┆ [null]            ┆ 0.021146  │\n",
       "│ Meeting           ┆      ┆                   ┆                   ┆                   ┆           │\n",
       "└───────────────────┴──────┴───────────────────┴───────────────────┴───────────────────┴───────────┘"
      ]
     },
     "metadata": {},
     "output_type": "display_data"
    },
    {
     "name": "stdout",
     "output_type": "stream",
     "text": [
      "Normalized -- INTRA (n=4734)\n"
     ]
    },
    {
     "data": {
      "text/html": [
       "<div><style>\n",
       ".dataframe > thead > tr,\n",
       ".dataframe > tbody > tr {\n",
       "  text-align: right;\n",
       "  white-space: pre-wrap;\n",
       "}\n",
       "</style>\n",
       "<small>shape: (1, 6)</small><table border=\"1\" class=\"dataframe\"><thead><tr><th>issuer_name</th><th>len</th><th>cusip</th><th>isin</th><th>figi</th><th>% of obs</th></tr><tr><td>str</td><td>u32</td><td>list[str]</td><td>list[str]</td><td>list[str]</td><td>f64</td></tr></thead><tbody><tr><td>&quot;MICROSOFT CORPORATION&quot;</td><td>4734</td><td>[&quot;58155Q103&quot;, &quot;594918104&quot;]</td><td>[&quot;US5949181045&quot;, &quot;US58155Q1031&quot;]</td><td>[&quot;BBG000BLNPB7&quot;, &quot;BBG000BPH459&quot;]</td><td>100.0</td></tr></tbody></table></div>"
      ],
      "text/plain": [
       "shape: (1, 6)\n",
       "┌─────────────┬──────┬───────────────┬──────────────────┬──────────────────┬──────────┐\n",
       "│ issuer_name ┆ len  ┆ cusip         ┆ isin             ┆ figi             ┆ % of obs │\n",
       "│ ---         ┆ ---  ┆ ---           ┆ ---              ┆ ---              ┆ ---      │\n",
       "│ str         ┆ u32  ┆ list[str]     ┆ list[str]        ┆ list[str]        ┆ f64      │\n",
       "╞═════════════╪══════╪═══════════════╪══════════════════╪══════════════════╪══════════╡\n",
       "│ MICROSOFT   ┆ 4734 ┆ [\"58155Q103\", ┆ [\"US5949181045\", ┆ [\"BBG000BLNPB7\", ┆ 100.0    │\n",
       "│ CORPORATION ┆      ┆ \"594918104\"]  ┆ \"US58155Q1031…   ┆ \"BBG000BPH459…   ┆          │\n",
       "└─────────────┴──────┴───────────────┴──────────────────┴──────────────────┴──────────┘"
      ]
     },
     "metadata": {},
     "output_type": "display_data"
    },
    {
     "name": "stdout",
     "output_type": "stream",
     "text": [
      "Normalized -- NO INTRA (n=4733)\n"
     ]
    },
    {
     "data": {
      "text/html": [
       "<div><style>\n",
       ".dataframe > thead > tr,\n",
       ".dataframe > tbody > tr {\n",
       "  text-align: right;\n",
       "  white-space: pre-wrap;\n",
       "}\n",
       "</style>\n",
       "<small>shape: (1, 6)</small><table border=\"1\" class=\"dataframe\"><thead><tr><th>issuer_name</th><th>len</th><th>cusip</th><th>isin</th><th>figi</th><th>% of obs</th></tr><tr><td>str</td><td>u32</td><td>list[str]</td><td>list[str]</td><td>list[str]</td><td>f64</td></tr></thead><tbody><tr><td>&quot;MICROSOFT CORPORATION&quot;</td><td>4733</td><td>[&quot;594918104&quot;, null]</td><td>[&quot;US5949181045&quot;]</td><td>[&quot;BBG000BPH459&quot;]</td><td>100.0</td></tr></tbody></table></div>"
      ],
      "text/plain": [
       "shape: (1, 6)\n",
       "┌─────────────┬──────┬─────────────────────┬──────────────────┬──────────────────┬──────────┐\n",
       "│ issuer_name ┆ len  ┆ cusip               ┆ isin             ┆ figi             ┆ % of obs │\n",
       "│ ---         ┆ ---  ┆ ---                 ┆ ---              ┆ ---              ┆ ---      │\n",
       "│ str         ┆ u32  ┆ list[str]           ┆ list[str]        ┆ list[str]        ┆ f64      │\n",
       "╞═════════════╪══════╪═════════════════════╪══════════════════╪══════════════════╪══════════╡\n",
       "│ MICROSOFT   ┆ 4733 ┆ [\"594918104\", null] ┆ [\"US5949181045\"] ┆ [\"BBG000BPH459\"] ┆ 100.0    │\n",
       "│ CORPORATION ┆      ┆                     ┆                  ┆                  ┆          │\n",
       "└─────────────┴──────┴─────────────────────┴──────────────────┴──────────────────┴──────────┘"
      ]
     },
     "metadata": {},
     "output_type": "display_data"
    },
    {
     "name": "stdout",
     "output_type": "stream",
     "text": [
      "Consolidation Fodder:\n"
     ]
    },
    {
     "data": {
      "text/html": [
       "<div>\n",
       "<style scoped>\n",
       "    .dataframe tbody tr th:only-of-type {\n",
       "        vertical-align: middle;\n",
       "    }\n",
       "\n",
       "    .dataframe tbody tr th {\n",
       "        vertical-align: top;\n",
       "    }\n",
       "\n",
       "    .dataframe thead th {\n",
       "        text-align: right;\n",
       "    }\n",
       "</style>\n",
       "<table border=\"1\" class=\"dataframe\">\n",
       "  <thead>\n",
       "    <tr style=\"text-align: right;\">\n",
       "      <th></th>\n",
       "      <th>issuer_name</th>\n",
       "      <th>count</th>\n",
       "    </tr>\n",
       "  </thead>\n",
       "  <tbody>\n",
       "    <tr>\n",
       "      <th>0</th>\n",
       "      <td>MICROSOFT CORPORATION</td>\n",
       "      <td>2555</td>\n",
       "    </tr>\n",
       "    <tr>\n",
       "      <th>1</th>\n",
       "      <td>Microsoft Corporation</td>\n",
       "      <td>1795</td>\n",
       "    </tr>\n",
       "    <tr>\n",
       "      <th>2</th>\n",
       "      <td>Microsoft Corp</td>\n",
       "      <td>226</td>\n",
       "    </tr>\n",
       "    <tr>\n",
       "      <th>3</th>\n",
       "      <td>MICROSOFT\\nCORPORATION</td>\n",
       "      <td>64</td>\n",
       "    </tr>\n",
       "    <tr>\n",
       "      <th>4</th>\n",
       "      <td>Microsoft Corp.</td>\n",
       "      <td>60</td>\n",
       "    </tr>\n",
       "    <tr>\n",
       "      <th>5</th>\n",
       "      <td>MICROSOFT CORP</td>\n",
       "      <td>13</td>\n",
       "    </tr>\n",
       "    <tr>\n",
       "      <th>6</th>\n",
       "      <td>Microsoft</td>\n",
       "      <td>6</td>\n",
       "    </tr>\n",
       "    <tr>\n",
       "      <th>7</th>\n",
       "      <td>MSFT</td>\n",
       "      <td>3</td>\n",
       "    </tr>\n",
       "    <tr>\n",
       "      <th>8</th>\n",
       "      <td>MICROSOFT</td>\n",
       "      <td>2</td>\n",
       "    </tr>\n",
       "    <tr>\n",
       "      <th>9</th>\n",
       "      <td>MICROSOFT CORPORATION COM</td>\n",
       "      <td>2</td>\n",
       "    </tr>\n",
       "    <tr>\n",
       "      <th>10</th>\n",
       "      <td>MICROSOFTCORPORATION</td>\n",
       "      <td>2</td>\n",
       "    </tr>\n",
       "    <tr>\n",
       "      <th>11</th>\n",
       "      <td>Microsoft Corporation (MSFT)</td>\n",
       "      <td>2</td>\n",
       "    </tr>\n",
       "    <tr>\n",
       "      <th>12</th>\n",
       "      <td>MICROSOFT CORP COM</td>\n",
       "      <td>1</td>\n",
       "    </tr>\n",
       "    <tr>\n",
       "      <th>13</th>\n",
       "      <td>Microsoft Annual Meeting</td>\n",
       "      <td>1</td>\n",
       "    </tr>\n",
       "    <tr>\n",
       "      <th>14</th>\n",
       "      <td>McKesson Corporation</td>\n",
       "      <td>1</td>\n",
       "    </tr>\n",
       "    <tr>\n",
       "      <th>15</th>\n",
       "      <td>Mitsubishi Financial Group</td>\n",
       "      <td>1</td>\n",
       "    </tr>\n",
       "  </tbody>\n",
       "</table>\n",
       "</div>"
      ],
      "text/plain": [
       "                     issuer_name  count\n",
       "0          MICROSOFT CORPORATION   2555\n",
       "1          Microsoft Corporation   1795\n",
       "2                 Microsoft Corp    226\n",
       "3         MICROSOFT\\nCORPORATION     64\n",
       "4                Microsoft Corp.     60\n",
       "5                 MICROSOFT CORP     13\n",
       "6                      Microsoft      6\n",
       "7                           MSFT      3\n",
       "8                      MICROSOFT      2\n",
       "9      MICROSOFT CORPORATION COM      2\n",
       "10          MICROSOFTCORPORATION      2\n",
       "11  Microsoft Corporation (MSFT)      2\n",
       "12            MICROSOFT CORP COM      1\n",
       "13      Microsoft Annual Meeting      1\n",
       "14          McKesson Corporation      1\n",
       "15    Mitsubishi Financial Group      1"
      ]
     },
     "metadata": {},
     "output_type": "display_data"
    },
    {
     "name": "stdout",
     "output_type": "stream",
     "text": [
      "************************************************************ DISNEY ************************************************************\n",
      "Un-Normalized (n=2943)\n"
     ]
    },
    {
     "data": {
      "text/html": [
       "<div><style>\n",
       ".dataframe > thead > tr,\n",
       ".dataframe > tbody > tr {\n",
       "  text-align: right;\n",
       "  white-space: pre-wrap;\n",
       "}\n",
       "</style>\n",
       "<small>shape: (21, 6)</small><table border=\"1\" class=\"dataframe\"><thead><tr><th>issuer_name</th><th>len</th><th>cusip</th><th>isin</th><th>figi</th><th>% of obs</th></tr><tr><td>str</td><td>u32</td><td>list[str]</td><td>list[str]</td><td>list[str]</td><td>f64</td></tr></thead><tbody><tr><td>&quot;The Walt Disney Company&quot;</td><td>1489</td><td>[&quot;254687106&quot;, null]</td><td>[&quot;US2546871060&quot;, null]</td><td>[null, &quot;BBG000BLNNV0&quot;]</td><td>50.594631</td></tr><tr><td>&quot;THE WALT DISNEY COMPANY&quot;</td><td>1408</td><td>[&quot;Z54687106&quot;, &quot;254687106&quot;, null]</td><td>[null, &quot;US2546871060&quot;]</td><td>[&quot;BBG000BH4R78&quot;, null]</td><td>47.842338</td></tr><tr><td>&quot;THE WALT DISNEY\n",
       "COMPANY&quot;</td><td>12</td><td>[&quot;254687106&quot;]</td><td>[&quot;US2546871060&quot;, null]</td><td>[null]</td><td>0.407747</td></tr><tr><td>&quot;Walt Disney Co (The)&quot;</td><td>9</td><td>[&quot;254687106&quot;]</td><td>[&quot;US2546871060&quot;]</td><td>[null]</td><td>0.30581</td></tr><tr><td>&quot;The Walt Disney Co&quot;</td><td>3</td><td>[&quot;254687106&quot;]</td><td>[&quot;US2546871060&quot;, null]</td><td>[null, &quot;BBG000BH4R79&quot;, &quot;BBG000BH4R78&quot;]</td><td>0.101937</td></tr><tr><td>&hellip;</td><td>&hellip;</td><td>&hellip;</td><td>&hellip;</td><td>&hellip;</td><td>&hellip;</td></tr><tr><td>&quot;WALT DISNEY CO&quot;</td><td>1</td><td>[&quot;254687106&quot;]</td><td>[null]</td><td>[null]</td><td>0.033979</td></tr><tr><td>&quot;Walt Disney&quot;</td><td>1</td><td>[&quot;254687106&quot;]</td><td>[null]</td><td>[null]</td><td>0.033979</td></tr><tr><td>&quot;Walt Disney Company (The)&quot;</td><td>1</td><td>[&quot;254687106&quot;]</td><td>[null]</td><td>[null]</td><td>0.033979</td></tr><tr><td>&quot;THE WALT DISNEY CO&quot;</td><td>1</td><td>[&quot;254687106&quot;]</td><td>[null]</td><td>[null]</td><td>0.033979</td></tr><tr><td>&quot;The Walt Disney Corporation&quot;</td><td>1</td><td>[&quot;254687106&quot;]</td><td>[null]</td><td>[null]</td><td>0.033979</td></tr></tbody></table></div>"
      ],
      "text/plain": [
       "shape: (21, 6)\n",
       "┌───────────────────┬──────┬───────────────────┬───────────────────┬───────────────────┬───────────┐\n",
       "│ issuer_name       ┆ len  ┆ cusip             ┆ isin              ┆ figi              ┆ % of obs  │\n",
       "│ ---               ┆ ---  ┆ ---               ┆ ---               ┆ ---               ┆ ---       │\n",
       "│ str               ┆ u32  ┆ list[str]         ┆ list[str]         ┆ list[str]         ┆ f64       │\n",
       "╞═══════════════════╪══════╪═══════════════════╪═══════════════════╪═══════════════════╪═══════════╡\n",
       "│ The Walt Disney   ┆ 1489 ┆ [\"254687106\",     ┆ [\"US2546871060\",  ┆ [null,            ┆ 50.594631 │\n",
       "│ Company           ┆      ┆ null]             ┆ null]             ┆ \"BBG000BLNNV0\"]   ┆           │\n",
       "│ THE WALT DISNEY   ┆ 1408 ┆ [\"Z54687106\",     ┆ [null,            ┆ [\"BBG000BH4R78\",  ┆ 47.842338 │\n",
       "│ COMPANY           ┆      ┆ \"254687106\", nul… ┆ \"US2546871060\"]   ┆ null]             ┆           │\n",
       "│ THE WALT DISNEY   ┆ 12   ┆ [\"254687106\"]     ┆ [\"US2546871060\",  ┆ [null]            ┆ 0.407747  │\n",
       "│ COMPANY           ┆      ┆                   ┆ null]             ┆                   ┆           │\n",
       "│ Walt Disney Co    ┆ 9    ┆ [\"254687106\"]     ┆ [\"US2546871060\"]  ┆ [null]            ┆ 0.30581   │\n",
       "│ (The)             ┆      ┆                   ┆                   ┆                   ┆           │\n",
       "│ The Walt Disney   ┆ 3    ┆ [\"254687106\"]     ┆ [\"US2546871060\",  ┆ [null,            ┆ 0.101937  │\n",
       "│ Co                ┆      ┆                   ┆ null]             ┆ \"BBG000BH4R79\",   ┆           │\n",
       "│                   ┆      ┆                   ┆                   ┆ \"BBG000…          ┆           │\n",
       "│ …                 ┆ …    ┆ …                 ┆ …                 ┆ …                 ┆ …         │\n",
       "│ WALT DISNEY CO    ┆ 1    ┆ [\"254687106\"]     ┆ [null]            ┆ [null]            ┆ 0.033979  │\n",
       "│ Walt Disney       ┆ 1    ┆ [\"254687106\"]     ┆ [null]            ┆ [null]            ┆ 0.033979  │\n",
       "│ Walt Disney       ┆ 1    ┆ [\"254687106\"]     ┆ [null]            ┆ [null]            ┆ 0.033979  │\n",
       "│ Company (The)     ┆      ┆                   ┆                   ┆                   ┆           │\n",
       "│ THE WALT DISNEY   ┆ 1    ┆ [\"254687106\"]     ┆ [null]            ┆ [null]            ┆ 0.033979  │\n",
       "│ CO                ┆      ┆                   ┆                   ┆                   ┆           │\n",
       "│ The Walt Disney   ┆ 1    ┆ [\"254687106\"]     ┆ [null]            ┆ [null]            ┆ 0.033979  │\n",
       "│ Corporation       ┆      ┆                   ┆                   ┆                   ┆           │\n",
       "└───────────────────┴──────┴───────────────────┴───────────────────┴───────────────────┴───────────┘"
      ]
     },
     "metadata": {},
     "output_type": "display_data"
    },
    {
     "name": "stdout",
     "output_type": "stream",
     "text": [
      "Normalized -- INTRA (n=2951)\n"
     ]
    },
    {
     "data": {
      "text/html": [
       "<div><style>\n",
       ".dataframe > thead > tr,\n",
       ".dataframe > tbody > tr {\n",
       "  text-align: right;\n",
       "  white-space: pre-wrap;\n",
       "}\n",
       "</style>\n",
       "<small>shape: (1, 6)</small><table border=\"1\" class=\"dataframe\"><thead><tr><th>issuer_name</th><th>len</th><th>cusip</th><th>isin</th><th>figi</th><th>% of obs</th></tr><tr><td>str</td><td>u32</td><td>list[str]</td><td>list[str]</td><td>list[str]</td><td>f64</td></tr></thead><tbody><tr><td>&quot;THE WALT DISNEY COMPANY&quot;</td><td>2951</td><td>[null, &quot;254687106&quot;]</td><td>[&quot;US2546871060&quot;, null]</td><td>[&quot;BBG000BH4R78&quot;, null]</td><td>100.0</td></tr></tbody></table></div>"
      ],
      "text/plain": [
       "shape: (1, 6)\n",
       "┌───────────────────────────┬──────┬──────────────┬──────────────────┬──────────────────┬──────────┐\n",
       "│ issuer_name               ┆ len  ┆ cusip        ┆ isin             ┆ figi             ┆ % of obs │\n",
       "│ ---                       ┆ ---  ┆ ---          ┆ ---              ┆ ---              ┆ ---      │\n",
       "│ str                       ┆ u32  ┆ list[str]    ┆ list[str]        ┆ list[str]        ┆ f64      │\n",
       "╞═══════════════════════════╪══════╪══════════════╪══════════════════╪══════════════════╪══════════╡\n",
       "│ THE WALT DISNEY COMPANY   ┆ 2951 ┆ [null,       ┆ [\"US2546871060\", ┆ [\"BBG000BH4R78\", ┆ 100.0    │\n",
       "│                           ┆      ┆ \"254687106\"] ┆ null]            ┆ null]            ┆          │\n",
       "└───────────────────────────┴──────┴──────────────┴──────────────────┴──────────────────┴──────────┘"
      ]
     },
     "metadata": {},
     "output_type": "display_data"
    },
    {
     "name": "stdout",
     "output_type": "stream",
     "text": [
      "Normalized -- NO INTRA (n=2952)\n"
     ]
    },
    {
     "data": {
      "text/html": [
       "<div><style>\n",
       ".dataframe > thead > tr,\n",
       ".dataframe > tbody > tr {\n",
       "  text-align: right;\n",
       "  white-space: pre-wrap;\n",
       "}\n",
       "</style>\n",
       "<small>shape: (1, 6)</small><table border=\"1\" class=\"dataframe\"><thead><tr><th>issuer_name</th><th>len</th><th>cusip</th><th>isin</th><th>figi</th><th>% of obs</th></tr><tr><td>str</td><td>u32</td><td>list[str]</td><td>list[str]</td><td>list[str]</td><td>f64</td></tr></thead><tbody><tr><td>&quot;THE WALT DISNEY COMPANY&quot;</td><td>2952</td><td>[&quot;254687106&quot;, &quot;855244109&quot;]</td><td>[&quot;US8552441094&quot;, &quot;US2546871060&quot;]</td><td>[&quot;BBG000CTQBF3&quot;, &quot;BBG000BH4R78&quot;]</td><td>100.0</td></tr></tbody></table></div>"
      ],
      "text/plain": [
       "shape: (1, 6)\n",
       "┌─────────────────┬──────┬───────────────┬──────────────────┬──────────────────┬──────────┐\n",
       "│ issuer_name     ┆ len  ┆ cusip         ┆ isin             ┆ figi             ┆ % of obs │\n",
       "│ ---             ┆ ---  ┆ ---           ┆ ---              ┆ ---              ┆ ---      │\n",
       "│ str             ┆ u32  ┆ list[str]     ┆ list[str]        ┆ list[str]        ┆ f64      │\n",
       "╞═════════════════╪══════╪═══════════════╪══════════════════╪══════════════════╪══════════╡\n",
       "│ THE WALT DISNEY ┆ 2952 ┆ [\"254687106\", ┆ [\"US8552441094\", ┆ [\"BBG000CTQBF3\", ┆ 100.0    │\n",
       "│ COMPANY         ┆      ┆ \"855244109\"]  ┆ \"US2546871060…   ┆ \"BBG000BH4R78…   ┆          │\n",
       "└─────────────────┴──────┴───────────────┴──────────────────┴──────────────────┴──────────┘"
      ]
     },
     "metadata": {},
     "output_type": "display_data"
    },
    {
     "name": "stdout",
     "output_type": "stream",
     "text": [
      "Consolidation Fodder:\n"
     ]
    },
    {
     "data": {
      "text/html": [
       "<div>\n",
       "<style scoped>\n",
       "    .dataframe tbody tr th:only-of-type {\n",
       "        vertical-align: middle;\n",
       "    }\n",
       "\n",
       "    .dataframe tbody tr th {\n",
       "        vertical-align: top;\n",
       "    }\n",
       "\n",
       "    .dataframe thead th {\n",
       "        text-align: right;\n",
       "    }\n",
       "</style>\n",
       "<table border=\"1\" class=\"dataframe\">\n",
       "  <thead>\n",
       "    <tr style=\"text-align: right;\">\n",
       "      <th></th>\n",
       "      <th>issuer_name</th>\n",
       "      <th>count</th>\n",
       "    </tr>\n",
       "  </thead>\n",
       "  <tbody>\n",
       "    <tr>\n",
       "      <th>0</th>\n",
       "      <td>The Walt Disney Company</td>\n",
       "      <td>1489</td>\n",
       "    </tr>\n",
       "    <tr>\n",
       "      <th>1</th>\n",
       "      <td>THE WALT DISNEY COMPANY</td>\n",
       "      <td>1408</td>\n",
       "    </tr>\n",
       "    <tr>\n",
       "      <th>2</th>\n",
       "      <td>THE WALT DISNEY\\nCOMPANY</td>\n",
       "      <td>12</td>\n",
       "    </tr>\n",
       "    <tr>\n",
       "      <th>3</th>\n",
       "      <td>Walt Disney Co (The)</td>\n",
       "      <td>9</td>\n",
       "    </tr>\n",
       "    <tr>\n",
       "      <th>4</th>\n",
       "      <td>DIS</td>\n",
       "      <td>8</td>\n",
       "    </tr>\n",
       "    <tr>\n",
       "      <th>5</th>\n",
       "      <td>Walt Disney Company</td>\n",
       "      <td>3</td>\n",
       "    </tr>\n",
       "    <tr>\n",
       "      <th>6</th>\n",
       "      <td>The Walt Disney Co</td>\n",
       "      <td>3</td>\n",
       "    </tr>\n",
       "    <tr>\n",
       "      <th>7</th>\n",
       "      <td>DISNEY WALT CO</td>\n",
       "      <td>2</td>\n",
       "    </tr>\n",
       "    <tr>\n",
       "      <th>8</th>\n",
       "      <td>WALT DISNEY</td>\n",
       "      <td>2</td>\n",
       "    </tr>\n",
       "    <tr>\n",
       "      <th>9</th>\n",
       "      <td>The Walt Disney Company Contested</td>\n",
       "      <td>2</td>\n",
       "    </tr>\n",
       "    <tr>\n",
       "      <th>10</th>\n",
       "      <td>The Walt Disney Company Trian Group Contested</td>\n",
       "      <td>2</td>\n",
       "    </tr>\n",
       "    <tr>\n",
       "      <th>11</th>\n",
       "      <td>Walt Disney Co</td>\n",
       "      <td>1</td>\n",
       "    </tr>\n",
       "    <tr>\n",
       "      <th>12</th>\n",
       "      <td>Walt Disney Co.</td>\n",
       "      <td>1</td>\n",
       "    </tr>\n",
       "    <tr>\n",
       "      <th>13</th>\n",
       "      <td>Walt Disney</td>\n",
       "      <td>1</td>\n",
       "    </tr>\n",
       "    <tr>\n",
       "      <th>14</th>\n",
       "      <td>DISNEY WALT CO COM</td>\n",
       "      <td>1</td>\n",
       "    </tr>\n",
       "    <tr>\n",
       "      <th>15</th>\n",
       "      <td>Walt Disney Company (The)</td>\n",
       "      <td>1</td>\n",
       "    </tr>\n",
       "    <tr>\n",
       "      <th>16</th>\n",
       "      <td>The Walt Disney Corporation</td>\n",
       "      <td>1</td>\n",
       "    </tr>\n",
       "    <tr>\n",
       "      <th>17</th>\n",
       "      <td>WALT DISNEY CO</td>\n",
       "      <td>1</td>\n",
       "    </tr>\n",
       "    <tr>\n",
       "      <th>18</th>\n",
       "      <td>The Walt Disney Company*</td>\n",
       "      <td>1</td>\n",
       "    </tr>\n",
       "    <tr>\n",
       "      <th>19</th>\n",
       "      <td>Walt Disney (DIS)</td>\n",
       "      <td>1</td>\n",
       "    </tr>\n",
       "    <tr>\n",
       "      <th>20</th>\n",
       "      <td>THE WALT DISNEY CO</td>\n",
       "      <td>1</td>\n",
       "    </tr>\n",
       "    <tr>\n",
       "      <th>21</th>\n",
       "      <td>Walt Disney Co/The</td>\n",
       "      <td>1</td>\n",
       "    </tr>\n",
       "  </tbody>\n",
       "</table>\n",
       "</div>"
      ],
      "text/plain": [
       "                                      issuer_name  count\n",
       "0                         The Walt Disney Company   1489\n",
       "1                         THE WALT DISNEY COMPANY   1408\n",
       "2                        THE WALT DISNEY\\nCOMPANY     12\n",
       "3                            Walt Disney Co (The)      9\n",
       "4                                             DIS      8\n",
       "5                             Walt Disney Company      3\n",
       "6                              The Walt Disney Co      3\n",
       "7                                  DISNEY WALT CO      2\n",
       "8                                     WALT DISNEY      2\n",
       "9               The Walt Disney Company Contested      2\n",
       "10  The Walt Disney Company Trian Group Contested      2\n",
       "11                                 Walt Disney Co      1\n",
       "12                                Walt Disney Co.      1\n",
       "13                                    Walt Disney      1\n",
       "14                             DISNEY WALT CO COM      1\n",
       "15                      Walt Disney Company (The)      1\n",
       "16                    The Walt Disney Corporation      1\n",
       "17                                 WALT DISNEY CO      1\n",
       "18                       The Walt Disney Company*      1\n",
       "19                              Walt Disney (DIS)      1\n",
       "20                             THE WALT DISNEY CO      1\n",
       "21                             Walt Disney Co/The      1"
      ]
     },
     "metadata": {},
     "output_type": "display_data"
    },
    {
     "name": "stdout",
     "output_type": "stream",
     "text": [
      "************************************************************ AMAZON ************************************************************\n",
      "Un-Normalized (n=2890)\n"
     ]
    },
    {
     "data": {
      "text/html": [
       "<div><style>\n",
       ".dataframe > thead > tr,\n",
       ".dataframe > tbody > tr {\n",
       "  text-align: right;\n",
       "  white-space: pre-wrap;\n",
       "}\n",
       "</style>\n",
       "<small>shape: (20, 6)</small><table border=\"1\" class=\"dataframe\"><thead><tr><th>issuer_name</th><th>len</th><th>cusip</th><th>isin</th><th>figi</th><th>% of obs</th></tr><tr><td>str</td><td>u32</td><td>list[str]</td><td>list[str]</td><td>list[str]</td><td>f64</td></tr></thead><tbody><tr><td>&quot;AMAZON.COM, INC.&quot;</td><td>1656</td><td>[null, &quot;023135106&quot;]</td><td>[&quot;US0231351067&quot;, null]</td><td>[null]</td><td>57.301038</td></tr><tr><td>&quot;Amazon.com, Inc.&quot;</td><td>1090</td><td>[&quot;023135106&quot;, &quot;231351060&quot;, null]</td><td>[null, &quot;US0231351067&quot;]</td><td>[&quot;BBG000BVPV84&quot;, null]</td><td>37.716263</td></tr><tr><td>&quot;Amazon.com Inc.&quot;</td><td>64</td><td>[&quot;023135106&quot;]</td><td>[null, &quot;US0231351067&quot;]</td><td>[null]</td><td>2.214533</td></tr><tr><td>&quot;Amazon.com Inc&quot;</td><td>36</td><td>[&quot;023135106&quot;]</td><td>[&quot;US0231351067&quot;, null]</td><td>[null, &quot;BBG000BVPV84&quot;]</td><td>1.245675</td></tr><tr><td>&quot;Amazon&quot;</td><td>9</td><td>[&quot;000023135&quot;, null, &quot;023135106&quot;]</td><td>[&quot;US0231351067&quot;, null]</td><td>[null]</td><td>0.311419</td></tr><tr><td>&hellip;</td><td>&hellip;</td><td>&hellip;</td><td>&hellip;</td><td>&hellip;</td><td>&hellip;</td></tr><tr><td>&quot;AMAZON.COM INC AMZN US&quot;</td><td>1</td><td>[&quot;023135106&quot;]</td><td>[null]</td><td>[null]</td><td>0.034602</td></tr><tr><td>&quot;AMAZON COM INC COM&quot;</td><td>1</td><td>[&quot;023135106&quot;]</td><td>[&quot;US0231351067&quot;]</td><td>[null]</td><td>0.034602</td></tr><tr><td>&quot;AMAZON.COM INC. COM&quot;</td><td>1</td><td>[&quot;023135106&quot;]</td><td>[&quot;US0231351067&quot;]</td><td>[null]</td><td>0.034602</td></tr><tr><td>&quot;Amazon.com Inc (AMZN)&quot;</td><td>1</td><td>[&quot;023135106&quot;]</td><td>[&quot;US0231351067&quot;]</td><td>[null]</td><td>0.034602</td></tr><tr><td>&quot;Amazon.com, INC&quot;</td><td>1</td><td>[&quot;023135106&quot;]</td><td>[null]</td><td>[null]</td><td>0.034602</td></tr></tbody></table></div>"
      ],
      "text/plain": [
       "shape: (20, 6)\n",
       "┌───────────────────┬──────┬───────────────────┬───────────────────┬───────────────────┬───────────┐\n",
       "│ issuer_name       ┆ len  ┆ cusip             ┆ isin              ┆ figi              ┆ % of obs  │\n",
       "│ ---               ┆ ---  ┆ ---               ┆ ---               ┆ ---               ┆ ---       │\n",
       "│ str               ┆ u32  ┆ list[str]         ┆ list[str]         ┆ list[str]         ┆ f64       │\n",
       "╞═══════════════════╪══════╪═══════════════════╪═══════════════════╪═══════════════════╪═══════════╡\n",
       "│ AMAZON.COM, INC.  ┆ 1656 ┆ [null,            ┆ [\"US0231351067\",  ┆ [null]            ┆ 57.301038 │\n",
       "│                   ┆      ┆ \"023135106\"]      ┆ null]             ┆                   ┆           │\n",
       "│ Amazon.com, Inc.  ┆ 1090 ┆ [\"023135106\",     ┆ [null,            ┆ [\"BBG000BVPV84\",  ┆ 37.716263 │\n",
       "│                   ┆      ┆ \"231351060\", nul… ┆ \"US0231351067\"]   ┆ null]             ┆           │\n",
       "│ Amazon.com Inc.   ┆ 64   ┆ [\"023135106\"]     ┆ [null,            ┆ [null]            ┆ 2.214533  │\n",
       "│                   ┆      ┆                   ┆ \"US0231351067\"]   ┆                   ┆           │\n",
       "│ Amazon.com Inc    ┆ 36   ┆ [\"023135106\"]     ┆ [\"US0231351067\",  ┆ [null,            ┆ 1.245675  │\n",
       "│                   ┆      ┆                   ┆ null]             ┆ \"BBG000BVPV84\"]   ┆           │\n",
       "│ Amazon            ┆ 9    ┆ [\"000023135\",     ┆ [\"US0231351067\",  ┆ [null]            ┆ 0.311419  │\n",
       "│                   ┆      ┆ null, \"023135106… ┆ null]             ┆                   ┆           │\n",
       "│ …                 ┆ …    ┆ …                 ┆ …                 ┆ …                 ┆ …         │\n",
       "│ AMAZON.COM INC    ┆ 1    ┆ [\"023135106\"]     ┆ [null]            ┆ [null]            ┆ 0.034602  │\n",
       "│ AMZN US           ┆      ┆                   ┆                   ┆                   ┆           │\n",
       "│ AMAZON COM INC    ┆ 1    ┆ [\"023135106\"]     ┆ [\"US0231351067\"]  ┆ [null]            ┆ 0.034602  │\n",
       "│ COM               ┆      ┆                   ┆                   ┆                   ┆           │\n",
       "│ AMAZON.COM INC.   ┆ 1    ┆ [\"023135106\"]     ┆ [\"US0231351067\"]  ┆ [null]            ┆ 0.034602  │\n",
       "│ COM               ┆      ┆                   ┆                   ┆                   ┆           │\n",
       "│ Amazon.com Inc    ┆ 1    ┆ [\"023135106\"]     ┆ [\"US0231351067\"]  ┆ [null]            ┆ 0.034602  │\n",
       "│ (AMZN)            ┆      ┆                   ┆                   ┆                   ┆           │\n",
       "│ Amazon.com, INC   ┆ 1    ┆ [\"023135106\"]     ┆ [null]            ┆ [null]            ┆ 0.034602  │\n",
       "└───────────────────┴──────┴───────────────────┴───────────────────┴───────────────────┴───────────┘"
      ]
     },
     "metadata": {},
     "output_type": "display_data"
    },
    {
     "name": "stdout",
     "output_type": "stream",
     "text": [
      "Normalized -- INTRA (n=2891)\n"
     ]
    },
    {
     "data": {
      "text/html": [
       "<div><style>\n",
       ".dataframe > thead > tr,\n",
       ".dataframe > tbody > tr {\n",
       "  text-align: right;\n",
       "  white-space: pre-wrap;\n",
       "}\n",
       "</style>\n",
       "<small>shape: (2, 6)</small><table border=\"1\" class=\"dataframe\"><thead><tr><th>issuer_name</th><th>len</th><th>cusip</th><th>isin</th><th>figi</th><th>% of obs</th></tr><tr><td>str</td><td>u32</td><td>list[str]</td><td>list[str]</td><td>list[str]</td><td>f64</td></tr></thead><tbody><tr><td>&quot;AMAZON.COM, INC.&quot;</td><td>2890</td><td>[&quot;023135106&quot;]</td><td>[&quot;US0231351067&quot;]</td><td>[&quot;BBG000BVPV84&quot;]</td><td>99.96541</td></tr><tr><td>&quot;AMAZON. COM&quot;</td><td>1</td><td>[null]</td><td>[null]</td><td>[null]</td><td>0.03459</td></tr></tbody></table></div>"
      ],
      "text/plain": [
       "shape: (2, 6)\n",
       "┌──────────────────┬──────┬───────────────┬──────────────────┬──────────────────┬──────────┐\n",
       "│ issuer_name      ┆ len  ┆ cusip         ┆ isin             ┆ figi             ┆ % of obs │\n",
       "│ ---              ┆ ---  ┆ ---           ┆ ---              ┆ ---              ┆ ---      │\n",
       "│ str              ┆ u32  ┆ list[str]     ┆ list[str]        ┆ list[str]        ┆ f64      │\n",
       "╞══════════════════╪══════╪═══════════════╪══════════════════╪══════════════════╪══════════╡\n",
       "│ AMAZON.COM, INC. ┆ 2890 ┆ [\"023135106\"] ┆ [\"US0231351067\"] ┆ [\"BBG000BVPV84\"] ┆ 99.96541 │\n",
       "│ AMAZON. COM      ┆ 1    ┆ [null]        ┆ [null]           ┆ [null]           ┆ 0.03459  │\n",
       "└──────────────────┴──────┴───────────────┴──────────────────┴──────────────────┴──────────┘"
      ]
     },
     "metadata": {},
     "output_type": "display_data"
    },
    {
     "name": "stdout",
     "output_type": "stream",
     "text": [
      "Normalized -- NO INTRA (n=2891)\n"
     ]
    },
    {
     "data": {
      "text/html": [
       "<div><style>\n",
       ".dataframe > thead > tr,\n",
       ".dataframe > tbody > tr {\n",
       "  text-align: right;\n",
       "  white-space: pre-wrap;\n",
       "}\n",
       "</style>\n",
       "<small>shape: (2, 6)</small><table border=\"1\" class=\"dataframe\"><thead><tr><th>issuer_name</th><th>len</th><th>cusip</th><th>isin</th><th>figi</th><th>% of obs</th></tr><tr><td>str</td><td>u32</td><td>list[str]</td><td>list[str]</td><td>list[str]</td><td>f64</td></tr></thead><tbody><tr><td>&quot;AMAZON.COM, INC.&quot;</td><td>2890</td><td>[&quot;023135106&quot;]</td><td>[&quot;US0231351067&quot;]</td><td>[&quot;BBG000BVPV84&quot;]</td><td>99.96541</td></tr><tr><td>&quot;AMAZON. COM&quot;</td><td>1</td><td>[null]</td><td>[null]</td><td>[null]</td><td>0.03459</td></tr></tbody></table></div>"
      ],
      "text/plain": [
       "shape: (2, 6)\n",
       "┌──────────────────┬──────┬───────────────┬──────────────────┬──────────────────┬──────────┐\n",
       "│ issuer_name      ┆ len  ┆ cusip         ┆ isin             ┆ figi             ┆ % of obs │\n",
       "│ ---              ┆ ---  ┆ ---           ┆ ---              ┆ ---              ┆ ---      │\n",
       "│ str              ┆ u32  ┆ list[str]     ┆ list[str]        ┆ list[str]        ┆ f64      │\n",
       "╞══════════════════╪══════╪═══════════════╪══════════════════╪══════════════════╪══════════╡\n",
       "│ AMAZON.COM, INC. ┆ 2890 ┆ [\"023135106\"] ┆ [\"US0231351067\"] ┆ [\"BBG000BVPV84\"] ┆ 99.96541 │\n",
       "│ AMAZON. COM      ┆ 1    ┆ [null]        ┆ [null]           ┆ [null]           ┆ 0.03459  │\n",
       "└──────────────────┴──────┴───────────────┴──────────────────┴──────────────────┴──────────┘"
      ]
     },
     "metadata": {},
     "output_type": "display_data"
    },
    {
     "name": "stdout",
     "output_type": "stream",
     "text": [
      "Consolidation Fodder:\n"
     ]
    },
    {
     "data": {
      "text/html": [
       "<div>\n",
       "<style scoped>\n",
       "    .dataframe tbody tr th:only-of-type {\n",
       "        vertical-align: middle;\n",
       "    }\n",
       "\n",
       "    .dataframe tbody tr th {\n",
       "        vertical-align: top;\n",
       "    }\n",
       "\n",
       "    .dataframe thead th {\n",
       "        text-align: right;\n",
       "    }\n",
       "</style>\n",
       "<table border=\"1\" class=\"dataframe\">\n",
       "  <thead>\n",
       "    <tr style=\"text-align: right;\">\n",
       "      <th></th>\n",
       "      <th>issuer_name</th>\n",
       "      <th>count</th>\n",
       "    </tr>\n",
       "  </thead>\n",
       "  <tbody>\n",
       "    <tr>\n",
       "      <th>0</th>\n",
       "      <td>AMAZON.COM, INC.</td>\n",
       "      <td>1656</td>\n",
       "    </tr>\n",
       "    <tr>\n",
       "      <th>1</th>\n",
       "      <td>Amazon.com, Inc.</td>\n",
       "      <td>1090</td>\n",
       "    </tr>\n",
       "    <tr>\n",
       "      <th>2</th>\n",
       "      <td>Amazon.com Inc.</td>\n",
       "      <td>64</td>\n",
       "    </tr>\n",
       "    <tr>\n",
       "      <th>3</th>\n",
       "      <td>Amazon.com Inc</td>\n",
       "      <td>36</td>\n",
       "    </tr>\n",
       "    <tr>\n",
       "      <th>4</th>\n",
       "      <td>Amazon</td>\n",
       "      <td>9</td>\n",
       "    </tr>\n",
       "    <tr>\n",
       "      <th>5</th>\n",
       "      <td>AMAZON.COM INC</td>\n",
       "      <td>8</td>\n",
       "    </tr>\n",
       "    <tr>\n",
       "      <th>6</th>\n",
       "      <td>AMAZON</td>\n",
       "      <td>5</td>\n",
       "    </tr>\n",
       "    <tr>\n",
       "      <th>7</th>\n",
       "      <td>AMAZON COM INC</td>\n",
       "      <td>4</td>\n",
       "    </tr>\n",
       "    <tr>\n",
       "      <th>8</th>\n",
       "      <td>Amazon.com</td>\n",
       "      <td>3</td>\n",
       "    </tr>\n",
       "    <tr>\n",
       "      <th>9</th>\n",
       "      <td>Amazon.com, Inc</td>\n",
       "      <td>3</td>\n",
       "    </tr>\n",
       "    <tr>\n",
       "      <th>10</th>\n",
       "      <td>Amazon Inc</td>\n",
       "      <td>3</td>\n",
       "    </tr>\n",
       "    <tr>\n",
       "      <th>11</th>\n",
       "      <td>AMAZON.COM INC AMZN US</td>\n",
       "      <td>1</td>\n",
       "    </tr>\n",
       "    <tr>\n",
       "      <th>12</th>\n",
       "      <td>Amazon.com, INC</td>\n",
       "      <td>1</td>\n",
       "    </tr>\n",
       "    <tr>\n",
       "      <th>13</th>\n",
       "      <td>Amazon.Com</td>\n",
       "      <td>1</td>\n",
       "    </tr>\n",
       "    <tr>\n",
       "      <th>14</th>\n",
       "      <td>AMAZON COM INC COM</td>\n",
       "      <td>1</td>\n",
       "    </tr>\n",
       "    <tr>\n",
       "      <th>15</th>\n",
       "      <td>Amazon.Com Inc</td>\n",
       "      <td>1</td>\n",
       "    </tr>\n",
       "    <tr>\n",
       "      <th>16</th>\n",
       "      <td>AMAZON.COM INC. COM</td>\n",
       "      <td>1</td>\n",
       "    </tr>\n",
       "    <tr>\n",
       "      <th>17</th>\n",
       "      <td>Amazon. Com</td>\n",
       "      <td>1</td>\n",
       "    </tr>\n",
       "    <tr>\n",
       "      <th>18</th>\n",
       "      <td>AMAZON COM INCORPORATED</td>\n",
       "      <td>1</td>\n",
       "    </tr>\n",
       "    <tr>\n",
       "      <th>19</th>\n",
       "      <td>AMZN</td>\n",
       "      <td>1</td>\n",
       "    </tr>\n",
       "    <tr>\n",
       "      <th>20</th>\n",
       "      <td>Amazon.com Inc (AMZN)</td>\n",
       "      <td>1</td>\n",
       "    </tr>\n",
       "  </tbody>\n",
       "</table>\n",
       "</div>"
      ],
      "text/plain": [
       "                issuer_name  count\n",
       "0          AMAZON.COM, INC.   1656\n",
       "1          Amazon.com, Inc.   1090\n",
       "2           Amazon.com Inc.     64\n",
       "3            Amazon.com Inc     36\n",
       "4                    Amazon      9\n",
       "5            AMAZON.COM INC      8\n",
       "6                    AMAZON      5\n",
       "7            AMAZON COM INC      4\n",
       "8                Amazon.com      3\n",
       "9           Amazon.com, Inc      3\n",
       "10               Amazon Inc      3\n",
       "11   AMAZON.COM INC AMZN US      1\n",
       "12          Amazon.com, INC      1\n",
       "13               Amazon.Com      1\n",
       "14       AMAZON COM INC COM      1\n",
       "15           Amazon.Com Inc      1\n",
       "16      AMAZON.COM INC. COM      1\n",
       "17              Amazon. Com      1\n",
       "18  AMAZON COM INCORPORATED      1\n",
       "19                     AMZN      1\n",
       "20    Amazon.com Inc (AMZN)      1"
      ]
     },
     "metadata": {},
     "output_type": "display_data"
    },
    {
     "name": "stdout",
     "output_type": "stream",
     "text": [
      "************************************************************ JPMORGAN ************************************************************\n",
      "Un-Normalized (n=2635)\n"
     ]
    },
    {
     "data": {
      "text/html": [
       "<div><style>\n",
       ".dataframe > thead > tr,\n",
       ".dataframe > tbody > tr {\n",
       "  text-align: right;\n",
       "  white-space: pre-wrap;\n",
       "}\n",
       "</style>\n",
       "<small>shape: (13, 6)</small><table border=\"1\" class=\"dataframe\"><thead><tr><th>issuer_name</th><th>len</th><th>cusip</th><th>isin</th><th>figi</th><th>% of obs</th></tr><tr><td>str</td><td>u32</td><td>list[str]</td><td>list[str]</td><td>list[str]</td><td>f64</td></tr></thead><tbody><tr><td>&quot;JPMORGAN CHASE &amp; CO.&quot;</td><td>1324</td><td>[&quot;46625H100&quot;, null]</td><td>[&quot;US46625H1005&quot;, null]</td><td>[null]</td><td>50.246679</td></tr><tr><td>&quot;JPMorgan Chase &amp; Co.&quot;</td><td>1151</td><td>[null, &quot;46625h100&quot;, &quot;46625H100&quot;]</td><td>[null, &quot;US46625H1005&quot;]</td><td>[&quot;BBG000DMBXR2&quot;, null]</td><td>43.681214</td></tr><tr><td>&quot;JPMORGAN CHASE  CO.&quot;</td><td>80</td><td>[&quot;46625H100&quot;]</td><td>[null]</td><td>[null]</td><td>3.036053</td></tr><tr><td>&quot;JPMORGAN CHASE and CO.&quot;</td><td>27</td><td>[&quot;46625H100&quot;]</td><td>[&quot;US46625H1005&quot;]</td><td>[null]</td><td>1.024668</td></tr><tr><td>&quot;JPMorgan Chase &amp; CO.&quot;</td><td>20</td><td>[&quot;46625H100&quot;]</td><td>[&quot;US46625H1005&quot;]</td><td>[null]</td><td>0.759013</td></tr><tr><td>&hellip;</td><td>&hellip;</td><td>&hellip;</td><td>&hellip;</td><td>&hellip;</td><td>&hellip;</td></tr><tr><td>&quot;JPMORGAN CHASE &amp;amp; CO.&quot;</td><td>2</td><td>[&quot;46625H100&quot;]</td><td>[&quot;US46625H1005&quot;]</td><td>[null]</td><td>0.075901</td></tr><tr><td>&quot;JPMorgan&quot;</td><td>1</td><td>[null]</td><td>[null]</td><td>[null]</td><td>0.037951</td></tr><tr><td>&quot;JPMorgan Chase &amp; Co (JPM)&quot;</td><td>1</td><td>[&quot;46625H100&quot;]</td><td>[&quot;US46625H1005&quot;]</td><td>[null]</td><td>0.037951</td></tr><tr><td>&quot;JPMORGAN CHASE &amp; CO. COM&quot;</td><td>1</td><td>[&quot;46625H100&quot;]</td><td>[&quot;US46625H1005&quot;]</td><td>[null]</td><td>0.037951</td></tr><tr><td>&quot;JPMORGAN CHASE AND CO.&quot;</td><td>1</td><td>[&quot;46625H100&quot;]</td><td>[null]</td><td>[null]</td><td>0.037951</td></tr></tbody></table></div>"
      ],
      "text/plain": [
       "shape: (13, 6)\n",
       "┌─────────────────────┬──────┬───────────────┬────────────────────┬────────────────────┬───────────┐\n",
       "│ issuer_name         ┆ len  ┆ cusip         ┆ isin               ┆ figi               ┆ % of obs  │\n",
       "│ ---                 ┆ ---  ┆ ---           ┆ ---                ┆ ---                ┆ ---       │\n",
       "│ str                 ┆ u32  ┆ list[str]     ┆ list[str]          ┆ list[str]          ┆ f64       │\n",
       "╞═════════════════════╪══════╪═══════════════╪════════════════════╪════════════════════╪═══════════╡\n",
       "│ JPMORGAN CHASE &    ┆ 1324 ┆ [\"46625H100\", ┆ [\"US46625H1005\",   ┆ [null]             ┆ 50.246679 │\n",
       "│ CO.                 ┆      ┆ null]         ┆ null]              ┆                    ┆           │\n",
       "│ JPMorgan Chase &    ┆ 1151 ┆ [null,        ┆ [null,             ┆ [\"BBG000DMBXR2\",   ┆ 43.681214 │\n",
       "│ Co.                 ┆      ┆ \"46625h100\",  ┆ \"US46625H1005\"]    ┆ null]              ┆           │\n",
       "│                     ┆      ┆ \"46625H100…   ┆                    ┆                    ┆           │\n",
       "│ JPMORGAN CHASE  CO. ┆ 80   ┆ [\"46625H100\"] ┆ [null]             ┆ [null]             ┆ 3.036053  │\n",
       "│ JPMORGAN CHASE and  ┆ 27   ┆ [\"46625H100\"] ┆ [\"US46625H1005\"]   ┆ [null]             ┆ 1.024668  │\n",
       "│ CO.                 ┆      ┆               ┆                    ┆                    ┆           │\n",
       "│ JPMorgan Chase &    ┆ 20   ┆ [\"46625H100\"] ┆ [\"US46625H1005\"]   ┆ [null]             ┆ 0.759013  │\n",
       "│ CO.                 ┆      ┆               ┆                    ┆                    ┆           │\n",
       "│ …                   ┆ …    ┆ …             ┆ …                  ┆ …                  ┆ …         │\n",
       "│ JPMORGAN CHASE      ┆ 2    ┆ [\"46625H100\"] ┆ [\"US46625H1005\"]   ┆ [null]             ┆ 0.075901  │\n",
       "│ &amp; CO.           ┆      ┆               ┆                    ┆                    ┆           │\n",
       "│ JPMorgan            ┆ 1    ┆ [null]        ┆ [null]             ┆ [null]             ┆ 0.037951  │\n",
       "│ JPMorgan Chase & Co ┆ 1    ┆ [\"46625H100\"] ┆ [\"US46625H1005\"]   ┆ [null]             ┆ 0.037951  │\n",
       "│ (JPM)               ┆      ┆               ┆                    ┆                    ┆           │\n",
       "│ JPMORGAN CHASE &    ┆ 1    ┆ [\"46625H100\"] ┆ [\"US46625H1005\"]   ┆ [null]             ┆ 0.037951  │\n",
       "│ CO. COM             ┆      ┆               ┆                    ┆                    ┆           │\n",
       "│ JPMORGAN CHASE AND  ┆ 1    ┆ [\"46625H100\"] ┆ [null]             ┆ [null]             ┆ 0.037951  │\n",
       "│ CO.                 ┆      ┆               ┆                    ┆                    ┆           │\n",
       "└─────────────────────┴──────┴───────────────┴────────────────────┴────────────────────┴───────────┘"
      ]
     },
     "metadata": {},
     "output_type": "display_data"
    },
    {
     "name": "stdout",
     "output_type": "stream",
     "text": [
      "Normalized -- INTRA (n=2657)\n"
     ]
    },
    {
     "data": {
      "text/html": [
       "<div><style>\n",
       ".dataframe > thead > tr,\n",
       ".dataframe > tbody > tr {\n",
       "  text-align: right;\n",
       "  white-space: pre-wrap;\n",
       "}\n",
       "</style>\n",
       "<small>shape: (2, 6)</small><table border=\"1\" class=\"dataframe\"><thead><tr><th>issuer_name</th><th>len</th><th>cusip</th><th>isin</th><th>figi</th><th>% of obs</th></tr><tr><td>str</td><td>u32</td><td>list[str]</td><td>list[str]</td><td>list[str]</td><td>f64</td></tr></thead><tbody><tr><td>&quot;JPMORGAN CHASE &amp; CO.&quot;</td><td>2656</td><td>[&quot;46625H100&quot;, null]</td><td>[null, &quot;US46625H1005&quot;]</td><td>[null, &quot;BBG000DMBXR2&quot;]</td><td>99.962364</td></tr><tr><td>&quot;JPMORGAN&quot;</td><td>1</td><td>[null]</td><td>[null]</td><td>[null]</td><td>0.037636</td></tr></tbody></table></div>"
      ],
      "text/plain": [
       "shape: (2, 6)\n",
       "┌──────────────────────┬──────┬───────────────┬─────────────────┬─────────────────┬───────────┐\n",
       "│ issuer_name          ┆ len  ┆ cusip         ┆ isin            ┆ figi            ┆ % of obs  │\n",
       "│ ---                  ┆ ---  ┆ ---           ┆ ---             ┆ ---             ┆ ---       │\n",
       "│ str                  ┆ u32  ┆ list[str]     ┆ list[str]       ┆ list[str]       ┆ f64       │\n",
       "╞══════════════════════╪══════╪═══════════════╪═════════════════╪═════════════════╪═══════════╡\n",
       "│ JPMORGAN CHASE & CO. ┆ 2656 ┆ [\"46625H100\", ┆ [null,          ┆ [null,          ┆ 99.962364 │\n",
       "│                      ┆      ┆ null]         ┆ \"US46625H1005\"] ┆ \"BBG000DMBXR2\"] ┆           │\n",
       "│ JPMORGAN             ┆ 1    ┆ [null]        ┆ [null]          ┆ [null]          ┆ 0.037636  │\n",
       "└──────────────────────┴──────┴───────────────┴─────────────────┴─────────────────┴───────────┘"
      ]
     },
     "metadata": {},
     "output_type": "display_data"
    },
    {
     "name": "stdout",
     "output_type": "stream",
     "text": [
      "Normalized -- NO INTRA (n=2660)\n"
     ]
    },
    {
     "data": {
      "text/html": [
       "<div><style>\n",
       ".dataframe > thead > tr,\n",
       ".dataframe > tbody > tr {\n",
       "  text-align: right;\n",
       "  white-space: pre-wrap;\n",
       "}\n",
       "</style>\n",
       "<small>shape: (2, 6)</small><table border=\"1\" class=\"dataframe\"><thead><tr><th>issuer_name</th><th>len</th><th>cusip</th><th>isin</th><th>figi</th><th>% of obs</th></tr><tr><td>str</td><td>u32</td><td>list[str]</td><td>list[str]</td><td>list[str]</td><td>f64</td></tr></thead><tbody><tr><td>&quot;JPMORGAN CHASE &amp; CO.&quot;</td><td>2659</td><td>[&quot;717081103&quot;, &quot;46625H100&quot;, &quot;02209S103&quot;]</td><td>[&quot;US7170811035&quot;, &quot;US46625H1005&quot;, &quot;US02209S1033&quot;]</td><td>[&quot;BBG000BR2B91&quot;, &quot;BBG000DMBXR2&quot;, &quot;BBG000BP6LJ8&quot;]</td><td>99.962406</td></tr><tr><td>&quot;JPMORGAN&quot;</td><td>1</td><td>[null]</td><td>[null]</td><td>[null]</td><td>0.037594</td></tr></tbody></table></div>"
      ],
      "text/plain": [
       "shape: (2, 6)\n",
       "┌───────────────────┬──────┬───────────────────┬───────────────────┬───────────────────┬───────────┐\n",
       "│ issuer_name       ┆ len  ┆ cusip             ┆ isin              ┆ figi              ┆ % of obs  │\n",
       "│ ---               ┆ ---  ┆ ---               ┆ ---               ┆ ---               ┆ ---       │\n",
       "│ str               ┆ u32  ┆ list[str]         ┆ list[str]         ┆ list[str]         ┆ f64       │\n",
       "╞═══════════════════╪══════╪═══════════════════╪═══════════════════╪═══════════════════╪═══════════╡\n",
       "│ JPMORGAN CHASE &  ┆ 2659 ┆ [\"717081103\",     ┆ [\"US7170811035\",  ┆ [\"BBG000BR2B91\",  ┆ 99.962406 │\n",
       "│ CO.               ┆      ┆ \"46625H100\", \"02… ┆ \"US46625H1005…    ┆ \"BBG000DMBXR2…    ┆           │\n",
       "│ JPMORGAN          ┆ 1    ┆ [null]            ┆ [null]            ┆ [null]            ┆ 0.037594  │\n",
       "└───────────────────┴──────┴───────────────────┴───────────────────┴───────────────────┴───────────┘"
      ]
     },
     "metadata": {},
     "output_type": "display_data"
    },
    {
     "name": "stdout",
     "output_type": "stream",
     "text": [
      "Consolidation Fodder:\n"
     ]
    },
    {
     "data": {
      "text/html": [
       "<div>\n",
       "<style scoped>\n",
       "    .dataframe tbody tr th:only-of-type {\n",
       "        vertical-align: middle;\n",
       "    }\n",
       "\n",
       "    .dataframe tbody tr th {\n",
       "        vertical-align: top;\n",
       "    }\n",
       "\n",
       "    .dataframe thead th {\n",
       "        text-align: right;\n",
       "    }\n",
       "</style>\n",
       "<table border=\"1\" class=\"dataframe\">\n",
       "  <thead>\n",
       "    <tr style=\"text-align: right;\">\n",
       "      <th></th>\n",
       "      <th>issuer_name</th>\n",
       "      <th>count</th>\n",
       "    </tr>\n",
       "  </thead>\n",
       "  <tbody>\n",
       "    <tr>\n",
       "      <th>0</th>\n",
       "      <td>JPMORGAN CHASE &amp; CO.</td>\n",
       "      <td>1324</td>\n",
       "    </tr>\n",
       "    <tr>\n",
       "      <th>1</th>\n",
       "      <td>JPMorgan Chase &amp; Co.</td>\n",
       "      <td>1151</td>\n",
       "    </tr>\n",
       "    <tr>\n",
       "      <th>2</th>\n",
       "      <td>JPMORGAN CHASE  CO.</td>\n",
       "      <td>80</td>\n",
       "    </tr>\n",
       "    <tr>\n",
       "      <th>3</th>\n",
       "      <td>JPMORGAN CHASE and CO.</td>\n",
       "      <td>27</td>\n",
       "    </tr>\n",
       "    <tr>\n",
       "      <th>4</th>\n",
       "      <td>JPMorgan Chase &amp; CO.</td>\n",
       "      <td>20</td>\n",
       "    </tr>\n",
       "    <tr>\n",
       "      <th>5</th>\n",
       "      <td>JPMorgan Chase &amp; Co</td>\n",
       "      <td>11</td>\n",
       "    </tr>\n",
       "    <tr>\n",
       "      <th>6</th>\n",
       "      <td>JPMORGAN CHASE &amp; CO</td>\n",
       "      <td>9</td>\n",
       "    </tr>\n",
       "    <tr>\n",
       "      <th>7</th>\n",
       "      <td>JPMorgan Chase</td>\n",
       "      <td>7</td>\n",
       "    </tr>\n",
       "    <tr>\n",
       "      <th>8</th>\n",
       "      <td>JP Morgan Chase &amp; Co.</td>\n",
       "      <td>7</td>\n",
       "    </tr>\n",
       "    <tr>\n",
       "      <th>9</th>\n",
       "      <td>JP Morgan Chase &amp; Co</td>\n",
       "      <td>7</td>\n",
       "    </tr>\n",
       "    <tr>\n",
       "      <th>10</th>\n",
       "      <td>JPMORGAN CHASE &amp;amp; CO.</td>\n",
       "      <td>2</td>\n",
       "    </tr>\n",
       "    <tr>\n",
       "      <th>11</th>\n",
       "      <td>JPM</td>\n",
       "      <td>2</td>\n",
       "    </tr>\n",
       "    <tr>\n",
       "      <th>12</th>\n",
       "      <td>JP MORGAN CHASE &amp; CO</td>\n",
       "      <td>2</td>\n",
       "    </tr>\n",
       "    <tr>\n",
       "      <th>13</th>\n",
       "      <td>JP MORGAN CHASE</td>\n",
       "      <td>1</td>\n",
       "    </tr>\n",
       "    <tr>\n",
       "      <th>14</th>\n",
       "      <td>JPMORGAN CHASE &amp; CO. COM</td>\n",
       "      <td>1</td>\n",
       "    </tr>\n",
       "    <tr>\n",
       "      <th>15</th>\n",
       "      <td>JP MORGAN CHASE &amp; CO.</td>\n",
       "      <td>1</td>\n",
       "    </tr>\n",
       "    <tr>\n",
       "      <th>16</th>\n",
       "      <td>JPMORGAN CHASE AND CO.</td>\n",
       "      <td>1</td>\n",
       "    </tr>\n",
       "    <tr>\n",
       "      <th>17</th>\n",
       "      <td>JP Morgan</td>\n",
       "      <td>1</td>\n",
       "    </tr>\n",
       "    <tr>\n",
       "      <th>18</th>\n",
       "      <td>JPMorgan</td>\n",
       "      <td>1</td>\n",
       "    </tr>\n",
       "    <tr>\n",
       "      <th>19</th>\n",
       "      <td>JPMorgan Chase &amp; Co (JPM)</td>\n",
       "      <td>1</td>\n",
       "    </tr>\n",
       "    <tr>\n",
       "      <th>20</th>\n",
       "      <td>JP MORGAN CHASE &amp; CO</td>\n",
       "      <td>1</td>\n",
       "    </tr>\n",
       "  </tbody>\n",
       "</table>\n",
       "</div>"
      ],
      "text/plain": [
       "                  issuer_name  count\n",
       "0        JPMORGAN CHASE & CO.   1324\n",
       "1        JPMorgan Chase & Co.   1151\n",
       "2         JPMORGAN CHASE  CO.     80\n",
       "3      JPMORGAN CHASE and CO.     27\n",
       "4        JPMorgan Chase & CO.     20\n",
       "5         JPMorgan Chase & Co     11\n",
       "6         JPMORGAN CHASE & CO      9\n",
       "7              JPMorgan Chase      7\n",
       "8       JP Morgan Chase & Co.      7\n",
       "9        JP Morgan Chase & Co      7\n",
       "10   JPMORGAN CHASE &amp; CO.      2\n",
       "11                        JPM      2\n",
       "12      JP MORGAN CHASE & CO       2\n",
       "13            JP MORGAN CHASE      1\n",
       "14   JPMORGAN CHASE & CO. COM      1\n",
       "15      JP MORGAN CHASE & CO.      1\n",
       "16     JPMORGAN CHASE AND CO.      1\n",
       "17                  JP Morgan      1\n",
       "18                   JPMorgan      1\n",
       "19  JPMorgan Chase & Co (JPM)      1\n",
       "20       JP MORGAN CHASE & CO      1"
      ]
     },
     "metadata": {},
     "output_type": "display_data"
    },
    {
     "name": "stdout",
     "output_type": "stream",
     "text": [
      "************************************************************ PROCTER ************************************************************\n",
      "Un-Normalized (n=2499)\n"
     ]
    },
    {
     "data": {
      "text/html": [
       "<div><style>\n",
       ".dataframe > thead > tr,\n",
       ".dataframe > tbody > tr {\n",
       "  text-align: right;\n",
       "  white-space: pre-wrap;\n",
       "}\n",
       "</style>\n",
       "<small>shape: (19, 6)</small><table border=\"1\" class=\"dataframe\"><thead><tr><th>issuer_name</th><th>len</th><th>cusip</th><th>isin</th><th>figi</th><th>% of obs</th></tr><tr><td>str</td><td>u32</td><td>list[str]</td><td>list[str]</td><td>list[str]</td><td>f64</td></tr></thead><tbody><tr><td>&quot;THE PROCTER &amp; GAMBLE COMPANY&quot;</td><td>1186</td><td>[null, &quot;742718109&quot;]</td><td>[&quot;US7427181091&quot;, null]</td><td>[null]</td><td>47.458984</td></tr><tr><td>&quot;The Procter &amp; Gamble Company&quot;</td><td>1001</td><td>[&quot;742718109&quot;, null]</td><td>[null, &quot;US7427181091&quot;]</td><td>[null, &quot;BBG000BR2TH3&quot;, &quot;BBG000BLNNV0&quot;]</td><td>40.056022</td></tr><tr><td>&quot;THE PROCTER  GAMBLE COMPANY&quot;</td><td>100</td><td>[&quot;742718109&quot;]</td><td>[null]</td><td>[null]</td><td>4.001601</td></tr><tr><td>&quot;THE PROCTER and GAMBLE COMPANY&quot;</td><td>78</td><td>[&quot;742718109&quot;]</td><td>[&quot;US7427181091&quot;]</td><td>[null]</td><td>3.121248</td></tr><tr><td>&quot;THE PROCTER &amp; GAMBLE\n",
       "COMPANY&quot;</td><td>65</td><td>[&quot;742718109&quot;]</td><td>[null, &quot;US7427181091&quot;]</td><td>[null]</td><td>2.60104</td></tr><tr><td>&hellip;</td><td>&hellip;</td><td>&hellip;</td><td>&hellip;</td><td>&hellip;</td><td>&hellip;</td></tr><tr><td>&quot;THE PROCTER AND GAMBLE COMPANY&quot;</td><td>2</td><td>[&quot;742718109&quot;]</td><td>[null]</td><td>[null]</td><td>0.080032</td></tr><tr><td>&quot;PROCTER &amp; GAMBLE COMPANY COM&quot;</td><td>2</td><td>[&quot;742718109&quot;]</td><td>[&quot;US7427181091&quot;]</td><td>[null]</td><td>0.080032</td></tr><tr><td>&quot;PROCTER AND GAMBLE CO&quot;</td><td>1</td><td>[&quot;742718109&quot;]</td><td>[null]</td><td>[&quot;BBG001S5V4L9&quot;]</td><td>0.040016</td></tr><tr><td>&quot;PROCTER AND GAMBLE CO COM&quot;</td><td>1</td><td>[&quot;742718109&quot;]</td><td>[&quot;US7427181091&quot;]</td><td>[null]</td><td>0.040016</td></tr><tr><td>&quot;Procter &amp; Gamble Co&quot;</td><td>1</td><td>[&quot;742718109&quot;]</td><td>[null]</td><td>[null]</td><td>0.040016</td></tr></tbody></table></div>"
      ],
      "text/plain": [
       "shape: (19, 6)\n",
       "┌─────────────────────┬──────┬───────────────┬────────────────────┬────────────────────┬───────────┐\n",
       "│ issuer_name         ┆ len  ┆ cusip         ┆ isin               ┆ figi               ┆ % of obs  │\n",
       "│ ---                 ┆ ---  ┆ ---           ┆ ---                ┆ ---                ┆ ---       │\n",
       "│ str                 ┆ u32  ┆ list[str]     ┆ list[str]          ┆ list[str]          ┆ f64       │\n",
       "╞═════════════════════╪══════╪═══════════════╪════════════════════╪════════════════════╪═══════════╡\n",
       "│ THE PROCTER &       ┆ 1186 ┆ [null,        ┆ [\"US7427181091\",   ┆ [null]             ┆ 47.458984 │\n",
       "│ GAMBLE COMPANY      ┆      ┆ \"742718109\"]  ┆ null]              ┆                    ┆           │\n",
       "│ The Procter &       ┆ 1001 ┆ [\"742718109\", ┆ [null,             ┆ [null,             ┆ 40.056022 │\n",
       "│ Gamble Company      ┆      ┆ null]         ┆ \"US7427181091\"]    ┆ \"BBG000BR2TH3\",    ┆           │\n",
       "│                     ┆      ┆               ┆                    ┆ \"BBG000…           ┆           │\n",
       "│ THE PROCTER  GAMBLE ┆ 100  ┆ [\"742718109\"] ┆ [null]             ┆ [null]             ┆ 4.001601  │\n",
       "│ COMPANY             ┆      ┆               ┆                    ┆                    ┆           │\n",
       "│ THE PROCTER and     ┆ 78   ┆ [\"742718109\"] ┆ [\"US7427181091\"]   ┆ [null]             ┆ 3.121248  │\n",
       "│ GAMBLE COMPANY      ┆      ┆               ┆                    ┆                    ┆           │\n",
       "│ THE PROCTER &       ┆ 65   ┆ [\"742718109\"] ┆ [null,             ┆ [null]             ┆ 2.60104   │\n",
       "│ GAMBLE              ┆      ┆               ┆ \"US7427181091\"]    ┆                    ┆           │\n",
       "│ COMPANY             ┆      ┆               ┆                    ┆                    ┆           │\n",
       "│ …                   ┆ …    ┆ …             ┆ …                  ┆ …                  ┆ …         │\n",
       "│ THE PROCTER AND     ┆ 2    ┆ [\"742718109\"] ┆ [null]             ┆ [null]             ┆ 0.080032  │\n",
       "│ GAMBLE COMPANY      ┆      ┆               ┆                    ┆                    ┆           │\n",
       "│ PROCTER & GAMBLE    ┆ 2    ┆ [\"742718109\"] ┆ [\"US7427181091\"]   ┆ [null]             ┆ 0.080032  │\n",
       "│ COMPANY COM         ┆      ┆               ┆                    ┆                    ┆           │\n",
       "│ PROCTER AND GAMBLE  ┆ 1    ┆ [\"742718109\"] ┆ [null]             ┆ [\"BBG001S5V4L9\"]   ┆ 0.040016  │\n",
       "│ CO                  ┆      ┆               ┆                    ┆                    ┆           │\n",
       "│ PROCTER AND GAMBLE  ┆ 1    ┆ [\"742718109\"] ┆ [\"US7427181091\"]   ┆ [null]             ┆ 0.040016  │\n",
       "│ CO COM              ┆      ┆               ┆                    ┆                    ┆           │\n",
       "│ Procter & Gamble Co ┆ 1    ┆ [\"742718109\"] ┆ [null]             ┆ [null]             ┆ 0.040016  │\n",
       "└─────────────────────┴──────┴───────────────┴────────────────────┴────────────────────┴───────────┘"
      ]
     },
     "metadata": {},
     "output_type": "display_data"
    },
    {
     "name": "stdout",
     "output_type": "stream",
     "text": [
      "Normalized -- INTRA (n=2611)\n"
     ]
    },
    {
     "data": {
      "text/html": [
       "<div><style>\n",
       ".dataframe > thead > tr,\n",
       ".dataframe > tbody > tr {\n",
       "  text-align: right;\n",
       "  white-space: pre-wrap;\n",
       "}\n",
       "</style>\n",
       "<small>shape: (2, 6)</small><table border=\"1\" class=\"dataframe\"><thead><tr><th>issuer_name</th><th>len</th><th>cusip</th><th>isin</th><th>figi</th><th>% of obs</th></tr><tr><td>str</td><td>u32</td><td>list[str]</td><td>list[str]</td><td>list[str]</td><td>f64</td></tr></thead><tbody><tr><td>&quot;THE PROCTER &amp; GAMBLE COMPANY&quot;</td><td>2602</td><td>[null, &quot;742718109&quot;]</td><td>[null, &quot;US7427181091&quot;]</td><td>[null, &quot;BBG000BLNNV0&quot;]</td><td>99.655304</td></tr><tr><td>&quot;PROCTER &amp; GAMBLE HYGIENE &amp; HEA…</td><td>9</td><td>[&quot;Y7089A117&quot;]</td><td>[&quot;INE179A01014&quot;]</td><td>[null]</td><td>0.344696</td></tr></tbody></table></div>"
      ],
      "text/plain": [
       "shape: (2, 6)\n",
       "┌──────────────────────────┬──────┬───────────────┬──────────────────┬─────────────────┬───────────┐\n",
       "│ issuer_name              ┆ len  ┆ cusip         ┆ isin             ┆ figi            ┆ % of obs  │\n",
       "│ ---                      ┆ ---  ┆ ---           ┆ ---              ┆ ---             ┆ ---       │\n",
       "│ str                      ┆ u32  ┆ list[str]     ┆ list[str]        ┆ list[str]       ┆ f64       │\n",
       "╞══════════════════════════╪══════╪═══════════════╪══════════════════╪═════════════════╪═══════════╡\n",
       "│ THE PROCTER & GAMBLE     ┆ 2602 ┆ [null,        ┆ [null,           ┆ [null,          ┆ 99.655304 │\n",
       "│ COMPANY                  ┆      ┆ \"742718109\"]  ┆ \"US7427181091\"]  ┆ \"BBG000BLNNV0\"] ┆           │\n",
       "│ PROCTER & GAMBLE HYGIENE ┆ 9    ┆ [\"Y7089A117\"] ┆ [\"INE179A01014\"] ┆ [null]          ┆ 0.344696  │\n",
       "│ & HEA…                   ┆      ┆               ┆                  ┆                 ┆           │\n",
       "└──────────────────────────┴──────┴───────────────┴──────────────────┴─────────────────┴───────────┘"
      ]
     },
     "metadata": {},
     "output_type": "display_data"
    },
    {
     "name": "stdout",
     "output_type": "stream",
     "text": [
      "Normalized -- NO INTRA (n=2612)\n"
     ]
    },
    {
     "data": {
      "text/html": [
       "<div><style>\n",
       ".dataframe > thead > tr,\n",
       ".dataframe > tbody > tr {\n",
       "  text-align: right;\n",
       "  white-space: pre-wrap;\n",
       "}\n",
       "</style>\n",
       "<small>shape: (2, 6)</small><table border=\"1\" class=\"dataframe\"><thead><tr><th>issuer_name</th><th>len</th><th>cusip</th><th>isin</th><th>figi</th><th>% of obs</th></tr><tr><td>str</td><td>u32</td><td>list[str]</td><td>list[str]</td><td>list[str]</td><td>f64</td></tr></thead><tbody><tr><td>&quot;THE PROCTER &amp; GAMBLE COMPANY&quot;</td><td>2603</td><td>[&quot;460690100&quot;, &quot;742718109&quot;]</td><td>[&quot;US7427181091&quot;, &quot;US4606901001&quot;]</td><td>[&quot;BBG000BLNNV0&quot;]</td><td>99.655436</td></tr><tr><td>&quot;PROCTER &amp; GAMBLE HYGIENE &amp; HEA…</td><td>9</td><td>[&quot;Y7089A117&quot;]</td><td>[&quot;INE179A01014&quot;]</td><td>[null]</td><td>0.344564</td></tr></tbody></table></div>"
      ],
      "text/plain": [
       "shape: (2, 6)\n",
       "┌──────────────────────┬──────┬───────────────┬──────────────────┬──────────────────┬───────────┐\n",
       "│ issuer_name          ┆ len  ┆ cusip         ┆ isin             ┆ figi             ┆ % of obs  │\n",
       "│ ---                  ┆ ---  ┆ ---           ┆ ---              ┆ ---              ┆ ---       │\n",
       "│ str                  ┆ u32  ┆ list[str]     ┆ list[str]        ┆ list[str]        ┆ f64       │\n",
       "╞══════════════════════╪══════╪═══════════════╪══════════════════╪══════════════════╪═══════════╡\n",
       "│ THE PROCTER & GAMBLE ┆ 2603 ┆ [\"460690100\", ┆ [\"US7427181091\", ┆ [\"BBG000BLNNV0\"] ┆ 99.655436 │\n",
       "│ COMPANY              ┆      ┆ \"742718109\"]  ┆ \"US4606901001…   ┆                  ┆           │\n",
       "│ PROCTER & GAMBLE     ┆ 9    ┆ [\"Y7089A117\"] ┆ [\"INE179A01014\"] ┆ [null]           ┆ 0.344564  │\n",
       "│ HYGIENE & HEA…       ┆      ┆               ┆                  ┆                  ┆           │\n",
       "└──────────────────────┴──────┴───────────────┴──────────────────┴──────────────────┴───────────┘"
      ]
     },
     "metadata": {},
     "output_type": "display_data"
    },
    {
     "name": "stdout",
     "output_type": "stream",
     "text": [
      "Consolidation Fodder:\n"
     ]
    },
    {
     "data": {
      "text/html": [
       "<div>\n",
       "<style scoped>\n",
       "    .dataframe tbody tr th:only-of-type {\n",
       "        vertical-align: middle;\n",
       "    }\n",
       "\n",
       "    .dataframe tbody tr th {\n",
       "        vertical-align: top;\n",
       "    }\n",
       "\n",
       "    .dataframe thead th {\n",
       "        text-align: right;\n",
       "    }\n",
       "</style>\n",
       "<table border=\"1\" class=\"dataframe\">\n",
       "  <thead>\n",
       "    <tr style=\"text-align: right;\">\n",
       "      <th></th>\n",
       "      <th>issuer_name</th>\n",
       "      <th>count</th>\n",
       "    </tr>\n",
       "  </thead>\n",
       "  <tbody>\n",
       "    <tr>\n",
       "      <th>0</th>\n",
       "      <td>THE PROCTER &amp; GAMBLE COMPANY</td>\n",
       "      <td>1186</td>\n",
       "    </tr>\n",
       "    <tr>\n",
       "      <th>1</th>\n",
       "      <td>The Procter &amp; Gamble Company</td>\n",
       "      <td>1001</td>\n",
       "    </tr>\n",
       "    <tr>\n",
       "      <th>2</th>\n",
       "      <td>THE PROCTER  GAMBLE COMPANY</td>\n",
       "      <td>100</td>\n",
       "    </tr>\n",
       "    <tr>\n",
       "      <th>3</th>\n",
       "      <td>Proctor &amp; Gamble Company</td>\n",
       "      <td>100</td>\n",
       "    </tr>\n",
       "    <tr>\n",
       "      <th>4</th>\n",
       "      <td>THE PROCTER and GAMBLE COMPANY</td>\n",
       "      <td>78</td>\n",
       "    </tr>\n",
       "    <tr>\n",
       "      <th>5</th>\n",
       "      <td>THE PROCTER &amp; GAMBLE\\nCOMPANY</td>\n",
       "      <td>65</td>\n",
       "    </tr>\n",
       "    <tr>\n",
       "      <th>6</th>\n",
       "      <td>Procter &amp; Gamble Company</td>\n",
       "      <td>25</td>\n",
       "    </tr>\n",
       "    <tr>\n",
       "      <th>7</th>\n",
       "      <td>The Procter &amp; Gamble Co.</td>\n",
       "      <td>10</td>\n",
       "    </tr>\n",
       "    <tr>\n",
       "      <th>8</th>\n",
       "      <td>PROCTER &amp; GAMBLE HYGIENE &amp; HEALTH CARE LTD</td>\n",
       "      <td>9</td>\n",
       "    </tr>\n",
       "    <tr>\n",
       "      <th>9</th>\n",
       "      <td>Procter &amp; Gamble</td>\n",
       "      <td>5</td>\n",
       "    </tr>\n",
       "    <tr>\n",
       "      <th>10</th>\n",
       "      <td>Procter &amp; Gamble Co.</td>\n",
       "      <td>5</td>\n",
       "    </tr>\n",
       "    <tr>\n",
       "      <th>11</th>\n",
       "      <td>The Proctor &amp; Gamble Company</td>\n",
       "      <td>4</td>\n",
       "    </tr>\n",
       "    <tr>\n",
       "      <th>12</th>\n",
       "      <td>PG</td>\n",
       "      <td>3</td>\n",
       "    </tr>\n",
       "    <tr>\n",
       "      <th>13</th>\n",
       "      <td>THE PROCTER &amp;amp; GAMBLE COMPANY</td>\n",
       "      <td>2</td>\n",
       "    </tr>\n",
       "    <tr>\n",
       "      <th>14</th>\n",
       "      <td>Procter &amp; Gamble Company (The)</td>\n",
       "      <td>2</td>\n",
       "    </tr>\n",
       "    <tr>\n",
       "      <th>15</th>\n",
       "      <td>THE PROCTER AND GAMBLE COMPANY</td>\n",
       "      <td>2</td>\n",
       "    </tr>\n",
       "    <tr>\n",
       "      <th>16</th>\n",
       "      <td>PROCTER &amp; GAMBLE CO</td>\n",
       "      <td>2</td>\n",
       "    </tr>\n",
       "    <tr>\n",
       "      <th>17</th>\n",
       "      <td>PROCTER &amp; GAMBLE COMPANY COM</td>\n",
       "      <td>2</td>\n",
       "    </tr>\n",
       "    <tr>\n",
       "      <th>18</th>\n",
       "      <td>THE PROCTER &amp; GAMBLECOMPANY</td>\n",
       "      <td>2</td>\n",
       "    </tr>\n",
       "    <tr>\n",
       "      <th>19</th>\n",
       "      <td>Procter &amp; Gamble Co</td>\n",
       "      <td>1</td>\n",
       "    </tr>\n",
       "    <tr>\n",
       "      <th>20</th>\n",
       "      <td>PROCTOR AND GAMBLE</td>\n",
       "      <td>1</td>\n",
       "    </tr>\n",
       "    <tr>\n",
       "      <th>21</th>\n",
       "      <td>Proctor &amp; Gamble</td>\n",
       "      <td>1</td>\n",
       "    </tr>\n",
       "    <tr>\n",
       "      <th>22</th>\n",
       "      <td>PROCTER AND GAMBLE CO COM</td>\n",
       "      <td>1</td>\n",
       "    </tr>\n",
       "    <tr>\n",
       "      <th>23</th>\n",
       "      <td>The Proter &amp; Gamble Co</td>\n",
       "      <td>1</td>\n",
       "    </tr>\n",
       "    <tr>\n",
       "      <th>24</th>\n",
       "      <td>PROCTOR &amp; GAMBLE</td>\n",
       "      <td>1</td>\n",
       "    </tr>\n",
       "    <tr>\n",
       "      <th>25</th>\n",
       "      <td>PROCTER AND GAMBLE CO</td>\n",
       "      <td>1</td>\n",
       "    </tr>\n",
       "    <tr>\n",
       "      <th>26</th>\n",
       "      <td>Proctor Gamble</td>\n",
       "      <td>1</td>\n",
       "    </tr>\n",
       "  </tbody>\n",
       "</table>\n",
       "</div>"
      ],
      "text/plain": [
       "                                   issuer_name  count\n",
       "0                 THE PROCTER & GAMBLE COMPANY   1186\n",
       "1                 The Procter & Gamble Company   1001\n",
       "2                  THE PROCTER  GAMBLE COMPANY    100\n",
       "3                     Proctor & Gamble Company    100\n",
       "4               THE PROCTER and GAMBLE COMPANY     78\n",
       "5                THE PROCTER & GAMBLE\\nCOMPANY     65\n",
       "6                     Procter & Gamble Company     25\n",
       "7                     The Procter & Gamble Co.     10\n",
       "8   PROCTER & GAMBLE HYGIENE & HEALTH CARE LTD      9\n",
       "9                             Procter & Gamble      5\n",
       "10                        Procter & Gamble Co.      5\n",
       "11                The Proctor & Gamble Company      4\n",
       "12                                          PG      3\n",
       "13            THE PROCTER &amp; GAMBLE COMPANY      2\n",
       "14              Procter & Gamble Company (The)      2\n",
       "15              THE PROCTER AND GAMBLE COMPANY      2\n",
       "16                         PROCTER & GAMBLE CO      2\n",
       "17                PROCTER & GAMBLE COMPANY COM      2\n",
       "18                 THE PROCTER & GAMBLECOMPANY      2\n",
       "19                         Procter & Gamble Co      1\n",
       "20                          PROCTOR AND GAMBLE      1\n",
       "21                            Proctor & Gamble      1\n",
       "22                   PROCTER AND GAMBLE CO COM      1\n",
       "23                      The Proter & Gamble Co      1\n",
       "24                            PROCTOR & GAMBLE      1\n",
       "25                       PROCTER AND GAMBLE CO      1\n",
       "26                              Proctor Gamble      1"
      ]
     },
     "metadata": {},
     "output_type": "display_data"
    },
    {
     "name": "stdout",
     "output_type": "stream",
     "text": [
      "************************************************************ ORACLE ************************************************************\n",
      "Un-Normalized (n=2525)\n"
     ]
    },
    {
     "data": {
      "text/html": [
       "<div><style>\n",
       ".dataframe > thead > tr,\n",
       ".dataframe > tbody > tr {\n",
       "  text-align: right;\n",
       "  white-space: pre-wrap;\n",
       "}\n",
       "</style>\n",
       "<small>shape: (14, 6)</small><table border=\"1\" class=\"dataframe\"><thead><tr><th>issuer_name</th><th>len</th><th>cusip</th><th>isin</th><th>figi</th><th>% of obs</th></tr><tr><td>str</td><td>u32</td><td>list[str]</td><td>list[str]</td><td>list[str]</td><td>f64</td></tr></thead><tbody><tr><td>&quot;ORACLE CORPORATION&quot;</td><td>1287</td><td>[null, &quot;68389X105&quot;]</td><td>[&quot;US68389X1054&quot;, null]</td><td>[null]</td><td>50.970297</td></tr><tr><td>&quot;Oracle Corporation&quot;</td><td>1097</td><td>[null, &quot;68389X105&quot;, &quot;68389x105&quot;]</td><td>[&quot;US68389X1054&quot;, null]</td><td>[&quot;BBG000BQLTW7&quot;, null]</td><td>43.445545</td></tr><tr><td>&quot;Oracle Corp&quot;</td><td>69</td><td>[&quot;68389X105&quot;]</td><td>[null, &quot;US68389X1054&quot;, &quot;US68389X1055&quot;]</td><td>[&quot;BBG000BQLTW7&quot;, null]</td><td>2.732673</td></tr><tr><td>&quot;Oracle Corp.&quot;</td><td>17</td><td>[&quot;68389X105&quot;]</td><td>[null, &quot;US68389X1054&quot;]</td><td>[null]</td><td>0.673267</td></tr><tr><td>&quot;Oracle Financial Services Soft…</td><td>16</td><td>[null, &quot;Y3864R102&quot;]</td><td>[&quot;INE881D01027&quot;]</td><td>[null]</td><td>0.633663</td></tr><tr><td>&hellip;</td><td>&hellip;</td><td>&hellip;</td><td>&hellip;</td><td>&hellip;</td><td>&hellip;</td></tr><tr><td>&quot;ORACLE&quot;</td><td>3</td><td>[&quot;68389X105&quot;]</td><td>[null, &quot;US68389X1054&quot;]</td><td>[null]</td><td>0.118812</td></tr><tr><td>&quot;ORACLE CORPORTATION&quot;</td><td>2</td><td>[&quot;68389X105&quot;]</td><td>[null]</td><td>[null]</td><td>0.079208</td></tr><tr><td>&quot;Oracle Corporatio n&quot;</td><td>2</td><td>[null]</td><td>[null]</td><td>[null]</td><td>0.079208</td></tr><tr><td>&quot;ORACLE CORP COM&quot;</td><td>1</td><td>[&quot;68389X105&quot;]</td><td>[&quot;US68389X1054&quot;]</td><td>[null]</td><td>0.039604</td></tr><tr><td>&quot;Oracle&quot;</td><td>1</td><td>[&quot;68389X105&quot;]</td><td>[null]</td><td>[null]</td><td>0.039604</td></tr></tbody></table></div>"
      ],
      "text/plain": [
       "shape: (14, 6)\n",
       "┌─────────────────────┬──────┬───────────────┬────────────────────┬────────────────────┬───────────┐\n",
       "│ issuer_name         ┆ len  ┆ cusip         ┆ isin               ┆ figi               ┆ % of obs  │\n",
       "│ ---                 ┆ ---  ┆ ---           ┆ ---                ┆ ---                ┆ ---       │\n",
       "│ str                 ┆ u32  ┆ list[str]     ┆ list[str]          ┆ list[str]          ┆ f64       │\n",
       "╞═════════════════════╪══════╪═══════════════╪════════════════════╪════════════════════╪═══════════╡\n",
       "│ ORACLE CORPORATION  ┆ 1287 ┆ [null,        ┆ [\"US68389X1054\",   ┆ [null]             ┆ 50.970297 │\n",
       "│                     ┆      ┆ \"68389X105\"]  ┆ null]              ┆                    ┆           │\n",
       "│ Oracle Corporation  ┆ 1097 ┆ [null,        ┆ [\"US68389X1054\",   ┆ [\"BBG000BQLTW7\",   ┆ 43.445545 │\n",
       "│                     ┆      ┆ \"68389X105\",  ┆ null]              ┆ null]              ┆           │\n",
       "│                     ┆      ┆ \"68389x105…   ┆                    ┆                    ┆           │\n",
       "│ Oracle Corp         ┆ 69   ┆ [\"68389X105\"] ┆ [null,             ┆ [\"BBG000BQLTW7\",   ┆ 2.732673  │\n",
       "│                     ┆      ┆               ┆ \"US68389X1054\",    ┆ null]              ┆           │\n",
       "│                     ┆      ┆               ┆ \"US6838…           ┆                    ┆           │\n",
       "│ Oracle Corp.        ┆ 17   ┆ [\"68389X105\"] ┆ [null,             ┆ [null]             ┆ 0.673267  │\n",
       "│                     ┆      ┆               ┆ \"US68389X1054\"]    ┆                    ┆           │\n",
       "│ Oracle Financial    ┆ 16   ┆ [null,        ┆ [\"INE881D01027\"]   ┆ [null]             ┆ 0.633663  │\n",
       "│ Services Soft…      ┆      ┆ \"Y3864R102\"]  ┆                    ┆                    ┆           │\n",
       "│ …                   ┆ …    ┆ …             ┆ …                  ┆ …                  ┆ …         │\n",
       "│ ORACLE              ┆ 3    ┆ [\"68389X105\"] ┆ [null,             ┆ [null]             ┆ 0.118812  │\n",
       "│                     ┆      ┆               ┆ \"US68389X1054\"]    ┆                    ┆           │\n",
       "│ ORACLE CORPORTATION ┆ 2    ┆ [\"68389X105\"] ┆ [null]             ┆ [null]             ┆ 0.079208  │\n",
       "│ Oracle Corporatio n ┆ 2    ┆ [null]        ┆ [null]             ┆ [null]             ┆ 0.079208  │\n",
       "│ ORACLE CORP COM     ┆ 1    ┆ [\"68389X105\"] ┆ [\"US68389X1054\"]   ┆ [null]             ┆ 0.039604  │\n",
       "│ Oracle              ┆ 1    ┆ [\"68389X105\"] ┆ [null]             ┆ [null]             ┆ 0.039604  │\n",
       "└─────────────────────┴──────┴───────────────┴────────────────────┴────────────────────┴───────────┘"
      ]
     },
     "metadata": {},
     "output_type": "display_data"
    },
    {
     "name": "stdout",
     "output_type": "stream",
     "text": [
      "Normalized -- INTRA (n=2528)\n"
     ]
    },
    {
     "data": {
      "text/html": [
       "<div><style>\n",
       ".dataframe > thead > tr,\n",
       ".dataframe > tbody > tr {\n",
       "  text-align: right;\n",
       "  white-space: pre-wrap;\n",
       "}\n",
       "</style>\n",
       "<small>shape: (4, 6)</small><table border=\"1\" class=\"dataframe\"><thead><tr><th>issuer_name</th><th>len</th><th>cusip</th><th>isin</th><th>figi</th><th>% of obs</th></tr><tr><td>str</td><td>u32</td><td>list[str]</td><td>list[str]</td><td>list[str]</td><td>f64</td></tr></thead><tbody><tr><td>&quot;ORACLE CORPORATION&quot;</td><td>2487</td><td>[&quot;68389X105&quot;]</td><td>[&quot;US68389X1054&quot;]</td><td>[&quot;BBG000BQLTW7&quot;]</td><td>98.378165</td></tr><tr><td>&quot;ORACLE FINANCIAL SERVICES SOFT…</td><td>21</td><td>[&quot;Y3864R102&quot;]</td><td>[&quot;INE881D01027&quot;]</td><td>[null]</td><td>0.830696</td></tr><tr><td>&quot;ORACLE CORP JAPAN&quot;</td><td>18</td><td>[&quot;J6165M109&quot;]</td><td>[&quot;JP3689500001&quot;]</td><td>[null]</td><td>0.712025</td></tr><tr><td>&quot;ORACLE CORPORATIO N&quot;</td><td>2</td><td>[null]</td><td>[null]</td><td>[null]</td><td>0.079114</td></tr></tbody></table></div>"
      ],
      "text/plain": [
       "shape: (4, 6)\n",
       "┌─────────────────────┬──────┬───────────────┬──────────────────┬──────────────────┬───────────┐\n",
       "│ issuer_name         ┆ len  ┆ cusip         ┆ isin             ┆ figi             ┆ % of obs  │\n",
       "│ ---                 ┆ ---  ┆ ---           ┆ ---              ┆ ---              ┆ ---       │\n",
       "│ str                 ┆ u32  ┆ list[str]     ┆ list[str]        ┆ list[str]        ┆ f64       │\n",
       "╞═════════════════════╪══════╪═══════════════╪══════════════════╪══════════════════╪═══════════╡\n",
       "│ ORACLE CORPORATION  ┆ 2487 ┆ [\"68389X105\"] ┆ [\"US68389X1054\"] ┆ [\"BBG000BQLTW7\"] ┆ 98.378165 │\n",
       "│ ORACLE FINANCIAL    ┆ 21   ┆ [\"Y3864R102\"] ┆ [\"INE881D01027\"] ┆ [null]           ┆ 0.830696  │\n",
       "│ SERVICES SOFT…      ┆      ┆               ┆                  ┆                  ┆           │\n",
       "│ ORACLE CORP JAPAN   ┆ 18   ┆ [\"J6165M109\"] ┆ [\"JP3689500001\"] ┆ [null]           ┆ 0.712025  │\n",
       "│ ORACLE CORPORATIO N ┆ 2    ┆ [null]        ┆ [null]           ┆ [null]           ┆ 0.079114  │\n",
       "└─────────────────────┴──────┴───────────────┴──────────────────┴──────────────────┴───────────┘"
      ]
     },
     "metadata": {},
     "output_type": "display_data"
    },
    {
     "name": "stdout",
     "output_type": "stream",
     "text": [
      "Normalized -- NO INTRA (n=2528)\n"
     ]
    },
    {
     "data": {
      "text/html": [
       "<div><style>\n",
       ".dataframe > thead > tr,\n",
       ".dataframe > tbody > tr {\n",
       "  text-align: right;\n",
       "  white-space: pre-wrap;\n",
       "}\n",
       "</style>\n",
       "<small>shape: (4, 6)</small><table border=\"1\" class=\"dataframe\"><thead><tr><th>issuer_name</th><th>len</th><th>cusip</th><th>isin</th><th>figi</th><th>% of obs</th></tr><tr><td>str</td><td>u32</td><td>list[str]</td><td>list[str]</td><td>list[str]</td><td>f64</td></tr></thead><tbody><tr><td>&quot;ORACLE CORPORATION&quot;</td><td>2487</td><td>[&quot;68389X105&quot;]</td><td>[&quot;US68389X1054&quot;]</td><td>[&quot;BBG000BQLTW7&quot;]</td><td>98.378165</td></tr><tr><td>&quot;ORACLE FINANCIAL SERVICES SOFT…</td><td>21</td><td>[&quot;Y3864R102&quot;]</td><td>[&quot;INE881D01027&quot;]</td><td>[null]</td><td>0.830696</td></tr><tr><td>&quot;ORACLE CORP JAPAN&quot;</td><td>18</td><td>[&quot;J6165M109&quot;]</td><td>[&quot;JP3689500001&quot;]</td><td>[null]</td><td>0.712025</td></tr><tr><td>&quot;ORACLE CORPORATIO N&quot;</td><td>2</td><td>[null]</td><td>[null]</td><td>[null]</td><td>0.079114</td></tr></tbody></table></div>"
      ],
      "text/plain": [
       "shape: (4, 6)\n",
       "┌─────────────────────┬──────┬───────────────┬──────────────────┬──────────────────┬───────────┐\n",
       "│ issuer_name         ┆ len  ┆ cusip         ┆ isin             ┆ figi             ┆ % of obs  │\n",
       "│ ---                 ┆ ---  ┆ ---           ┆ ---              ┆ ---              ┆ ---       │\n",
       "│ str                 ┆ u32  ┆ list[str]     ┆ list[str]        ┆ list[str]        ┆ f64       │\n",
       "╞═════════════════════╪══════╪═══════════════╪══════════════════╪══════════════════╪═══════════╡\n",
       "│ ORACLE CORPORATION  ┆ 2487 ┆ [\"68389X105\"] ┆ [\"US68389X1054\"] ┆ [\"BBG000BQLTW7\"] ┆ 98.378165 │\n",
       "│ ORACLE FINANCIAL    ┆ 21   ┆ [\"Y3864R102\"] ┆ [\"INE881D01027\"] ┆ [null]           ┆ 0.830696  │\n",
       "│ SERVICES SOFT…      ┆      ┆               ┆                  ┆                  ┆           │\n",
       "│ ORACLE CORP JAPAN   ┆ 18   ┆ [\"J6165M109\"] ┆ [\"JP3689500001\"] ┆ [null]           ┆ 0.712025  │\n",
       "│ ORACLE CORPORATIO N ┆ 2    ┆ [null]        ┆ [null]           ┆ [null]           ┆ 0.079114  │\n",
       "└─────────────────────┴──────┴───────────────┴──────────────────┴──────────────────┴───────────┘"
      ]
     },
     "metadata": {},
     "output_type": "display_data"
    },
    {
     "name": "stdout",
     "output_type": "stream",
     "text": [
      "Consolidation Fodder:\n"
     ]
    },
    {
     "data": {
      "text/html": [
       "<div>\n",
       "<style scoped>\n",
       "    .dataframe tbody tr th:only-of-type {\n",
       "        vertical-align: middle;\n",
       "    }\n",
       "\n",
       "    .dataframe tbody tr th {\n",
       "        vertical-align: top;\n",
       "    }\n",
       "\n",
       "    .dataframe thead th {\n",
       "        text-align: right;\n",
       "    }\n",
       "</style>\n",
       "<table border=\"1\" class=\"dataframe\">\n",
       "  <thead>\n",
       "    <tr style=\"text-align: right;\">\n",
       "      <th></th>\n",
       "      <th>issuer_name</th>\n",
       "      <th>count</th>\n",
       "    </tr>\n",
       "  </thead>\n",
       "  <tbody>\n",
       "    <tr>\n",
       "      <th>0</th>\n",
       "      <td>ORACLE CORPORATION</td>\n",
       "      <td>1287</td>\n",
       "    </tr>\n",
       "    <tr>\n",
       "      <th>1</th>\n",
       "      <td>Oracle Corporation</td>\n",
       "      <td>1097</td>\n",
       "    </tr>\n",
       "    <tr>\n",
       "      <th>2</th>\n",
       "      <td>Oracle Corp</td>\n",
       "      <td>69</td>\n",
       "    </tr>\n",
       "    <tr>\n",
       "      <th>3</th>\n",
       "      <td>Oracle Corp.</td>\n",
       "      <td>17</td>\n",
       "    </tr>\n",
       "    <tr>\n",
       "      <th>4</th>\n",
       "      <td>Oracle Financial Services Software Limited</td>\n",
       "      <td>16</td>\n",
       "    </tr>\n",
       "    <tr>\n",
       "      <th>5</th>\n",
       "      <td>Oracle Corp Japan</td>\n",
       "      <td>9</td>\n",
       "    </tr>\n",
       "    <tr>\n",
       "      <th>6</th>\n",
       "      <td>ORACLE CORPORATION JAPAN</td>\n",
       "      <td>9</td>\n",
       "    </tr>\n",
       "    <tr>\n",
       "      <th>7</th>\n",
       "      <td>ORACLE CORP</td>\n",
       "      <td>7</td>\n",
       "    </tr>\n",
       "    <tr>\n",
       "      <th>8</th>\n",
       "      <td>ORACLE FINANCIAL SERVICES SOFTWARE LTD</td>\n",
       "      <td>5</td>\n",
       "    </tr>\n",
       "    <tr>\n",
       "      <th>9</th>\n",
       "      <td>ORACLE</td>\n",
       "      <td>3</td>\n",
       "    </tr>\n",
       "    <tr>\n",
       "      <th>10</th>\n",
       "      <td>ORCL</td>\n",
       "      <td>3</td>\n",
       "    </tr>\n",
       "    <tr>\n",
       "      <th>11</th>\n",
       "      <td>ORACLE CORPORTATION</td>\n",
       "      <td>2</td>\n",
       "    </tr>\n",
       "    <tr>\n",
       "      <th>12</th>\n",
       "      <td>Oracle Corporatio n</td>\n",
       "      <td>2</td>\n",
       "    </tr>\n",
       "    <tr>\n",
       "      <th>13</th>\n",
       "      <td>ORACLE CORP COM</td>\n",
       "      <td>1</td>\n",
       "    </tr>\n",
       "    <tr>\n",
       "      <th>14</th>\n",
       "      <td>Oracle</td>\n",
       "      <td>1</td>\n",
       "    </tr>\n",
       "  </tbody>\n",
       "</table>\n",
       "</div>"
      ],
      "text/plain": [
       "                                   issuer_name  count\n",
       "0                           ORACLE CORPORATION   1287\n",
       "1                           Oracle Corporation   1097\n",
       "2                                  Oracle Corp     69\n",
       "3                                 Oracle Corp.     17\n",
       "4   Oracle Financial Services Software Limited     16\n",
       "5                            Oracle Corp Japan      9\n",
       "6                     ORACLE CORPORATION JAPAN      9\n",
       "7                                  ORACLE CORP      7\n",
       "8       ORACLE FINANCIAL SERVICES SOFTWARE LTD      5\n",
       "9                                       ORACLE      3\n",
       "10                                        ORCL      3\n",
       "11                         ORACLE CORPORTATION      2\n",
       "12                         Oracle Corporatio n      2\n",
       "13                             ORACLE CORP COM      1\n",
       "14                                      Oracle      1"
      ]
     },
     "metadata": {},
     "output_type": "display_data"
    },
    {
     "name": "stdout",
     "output_type": "stream",
     "text": [
      "************************************************************ APPLE ************************************************************\n",
      "Un-Normalized (n=2528)\n"
     ]
    },
    {
     "data": {
      "text/html": [
       "<div><style>\n",
       ".dataframe > thead > tr,\n",
       ".dataframe > tbody > tr {\n",
       "  text-align: right;\n",
       "  white-space: pre-wrap;\n",
       "}\n",
       "</style>\n",
       "<small>shape: (22, 6)</small><table border=\"1\" class=\"dataframe\"><thead><tr><th>issuer_name</th><th>len</th><th>cusip</th><th>isin</th><th>figi</th><th>% of obs</th></tr><tr><td>str</td><td>u32</td><td>list[str]</td><td>list[str]</td><td>list[str]</td><td>f64</td></tr></thead><tbody><tr><td>&quot;APPLE INC.&quot;</td><td>1105</td><td>[&quot;037833100&quot;, null]</td><td>[&quot;US0378331005&quot;, null]</td><td>[null]</td><td>43.710443</td></tr><tr><td>&quot;Apple Inc.&quot;</td><td>936</td><td>[&quot;378331000&quot;, null, &quot;037833100&quot;]</td><td>[&quot;US0378331005&quot;, null]</td><td>[null, &quot;BBG000B9XRY4&quot;]</td><td>37.025316</td></tr><tr><td>&quot;APPLE INC&quot;</td><td>175</td><td>[&quot;037833100&quot;]</td><td>[&quot;US0378331005&quot;, null]</td><td>[&quot;BBG001S5N8V8&quot;, null]</td><td>6.922468</td></tr><tr><td>&quot;Apple Hospitality REIT, Inc.&quot;</td><td>111</td><td>[&quot;03784Y200&quot;]</td><td>[null, &quot;US03784Y2000&quot;]</td><td>[null]</td><td>4.390823</td></tr><tr><td>&quot;APPLE HOSPITALITY REIT, INC.&quot;</td><td>48</td><td>[&quot;03784Y200&quot;]</td><td>[&quot;US03784Y2000&quot;, null]</td><td>[null]</td><td>1.898734</td></tr><tr><td>&hellip;</td><td>&hellip;</td><td>&hellip;</td><td>&hellip;</td><td>&hellip;</td><td>&hellip;</td></tr><tr><td>&quot;Apple Hospitality REIT&quot;</td><td>1</td><td>[&quot;03784Y200&quot;]</td><td>[null]</td><td>[null]</td><td>0.039557</td></tr><tr><td>&quot;Apple Inc (AAPL)&quot;</td><td>1</td><td>[&quot;037833100&quot;]</td><td>[&quot;US0378331005&quot;]</td><td>[null]</td><td>0.039557</td></tr><tr><td>&quot;Apple Hospitality REIT Inc&quot;</td><td>1</td><td>[&quot;03784Y200&quot;]</td><td>[null]</td><td>[null]</td><td>0.039557</td></tr><tr><td>&quot;Apple, Inc&quot;</td><td>1</td><td>[&quot;037833100&quot;]</td><td>[null]</td><td>[null]</td><td>0.039557</td></tr><tr><td>&quot;Apple Inc. &quot;</td><td>1</td><td>[&quot;037833100&quot;]</td><td>[null]</td><td>[null]</td><td>0.039557</td></tr></tbody></table></div>"
      ],
      "text/plain": [
       "shape: (22, 6)\n",
       "┌───────────────────┬──────┬───────────────────┬───────────────────┬───────────────────┬───────────┐\n",
       "│ issuer_name       ┆ len  ┆ cusip             ┆ isin              ┆ figi              ┆ % of obs  │\n",
       "│ ---               ┆ ---  ┆ ---               ┆ ---               ┆ ---               ┆ ---       │\n",
       "│ str               ┆ u32  ┆ list[str]         ┆ list[str]         ┆ list[str]         ┆ f64       │\n",
       "╞═══════════════════╪══════╪═══════════════════╪═══════════════════╪═══════════════════╪═══════════╡\n",
       "│ APPLE INC.        ┆ 1105 ┆ [\"037833100\",     ┆ [\"US0378331005\",  ┆ [null]            ┆ 43.710443 │\n",
       "│                   ┆      ┆ null]             ┆ null]             ┆                   ┆           │\n",
       "│ Apple Inc.        ┆ 936  ┆ [\"378331000\",     ┆ [\"US0378331005\",  ┆ [null,            ┆ 37.025316 │\n",
       "│                   ┆      ┆ null, \"037833100… ┆ null]             ┆ \"BBG000B9XRY4\"]   ┆           │\n",
       "│ APPLE INC         ┆ 175  ┆ [\"037833100\"]     ┆ [\"US0378331005\",  ┆ [\"BBG001S5N8V8\",  ┆ 6.922468  │\n",
       "│                   ┆      ┆                   ┆ null]             ┆ null]             ┆           │\n",
       "│ Apple Hospitality ┆ 111  ┆ [\"03784Y200\"]     ┆ [null,            ┆ [null]            ┆ 4.390823  │\n",
       "│ REIT, Inc.        ┆      ┆                   ┆ \"US03784Y2000\"]   ┆                   ┆           │\n",
       "│ APPLE HOSPITALITY ┆ 48   ┆ [\"03784Y200\"]     ┆ [\"US03784Y2000\",  ┆ [null]            ┆ 1.898734  │\n",
       "│ REIT, INC.        ┆      ┆                   ┆ null]             ┆                   ┆           │\n",
       "│ …                 ┆ …    ┆ …                 ┆ …                 ┆ …                 ┆ …         │\n",
       "│ Apple Hospitality ┆ 1    ┆ [\"03784Y200\"]     ┆ [null]            ┆ [null]            ┆ 0.039557  │\n",
       "│ REIT              ┆      ┆                   ┆                   ┆                   ┆           │\n",
       "│ Apple Inc (AAPL)  ┆ 1    ┆ [\"037833100\"]     ┆ [\"US0378331005\"]  ┆ [null]            ┆ 0.039557  │\n",
       "│ Apple Hospitality ┆ 1    ┆ [\"03784Y200\"]     ┆ [null]            ┆ [null]            ┆ 0.039557  │\n",
       "│ REIT Inc          ┆      ┆                   ┆                   ┆                   ┆           │\n",
       "│ Apple, Inc        ┆ 1    ┆ [\"037833100\"]     ┆ [null]            ┆ [null]            ┆ 0.039557  │\n",
       "│ Apple Inc.        ┆ 1    ┆ [\"037833100\"]     ┆ [null]            ┆ [null]            ┆ 0.039557  │\n",
       "└───────────────────┴──────┴───────────────────┴───────────────────┴───────────────────┴───────────┘"
      ]
     },
     "metadata": {},
     "output_type": "display_data"
    },
    {
     "name": "stdout",
     "output_type": "stream",
     "text": [
      "Normalized -- INTRA (n=2530)\n"
     ]
    },
    {
     "data": {
      "text/html": [
       "<div><style>\n",
       ".dataframe > thead > tr,\n",
       ".dataframe > tbody > tr {\n",
       "  text-align: right;\n",
       "  white-space: pre-wrap;\n",
       "}\n",
       "</style>\n",
       "<small>shape: (3, 6)</small><table border=\"1\" class=\"dataframe\"><thead><tr><th>issuer_name</th><th>len</th><th>cusip</th><th>isin</th><th>figi</th><th>% of obs</th></tr><tr><td>str</td><td>u32</td><td>list[str]</td><td>list[str]</td><td>list[str]</td><td>f64</td></tr></thead><tbody><tr><td>&quot;APPLE INC.&quot;</td><td>2355</td><td>[&quot;037833100&quot;]</td><td>[&quot;US0378331005&quot;]</td><td>[&quot;BBG000B9XRY4&quot;]</td><td>93.083004</td></tr><tr><td>&quot;APPLE HOSPITALITY REIT, INC.&quot;</td><td>164</td><td>[&quot;03784Y200&quot;]</td><td>[&quot;US03784Y2000&quot;]</td><td>[null]</td><td>6.482213</td></tr><tr><td>&quot;MAUI LAND &amp; PINEAPPLE COMPANY,…</td><td>11</td><td>[&quot;577345101&quot;]</td><td>[&quot;US5773451019&quot;]</td><td>[null]</td><td>0.434783</td></tr></tbody></table></div>"
      ],
      "text/plain": [
       "shape: (3, 6)\n",
       "┌─────────────────────────┬──────┬───────────────┬──────────────────┬──────────────────┬───────────┐\n",
       "│ issuer_name             ┆ len  ┆ cusip         ┆ isin             ┆ figi             ┆ % of obs  │\n",
       "│ ---                     ┆ ---  ┆ ---           ┆ ---              ┆ ---              ┆ ---       │\n",
       "│ str                     ┆ u32  ┆ list[str]     ┆ list[str]        ┆ list[str]        ┆ f64       │\n",
       "╞═════════════════════════╪══════╪═══════════════╪══════════════════╪══════════════════╪═══════════╡\n",
       "│ APPLE INC.              ┆ 2355 ┆ [\"037833100\"] ┆ [\"US0378331005\"] ┆ [\"BBG000B9XRY4\"] ┆ 93.083004 │\n",
       "│ APPLE HOSPITALITY REIT, ┆ 164  ┆ [\"03784Y200\"] ┆ [\"US03784Y2000\"] ┆ [null]           ┆ 6.482213  │\n",
       "│ INC.                    ┆      ┆               ┆                  ┆                  ┆           │\n",
       "│ MAUI LAND & PINEAPPLE   ┆ 11   ┆ [\"577345101\"] ┆ [\"US5773451019\"] ┆ [null]           ┆ 0.434783  │\n",
       "│ COMPANY,…               ┆      ┆               ┆                  ┆                  ┆           │\n",
       "└─────────────────────────┴──────┴───────────────┴──────────────────┴──────────────────┴───────────┘"
      ]
     },
     "metadata": {},
     "output_type": "display_data"
    },
    {
     "name": "stdout",
     "output_type": "stream",
     "text": [
      "Normalized -- NO INTRA (n=2530)\n"
     ]
    },
    {
     "data": {
      "text/html": [
       "<div><style>\n",
       ".dataframe > thead > tr,\n",
       ".dataframe > tbody > tr {\n",
       "  text-align: right;\n",
       "  white-space: pre-wrap;\n",
       "}\n",
       "</style>\n",
       "<small>shape: (3, 6)</small><table border=\"1\" class=\"dataframe\"><thead><tr><th>issuer_name</th><th>len</th><th>cusip</th><th>isin</th><th>figi</th><th>% of obs</th></tr><tr><td>str</td><td>u32</td><td>list[str]</td><td>list[str]</td><td>list[str]</td><td>f64</td></tr></thead><tbody><tr><td>&quot;APPLE INC.&quot;</td><td>2355</td><td>[&quot;037833100&quot;]</td><td>[&quot;US0378331005&quot;]</td><td>[&quot;BBG000B9XRY4&quot;]</td><td>93.083004</td></tr><tr><td>&quot;APPLE HOSPITALITY REIT, INC.&quot;</td><td>164</td><td>[&quot;03784Y200&quot;]</td><td>[&quot;US03784Y2000&quot;]</td><td>[null]</td><td>6.482213</td></tr><tr><td>&quot;MAUI LAND &amp; PINEAPPLE COMPANY,…</td><td>11</td><td>[&quot;577345101&quot;]</td><td>[&quot;US5773451019&quot;]</td><td>[null]</td><td>0.434783</td></tr></tbody></table></div>"
      ],
      "text/plain": [
       "shape: (3, 6)\n",
       "┌─────────────────────────┬──────┬───────────────┬──────────────────┬──────────────────┬───────────┐\n",
       "│ issuer_name             ┆ len  ┆ cusip         ┆ isin             ┆ figi             ┆ % of obs  │\n",
       "│ ---                     ┆ ---  ┆ ---           ┆ ---              ┆ ---              ┆ ---       │\n",
       "│ str                     ┆ u32  ┆ list[str]     ┆ list[str]        ┆ list[str]        ┆ f64       │\n",
       "╞═════════════════════════╪══════╪═══════════════╪══════════════════╪══════════════════╪═══════════╡\n",
       "│ APPLE INC.              ┆ 2355 ┆ [\"037833100\"] ┆ [\"US0378331005\"] ┆ [\"BBG000B9XRY4\"] ┆ 93.083004 │\n",
       "│ APPLE HOSPITALITY REIT, ┆ 164  ┆ [\"03784Y200\"] ┆ [\"US03784Y2000\"] ┆ [null]           ┆ 6.482213  │\n",
       "│ INC.                    ┆      ┆               ┆                  ┆                  ┆           │\n",
       "│ MAUI LAND & PINEAPPLE   ┆ 11   ┆ [\"577345101\"] ┆ [\"US5773451019\"] ┆ [null]           ┆ 0.434783  │\n",
       "│ COMPANY,…               ┆      ┆               ┆                  ┆                  ┆           │\n",
       "└─────────────────────────┴──────┴───────────────┴──────────────────┴──────────────────┴───────────┘"
      ]
     },
     "metadata": {},
     "output_type": "display_data"
    },
    {
     "name": "stdout",
     "output_type": "stream",
     "text": [
      "Consolidation Fodder:\n"
     ]
    },
    {
     "data": {
      "text/html": [
       "<div>\n",
       "<style scoped>\n",
       "    .dataframe tbody tr th:only-of-type {\n",
       "        vertical-align: middle;\n",
       "    }\n",
       "\n",
       "    .dataframe tbody tr th {\n",
       "        vertical-align: top;\n",
       "    }\n",
       "\n",
       "    .dataframe thead th {\n",
       "        text-align: right;\n",
       "    }\n",
       "</style>\n",
       "<table border=\"1\" class=\"dataframe\">\n",
       "  <thead>\n",
       "    <tr style=\"text-align: right;\">\n",
       "      <th></th>\n",
       "      <th>issuer_name</th>\n",
       "      <th>count</th>\n",
       "    </tr>\n",
       "  </thead>\n",
       "  <tbody>\n",
       "    <tr>\n",
       "      <th>0</th>\n",
       "      <td>APPLE INC.</td>\n",
       "      <td>1105</td>\n",
       "    </tr>\n",
       "    <tr>\n",
       "      <th>1</th>\n",
       "      <td>Apple Inc.</td>\n",
       "      <td>936</td>\n",
       "    </tr>\n",
       "    <tr>\n",
       "      <th>2</th>\n",
       "      <td>APPLE INC</td>\n",
       "      <td>175</td>\n",
       "    </tr>\n",
       "    <tr>\n",
       "      <th>3</th>\n",
       "      <td>Apple Hospitality REIT, Inc.</td>\n",
       "      <td>111</td>\n",
       "    </tr>\n",
       "    <tr>\n",
       "      <th>4</th>\n",
       "      <td>APPLE HOSPITALITY REIT, INC.</td>\n",
       "      <td>48</td>\n",
       "    </tr>\n",
       "    <tr>\n",
       "      <th>5</th>\n",
       "      <td>Apple Inc</td>\n",
       "      <td>35</td>\n",
       "    </tr>\n",
       "    <tr>\n",
       "      <th>6</th>\n",
       "      <td>Apple, Inc.</td>\n",
       "      <td>33</td>\n",
       "    </tr>\n",
       "    <tr>\n",
       "      <th>7</th>\n",
       "      <td>APPLE, INC.</td>\n",
       "      <td>26</td>\n",
       "    </tr>\n",
       "    <tr>\n",
       "      <th>8</th>\n",
       "      <td>Apple</td>\n",
       "      <td>19</td>\n",
       "    </tr>\n",
       "    <tr>\n",
       "      <th>9</th>\n",
       "      <td>APPLE, INC</td>\n",
       "      <td>15</td>\n",
       "    </tr>\n",
       "    <tr>\n",
       "      <th>10</th>\n",
       "      <td>Maui Land &amp; Pineapple Company, Inc.</td>\n",
       "      <td>11</td>\n",
       "    </tr>\n",
       "    <tr>\n",
       "      <th>11</th>\n",
       "      <td>APPLE</td>\n",
       "      <td>3</td>\n",
       "    </tr>\n",
       "    <tr>\n",
       "      <th>12</th>\n",
       "      <td>APPLE HOSPITALITY REIT INC.</td>\n",
       "      <td>2</td>\n",
       "    </tr>\n",
       "    <tr>\n",
       "      <th>13</th>\n",
       "      <td>Apple Hospitality REIT Inc</td>\n",
       "      <td>1</td>\n",
       "    </tr>\n",
       "    <tr>\n",
       "      <th>14</th>\n",
       "      <td>Apple Inc.</td>\n",
       "      <td>1</td>\n",
       "    </tr>\n",
       "    <tr>\n",
       "      <th>15</th>\n",
       "      <td>Apple, Inc</td>\n",
       "      <td>1</td>\n",
       "    </tr>\n",
       "    <tr>\n",
       "      <th>16</th>\n",
       "      <td>Apple Hospitality REIT</td>\n",
       "      <td>1</td>\n",
       "    </tr>\n",
       "    <tr>\n",
       "      <th>17</th>\n",
       "      <td>APPLE HOSPITALITY REIT,\\nINC.</td>\n",
       "      <td>1</td>\n",
       "    </tr>\n",
       "    <tr>\n",
       "      <th>18</th>\n",
       "      <td>APPLE INC COM</td>\n",
       "      <td>1</td>\n",
       "    </tr>\n",
       "    <tr>\n",
       "      <th>19</th>\n",
       "      <td>Apple Inc. Annual Meeting</td>\n",
       "      <td>1</td>\n",
       "    </tr>\n",
       "    <tr>\n",
       "      <th>20</th>\n",
       "      <td>APPLE INC. COM</td>\n",
       "      <td>1</td>\n",
       "    </tr>\n",
       "    <tr>\n",
       "      <th>21</th>\n",
       "      <td>Appie Inc</td>\n",
       "      <td>1</td>\n",
       "    </tr>\n",
       "    <tr>\n",
       "      <th>22</th>\n",
       "      <td>AAPL</td>\n",
       "      <td>1</td>\n",
       "    </tr>\n",
       "    <tr>\n",
       "      <th>23</th>\n",
       "      <td>Apple Inc (AAPL)</td>\n",
       "      <td>1</td>\n",
       "    </tr>\n",
       "  </tbody>\n",
       "</table>\n",
       "</div>"
      ],
      "text/plain": [
       "                            issuer_name  count\n",
       "0                            APPLE INC.   1105\n",
       "1                            Apple Inc.    936\n",
       "2                             APPLE INC    175\n",
       "3          Apple Hospitality REIT, Inc.    111\n",
       "4          APPLE HOSPITALITY REIT, INC.     48\n",
       "5                             Apple Inc     35\n",
       "6                           Apple, Inc.     33\n",
       "7                           APPLE, INC.     26\n",
       "8                                 Apple     19\n",
       "9                            APPLE, INC     15\n",
       "10  Maui Land & Pineapple Company, Inc.     11\n",
       "11                                APPLE      3\n",
       "12          APPLE HOSPITALITY REIT INC.      2\n",
       "13           Apple Hospitality REIT Inc      1\n",
       "14                          Apple Inc.       1\n",
       "15                           Apple, Inc      1\n",
       "16               Apple Hospitality REIT      1\n",
       "17        APPLE HOSPITALITY REIT,\\nINC.      1\n",
       "18                        APPLE INC COM      1\n",
       "19            Apple Inc. Annual Meeting      1\n",
       "20                       APPLE INC. COM      1\n",
       "21                            Appie Inc      1\n",
       "22                                 AAPL      1\n",
       "23                     Apple Inc (AAPL)      1"
      ]
     },
     "metadata": {},
     "output_type": "display_data"
    },
    {
     "name": "stdout",
     "output_type": "stream",
     "text": [
      "************************************************************ VISA ************************************************************\n",
      "Un-Normalized (n=2074)\n"
     ]
    },
    {
     "data": {
      "text/html": [
       "<div><style>\n",
       ".dataframe > thead > tr,\n",
       ".dataframe > tbody > tr {\n",
       "  text-align: right;\n",
       "  white-space: pre-wrap;\n",
       "}\n",
       "</style>\n",
       "<small>shape: (14, 6)</small><table border=\"1\" class=\"dataframe\"><thead><tr><th>issuer_name</th><th>len</th><th>cusip</th><th>isin</th><th>figi</th><th>% of obs</th></tr><tr><td>str</td><td>u32</td><td>list[str]</td><td>list[str]</td><td>list[str]</td><td>f64</td></tr></thead><tbody><tr><td>&quot;VISA INC.&quot;</td><td>1082</td><td>[&quot;92826C839&quot;, null]</td><td>[&quot;US92826C8394&quot;, null]</td><td>[null]</td><td>52.16972</td></tr><tr><td>&quot;Visa Inc.&quot;</td><td>914</td><td>[&quot;92826C839&quot;, null]</td><td>[&quot;US92826C8394&quot;, null]</td><td>[null, &quot;BBG000PSKYX7&quot;]</td><td>44.069431</td></tr><tr><td>&quot;Visa, Inc.&quot;</td><td>20</td><td>[&quot;92826C839&quot;, &quot;92826c839&quot;]</td><td>[null, &quot;US92826C8394&quot;]</td><td>[null]</td><td>0.96432</td></tr><tr><td>&quot;Visa Inc&quot;</td><td>20</td><td>[null, &quot;92826C839&quot;]</td><td>[&quot;US92826C8394&quot;, null]</td><td>[null]</td><td>0.96432</td></tr><tr><td>&quot;VISA INC&quot;</td><td>12</td><td>[&quot;92826C839&quot;]</td><td>[null, &quot;US92826C8394&quot;]</td><td>[null, &quot;BBG001SRCFY3&quot;]</td><td>0.578592</td></tr><tr><td>&hellip;</td><td>&hellip;</td><td>&hellip;</td><td>&hellip;</td><td>&hellip;</td><td>&hellip;</td></tr><tr><td>&quot;Lovisa Holdings Limited&quot;</td><td>2</td><td>[&quot;Q56334107&quot;]</td><td>[&quot;AU000000LOV7&quot;]</td><td>[null]</td><td>0.096432</td></tr><tr><td>&quot;Visa Inc (V)&quot;</td><td>1</td><td>[&quot;92826C839&quot;]</td><td>[&quot;US92826C8394&quot;]</td><td>[null]</td><td>0.048216</td></tr><tr><td>&quot;VISA, Inc.&quot;</td><td>1</td><td>[&quot;92826C839&quot;]</td><td>[null]</td><td>[null]</td><td>0.048216</td></tr><tr><td>&quot;VISA INC COM CL A&quot;</td><td>1</td><td>[&quot;92826C839&quot;]</td><td>[&quot;US92826C8394&quot;]</td><td>[null]</td><td>0.048216</td></tr><tr><td>&quot;Visa, Inc&quot;</td><td>1</td><td>[&quot;92826C839&quot;]</td><td>[null]</td><td>[null]</td><td>0.048216</td></tr></tbody></table></div>"
      ],
      "text/plain": [
       "shape: (14, 6)\n",
       "┌───────────────────┬──────┬───────────────┬─────────────────────────┬─────────────────┬───────────┐\n",
       "│ issuer_name       ┆ len  ┆ cusip         ┆ isin                    ┆ figi            ┆ % of obs  │\n",
       "│ ---               ┆ ---  ┆ ---           ┆ ---                     ┆ ---             ┆ ---       │\n",
       "│ str               ┆ u32  ┆ list[str]     ┆ list[str]               ┆ list[str]       ┆ f64       │\n",
       "╞═══════════════════╪══════╪═══════════════╪═════════════════════════╪═════════════════╪═══════════╡\n",
       "│ VISA INC.         ┆ 1082 ┆ [\"92826C839\", ┆ [\"US92826C8394\", null]  ┆ [null]          ┆ 52.16972  │\n",
       "│                   ┆      ┆ null]         ┆                         ┆                 ┆           │\n",
       "│ Visa Inc.         ┆ 914  ┆ [\"92826C839\", ┆ [\"US92826C8394\", null]  ┆ [null,          ┆ 44.069431 │\n",
       "│                   ┆      ┆ null]         ┆                         ┆ \"BBG000PSKYX7\"] ┆           │\n",
       "│ Visa, Inc.        ┆ 20   ┆ [\"92826C839\", ┆ [null, \"US92826C8394\"]  ┆ [null]          ┆ 0.96432   │\n",
       "│                   ┆      ┆ \"92826c839\"]  ┆                         ┆                 ┆           │\n",
       "│ Visa Inc          ┆ 20   ┆ [null,        ┆ [\"US92826C8394\", null]  ┆ [null]          ┆ 0.96432   │\n",
       "│                   ┆      ┆ \"92826C839\"]  ┆                         ┆                 ┆           │\n",
       "│ VISA INC          ┆ 12   ┆ [\"92826C839\"] ┆ [null, \"US92826C8394\"]  ┆ [null,          ┆ 0.578592  │\n",
       "│                   ┆      ┆               ┆                         ┆ \"BBG001SRCFY3\"] ┆           │\n",
       "│ …                 ┆ …    ┆ …             ┆ …                       ┆ …               ┆ …         │\n",
       "│ Lovisa Holdings   ┆ 2    ┆ [\"Q56334107\"] ┆ [\"AU000000LOV7\"]        ┆ [null]          ┆ 0.096432  │\n",
       "│ Limited           ┆      ┆               ┆                         ┆                 ┆           │\n",
       "│ Visa Inc (V)      ┆ 1    ┆ [\"92826C839\"] ┆ [\"US92826C8394\"]        ┆ [null]          ┆ 0.048216  │\n",
       "│ VISA, Inc.        ┆ 1    ┆ [\"92826C839\"] ┆ [null]                  ┆ [null]          ┆ 0.048216  │\n",
       "│ VISA INC COM CL A ┆ 1    ┆ [\"92826C839\"] ┆ [\"US92826C8394\"]        ┆ [null]          ┆ 0.048216  │\n",
       "│ Visa, Inc         ┆ 1    ┆ [\"92826C839\"] ┆ [null]                  ┆ [null]          ┆ 0.048216  │\n",
       "└───────────────────┴──────┴───────────────┴─────────────────────────┴─────────────────┴───────────┘"
      ]
     },
     "metadata": {},
     "output_type": "display_data"
    },
    {
     "name": "stdout",
     "output_type": "stream",
     "text": [
      "Normalized -- INTRA (n=2075)\n"
     ]
    },
    {
     "data": {
      "text/html": [
       "<div><style>\n",
       ".dataframe > thead > tr,\n",
       ".dataframe > tbody > tr {\n",
       "  text-align: right;\n",
       "  white-space: pre-wrap;\n",
       "}\n",
       "</style>\n",
       "<small>shape: (3, 6)</small><table border=\"1\" class=\"dataframe\"><thead><tr><th>issuer_name</th><th>len</th><th>cusip</th><th>isin</th><th>figi</th><th>% of obs</th></tr><tr><td>str</td><td>u32</td><td>list[str]</td><td>list[str]</td><td>list[str]</td><td>f64</td></tr></thead><tbody><tr><td>&quot;VISA INC.&quot;</td><td>2066</td><td>[&quot;92826C839&quot;]</td><td>[&quot;US92826C8394&quot;]</td><td>[&quot;BBG000PSKYX7&quot;]</td><td>99.566265</td></tr><tr><td>&quot;VISAKA INDUSTRIES LIMITED&quot;</td><td>7</td><td>[&quot;Y93787151&quot;]</td><td>[&quot;INE392A01021&quot;]</td><td>[null]</td><td>0.337349</td></tr><tr><td>&quot;LOVISA HOLDINGS LIMITED&quot;</td><td>2</td><td>[&quot;Q56334107&quot;]</td><td>[&quot;AU000000LOV7&quot;]</td><td>[null]</td><td>0.096386</td></tr></tbody></table></div>"
      ],
      "text/plain": [
       "shape: (3, 6)\n",
       "┌─────────────────────────┬──────┬───────────────┬──────────────────┬──────────────────┬───────────┐\n",
       "│ issuer_name             ┆ len  ┆ cusip         ┆ isin             ┆ figi             ┆ % of obs  │\n",
       "│ ---                     ┆ ---  ┆ ---           ┆ ---              ┆ ---              ┆ ---       │\n",
       "│ str                     ┆ u32  ┆ list[str]     ┆ list[str]        ┆ list[str]        ┆ f64       │\n",
       "╞═════════════════════════╪══════╪═══════════════╪══════════════════╪══════════════════╪═══════════╡\n",
       "│ VISA INC.               ┆ 2066 ┆ [\"92826C839\"] ┆ [\"US92826C8394\"] ┆ [\"BBG000PSKYX7\"] ┆ 99.566265 │\n",
       "│ VISAKA INDUSTRIES       ┆ 7    ┆ [\"Y93787151\"] ┆ [\"INE392A01021\"] ┆ [null]           ┆ 0.337349  │\n",
       "│ LIMITED                 ┆      ┆               ┆                  ┆                  ┆           │\n",
       "│ LOVISA HOLDINGS LIMITED ┆ 2    ┆ [\"Q56334107\"] ┆ [\"AU000000LOV7\"] ┆ [null]           ┆ 0.096386  │\n",
       "└─────────────────────────┴──────┴───────────────┴──────────────────┴──────────────────┴───────────┘"
      ]
     },
     "metadata": {},
     "output_type": "display_data"
    },
    {
     "name": "stdout",
     "output_type": "stream",
     "text": [
      "Normalized -- NO INTRA (n=2075)\n"
     ]
    },
    {
     "data": {
      "text/html": [
       "<div><style>\n",
       ".dataframe > thead > tr,\n",
       ".dataframe > tbody > tr {\n",
       "  text-align: right;\n",
       "  white-space: pre-wrap;\n",
       "}\n",
       "</style>\n",
       "<small>shape: (3, 6)</small><table border=\"1\" class=\"dataframe\"><thead><tr><th>issuer_name</th><th>len</th><th>cusip</th><th>isin</th><th>figi</th><th>% of obs</th></tr><tr><td>str</td><td>u32</td><td>list[str]</td><td>list[str]</td><td>list[str]</td><td>f64</td></tr></thead><tbody><tr><td>&quot;VISA INC.&quot;</td><td>2066</td><td>[&quot;92826C839&quot;]</td><td>[&quot;US92826C8394&quot;]</td><td>[&quot;BBG000PSKYX7&quot;]</td><td>99.566265</td></tr><tr><td>&quot;VISAKA INDUSTRIES LIMITED&quot;</td><td>7</td><td>[&quot;Y93787151&quot;]</td><td>[&quot;INE392A01021&quot;]</td><td>[null]</td><td>0.337349</td></tr><tr><td>&quot;LOVISA HOLDINGS LIMITED&quot;</td><td>2</td><td>[&quot;Q56334107&quot;]</td><td>[&quot;AU000000LOV7&quot;]</td><td>[null]</td><td>0.096386</td></tr></tbody></table></div>"
      ],
      "text/plain": [
       "shape: (3, 6)\n",
       "┌─────────────────────────┬──────┬───────────────┬──────────────────┬──────────────────┬───────────┐\n",
       "│ issuer_name             ┆ len  ┆ cusip         ┆ isin             ┆ figi             ┆ % of obs  │\n",
       "│ ---                     ┆ ---  ┆ ---           ┆ ---              ┆ ---              ┆ ---       │\n",
       "│ str                     ┆ u32  ┆ list[str]     ┆ list[str]        ┆ list[str]        ┆ f64       │\n",
       "╞═════════════════════════╪══════╪═══════════════╪══════════════════╪══════════════════╪═══════════╡\n",
       "│ VISA INC.               ┆ 2066 ┆ [\"92826C839\"] ┆ [\"US92826C8394\"] ┆ [\"BBG000PSKYX7\"] ┆ 99.566265 │\n",
       "│ VISAKA INDUSTRIES       ┆ 7    ┆ [\"Y93787151\"] ┆ [\"INE392A01021\"] ┆ [null]           ┆ 0.337349  │\n",
       "│ LIMITED                 ┆      ┆               ┆                  ┆                  ┆           │\n",
       "│ LOVISA HOLDINGS LIMITED ┆ 2    ┆ [\"Q56334107\"] ┆ [\"AU000000LOV7\"] ┆ [null]           ┆ 0.096386  │\n",
       "└─────────────────────────┴──────┴───────────────┴──────────────────┴──────────────────┴───────────┘"
      ]
     },
     "metadata": {},
     "output_type": "display_data"
    },
    {
     "name": "stdout",
     "output_type": "stream",
     "text": [
      "Consolidation Fodder:\n"
     ]
    },
    {
     "data": {
      "text/html": [
       "<div>\n",
       "<style scoped>\n",
       "    .dataframe tbody tr th:only-of-type {\n",
       "        vertical-align: middle;\n",
       "    }\n",
       "\n",
       "    .dataframe tbody tr th {\n",
       "        vertical-align: top;\n",
       "    }\n",
       "\n",
       "    .dataframe thead th {\n",
       "        text-align: right;\n",
       "    }\n",
       "</style>\n",
       "<table border=\"1\" class=\"dataframe\">\n",
       "  <thead>\n",
       "    <tr style=\"text-align: right;\">\n",
       "      <th></th>\n",
       "      <th>issuer_name</th>\n",
       "      <th>count</th>\n",
       "    </tr>\n",
       "  </thead>\n",
       "  <tbody>\n",
       "    <tr>\n",
       "      <th>0</th>\n",
       "      <td>VISA INC.</td>\n",
       "      <td>1082</td>\n",
       "    </tr>\n",
       "    <tr>\n",
       "      <th>1</th>\n",
       "      <td>Visa Inc.</td>\n",
       "      <td>914</td>\n",
       "    </tr>\n",
       "    <tr>\n",
       "      <th>2</th>\n",
       "      <td>Visa Inc</td>\n",
       "      <td>20</td>\n",
       "    </tr>\n",
       "    <tr>\n",
       "      <th>3</th>\n",
       "      <td>Visa, Inc.</td>\n",
       "      <td>20</td>\n",
       "    </tr>\n",
       "    <tr>\n",
       "      <th>4</th>\n",
       "      <td>VISA INC</td>\n",
       "      <td>12</td>\n",
       "    </tr>\n",
       "    <tr>\n",
       "      <th>5</th>\n",
       "      <td>Visaka Industries Limited</td>\n",
       "      <td>7</td>\n",
       "    </tr>\n",
       "    <tr>\n",
       "      <th>6</th>\n",
       "      <td>VISA Inc.</td>\n",
       "      <td>6</td>\n",
       "    </tr>\n",
       "    <tr>\n",
       "      <th>7</th>\n",
       "      <td>Visa</td>\n",
       "      <td>5</td>\n",
       "    </tr>\n",
       "    <tr>\n",
       "      <th>8</th>\n",
       "      <td>VISA</td>\n",
       "      <td>2</td>\n",
       "    </tr>\n",
       "    <tr>\n",
       "      <th>9</th>\n",
       "      <td>Lovisa Holdings Limited</td>\n",
       "      <td>2</td>\n",
       "    </tr>\n",
       "    <tr>\n",
       "      <th>10</th>\n",
       "      <td>VISA INC COM CL A</td>\n",
       "      <td>1</td>\n",
       "    </tr>\n",
       "    <tr>\n",
       "      <th>11</th>\n",
       "      <td>Visa, Inc</td>\n",
       "      <td>1</td>\n",
       "    </tr>\n",
       "    <tr>\n",
       "      <th>12</th>\n",
       "      <td>V</td>\n",
       "      <td>1</td>\n",
       "    </tr>\n",
       "    <tr>\n",
       "      <th>13</th>\n",
       "      <td>Visa Inc (V)</td>\n",
       "      <td>1</td>\n",
       "    </tr>\n",
       "    <tr>\n",
       "      <th>14</th>\n",
       "      <td>VISA, Inc.</td>\n",
       "      <td>1</td>\n",
       "    </tr>\n",
       "  </tbody>\n",
       "</table>\n",
       "</div>"
      ],
      "text/plain": [
       "                  issuer_name  count\n",
       "0                   VISA INC.   1082\n",
       "1                   Visa Inc.    914\n",
       "2                    Visa Inc     20\n",
       "3                  Visa, Inc.     20\n",
       "4                    VISA INC     12\n",
       "5   Visaka Industries Limited      7\n",
       "6                   VISA Inc.      6\n",
       "7                        Visa      5\n",
       "8                        VISA      2\n",
       "9     Lovisa Holdings Limited      2\n",
       "10          VISA INC COM CL A      1\n",
       "11                  Visa, Inc      1\n",
       "12                          V      1\n",
       "13               Visa Inc (V)      1\n",
       "14                 VISA, Inc.      1"
      ]
     },
     "metadata": {},
     "output_type": "display_data"
    },
    {
     "name": "stdout",
     "output_type": "stream",
     "text": [
      "************************************************************ EXXON ************************************************************\n",
      "Un-Normalized (n=1785)\n"
     ]
    },
    {
     "data": {
      "text/html": [
       "<div><style>\n",
       ".dataframe > thead > tr,\n",
       ".dataframe > tbody > tr {\n",
       "  text-align: right;\n",
       "  white-space: pre-wrap;\n",
       "}\n",
       "</style>\n",
       "<small>shape: (18, 6)</small><table border=\"1\" class=\"dataframe\"><thead><tr><th>issuer_name</th><th>len</th><th>cusip</th><th>isin</th><th>figi</th><th>% of obs</th></tr><tr><td>str</td><td>u32</td><td>list[str]</td><td>list[str]</td><td>list[str]</td><td>f64</td></tr></thead><tbody><tr><td>&quot;EXXON MOBIL CORPORATION&quot;</td><td>876</td><td>[&quot;30231G102&quot;, null]</td><td>[null, &quot;US30231G1022&quot;]</td><td>[null]</td><td>49.07563</td></tr><tr><td>&quot;Exxon Mobil Corporation&quot;</td><td>802</td><td>[&quot;30231G102&quot;, null]</td><td>[&quot;US30231G1022&quot;, null]</td><td>[&quot;BBG000GZQ728&quot;, null]</td><td>44.929972</td></tr><tr><td>&quot;Exxon Mobil&quot;</td><td>38</td><td>[&quot;30231G102&quot;]</td><td>[&quot;US30231G1022&quot;, null]</td><td>[null]</td><td>2.128852</td></tr><tr><td>&quot;EXXON MOBIL CORP&quot;</td><td>26</td><td>[&quot;30231G102&quot;]</td><td>[null, &quot;US30231G1022&quot;]</td><td>[&quot;BBG000GZQ728&quot;, &quot;BBG001S69V32&quot;, null]</td><td>1.456583</td></tr><tr><td>&quot;EXXON MOBIL\n",
       "CORPORATION&quot;</td><td>13</td><td>[&quot;30231G102&quot;]</td><td>[&quot;US30231G1022&quot;, null]</td><td>[null]</td><td>0.728291</td></tr><tr><td>&hellip;</td><td>&hellip;</td><td>&hellip;</td><td>&hellip;</td><td>&hellip;</td><td>&hellip;</td></tr><tr><td>&quot;EXXON MOBIL&quot;</td><td>1</td><td>[&quot;30231G102&quot;]</td><td>[null]</td><td>[null]</td><td>0.056022</td></tr><tr><td>&quot;EXXON MOBIL CORPORAITON&quot;</td><td>1</td><td>[&quot;30231G102&quot;]</td><td>[&quot;US30231G1022&quot;]</td><td>[&quot;BBG000GZQ728&quot;]</td><td>0.056022</td></tr><tr><td>&quot;EXXON MOBIL CORP COM&quot;</td><td>1</td><td>[&quot;30231G102&quot;]</td><td>[&quot;US30231G1022&quot;]</td><td>[null]</td><td>0.056022</td></tr><tr><td>&quot;EXXON&quot;</td><td>1</td><td>[&quot;30231G102&quot;]</td><td>[null]</td><td>[null]</td><td>0.056022</td></tr><tr><td>&quot;EXXON MOBIL CORP.&quot;</td><td>1</td><td>[&quot;30231G102&quot;]</td><td>[null]</td><td>[null]</td><td>0.056022</td></tr></tbody></table></div>"
      ],
      "text/plain": [
       "shape: (18, 6)\n",
       "┌─────────────────────┬─────┬───────────────┬─────────────────────┬────────────────────┬───────────┐\n",
       "│ issuer_name         ┆ len ┆ cusip         ┆ isin                ┆ figi               ┆ % of obs  │\n",
       "│ ---                 ┆ --- ┆ ---           ┆ ---                 ┆ ---                ┆ ---       │\n",
       "│ str                 ┆ u32 ┆ list[str]     ┆ list[str]           ┆ list[str]          ┆ f64       │\n",
       "╞═════════════════════╪═════╪═══════════════╪═════════════════════╪════════════════════╪═══════════╡\n",
       "│ EXXON MOBIL         ┆ 876 ┆ [\"30231G102\", ┆ [null,              ┆ [null]             ┆ 49.07563  │\n",
       "│ CORPORATION         ┆     ┆ null]         ┆ \"US30231G1022\"]     ┆                    ┆           │\n",
       "│ Exxon Mobil         ┆ 802 ┆ [\"30231G102\", ┆ [\"US30231G1022\",    ┆ [\"BBG000GZQ728\",   ┆ 44.929972 │\n",
       "│ Corporation         ┆     ┆ null]         ┆ null]               ┆ null]              ┆           │\n",
       "│ Exxon Mobil         ┆ 38  ┆ [\"30231G102\"] ┆ [\"US30231G1022\",    ┆ [null]             ┆ 2.128852  │\n",
       "│                     ┆     ┆               ┆ null]               ┆                    ┆           │\n",
       "│ EXXON MOBIL CORP    ┆ 26  ┆ [\"30231G102\"] ┆ [null,              ┆ [\"BBG000GZQ728\",   ┆ 1.456583  │\n",
       "│                     ┆     ┆               ┆ \"US30231G1022\"]     ┆ \"BBG001S69V32…     ┆           │\n",
       "│ EXXON MOBIL         ┆ 13  ┆ [\"30231G102\"] ┆ [\"US30231G1022\",    ┆ [null]             ┆ 0.728291  │\n",
       "│ CORPORATION         ┆     ┆               ┆ null]               ┆                    ┆           │\n",
       "│ …                   ┆ …   ┆ …             ┆ …                   ┆ …                  ┆ …         │\n",
       "│ EXXON MOBIL         ┆ 1   ┆ [\"30231G102\"] ┆ [null]              ┆ [null]             ┆ 0.056022  │\n",
       "│ EXXON MOBIL         ┆ 1   ┆ [\"30231G102\"] ┆ [\"US30231G1022\"]    ┆ [\"BBG000GZQ728\"]   ┆ 0.056022  │\n",
       "│ CORPORAITON         ┆     ┆               ┆                     ┆                    ┆           │\n",
       "│ EXXON MOBIL CORP    ┆ 1   ┆ [\"30231G102\"] ┆ [\"US30231G1022\"]    ┆ [null]             ┆ 0.056022  │\n",
       "│ COM                 ┆     ┆               ┆                     ┆                    ┆           │\n",
       "│ EXXON               ┆ 1   ┆ [\"30231G102\"] ┆ [null]              ┆ [null]             ┆ 0.056022  │\n",
       "│ EXXON MOBIL CORP.   ┆ 1   ┆ [\"30231G102\"] ┆ [null]              ┆ [null]             ┆ 0.056022  │\n",
       "└─────────────────────┴─────┴───────────────┴─────────────────────┴────────────────────┴───────────┘"
      ]
     },
     "metadata": {},
     "output_type": "display_data"
    },
    {
     "name": "stdout",
     "output_type": "stream",
     "text": [
      "Normalized -- INTRA (n=1787)\n"
     ]
    },
    {
     "data": {
      "text/html": [
       "<div><style>\n",
       ".dataframe > thead > tr,\n",
       ".dataframe > tbody > tr {\n",
       "  text-align: right;\n",
       "  white-space: pre-wrap;\n",
       "}\n",
       "</style>\n",
       "<small>shape: (1, 6)</small><table border=\"1\" class=\"dataframe\"><thead><tr><th>issuer_name</th><th>len</th><th>cusip</th><th>isin</th><th>figi</th><th>% of obs</th></tr><tr><td>str</td><td>u32</td><td>list[str]</td><td>list[str]</td><td>list[str]</td><td>f64</td></tr></thead><tbody><tr><td>&quot;EXXON MOBIL CORPORATION&quot;</td><td>1787</td><td>[&quot;30231G102&quot;]</td><td>[&quot;US30231G1022&quot;]</td><td>[&quot;BBG000GZQ728&quot;]</td><td>100.0</td></tr></tbody></table></div>"
      ],
      "text/plain": [
       "shape: (1, 6)\n",
       "┌─────────────────────────┬──────┬───────────────┬──────────────────┬──────────────────┬──────────┐\n",
       "│ issuer_name             ┆ len  ┆ cusip         ┆ isin             ┆ figi             ┆ % of obs │\n",
       "│ ---                     ┆ ---  ┆ ---           ┆ ---              ┆ ---              ┆ ---      │\n",
       "│ str                     ┆ u32  ┆ list[str]     ┆ list[str]        ┆ list[str]        ┆ f64      │\n",
       "╞═════════════════════════╪══════╪═══════════════╪══════════════════╪══════════════════╪══════════╡\n",
       "│ EXXON MOBIL CORPORATION ┆ 1787 ┆ [\"30231G102\"] ┆ [\"US30231G1022\"] ┆ [\"BBG000GZQ728\"] ┆ 100.0    │\n",
       "└─────────────────────────┴──────┴───────────────┴──────────────────┴──────────────────┴──────────┘"
      ]
     },
     "metadata": {},
     "output_type": "display_data"
    },
    {
     "name": "stdout",
     "output_type": "stream",
     "text": [
      "Normalized -- NO INTRA (n=1787)\n"
     ]
    },
    {
     "data": {
      "text/html": [
       "<div><style>\n",
       ".dataframe > thead > tr,\n",
       ".dataframe > tbody > tr {\n",
       "  text-align: right;\n",
       "  white-space: pre-wrap;\n",
       "}\n",
       "</style>\n",
       "<small>shape: (1, 6)</small><table border=\"1\" class=\"dataframe\"><thead><tr><th>issuer_name</th><th>len</th><th>cusip</th><th>isin</th><th>figi</th><th>% of obs</th></tr><tr><td>str</td><td>u32</td><td>list[str]</td><td>list[str]</td><td>list[str]</td><td>f64</td></tr></thead><tbody><tr><td>&quot;EXXON MOBIL CORPORATION&quot;</td><td>1787</td><td>[&quot;30231G102&quot;]</td><td>[&quot;US30231G1022&quot;]</td><td>[&quot;BBG000GZQ728&quot;]</td><td>100.0</td></tr></tbody></table></div>"
      ],
      "text/plain": [
       "shape: (1, 6)\n",
       "┌─────────────────────────┬──────┬───────────────┬──────────────────┬──────────────────┬──────────┐\n",
       "│ issuer_name             ┆ len  ┆ cusip         ┆ isin             ┆ figi             ┆ % of obs │\n",
       "│ ---                     ┆ ---  ┆ ---           ┆ ---              ┆ ---              ┆ ---      │\n",
       "│ str                     ┆ u32  ┆ list[str]     ┆ list[str]        ┆ list[str]        ┆ f64      │\n",
       "╞═════════════════════════╪══════╪═══════════════╪══════════════════╪══════════════════╪══════════╡\n",
       "│ EXXON MOBIL CORPORATION ┆ 1787 ┆ [\"30231G102\"] ┆ [\"US30231G1022\"] ┆ [\"BBG000GZQ728\"] ┆ 100.0    │\n",
       "└─────────────────────────┴──────┴───────────────┴──────────────────┴──────────────────┴──────────┘"
      ]
     },
     "metadata": {},
     "output_type": "display_data"
    },
    {
     "name": "stdout",
     "output_type": "stream",
     "text": [
      "Consolidation Fodder:\n"
     ]
    },
    {
     "data": {
      "text/html": [
       "<div>\n",
       "<style scoped>\n",
       "    .dataframe tbody tr th:only-of-type {\n",
       "        vertical-align: middle;\n",
       "    }\n",
       "\n",
       "    .dataframe tbody tr th {\n",
       "        vertical-align: top;\n",
       "    }\n",
       "\n",
       "    .dataframe thead th {\n",
       "        text-align: right;\n",
       "    }\n",
       "</style>\n",
       "<table border=\"1\" class=\"dataframe\">\n",
       "  <thead>\n",
       "    <tr style=\"text-align: right;\">\n",
       "      <th></th>\n",
       "      <th>issuer_name</th>\n",
       "      <th>count</th>\n",
       "    </tr>\n",
       "  </thead>\n",
       "  <tbody>\n",
       "    <tr>\n",
       "      <th>0</th>\n",
       "      <td>EXXON MOBIL CORPORATION</td>\n",
       "      <td>876</td>\n",
       "    </tr>\n",
       "    <tr>\n",
       "      <th>1</th>\n",
       "      <td>Exxon Mobil Corporation</td>\n",
       "      <td>802</td>\n",
       "    </tr>\n",
       "    <tr>\n",
       "      <th>2</th>\n",
       "      <td>Exxon Mobil</td>\n",
       "      <td>38</td>\n",
       "    </tr>\n",
       "    <tr>\n",
       "      <th>3</th>\n",
       "      <td>EXXON MOBIL CORP</td>\n",
       "      <td>26</td>\n",
       "    </tr>\n",
       "    <tr>\n",
       "      <th>4</th>\n",
       "      <td>EXXON MOBIL\\nCORPORATION</td>\n",
       "      <td>13</td>\n",
       "    </tr>\n",
       "    <tr>\n",
       "      <th>5</th>\n",
       "      <td>ExxonMobil</td>\n",
       "      <td>8</td>\n",
       "    </tr>\n",
       "    <tr>\n",
       "      <th>6</th>\n",
       "      <td>Exxon Mobil Corp.</td>\n",
       "      <td>8</td>\n",
       "    </tr>\n",
       "    <tr>\n",
       "      <th>7</th>\n",
       "      <td>Exxon Mobile</td>\n",
       "      <td>2</td>\n",
       "    </tr>\n",
       "    <tr>\n",
       "      <th>8</th>\n",
       "      <td>Exxon Mobil Corp</td>\n",
       "      <td>2</td>\n",
       "    </tr>\n",
       "    <tr>\n",
       "      <th>9</th>\n",
       "      <td>EXXON MOBIL</td>\n",
       "      <td>2</td>\n",
       "    </tr>\n",
       "    <tr>\n",
       "      <th>10</th>\n",
       "      <td>Exxon Mobile Corporation</td>\n",
       "      <td>1</td>\n",
       "    </tr>\n",
       "    <tr>\n",
       "      <th>11</th>\n",
       "      <td>EXXON</td>\n",
       "      <td>1</td>\n",
       "    </tr>\n",
       "    <tr>\n",
       "      <th>12</th>\n",
       "      <td>EXXON MOBIL CORP COM</td>\n",
       "      <td>1</td>\n",
       "    </tr>\n",
       "    <tr>\n",
       "      <th>13</th>\n",
       "      <td>EXXON MOBIL CORPORAITON</td>\n",
       "      <td>1</td>\n",
       "    </tr>\n",
       "    <tr>\n",
       "      <th>14</th>\n",
       "      <td>EXXON MOBIL CORP.</td>\n",
       "      <td>1</td>\n",
       "    </tr>\n",
       "    <tr>\n",
       "      <th>15</th>\n",
       "      <td>EXXON MOBIL</td>\n",
       "      <td>1</td>\n",
       "    </tr>\n",
       "    <tr>\n",
       "      <th>16</th>\n",
       "      <td>PIONEER NATURAL RES</td>\n",
       "      <td>1</td>\n",
       "    </tr>\n",
       "    <tr>\n",
       "      <th>17</th>\n",
       "      <td>XOM</td>\n",
       "      <td>1</td>\n",
       "    </tr>\n",
       "    <tr>\n",
       "      <th>18</th>\n",
       "      <td>EXXONMOBIL</td>\n",
       "      <td>1</td>\n",
       "    </tr>\n",
       "    <tr>\n",
       "      <th>19</th>\n",
       "      <td>Exxon Mobile Corp.</td>\n",
       "      <td>1</td>\n",
       "    </tr>\n",
       "  </tbody>\n",
       "</table>\n",
       "</div>"
      ],
      "text/plain": [
       "                 issuer_name  count\n",
       "0    EXXON MOBIL CORPORATION    876\n",
       "1    Exxon Mobil Corporation    802\n",
       "2                Exxon Mobil     38\n",
       "3           EXXON MOBIL CORP     26\n",
       "4   EXXON MOBIL\\nCORPORATION     13\n",
       "5                 ExxonMobil      8\n",
       "6          Exxon Mobil Corp.      8\n",
       "7               Exxon Mobile      2\n",
       "8           Exxon Mobil Corp      2\n",
       "9               EXXON MOBIL       2\n",
       "10  Exxon Mobile Corporation      1\n",
       "11                     EXXON      1\n",
       "12      EXXON MOBIL CORP COM      1\n",
       "13   EXXON MOBIL CORPORAITON      1\n",
       "14         EXXON MOBIL CORP.      1\n",
       "15               EXXON MOBIL      1\n",
       "16       PIONEER NATURAL RES      1\n",
       "17                       XOM      1\n",
       "18                EXXONMOBIL      1\n",
       "19        Exxon Mobile Corp.      1"
      ]
     },
     "metadata": {},
     "output_type": "display_data"
    },
    {
     "name": "stdout",
     "output_type": "stream",
     "text": [
      "************************************************************ CHEVRON ************************************************************\n",
      "Un-Normalized (n=1828)\n"
     ]
    },
    {
     "data": {
      "text/html": [
       "<div><style>\n",
       ".dataframe > thead > tr,\n",
       ".dataframe > tbody > tr {\n",
       "  text-align: right;\n",
       "  white-space: pre-wrap;\n",
       "}\n",
       "</style>\n",
       "<small>shape: (13, 6)</small><table border=\"1\" class=\"dataframe\"><thead><tr><th>issuer_name</th><th>len</th><th>cusip</th><th>isin</th><th>figi</th><th>% of obs</th></tr><tr><td>str</td><td>u32</td><td>list[str]</td><td>list[str]</td><td>list[str]</td><td>f64</td></tr></thead><tbody><tr><td>&quot;CHEVRON CORPORATION&quot;</td><td>1034</td><td>[&quot;166764100&quot;, null, &quot;577081102&quot;]</td><td>[null, &quot;US1667641005&quot;]</td><td>[null, &quot;BBG000K4ND22&quot;]</td><td>56.564551</td></tr><tr><td>&quot;Chevron Corporation&quot;</td><td>751</td><td>[null, &quot;166764100&quot;, &quot;000166764&quot;]</td><td>[&quot;US1667641005&quot;, null]</td><td>[null, &quot;BBG000K4ND22&quot;]</td><td>41.083151</td></tr><tr><td>&quot;CHEVRON CORP&quot;</td><td>21</td><td>[&quot;166764100&quot;]</td><td>[&quot;US1667641005&quot;, null]</td><td>[null, &quot;BBG000K4ND22&quot;]</td><td>1.148796</td></tr><tr><td>&quot;Chevron Corp&quot;</td><td>8</td><td>[&quot;166764100&quot;, null]</td><td>[&quot;US1667641005&quot;, null]</td><td>[&quot;BBG000K4ND22&quot;, null]</td><td>0.437637</td></tr><tr><td>&quot;Chevron Corp.&quot;</td><td>4</td><td>[&quot;166764100&quot;]</td><td>[null, &quot;US1667641005&quot;]</td><td>[null]</td><td>0.218818</td></tr><tr><td>&hellip;</td><td>&hellip;</td><td>&hellip;</td><td>&hellip;</td><td>&hellip;</td><td>&hellip;</td></tr><tr><td>&quot;Chevron Corposration&quot;</td><td>1</td><td>[&quot;166764100&quot;]</td><td>[null]</td><td>[null]</td><td>0.054705</td></tr><tr><td>&quot;Chevron&quot;</td><td>1</td><td>[&quot;166764100&quot;]</td><td>[null]</td><td>[null]</td><td>0.054705</td></tr><tr><td>&quot;CHEVRON CORP NEW COM&quot;</td><td>1</td><td>[&quot;166764100&quot;]</td><td>[&quot;US1667641005&quot;]</td><td>[null]</td><td>0.054705</td></tr><tr><td>&quot;Chevron Corpoation&quot;</td><td>1</td><td>[&quot;166764100&quot;]</td><td>[&quot;US1667641005&quot;]</td><td>[null]</td><td>0.054705</td></tr><tr><td>&quot;Chevron Corporation &quot;</td><td>1</td><td>[null]</td><td>[null]</td><td>[null]</td><td>0.054705</td></tr></tbody></table></div>"
      ],
      "text/plain": [
       "shape: (13, 6)\n",
       "┌───────────────────┬──────┬───────────────────┬───────────────────┬───────────────────┬───────────┐\n",
       "│ issuer_name       ┆ len  ┆ cusip             ┆ isin              ┆ figi              ┆ % of obs  │\n",
       "│ ---               ┆ ---  ┆ ---               ┆ ---               ┆ ---               ┆ ---       │\n",
       "│ str               ┆ u32  ┆ list[str]         ┆ list[str]         ┆ list[str]         ┆ f64       │\n",
       "╞═══════════════════╪══════╪═══════════════════╪═══════════════════╪═══════════════════╪═══════════╡\n",
       "│ CHEVRON           ┆ 1034 ┆ [\"166764100\",     ┆ [null,            ┆ [null,            ┆ 56.564551 │\n",
       "│ CORPORATION       ┆      ┆ null, \"577081102… ┆ \"US1667641005\"]   ┆ \"BBG000K4ND22\"]   ┆           │\n",
       "│ Chevron           ┆ 751  ┆ [null,            ┆ [\"US1667641005\",  ┆ [null,            ┆ 41.083151 │\n",
       "│ Corporation       ┆      ┆ \"166764100\",      ┆ null]             ┆ \"BBG000K4ND22\"]   ┆           │\n",
       "│                   ┆      ┆ \"000166764…       ┆                   ┆                   ┆           │\n",
       "│ CHEVRON CORP      ┆ 21   ┆ [\"166764100\"]     ┆ [\"US1667641005\",  ┆ [null,            ┆ 1.148796  │\n",
       "│                   ┆      ┆                   ┆ null]             ┆ \"BBG000K4ND22\"]   ┆           │\n",
       "│ Chevron Corp      ┆ 8    ┆ [\"166764100\",     ┆ [\"US1667641005\",  ┆ [\"BBG000K4ND22\",  ┆ 0.437637  │\n",
       "│                   ┆      ┆ null]             ┆ null]             ┆ null]             ┆           │\n",
       "│ Chevron Corp.     ┆ 4    ┆ [\"166764100\"]     ┆ [null,            ┆ [null]            ┆ 0.218818  │\n",
       "│                   ┆      ┆                   ┆ \"US1667641005\"]   ┆                   ┆           │\n",
       "│ …                 ┆ …    ┆ …                 ┆ …                 ┆ …                 ┆ …         │\n",
       "│ Chevron           ┆ 1    ┆ [\"166764100\"]     ┆ [null]            ┆ [null]            ┆ 0.054705  │\n",
       "│ Corposration      ┆      ┆                   ┆                   ┆                   ┆           │\n",
       "│ Chevron           ┆ 1    ┆ [\"166764100\"]     ┆ [null]            ┆ [null]            ┆ 0.054705  │\n",
       "│ CHEVRON CORP NEW  ┆ 1    ┆ [\"166764100\"]     ┆ [\"US1667641005\"]  ┆ [null]            ┆ 0.054705  │\n",
       "│ COM               ┆      ┆                   ┆                   ┆                   ┆           │\n",
       "│ Chevron           ┆ 1    ┆ [\"166764100\"]     ┆ [\"US1667641005\"]  ┆ [null]            ┆ 0.054705  │\n",
       "│ Corpoation        ┆      ┆                   ┆                   ┆                   ┆           │\n",
       "│ Chevron           ┆ 1    ┆ [null]            ┆ [null]            ┆ [null]            ┆ 0.054705  │\n",
       "│ Corporation       ┆      ┆                   ┆                   ┆                   ┆           │\n",
       "└───────────────────┴──────┴───────────────────┴───────────────────┴───────────────────┴───────────┘"
      ]
     },
     "metadata": {},
     "output_type": "display_data"
    },
    {
     "name": "stdout",
     "output_type": "stream",
     "text": [
      "Normalized -- INTRA (n=2008)\n"
     ]
    },
    {
     "data": {
      "text/html": [
       "<div><style>\n",
       ".dataframe > thead > tr,\n",
       ".dataframe > tbody > tr {\n",
       "  text-align: right;\n",
       "  white-space: pre-wrap;\n",
       "}\n",
       "</style>\n",
       "<small>shape: (1, 6)</small><table border=\"1\" class=\"dataframe\"><thead><tr><th>issuer_name</th><th>len</th><th>cusip</th><th>isin</th><th>figi</th><th>% of obs</th></tr><tr><td>str</td><td>u32</td><td>list[str]</td><td>list[str]</td><td>list[str]</td><td>f64</td></tr></thead><tbody><tr><td>&quot;CHEVRON CORPORATION&quot;</td><td>2008</td><td>[&quot;166764100&quot;]</td><td>[&quot;US1667641005&quot;]</td><td>[&quot;BBG000K4ND22&quot;]</td><td>100.0</td></tr></tbody></table></div>"
      ],
      "text/plain": [
       "shape: (1, 6)\n",
       "┌─────────────────────┬──────┬───────────────┬──────────────────┬──────────────────┬──────────┐\n",
       "│ issuer_name         ┆ len  ┆ cusip         ┆ isin             ┆ figi             ┆ % of obs │\n",
       "│ ---                 ┆ ---  ┆ ---           ┆ ---              ┆ ---              ┆ ---      │\n",
       "│ str                 ┆ u32  ┆ list[str]     ┆ list[str]        ┆ list[str]        ┆ f64      │\n",
       "╞═════════════════════╪══════╪═══════════════╪══════════════════╪══════════════════╪══════════╡\n",
       "│ CHEVRON CORPORATION ┆ 2008 ┆ [\"166764100\"] ┆ [\"US1667641005\"] ┆ [\"BBG000K4ND22\"] ┆ 100.0    │\n",
       "└─────────────────────┴──────┴───────────────┴──────────────────┴──────────────────┴──────────┘"
      ]
     },
     "metadata": {},
     "output_type": "display_data"
    },
    {
     "name": "stdout",
     "output_type": "stream",
     "text": [
      "Normalized -- NO INTRA (n=2008)\n"
     ]
    },
    {
     "data": {
      "text/html": [
       "<div><style>\n",
       ".dataframe > thead > tr,\n",
       ".dataframe > tbody > tr {\n",
       "  text-align: right;\n",
       "  white-space: pre-wrap;\n",
       "}\n",
       "</style>\n",
       "<small>shape: (1, 6)</small><table border=\"1\" class=\"dataframe\"><thead><tr><th>issuer_name</th><th>len</th><th>cusip</th><th>isin</th><th>figi</th><th>% of obs</th></tr><tr><td>str</td><td>u32</td><td>list[str]</td><td>list[str]</td><td>list[str]</td><td>f64</td></tr></thead><tbody><tr><td>&quot;CHEVRON CORPORATION&quot;</td><td>2008</td><td>[&quot;166764100&quot;]</td><td>[&quot;US1667641005&quot;]</td><td>[&quot;BBG000K4ND22&quot;]</td><td>100.0</td></tr></tbody></table></div>"
      ],
      "text/plain": [
       "shape: (1, 6)\n",
       "┌─────────────────────┬──────┬───────────────┬──────────────────┬──────────────────┬──────────┐\n",
       "│ issuer_name         ┆ len  ┆ cusip         ┆ isin             ┆ figi             ┆ % of obs │\n",
       "│ ---                 ┆ ---  ┆ ---           ┆ ---              ┆ ---              ┆ ---      │\n",
       "│ str                 ┆ u32  ┆ list[str]     ┆ list[str]        ┆ list[str]        ┆ f64      │\n",
       "╞═════════════════════╪══════╪═══════════════╪══════════════════╪══════════════════╪══════════╡\n",
       "│ CHEVRON CORPORATION ┆ 2008 ┆ [\"166764100\"] ┆ [\"US1667641005\"] ┆ [\"BBG000K4ND22\"] ┆ 100.0    │\n",
       "└─────────────────────┴──────┴───────────────┴──────────────────┴──────────────────┴──────────┘"
      ]
     },
     "metadata": {},
     "output_type": "display_data"
    },
    {
     "name": "stdout",
     "output_type": "stream",
     "text": [
      "Consolidation Fodder:\n"
     ]
    },
    {
     "data": {
      "text/html": [
       "<div>\n",
       "<style scoped>\n",
       "    .dataframe tbody tr th:only-of-type {\n",
       "        vertical-align: middle;\n",
       "    }\n",
       "\n",
       "    .dataframe tbody tr th {\n",
       "        vertical-align: top;\n",
       "    }\n",
       "\n",
       "    .dataframe thead th {\n",
       "        text-align: right;\n",
       "    }\n",
       "</style>\n",
       "<table border=\"1\" class=\"dataframe\">\n",
       "  <thead>\n",
       "    <tr style=\"text-align: right;\">\n",
       "      <th></th>\n",
       "      <th>issuer_name</th>\n",
       "      <th>count</th>\n",
       "    </tr>\n",
       "  </thead>\n",
       "  <tbody>\n",
       "    <tr>\n",
       "      <th>0</th>\n",
       "      <td>CHEVRON CORPORATION</td>\n",
       "      <td>1034</td>\n",
       "    </tr>\n",
       "    <tr>\n",
       "      <th>1</th>\n",
       "      <td>Chevron Corporation</td>\n",
       "      <td>751</td>\n",
       "    </tr>\n",
       "    <tr>\n",
       "      <th>2</th>\n",
       "      <td>MATTEL, INC.</td>\n",
       "      <td>117</td>\n",
       "    </tr>\n",
       "    <tr>\n",
       "      <th>3</th>\n",
       "      <td>Mattel, Inc.</td>\n",
       "      <td>56</td>\n",
       "    </tr>\n",
       "    <tr>\n",
       "      <th>4</th>\n",
       "      <td>CHEVRON CORP</td>\n",
       "      <td>21</td>\n",
       "    </tr>\n",
       "    <tr>\n",
       "      <th>5</th>\n",
       "      <td>Chevron Corp</td>\n",
       "      <td>8</td>\n",
       "    </tr>\n",
       "    <tr>\n",
       "      <th>6</th>\n",
       "      <td>Chevron Corp.</td>\n",
       "      <td>4</td>\n",
       "    </tr>\n",
       "    <tr>\n",
       "      <th>7</th>\n",
       "      <td>CHEVRON</td>\n",
       "      <td>2</td>\n",
       "    </tr>\n",
       "    <tr>\n",
       "      <th>8</th>\n",
       "      <td>CHEVRON CORP NEW</td>\n",
       "      <td>2</td>\n",
       "    </tr>\n",
       "    <tr>\n",
       "      <th>9</th>\n",
       "      <td>Mattel Inc (MAT)</td>\n",
       "      <td>2</td>\n",
       "    </tr>\n",
       "    <tr>\n",
       "      <th>10</th>\n",
       "      <td>Chevron Corporation</td>\n",
       "      <td>1</td>\n",
       "    </tr>\n",
       "    <tr>\n",
       "      <th>11</th>\n",
       "      <td>Mattel Incorporated</td>\n",
       "      <td>1</td>\n",
       "    </tr>\n",
       "    <tr>\n",
       "      <th>12</th>\n",
       "      <td>Chevron</td>\n",
       "      <td>1</td>\n",
       "    </tr>\n",
       "    <tr>\n",
       "      <th>13</th>\n",
       "      <td>Mattel</td>\n",
       "      <td>1</td>\n",
       "    </tr>\n",
       "    <tr>\n",
       "      <th>14</th>\n",
       "      <td>CHEVRON CORP NEW COM</td>\n",
       "      <td>1</td>\n",
       "    </tr>\n",
       "    <tr>\n",
       "      <th>15</th>\n",
       "      <td>Chrvron Corporation</td>\n",
       "      <td>1</td>\n",
       "    </tr>\n",
       "    <tr>\n",
       "      <th>16</th>\n",
       "      <td>MATTEL, INC</td>\n",
       "      <td>1</td>\n",
       "    </tr>\n",
       "    <tr>\n",
       "      <th>17</th>\n",
       "      <td>Chevron Corposration</td>\n",
       "      <td>1</td>\n",
       "    </tr>\n",
       "    <tr>\n",
       "      <th>18</th>\n",
       "      <td>Chevron Corpoation</td>\n",
       "      <td>1</td>\n",
       "    </tr>\n",
       "    <tr>\n",
       "      <th>19</th>\n",
       "      <td>CVX</td>\n",
       "      <td>1</td>\n",
       "    </tr>\n",
       "    <tr>\n",
       "      <th>20</th>\n",
       "      <td>Chevron Corp (CVX)</td>\n",
       "      <td>1</td>\n",
       "    </tr>\n",
       "  </tbody>\n",
       "</table>\n",
       "</div>"
      ],
      "text/plain": [
       "             issuer_name  count\n",
       "0    CHEVRON CORPORATION   1034\n",
       "1    Chevron Corporation    751\n",
       "2           MATTEL, INC.    117\n",
       "3           Mattel, Inc.     56\n",
       "4           CHEVRON CORP     21\n",
       "5           Chevron Corp      8\n",
       "6          Chevron Corp.      4\n",
       "7                CHEVRON      2\n",
       "8       CHEVRON CORP NEW      2\n",
       "9       Mattel Inc (MAT)      2\n",
       "10  Chevron Corporation       1\n",
       "11   Mattel Incorporated      1\n",
       "12               Chevron      1\n",
       "13                Mattel      1\n",
       "14  CHEVRON CORP NEW COM      1\n",
       "15   Chrvron Corporation      1\n",
       "16           MATTEL, INC      1\n",
       "17  Chevron Corposration      1\n",
       "18    Chevron Corpoation      1\n",
       "19                   CVX      1\n",
       "20    Chevron Corp (CVX)      1"
      ]
     },
     "metadata": {},
     "output_type": "display_data"
    },
    {
     "name": "stdout",
     "output_type": "stream",
     "text": [
      "************************************************************ META PLATFORM ************************************************************\n",
      "Un-Normalized (n=1766)\n"
     ]
    },
    {
     "data": {
      "text/html": [
       "<div><style>\n",
       ".dataframe > thead > tr,\n",
       ".dataframe > tbody > tr {\n",
       "  text-align: right;\n",
       "  white-space: pre-wrap;\n",
       "}\n",
       "</style>\n",
       "<small>shape: (6, 6)</small><table border=\"1\" class=\"dataframe\"><thead><tr><th>issuer_name</th><th>len</th><th>cusip</th><th>isin</th><th>figi</th><th>% of obs</th></tr><tr><td>str</td><td>u32</td><td>list[str]</td><td>list[str]</td><td>list[str]</td><td>f64</td></tr></thead><tbody><tr><td>&quot;Meta Platforms, Inc.&quot;</td><td>949</td><td>[&quot;30303M102&quot;, null]</td><td>[&quot;US30303M1027&quot;, null]</td><td>[null]</td><td>53.737259</td></tr><tr><td>&quot;META PLATFORMS, INC.&quot;</td><td>808</td><td>[null, &quot;30303M102&quot;]</td><td>[null, &quot;US30303M1027&quot;]</td><td>[null]</td><td>45.753114</td></tr><tr><td>&quot;Meta Platforms&quot;</td><td>4</td><td>[&quot;30303M102&quot;, null]</td><td>[null, &quot;US30303M1027&quot;]</td><td>[null]</td><td>0.226501</td></tr><tr><td>&quot;Meta Platforms Inc&quot;</td><td>2</td><td>[&quot;30303M102&quot;]</td><td>[&quot;US30303M1027&quot;]</td><td>[null, &quot;BBG000MM2P62&quot;]</td><td>0.11325</td></tr><tr><td>&quot;Meta Platforms Inc.&quot;</td><td>2</td><td>[&quot;30303M102&quot;]</td><td>[&quot;US30303M1027&quot;]</td><td>[null]</td><td>0.11325</td></tr><tr><td>&quot;Meta Platforms, Inc&quot;</td><td>1</td><td>[&quot;30303M102&quot;]</td><td>[null]</td><td>[null]</td><td>0.056625</td></tr></tbody></table></div>"
      ],
      "text/plain": [
       "shape: (6, 6)\n",
       "┌──────────────────────┬─────┬───────────────┬──────────────────┬─────────────────┬───────────┐\n",
       "│ issuer_name          ┆ len ┆ cusip         ┆ isin             ┆ figi            ┆ % of obs  │\n",
       "│ ---                  ┆ --- ┆ ---           ┆ ---              ┆ ---             ┆ ---       │\n",
       "│ str                  ┆ u32 ┆ list[str]     ┆ list[str]        ┆ list[str]       ┆ f64       │\n",
       "╞══════════════════════╪═════╪═══════════════╪══════════════════╪═════════════════╪═══════════╡\n",
       "│ Meta Platforms, Inc. ┆ 949 ┆ [\"30303M102\", ┆ [\"US30303M1027\", ┆ [null]          ┆ 53.737259 │\n",
       "│                      ┆     ┆ null]         ┆ null]            ┆                 ┆           │\n",
       "│ META PLATFORMS, INC. ┆ 808 ┆ [null,        ┆ [null,           ┆ [null]          ┆ 45.753114 │\n",
       "│                      ┆     ┆ \"30303M102\"]  ┆ \"US30303M1027\"]  ┆                 ┆           │\n",
       "│ Meta Platforms       ┆ 4   ┆ [\"30303M102\", ┆ [null,           ┆ [null]          ┆ 0.226501  │\n",
       "│                      ┆     ┆ null]         ┆ \"US30303M1027\"]  ┆                 ┆           │\n",
       "│ Meta Platforms Inc   ┆ 2   ┆ [\"30303M102\"] ┆ [\"US30303M1027\"] ┆ [null,          ┆ 0.11325   │\n",
       "│                      ┆     ┆               ┆                  ┆ \"BBG000MM2P62\"] ┆           │\n",
       "│ Meta Platforms Inc.  ┆ 2   ┆ [\"30303M102\"] ┆ [\"US30303M1027\"] ┆ [null]          ┆ 0.11325   │\n",
       "│ Meta Platforms, Inc  ┆ 1   ┆ [\"30303M102\"] ┆ [null]           ┆ [null]          ┆ 0.056625  │\n",
       "└──────────────────────┴─────┴───────────────┴──────────────────┴─────────────────┴───────────┘"
      ]
     },
     "metadata": {},
     "output_type": "display_data"
    },
    {
     "name": "stdout",
     "output_type": "stream",
     "text": [
      "Normalized -- INTRA (n=1766)\n"
     ]
    },
    {
     "data": {
      "text/html": [
       "<div><style>\n",
       ".dataframe > thead > tr,\n",
       ".dataframe > tbody > tr {\n",
       "  text-align: right;\n",
       "  white-space: pre-wrap;\n",
       "}\n",
       "</style>\n",
       "<small>shape: (1, 6)</small><table border=\"1\" class=\"dataframe\"><thead><tr><th>issuer_name</th><th>len</th><th>cusip</th><th>isin</th><th>figi</th><th>% of obs</th></tr><tr><td>str</td><td>u32</td><td>list[str]</td><td>list[str]</td><td>list[str]</td><td>f64</td></tr></thead><tbody><tr><td>&quot;META PLATFORMS, INC.&quot;</td><td>1766</td><td>[&quot;30303M102&quot;]</td><td>[&quot;US30303M1027&quot;]</td><td>[&quot;BBG000MM2P62&quot;]</td><td>100.0</td></tr></tbody></table></div>"
      ],
      "text/plain": [
       "shape: (1, 6)\n",
       "┌──────────────────────┬──────┬───────────────┬──────────────────┬──────────────────┬──────────┐\n",
       "│ issuer_name          ┆ len  ┆ cusip         ┆ isin             ┆ figi             ┆ % of obs │\n",
       "│ ---                  ┆ ---  ┆ ---           ┆ ---              ┆ ---              ┆ ---      │\n",
       "│ str                  ┆ u32  ┆ list[str]     ┆ list[str]        ┆ list[str]        ┆ f64      │\n",
       "╞══════════════════════╪══════╪═══════════════╪══════════════════╪══════════════════╪══════════╡\n",
       "│ META PLATFORMS, INC. ┆ 1766 ┆ [\"30303M102\"] ┆ [\"US30303M1027\"] ┆ [\"BBG000MM2P62\"] ┆ 100.0    │\n",
       "└──────────────────────┴──────┴───────────────┴──────────────────┴──────────────────┴──────────┘"
      ]
     },
     "metadata": {},
     "output_type": "display_data"
    },
    {
     "name": "stdout",
     "output_type": "stream",
     "text": [
      "Normalized -- NO INTRA (n=1766)\n"
     ]
    },
    {
     "data": {
      "text/html": [
       "<div><style>\n",
       ".dataframe > thead > tr,\n",
       ".dataframe > tbody > tr {\n",
       "  text-align: right;\n",
       "  white-space: pre-wrap;\n",
       "}\n",
       "</style>\n",
       "<small>shape: (1, 6)</small><table border=\"1\" class=\"dataframe\"><thead><tr><th>issuer_name</th><th>len</th><th>cusip</th><th>isin</th><th>figi</th><th>% of obs</th></tr><tr><td>str</td><td>u32</td><td>list[str]</td><td>list[str]</td><td>list[str]</td><td>f64</td></tr></thead><tbody><tr><td>&quot;META PLATFORMS, INC.&quot;</td><td>1766</td><td>[&quot;30303M102&quot;]</td><td>[&quot;US30303M1027&quot;]</td><td>[&quot;BBG000MM2P62&quot;]</td><td>100.0</td></tr></tbody></table></div>"
      ],
      "text/plain": [
       "shape: (1, 6)\n",
       "┌──────────────────────┬──────┬───────────────┬──────────────────┬──────────────────┬──────────┐\n",
       "│ issuer_name          ┆ len  ┆ cusip         ┆ isin             ┆ figi             ┆ % of obs │\n",
       "│ ---                  ┆ ---  ┆ ---           ┆ ---              ┆ ---              ┆ ---      │\n",
       "│ str                  ┆ u32  ┆ list[str]     ┆ list[str]        ┆ list[str]        ┆ f64      │\n",
       "╞══════════════════════╪══════╪═══════════════╪══════════════════╪══════════════════╪══════════╡\n",
       "│ META PLATFORMS, INC. ┆ 1766 ┆ [\"30303M102\"] ┆ [\"US30303M1027\"] ┆ [\"BBG000MM2P62\"] ┆ 100.0    │\n",
       "└──────────────────────┴──────┴───────────────┴──────────────────┴──────────────────┴──────────┘"
      ]
     },
     "metadata": {},
     "output_type": "display_data"
    },
    {
     "name": "stdout",
     "output_type": "stream",
     "text": [
      "Consolidation Fodder:\n"
     ]
    },
    {
     "data": {
      "text/html": [
       "<div>\n",
       "<style scoped>\n",
       "    .dataframe tbody tr th:only-of-type {\n",
       "        vertical-align: middle;\n",
       "    }\n",
       "\n",
       "    .dataframe tbody tr th {\n",
       "        vertical-align: top;\n",
       "    }\n",
       "\n",
       "    .dataframe thead th {\n",
       "        text-align: right;\n",
       "    }\n",
       "</style>\n",
       "<table border=\"1\" class=\"dataframe\">\n",
       "  <thead>\n",
       "    <tr style=\"text-align: right;\">\n",
       "      <th></th>\n",
       "      <th>issuer_name</th>\n",
       "      <th>count</th>\n",
       "    </tr>\n",
       "  </thead>\n",
       "  <tbody>\n",
       "    <tr>\n",
       "      <th>0</th>\n",
       "      <td>Meta Platforms, Inc.</td>\n",
       "      <td>949</td>\n",
       "    </tr>\n",
       "    <tr>\n",
       "      <th>1</th>\n",
       "      <td>META PLATFORMS, INC.</td>\n",
       "      <td>808</td>\n",
       "    </tr>\n",
       "    <tr>\n",
       "      <th>2</th>\n",
       "      <td>Meta Platforms</td>\n",
       "      <td>4</td>\n",
       "    </tr>\n",
       "    <tr>\n",
       "      <th>3</th>\n",
       "      <td>Meta Platforms Inc</td>\n",
       "      <td>2</td>\n",
       "    </tr>\n",
       "    <tr>\n",
       "      <th>4</th>\n",
       "      <td>Meta Platforms Inc.</td>\n",
       "      <td>2</td>\n",
       "    </tr>\n",
       "    <tr>\n",
       "      <th>5</th>\n",
       "      <td>Meta Platforms, Inc</td>\n",
       "      <td>1</td>\n",
       "    </tr>\n",
       "  </tbody>\n",
       "</table>\n",
       "</div>"
      ],
      "text/plain": [
       "            issuer_name  count\n",
       "0  Meta Platforms, Inc.    949\n",
       "1  META PLATFORMS, INC.    808\n",
       "2        Meta Platforms      4\n",
       "3    Meta Platforms Inc      2\n",
       "4   Meta Platforms Inc.      2\n",
       "5   Meta Platforms, Inc      1"
      ]
     },
     "metadata": {},
     "output_type": "display_data"
    },
    {
     "name": "stdout",
     "output_type": "stream",
     "text": [
      "************************************************************ AIR TRANSPORT ************************************************************\n",
      "Un-Normalized (n=79)\n"
     ]
    },
    {
     "data": {
      "text/html": [
       "<div><style>\n",
       ".dataframe > thead > tr,\n",
       ".dataframe > tbody > tr {\n",
       "  text-align: right;\n",
       "  white-space: pre-wrap;\n",
       "}\n",
       "</style>\n",
       "<small>shape: (3, 6)</small><table border=\"1\" class=\"dataframe\"><thead><tr><th>issuer_name</th><th>len</th><th>cusip</th><th>isin</th><th>figi</th><th>% of obs</th></tr><tr><td>str</td><td>u32</td><td>list[str]</td><td>list[str]</td><td>list[str]</td><td>f64</td></tr></thead><tbody><tr><td>&quot;AIR TRANSPORT SERVICES GROUP, …</td><td>48</td><td>[null, &quot;00922R105&quot;]</td><td>[&quot;US00922R1059&quot;, null]</td><td>[null]</td><td>60.759494</td></tr><tr><td>&quot;Air Transport Services Group, …</td><td>30</td><td>[&quot;00922R105&quot;]</td><td>[&quot;US00922R1059&quot;, null]</td><td>[null]</td><td>37.974684</td></tr><tr><td>&quot;AIR TRANSPORT\n",
       "SERVICES GROUP, …</td><td>1</td><td>[&quot;00922R105&quot;]</td><td>[&quot;US00922R1059&quot;]</td><td>[null]</td><td>1.265823</td></tr></tbody></table></div>"
      ],
      "text/plain": [
       "shape: (3, 6)\n",
       "┌───────────────────┬─────┬─────────────────────┬──────────────────────────┬───────────┬───────────┐\n",
       "│ issuer_name       ┆ len ┆ cusip               ┆ isin                     ┆ figi      ┆ % of obs  │\n",
       "│ ---               ┆ --- ┆ ---                 ┆ ---                      ┆ ---       ┆ ---       │\n",
       "│ str               ┆ u32 ┆ list[str]           ┆ list[str]                ┆ list[str] ┆ f64       │\n",
       "╞═══════════════════╪═════╪═════════════════════╪══════════════════════════╪═══════════╪═══════════╡\n",
       "│ AIR TRANSPORT     ┆ 48  ┆ [null, \"00922R105\"] ┆ [\"US00922R1059\", null]   ┆ [null]    ┆ 60.759494 │\n",
       "│ SERVICES GROUP, … ┆     ┆                     ┆                          ┆           ┆           │\n",
       "│ Air Transport     ┆ 30  ┆ [\"00922R105\"]       ┆ [\"US00922R1059\", null]   ┆ [null]    ┆ 37.974684 │\n",
       "│ Services Group, … ┆     ┆                     ┆                          ┆           ┆           │\n",
       "│ AIR TRANSPORT     ┆ 1   ┆ [\"00922R105\"]       ┆ [\"US00922R1059\"]         ┆ [null]    ┆ 1.265823  │\n",
       "│ SERVICES GROUP, … ┆     ┆                     ┆                          ┆           ┆           │\n",
       "└───────────────────┴─────┴─────────────────────┴──────────────────────────┴───────────┴───────────┘"
      ]
     },
     "metadata": {},
     "output_type": "display_data"
    },
    {
     "name": "stdout",
     "output_type": "stream",
     "text": [
      "Normalized -- INTRA (n=79)\n"
     ]
    },
    {
     "data": {
      "text/html": [
       "<div><style>\n",
       ".dataframe > thead > tr,\n",
       ".dataframe > tbody > tr {\n",
       "  text-align: right;\n",
       "  white-space: pre-wrap;\n",
       "}\n",
       "</style>\n",
       "<small>shape: (1, 6)</small><table border=\"1\" class=\"dataframe\"><thead><tr><th>issuer_name</th><th>len</th><th>cusip</th><th>isin</th><th>figi</th><th>% of obs</th></tr><tr><td>str</td><td>u32</td><td>list[str]</td><td>list[str]</td><td>list[str]</td><td>f64</td></tr></thead><tbody><tr><td>&quot;AIR TRANSPORT SERVICES GROUP, …</td><td>79</td><td>[&quot;00922R105&quot;]</td><td>[&quot;US00922R1059&quot;]</td><td>[null]</td><td>100.0</td></tr></tbody></table></div>"
      ],
      "text/plain": [
       "shape: (1, 6)\n",
       "┌─────────────────────────────────┬─────┬───────────────┬──────────────────┬───────────┬──────────┐\n",
       "│ issuer_name                     ┆ len ┆ cusip         ┆ isin             ┆ figi      ┆ % of obs │\n",
       "│ ---                             ┆ --- ┆ ---           ┆ ---              ┆ ---       ┆ ---      │\n",
       "│ str                             ┆ u32 ┆ list[str]     ┆ list[str]        ┆ list[str] ┆ f64      │\n",
       "╞═════════════════════════════════╪═════╪═══════════════╪══════════════════╪═══════════╪══════════╡\n",
       "│ AIR TRANSPORT SERVICES GROUP, … ┆ 79  ┆ [\"00922R105\"] ┆ [\"US00922R1059\"] ┆ [null]    ┆ 100.0    │\n",
       "└─────────────────────────────────┴─────┴───────────────┴──────────────────┴───────────┴──────────┘"
      ]
     },
     "metadata": {},
     "output_type": "display_data"
    },
    {
     "name": "stdout",
     "output_type": "stream",
     "text": [
      "Normalized -- NO INTRA (n=79)\n"
     ]
    },
    {
     "data": {
      "text/html": [
       "<div><style>\n",
       ".dataframe > thead > tr,\n",
       ".dataframe > tbody > tr {\n",
       "  text-align: right;\n",
       "  white-space: pre-wrap;\n",
       "}\n",
       "</style>\n",
       "<small>shape: (1, 6)</small><table border=\"1\" class=\"dataframe\"><thead><tr><th>issuer_name</th><th>len</th><th>cusip</th><th>isin</th><th>figi</th><th>% of obs</th></tr><tr><td>str</td><td>u32</td><td>list[str]</td><td>list[str]</td><td>list[str]</td><td>f64</td></tr></thead><tbody><tr><td>&quot;AIR TRANSPORT SERVICES GROUP, …</td><td>79</td><td>[&quot;00922R105&quot;]</td><td>[&quot;US00922R1059&quot;]</td><td>[null]</td><td>100.0</td></tr></tbody></table></div>"
      ],
      "text/plain": [
       "shape: (1, 6)\n",
       "┌─────────────────────────────────┬─────┬───────────────┬──────────────────┬───────────┬──────────┐\n",
       "│ issuer_name                     ┆ len ┆ cusip         ┆ isin             ┆ figi      ┆ % of obs │\n",
       "│ ---                             ┆ --- ┆ ---           ┆ ---              ┆ ---       ┆ ---      │\n",
       "│ str                             ┆ u32 ┆ list[str]     ┆ list[str]        ┆ list[str] ┆ f64      │\n",
       "╞═════════════════════════════════╪═════╪═══════════════╪══════════════════╪═══════════╪══════════╡\n",
       "│ AIR TRANSPORT SERVICES GROUP, … ┆ 79  ┆ [\"00922R105\"] ┆ [\"US00922R1059\"] ┆ [null]    ┆ 100.0    │\n",
       "└─────────────────────────────────┴─────┴───────────────┴──────────────────┴───────────┴──────────┘"
      ]
     },
     "metadata": {},
     "output_type": "display_data"
    },
    {
     "name": "stdout",
     "output_type": "stream",
     "text": [
      "Consolidation Fodder:\n"
     ]
    },
    {
     "data": {
      "text/html": [
       "<div>\n",
       "<style scoped>\n",
       "    .dataframe tbody tr th:only-of-type {\n",
       "        vertical-align: middle;\n",
       "    }\n",
       "\n",
       "    .dataframe tbody tr th {\n",
       "        vertical-align: top;\n",
       "    }\n",
       "\n",
       "    .dataframe thead th {\n",
       "        text-align: right;\n",
       "    }\n",
       "</style>\n",
       "<table border=\"1\" class=\"dataframe\">\n",
       "  <thead>\n",
       "    <tr style=\"text-align: right;\">\n",
       "      <th></th>\n",
       "      <th>issuer_name</th>\n",
       "      <th>count</th>\n",
       "    </tr>\n",
       "  </thead>\n",
       "  <tbody>\n",
       "    <tr>\n",
       "      <th>0</th>\n",
       "      <td>AIR TRANSPORT SERVICES GROUP, INC.</td>\n",
       "      <td>48</td>\n",
       "    </tr>\n",
       "    <tr>\n",
       "      <th>1</th>\n",
       "      <td>Air Transport Services Group, Inc.</td>\n",
       "      <td>30</td>\n",
       "    </tr>\n",
       "    <tr>\n",
       "      <th>2</th>\n",
       "      <td>AIR TRANSPORT\\nSERVICES GROUP, INC.</td>\n",
       "      <td>1</td>\n",
       "    </tr>\n",
       "  </tbody>\n",
       "</table>\n",
       "</div>"
      ],
      "text/plain": [
       "                           issuer_name  count\n",
       "0   AIR TRANSPORT SERVICES GROUP, INC.     48\n",
       "1   Air Transport Services Group, Inc.     30\n",
       "2  AIR TRANSPORT\\nSERVICES GROUP, INC.      1"
      ]
     },
     "metadata": {},
     "output_type": "display_data"
    },
    {
     "name": "stdout",
     "output_type": "stream",
     "text": [
      "************************************************************ BANK OF AMERICA ************************************************************\n",
      "Un-Normalized (n=1901)\n"
     ]
    },
    {
     "data": {
      "text/html": [
       "<div><style>\n",
       ".dataframe > thead > tr,\n",
       ".dataframe > tbody > tr {\n",
       "  text-align: right;\n",
       "  white-space: pre-wrap;\n",
       "}\n",
       "</style>\n",
       "<small>shape: (11, 6)</small><table border=\"1\" class=\"dataframe\"><thead><tr><th>issuer_name</th><th>len</th><th>cusip</th><th>isin</th><th>figi</th><th>% of obs</th></tr><tr><td>str</td><td>u32</td><td>list[str]</td><td>list[str]</td><td>list[str]</td><td>f64</td></tr></thead><tbody><tr><td>&quot;BANK OF AMERICA CORPORATION&quot;</td><td>961</td><td>[&quot;060505104&quot;, &quot;060505583&quot;, … &quot;060505591&quot;]</td><td>[null, &quot;US0605051046&quot;, … &quot;US0605056334&quot;]</td><td>[null, &quot;BBG000BCTLF6&quot;]</td><td>50.552341</td></tr><tr><td>&quot;Bank of America Corporation&quot;</td><td>733</td><td>[&quot;060505625&quot;, &quot;060505583&quot;, … &quot;060505633&quot;]</td><td>[&quot;US0605055914&quot;, &quot;US0605056334&quot;, … &quot;US0605055831&quot;]</td><td>[null]</td><td>38.558653</td></tr><tr><td>&quot;BANK OF AMERICA&quot;</td><td>112</td><td>[&quot;060505195&quot;, &quot;060505104&quot;, null]</td><td>[null]</td><td>[null]</td><td>5.891636</td></tr><tr><td>&quot;Bank of America&quot;</td><td>35</td><td>[&quot;000060505&quot;, null, &quot;060505104&quot;]</td><td>[null, &quot;US0605051046&quot;]</td><td>[null]</td><td>1.841136</td></tr><tr><td>&quot;Bank of America Corp&quot;</td><td>25</td><td>[&quot;060505104&quot;]</td><td>[null, &quot;US0605051046&quot;]</td><td>[null, &quot;BBG000BCTLF6&quot;]</td><td>1.315097</td></tr><tr><td>&hellip;</td><td>&hellip;</td><td>&hellip;</td><td>&hellip;</td><td>&hellip;</td><td>&hellip;</td></tr><tr><td>&quot;BANK OF AMERICA CORP&quot;</td><td>6</td><td>[&quot;060505104&quot;]</td><td>[null, &quot;US0605051046&quot;]</td><td>[null]</td><td>0.315623</td></tr><tr><td>&quot;Bank of America Corp.&quot;</td><td>5</td><td>[&quot;605051040&quot;, &quot;060505104&quot;]</td><td>[&quot;US0605051046&quot;, null]</td><td>[null]</td><td>0.263019</td></tr><tr><td>&quot;Bank Of America Corp.&quot;</td><td>3</td><td>[&quot;060505104&quot;]</td><td>[&quot;US0605051046&quot;]</td><td>[null]</td><td>0.157812</td></tr><tr><td>&quot;Bank of America Corporation (B…</td><td>2</td><td>[&quot;060505104&quot;]</td><td>[&quot;US0605051046&quot;]</td><td>[null]</td><td>0.105208</td></tr><tr><td>&quot;BANK OF AMERICA &quot;</td><td>1</td><td>[&quot;060505104&quot;]</td><td>[&quot;US0605051046&quot;]</td><td>[null]</td><td>0.052604</td></tr></tbody></table></div>"
      ],
      "text/plain": [
       "shape: (11, 6)\n",
       "┌────────────────────┬─────┬───────────────────┬───────────────────┬───────────────────┬───────────┐\n",
       "│ issuer_name        ┆ len ┆ cusip             ┆ isin              ┆ figi              ┆ % of obs  │\n",
       "│ ---                ┆ --- ┆ ---               ┆ ---               ┆ ---               ┆ ---       │\n",
       "│ str                ┆ u32 ┆ list[str]         ┆ list[str]         ┆ list[str]         ┆ f64       │\n",
       "╞════════════════════╪═════╪═══════════════════╪═══════════════════╪═══════════════════╪═══════════╡\n",
       "│ BANK OF AMERICA    ┆ 961 ┆ [\"060505104\",     ┆ [null,            ┆ [null,            ┆ 50.552341 │\n",
       "│ CORPORATION        ┆     ┆ \"060505583\", … \"… ┆ \"US0605051046\", … ┆ \"BBG000BCTLF6\"]   ┆           │\n",
       "│                    ┆     ┆                   ┆ \"US06…            ┆                   ┆           │\n",
       "│ Bank of America    ┆ 733 ┆ [\"060505625\",     ┆ [\"US0605055914\",  ┆ [null]            ┆ 38.558653 │\n",
       "│ Corporation        ┆     ┆ \"060505583\", … \"… ┆ \"US0605056334…    ┆                   ┆           │\n",
       "│ BANK OF AMERICA    ┆ 112 ┆ [\"060505195\",     ┆ [null]            ┆ [null]            ┆ 5.891636  │\n",
       "│                    ┆     ┆ \"060505104\", nul… ┆                   ┆                   ┆           │\n",
       "│ Bank of America    ┆ 35  ┆ [\"000060505\",     ┆ [null,            ┆ [null]            ┆ 1.841136  │\n",
       "│                    ┆     ┆ null, \"060505104… ┆ \"US0605051046\"]   ┆                   ┆           │\n",
       "│ Bank of America    ┆ 25  ┆ [\"060505104\"]     ┆ [null,            ┆ [null,            ┆ 1.315097  │\n",
       "│ Corp               ┆     ┆                   ┆ \"US0605051046\"]   ┆ \"BBG000BCTLF6\"]   ┆           │\n",
       "│ …                  ┆ …   ┆ …                 ┆ …                 ┆ …                 ┆ …         │\n",
       "│ BANK OF AMERICA    ┆ 6   ┆ [\"060505104\"]     ┆ [null,            ┆ [null]            ┆ 0.315623  │\n",
       "│ CORP               ┆     ┆                   ┆ \"US0605051046\"]   ┆                   ┆           │\n",
       "│ Bank of America    ┆ 5   ┆ [\"605051040\",     ┆ [\"US0605051046\",  ┆ [null]            ┆ 0.263019  │\n",
       "│ Corp.              ┆     ┆ \"060505104\"]      ┆ null]             ┆                   ┆           │\n",
       "│ Bank Of America    ┆ 3   ┆ [\"060505104\"]     ┆ [\"US0605051046\"]  ┆ [null]            ┆ 0.157812  │\n",
       "│ Corp.              ┆     ┆                   ┆                   ┆                   ┆           │\n",
       "│ Bank of America    ┆ 2   ┆ [\"060505104\"]     ┆ [\"US0605051046\"]  ┆ [null]            ┆ 0.105208  │\n",
       "│ Corporation (B…    ┆     ┆                   ┆                   ┆                   ┆           │\n",
       "│ BANK OF AMERICA    ┆ 1   ┆ [\"060505104\"]     ┆ [\"US0605051046\"]  ┆ [null]            ┆ 0.052604  │\n",
       "└────────────────────┴─────┴───────────────────┴───────────────────┴───────────────────┴───────────┘"
      ]
     },
     "metadata": {},
     "output_type": "display_data"
    },
    {
     "name": "stdout",
     "output_type": "stream",
     "text": [
      "Normalized -- INTRA (n=1904)\n"
     ]
    },
    {
     "data": {
      "text/html": [
       "<div><style>\n",
       ".dataframe > thead > tr,\n",
       ".dataframe > tbody > tr {\n",
       "  text-align: right;\n",
       "  white-space: pre-wrap;\n",
       "}\n",
       "</style>\n",
       "<small>shape: (1, 6)</small><table border=\"1\" class=\"dataframe\"><thead><tr><th>issuer_name</th><th>len</th><th>cusip</th><th>isin</th><th>figi</th><th>% of obs</th></tr><tr><td>str</td><td>u32</td><td>list[str]</td><td>list[str]</td><td>list[str]</td><td>f64</td></tr></thead><tbody><tr><td>&quot;BANK OF AMERICA CORPORATION&quot;</td><td>1904</td><td>[&quot;060505104&quot;]</td><td>[&quot;US0605051046&quot;]</td><td>[&quot;BBG000BCTLF6&quot;]</td><td>100.0</td></tr></tbody></table></div>"
      ],
      "text/plain": [
       "shape: (1, 6)\n",
       "┌─────────────────┬──────┬───────────────┬──────────────────┬──────────────────┬──────────┐\n",
       "│ issuer_name     ┆ len  ┆ cusip         ┆ isin             ┆ figi             ┆ % of obs │\n",
       "│ ---             ┆ ---  ┆ ---           ┆ ---              ┆ ---              ┆ ---      │\n",
       "│ str             ┆ u32  ┆ list[str]     ┆ list[str]        ┆ list[str]        ┆ f64      │\n",
       "╞═════════════════╪══════╪═══════════════╪══════════════════╪══════════════════╪══════════╡\n",
       "│ BANK OF AMERICA ┆ 1904 ┆ [\"060505104\"] ┆ [\"US0605051046\"] ┆ [\"BBG000BCTLF6\"] ┆ 100.0    │\n",
       "│ CORPORATION     ┆      ┆               ┆                  ┆                  ┆          │\n",
       "└─────────────────┴──────┴───────────────┴──────────────────┴──────────────────┴──────────┘"
      ]
     },
     "metadata": {},
     "output_type": "display_data"
    },
    {
     "name": "stdout",
     "output_type": "stream",
     "text": [
      "Normalized -- NO INTRA (n=1904)\n"
     ]
    },
    {
     "data": {
      "text/html": [
       "<div><style>\n",
       ".dataframe > thead > tr,\n",
       ".dataframe > tbody > tr {\n",
       "  text-align: right;\n",
       "  white-space: pre-wrap;\n",
       "}\n",
       "</style>\n",
       "<small>shape: (1, 6)</small><table border=\"1\" class=\"dataframe\"><thead><tr><th>issuer_name</th><th>len</th><th>cusip</th><th>isin</th><th>figi</th><th>% of obs</th></tr><tr><td>str</td><td>u32</td><td>list[str]</td><td>list[str]</td><td>list[str]</td><td>f64</td></tr></thead><tbody><tr><td>&quot;BANK OF AMERICA CORPORATION&quot;</td><td>1904</td><td>[&quot;060505104&quot;]</td><td>[&quot;US0605051046&quot;]</td><td>[&quot;BBG000BCTLF6&quot;]</td><td>100.0</td></tr></tbody></table></div>"
      ],
      "text/plain": [
       "shape: (1, 6)\n",
       "┌─────────────────┬──────┬───────────────┬──────────────────┬──────────────────┬──────────┐\n",
       "│ issuer_name     ┆ len  ┆ cusip         ┆ isin             ┆ figi             ┆ % of obs │\n",
       "│ ---             ┆ ---  ┆ ---           ┆ ---              ┆ ---              ┆ ---      │\n",
       "│ str             ┆ u32  ┆ list[str]     ┆ list[str]        ┆ list[str]        ┆ f64      │\n",
       "╞═════════════════╪══════╪═══════════════╪══════════════════╪══════════════════╪══════════╡\n",
       "│ BANK OF AMERICA ┆ 1904 ┆ [\"060505104\"] ┆ [\"US0605051046\"] ┆ [\"BBG000BCTLF6\"] ┆ 100.0    │\n",
       "│ CORPORATION     ┆      ┆               ┆                  ┆                  ┆          │\n",
       "└─────────────────┴──────┴───────────────┴──────────────────┴──────────────────┴──────────┘"
      ]
     },
     "metadata": {},
     "output_type": "display_data"
    },
    {
     "name": "stdout",
     "output_type": "stream",
     "text": [
      "Consolidation Fodder:\n"
     ]
    },
    {
     "data": {
      "text/html": [
       "<div>\n",
       "<style scoped>\n",
       "    .dataframe tbody tr th:only-of-type {\n",
       "        vertical-align: middle;\n",
       "    }\n",
       "\n",
       "    .dataframe tbody tr th {\n",
       "        vertical-align: top;\n",
       "    }\n",
       "\n",
       "    .dataframe thead th {\n",
       "        text-align: right;\n",
       "    }\n",
       "</style>\n",
       "<table border=\"1\" class=\"dataframe\">\n",
       "  <thead>\n",
       "    <tr style=\"text-align: right;\">\n",
       "      <th></th>\n",
       "      <th>issuer_name</th>\n",
       "      <th>count</th>\n",
       "    </tr>\n",
       "  </thead>\n",
       "  <tbody>\n",
       "    <tr>\n",
       "      <th>0</th>\n",
       "      <td>BANK OF AMERICA CORPORATION</td>\n",
       "      <td>961</td>\n",
       "    </tr>\n",
       "    <tr>\n",
       "      <th>1</th>\n",
       "      <td>Bank of America Corporation</td>\n",
       "      <td>733</td>\n",
       "    </tr>\n",
       "    <tr>\n",
       "      <th>2</th>\n",
       "      <td>BANK OF AMERICA</td>\n",
       "      <td>112</td>\n",
       "    </tr>\n",
       "    <tr>\n",
       "      <th>3</th>\n",
       "      <td>Bank of America</td>\n",
       "      <td>35</td>\n",
       "    </tr>\n",
       "    <tr>\n",
       "      <th>4</th>\n",
       "      <td>Bank of America Corp</td>\n",
       "      <td>25</td>\n",
       "    </tr>\n",
       "    <tr>\n",
       "      <th>5</th>\n",
       "      <td>BANK OF AMERICA\\nCORPORATION</td>\n",
       "      <td>18</td>\n",
       "    </tr>\n",
       "    <tr>\n",
       "      <th>6</th>\n",
       "      <td>BANK OF AMERICA CORP</td>\n",
       "      <td>6</td>\n",
       "    </tr>\n",
       "    <tr>\n",
       "      <th>7</th>\n",
       "      <td>Bank of America Corp.</td>\n",
       "      <td>5</td>\n",
       "    </tr>\n",
       "    <tr>\n",
       "      <th>8</th>\n",
       "      <td>Bank Of America Corp.</td>\n",
       "      <td>3</td>\n",
       "    </tr>\n",
       "    <tr>\n",
       "      <th>9</th>\n",
       "      <td>Bank of America Corporation (BAC)</td>\n",
       "      <td>2</td>\n",
       "    </tr>\n",
       "    <tr>\n",
       "      <th>10</th>\n",
       "      <td>BANK AMERICA CORP COM</td>\n",
       "      <td>1</td>\n",
       "    </tr>\n",
       "    <tr>\n",
       "      <th>11</th>\n",
       "      <td>BAC</td>\n",
       "      <td>1</td>\n",
       "    </tr>\n",
       "    <tr>\n",
       "      <th>12</th>\n",
       "      <td>BMLPRH</td>\n",
       "      <td>1</td>\n",
       "    </tr>\n",
       "    <tr>\n",
       "      <th>13</th>\n",
       "      <td>BANK OF AMERICA</td>\n",
       "      <td>1</td>\n",
       "    </tr>\n",
       "  </tbody>\n",
       "</table>\n",
       "</div>"
      ],
      "text/plain": [
       "                          issuer_name  count\n",
       "0         BANK OF AMERICA CORPORATION    961\n",
       "1         Bank of America Corporation    733\n",
       "2                     BANK OF AMERICA    112\n",
       "3                     Bank of America     35\n",
       "4                Bank of America Corp     25\n",
       "5        BANK OF AMERICA\\nCORPORATION     18\n",
       "6                BANK OF AMERICA CORP      6\n",
       "7               Bank of America Corp.      5\n",
       "8               Bank Of America Corp.      3\n",
       "9   Bank of America Corporation (BAC)      2\n",
       "10              BANK AMERICA CORP COM      1\n",
       "11                                BAC      1\n",
       "12                             BMLPRH      1\n",
       "13                   BANK OF AMERICA       1"
      ]
     },
     "metadata": {},
     "output_type": "display_data"
    },
    {
     "name": "stdout",
     "output_type": "stream",
     "text": [
      "************************************************************ BLACKROCK ************************************************************\n",
      "Un-Normalized (n=1466)\n"
     ]
    },
    {
     "data": {
      "text/html": [
       "<div><style>\n",
       ".dataframe > thead > tr,\n",
       ".dataframe > tbody > tr {\n",
       "  text-align: right;\n",
       "  white-space: pre-wrap;\n",
       "}\n",
       "</style>\n",
       "<small>shape: (38, 6)</small><table border=\"1\" class=\"dataframe\"><thead><tr><th>issuer_name</th><th>len</th><th>cusip</th><th>isin</th><th>figi</th><th>% of obs</th></tr><tr><td>str</td><td>u32</td><td>list[str]</td><td>list[str]</td><td>list[str]</td><td>f64</td></tr></thead><tbody><tr><td>&quot;BLACKROCK, INC.&quot;</td><td>696</td><td>[null, &quot;09247X101&quot;]</td><td>[null, &quot;US09247X1019&quot;]</td><td>[null]</td><td>47.476126</td></tr><tr><td>&quot;BlackRock, Inc.&quot;</td><td>456</td><td>[&quot;09247X101&quot;, &quot;09247K101&quot;, null]</td><td>[null, &quot;US09247X1019&quot;]</td><td>[null, &quot;BBG000C2PW58&quot;]</td><td>31.105048</td></tr><tr><td>&quot;BLACKROCK INC&quot;</td><td>46</td><td>[&quot;09247X101&quot;]</td><td>[null]</td><td>[null]</td><td>3.13779</td></tr><tr><td>&quot;BlackRock Funds&quot;</td><td>44</td><td>[&quot;092501105&quot;, &quot;09260E105&quot;, … &quot;09255R202&quot;]</td><td>[null]</td><td>[null]</td><td>3.001364</td></tr><tr><td>&quot;Blackrock&quot;</td><td>22</td><td>[&quot;09247X101&quot;]</td><td>[&quot;US09247X1019&quot;]</td><td>[null]</td><td>1.500682</td></tr><tr><td>&hellip;</td><td>&hellip;</td><td>&hellip;</td><td>&hellip;</td><td>&hellip;</td><td>&hellip;</td></tr><tr><td>&quot;BlackRock Income Trust&quot;</td><td>3</td><td>[&quot;09247F209&quot;]</td><td>[&quot;US09247F2092&quot;]</td><td>[&quot;BBG000BDC193&quot;]</td><td>0.204638</td></tr><tr><td>&quot;BLACKROCK, INC&quot;</td><td>2</td><td>[&quot;09247X101&quot;]</td><td>[null]</td><td>[null]</td><td>0.136426</td></tr><tr><td>&quot;BlackRock Inc&quot;</td><td>1</td><td>[&quot;09247X101&quot;]</td><td>[null]</td><td>[null]</td><td>0.068213</td></tr><tr><td>&quot;BlackRock US Core Property Fun…</td><td>1</td><td>[&quot;97MSCRP36&quot;]</td><td>[null]</td><td>[null]</td><td>0.068213</td></tr><tr><td>&quot;BLACKROCK &quot;</td><td>1</td><td>[&quot;09247X101&quot;]</td><td>[&quot;US09247X1019&quot;]</td><td>[null]</td><td>0.068213</td></tr></tbody></table></div>"
      ],
      "text/plain": [
       "shape: (38, 6)\n",
       "┌────────────────────┬─────┬───────────────────┬───────────────────┬───────────────────┬───────────┐\n",
       "│ issuer_name        ┆ len ┆ cusip             ┆ isin              ┆ figi              ┆ % of obs  │\n",
       "│ ---                ┆ --- ┆ ---               ┆ ---               ┆ ---               ┆ ---       │\n",
       "│ str                ┆ u32 ┆ list[str]         ┆ list[str]         ┆ list[str]         ┆ f64       │\n",
       "╞════════════════════╪═════╪═══════════════════╪═══════════════════╪═══════════════════╪═══════════╡\n",
       "│ BLACKROCK, INC.    ┆ 696 ┆ [null,            ┆ [null,            ┆ [null]            ┆ 47.476126 │\n",
       "│                    ┆     ┆ \"09247X101\"]      ┆ \"US09247X1019\"]   ┆                   ┆           │\n",
       "│ BlackRock, Inc.    ┆ 456 ┆ [\"09247X101\",     ┆ [null,            ┆ [null,            ┆ 31.105048 │\n",
       "│                    ┆     ┆ \"09247K101\", nul… ┆ \"US09247X1019\"]   ┆ \"BBG000C2PW58\"]   ┆           │\n",
       "│ BLACKROCK INC      ┆ 46  ┆ [\"09247X101\"]     ┆ [null]            ┆ [null]            ┆ 3.13779   │\n",
       "│ BlackRock Funds    ┆ 44  ┆ [\"092501105\",     ┆ [null]            ┆ [null]            ┆ 3.001364  │\n",
       "│                    ┆     ┆ \"09260E105\", … \"… ┆                   ┆                   ┆           │\n",
       "│ Blackrock          ┆ 22  ┆ [\"09247X101\"]     ┆ [\"US09247X1019\"]  ┆ [null]            ┆ 1.500682  │\n",
       "│ …                  ┆ …   ┆ …                 ┆ …                 ┆ …                 ┆ …         │\n",
       "│ BlackRock Income   ┆ 3   ┆ [\"09247F209\"]     ┆ [\"US09247F2092\"]  ┆ [\"BBG000BDC193\"]  ┆ 0.204638  │\n",
       "│ Trust              ┆     ┆                   ┆                   ┆                   ┆           │\n",
       "│ BLACKROCK, INC     ┆ 2   ┆ [\"09247X101\"]     ┆ [null]            ┆ [null]            ┆ 0.136426  │\n",
       "│ BlackRock Inc      ┆ 1   ┆ [\"09247X101\"]     ┆ [null]            ┆ [null]            ┆ 0.068213  │\n",
       "│ BlackRock US Core  ┆ 1   ┆ [\"97MSCRP36\"]     ┆ [null]            ┆ [null]            ┆ 0.068213  │\n",
       "│ Property Fun…      ┆     ┆                   ┆                   ┆                   ┆           │\n",
       "│ BLACKROCK          ┆ 1   ┆ [\"09247X101\"]     ┆ [\"US09247X1019\"]  ┆ [null]            ┆ 0.068213  │\n",
       "└────────────────────┴─────┴───────────────────┴───────────────────┴───────────────────┴───────────┘"
      ]
     },
     "metadata": {},
     "output_type": "display_data"
    },
    {
     "name": "stdout",
     "output_type": "stream",
     "text": [
      "Normalized -- INTRA (n=1467)\n"
     ]
    },
    {
     "data": {
      "text/html": [
       "<div><style>\n",
       ".dataframe > thead > tr,\n",
       ".dataframe > tbody > tr {\n",
       "  text-align: right;\n",
       "  white-space: pre-wrap;\n",
       "}\n",
       "</style>\n",
       "<small>shape: (24, 6)</small><table border=\"1\" class=\"dataframe\"><thead><tr><th>issuer_name</th><th>len</th><th>cusip</th><th>isin</th><th>figi</th><th>% of obs</th></tr><tr><td>str</td><td>u32</td><td>list[str]</td><td>list[str]</td><td>list[str]</td><td>f64</td></tr></thead><tbody><tr><td>&quot;BLACKROCK, INC.&quot;</td><td>1243</td><td>[&quot;09247X101&quot;, null]</td><td>[&quot;US09247X1019&quot;, null]</td><td>[null, &quot;BBG000C2PW58&quot;]</td><td>84.730743</td></tr><tr><td>&quot;BLACKROCK FUNDS&quot;</td><td>63</td><td>[&quot;09260E105&quot;]</td><td>[&quot;US09255R2022&quot;]</td><td>[&quot;BBG000BDC193&quot;]</td><td>4.294479</td></tr><tr><td>&quot;BLACKROCK ESG CAPITAL ALLOCATI…</td><td>16</td><td>[&quot;09262F100&quot;]</td><td>[&quot;US09262F1003&quot;]</td><td>[null]</td><td>1.090661</td></tr><tr><td>&quot;BLACKROCK VARIABLE SERIES FUND…</td><td>16</td><td>[&quot;09258X107&quot;]</td><td>[&quot;US09258X1072&quot;]</td><td>[null]</td><td>1.090661</td></tr><tr><td>&quot;BLACKROCK TCP CAPITAL CORP.&quot;</td><td>15</td><td>[&quot;09259E108&quot;]</td><td>[&quot;US09259E1082&quot;]</td><td>[null]</td><td>1.022495</td></tr><tr><td>&hellip;</td><td>&hellip;</td><td>&hellip;</td><td>&hellip;</td><td>&hellip;</td><td>&hellip;</td></tr><tr><td>&quot;BLACKROCK MUNICIPAL INCOME TRU…</td><td>4</td><td>[&quot;09249N101&quot;]</td><td>[&quot;US09249N1019&quot;]</td><td>[&quot;BBG000NWS486&quot;]</td><td>0.272665</td></tr><tr><td>&quot;BLACKROCK NY MUNI OPP FUNDS A1&quot;</td><td>4</td><td>[&quot;09253A813&quot;]</td><td>[null]</td><td>[null]</td><td>0.272665</td></tr><tr><td>&quot;BLACKROCK MUNICIPAL INCOME TRU…</td><td>3</td><td>[&quot;09248F109&quot;]</td><td>[&quot;US09248F1093&quot;]</td><td>[null]</td><td>0.204499</td></tr><tr><td>&quot;BLACKROCK CREDIT ALLOCATION, I…</td><td>3</td><td>[&quot;092508100&quot;]</td><td>[&quot;US0925081004&quot;]</td><td>[&quot;BBG000QHYF20&quot;]</td><td>0.204499</td></tr><tr><td>&quot;BLACKROCK US CORE PROPERTY FUN…</td><td>1</td><td>[&quot;97MSCRP36&quot;]</td><td>[null]</td><td>[null]</td><td>0.068166</td></tr></tbody></table></div>"
      ],
      "text/plain": [
       "shape: (24, 6)\n",
       "┌─────────────────────┬──────┬───────────────┬────────────────────┬────────────────────┬───────────┐\n",
       "│ issuer_name         ┆ len  ┆ cusip         ┆ isin               ┆ figi               ┆ % of obs  │\n",
       "│ ---                 ┆ ---  ┆ ---           ┆ ---                ┆ ---                ┆ ---       │\n",
       "│ str                 ┆ u32  ┆ list[str]     ┆ list[str]          ┆ list[str]          ┆ f64       │\n",
       "╞═════════════════════╪══════╪═══════════════╪════════════════════╪════════════════════╪═══════════╡\n",
       "│ BLACKROCK, INC.     ┆ 1243 ┆ [\"09247X101\", ┆ [\"US09247X1019\",   ┆ [null,             ┆ 84.730743 │\n",
       "│                     ┆      ┆ null]         ┆ null]              ┆ \"BBG000C2PW58\"]    ┆           │\n",
       "│ BLACKROCK FUNDS     ┆ 63   ┆ [\"09260E105\"] ┆ [\"US09255R2022\"]   ┆ [\"BBG000BDC193\"]   ┆ 4.294479  │\n",
       "│ BLACKROCK ESG       ┆ 16   ┆ [\"09262F100\"] ┆ [\"US09262F1003\"]   ┆ [null]             ┆ 1.090661  │\n",
       "│ CAPITAL ALLOCATI…   ┆      ┆               ┆                    ┆                    ┆           │\n",
       "│ BLACKROCK VARIABLE  ┆ 16   ┆ [\"09258X107\"] ┆ [\"US09258X1072\"]   ┆ [null]             ┆ 1.090661  │\n",
       "│ SERIES FUND…        ┆      ┆               ┆                    ┆                    ┆           │\n",
       "│ BLACKROCK TCP       ┆ 15   ┆ [\"09259E108\"] ┆ [\"US09259E1082\"]   ┆ [null]             ┆ 1.022495  │\n",
       "│ CAPITAL CORP.       ┆      ┆               ┆                    ┆                    ┆           │\n",
       "│ …                   ┆ …    ┆ …             ┆ …                  ┆ …                  ┆ …         │\n",
       "│ BLACKROCK MUNICIPAL ┆ 4    ┆ [\"09249N101\"] ┆ [\"US09249N1019\"]   ┆ [\"BBG000NWS486\"]   ┆ 0.272665  │\n",
       "│ INCOME TRU…         ┆      ┆               ┆                    ┆                    ┆           │\n",
       "│ BLACKROCK NY MUNI   ┆ 4    ┆ [\"09253A813\"] ┆ [null]             ┆ [null]             ┆ 0.272665  │\n",
       "│ OPP FUNDS A1        ┆      ┆               ┆                    ┆                    ┆           │\n",
       "│ BLACKROCK MUNICIPAL ┆ 3    ┆ [\"09248F109\"] ┆ [\"US09248F1093\"]   ┆ [null]             ┆ 0.204499  │\n",
       "│ INCOME TRU…         ┆      ┆               ┆                    ┆                    ┆           │\n",
       "│ BLACKROCK CREDIT    ┆ 3    ┆ [\"092508100\"] ┆ [\"US0925081004\"]   ┆ [\"BBG000QHYF20\"]   ┆ 0.204499  │\n",
       "│ ALLOCATION, I…      ┆      ┆               ┆                    ┆                    ┆           │\n",
       "│ BLACKROCK US CORE   ┆ 1    ┆ [\"97MSCRP36\"] ┆ [null]             ┆ [null]             ┆ 0.068166  │\n",
       "│ PROPERTY FUN…       ┆      ┆               ┆                    ┆                    ┆           │\n",
       "└─────────────────────┴──────┴───────────────┴────────────────────┴────────────────────┴───────────┘"
      ]
     },
     "metadata": {},
     "output_type": "display_data"
    },
    {
     "name": "stdout",
     "output_type": "stream",
     "text": [
      "Normalized -- NO INTRA (n=1468)\n"
     ]
    },
    {
     "data": {
      "text/html": [
       "<div><style>\n",
       ".dataframe > thead > tr,\n",
       ".dataframe > tbody > tr {\n",
       "  text-align: right;\n",
       "  white-space: pre-wrap;\n",
       "}\n",
       "</style>\n",
       "<small>shape: (24, 6)</small><table border=\"1\" class=\"dataframe\"><thead><tr><th>issuer_name</th><th>len</th><th>cusip</th><th>isin</th><th>figi</th><th>% of obs</th></tr><tr><td>str</td><td>u32</td><td>list[str]</td><td>list[str]</td><td>list[str]</td><td>f64</td></tr></thead><tbody><tr><td>&quot;BLACKROCK, INC.&quot;</td><td>1244</td><td>[&quot;717081103&quot;, &quot;09247X101&quot;]</td><td>[&quot;US09247X1019&quot;, &quot;US7170811035&quot;]</td><td>[&quot;BBG000C2PW58&quot;, &quot;BBG000BR2B91&quot;]</td><td>84.741144</td></tr><tr><td>&quot;BLACKROCK FUNDS&quot;</td><td>63</td><td>[&quot;09260E105&quot;]</td><td>[&quot;US09255R2022&quot;]</td><td>[&quot;BBG000BDC193&quot;]</td><td>4.291553</td></tr><tr><td>&quot;BLACKROCK VARIABLE SERIES FUND…</td><td>16</td><td>[&quot;09258X107&quot;]</td><td>[&quot;US09258X1072&quot;]</td><td>[null]</td><td>1.089918</td></tr><tr><td>&quot;BLACKROCK ESG CAPITAL ALLOCATI…</td><td>16</td><td>[&quot;09262F100&quot;]</td><td>[&quot;US09262F1003&quot;]</td><td>[null]</td><td>1.089918</td></tr><tr><td>&quot;BLACKROCK TCP CAPITAL CORP.&quot;</td><td>15</td><td>[&quot;09259E108&quot;]</td><td>[&quot;US09259E1082&quot;]</td><td>[null]</td><td>1.021798</td></tr><tr><td>&hellip;</td><td>&hellip;</td><td>&hellip;</td><td>&hellip;</td><td>&hellip;</td><td>&hellip;</td></tr><tr><td>&quot;BLACKROCK MUNICIPAL INCOME TRU…</td><td>4</td><td>[&quot;09249N101&quot;]</td><td>[&quot;US09249N1019&quot;]</td><td>[&quot;BBG000NWS486&quot;]</td><td>0.27248</td></tr><tr><td>&quot;BLACKROCK FLOATING RATE INC PO…</td><td>4</td><td>[&quot;09260B762&quot;]</td><td>[null]</td><td>[null]</td><td>0.27248</td></tr><tr><td>&quot;BLACKROCK MUNICIPAL INCOME TRU…</td><td>3</td><td>[&quot;09248F109&quot;]</td><td>[&quot;US09248F1093&quot;]</td><td>[null]</td><td>0.20436</td></tr><tr><td>&quot;BLACKROCK CREDIT ALLOCATION, I…</td><td>3</td><td>[&quot;092508100&quot;]</td><td>[&quot;US0925081004&quot;]</td><td>[&quot;BBG000QHYF20&quot;]</td><td>0.20436</td></tr><tr><td>&quot;BLACKROCK US CORE PROPERTY FUN…</td><td>1</td><td>[&quot;97MSCRP36&quot;]</td><td>[null]</td><td>[null]</td><td>0.06812</td></tr></tbody></table></div>"
      ],
      "text/plain": [
       "shape: (24, 6)\n",
       "┌─────────────────────┬──────┬───────────────┬────────────────────┬────────────────────┬───────────┐\n",
       "│ issuer_name         ┆ len  ┆ cusip         ┆ isin               ┆ figi               ┆ % of obs  │\n",
       "│ ---                 ┆ ---  ┆ ---           ┆ ---                ┆ ---                ┆ ---       │\n",
       "│ str                 ┆ u32  ┆ list[str]     ┆ list[str]          ┆ list[str]          ┆ f64       │\n",
       "╞═════════════════════╪══════╪═══════════════╪════════════════════╪════════════════════╪═══════════╡\n",
       "│ BLACKROCK, INC.     ┆ 1244 ┆ [\"717081103\", ┆ [\"US09247X1019\",   ┆ [\"BBG000C2PW58\",   ┆ 84.741144 │\n",
       "│                     ┆      ┆ \"09247X101\"]  ┆ \"US7170811035…     ┆ \"BBG000BR2B91…     ┆           │\n",
       "│ BLACKROCK FUNDS     ┆ 63   ┆ [\"09260E105\"] ┆ [\"US09255R2022\"]   ┆ [\"BBG000BDC193\"]   ┆ 4.291553  │\n",
       "│ BLACKROCK VARIABLE  ┆ 16   ┆ [\"09258X107\"] ┆ [\"US09258X1072\"]   ┆ [null]             ┆ 1.089918  │\n",
       "│ SERIES FUND…        ┆      ┆               ┆                    ┆                    ┆           │\n",
       "│ BLACKROCK ESG       ┆ 16   ┆ [\"09262F100\"] ┆ [\"US09262F1003\"]   ┆ [null]             ┆ 1.089918  │\n",
       "│ CAPITAL ALLOCATI…   ┆      ┆               ┆                    ┆                    ┆           │\n",
       "│ BLACKROCK TCP       ┆ 15   ┆ [\"09259E108\"] ┆ [\"US09259E1082\"]   ┆ [null]             ┆ 1.021798  │\n",
       "│ CAPITAL CORP.       ┆      ┆               ┆                    ┆                    ┆           │\n",
       "│ …                   ┆ …    ┆ …             ┆ …                  ┆ …                  ┆ …         │\n",
       "│ BLACKROCK MUNICIPAL ┆ 4    ┆ [\"09249N101\"] ┆ [\"US09249N1019\"]   ┆ [\"BBG000NWS486\"]   ┆ 0.27248   │\n",
       "│ INCOME TRU…         ┆      ┆               ┆                    ┆                    ┆           │\n",
       "│ BLACKROCK FLOATING  ┆ 4    ┆ [\"09260B762\"] ┆ [null]             ┆ [null]             ┆ 0.27248   │\n",
       "│ RATE INC PO…        ┆      ┆               ┆                    ┆                    ┆           │\n",
       "│ BLACKROCK MUNICIPAL ┆ 3    ┆ [\"09248F109\"] ┆ [\"US09248F1093\"]   ┆ [null]             ┆ 0.20436   │\n",
       "│ INCOME TRU…         ┆      ┆               ┆                    ┆                    ┆           │\n",
       "│ BLACKROCK CREDIT    ┆ 3    ┆ [\"092508100\"] ┆ [\"US0925081004\"]   ┆ [\"BBG000QHYF20\"]   ┆ 0.20436   │\n",
       "│ ALLOCATION, I…      ┆      ┆               ┆                    ┆                    ┆           │\n",
       "│ BLACKROCK US CORE   ┆ 1    ┆ [\"97MSCRP36\"] ┆ [null]             ┆ [null]             ┆ 0.06812   │\n",
       "│ PROPERTY FUN…       ┆      ┆               ┆                    ┆                    ┆           │\n",
       "└─────────────────────┴──────┴───────────────┴────────────────────┴────────────────────┴───────────┘"
      ]
     },
     "metadata": {},
     "output_type": "display_data"
    },
    {
     "name": "stdout",
     "output_type": "stream",
     "text": [
      "Consolidation Fodder:\n"
     ]
    },
    {
     "data": {
      "text/html": [
       "<div>\n",
       "<style scoped>\n",
       "    .dataframe tbody tr th:only-of-type {\n",
       "        vertical-align: middle;\n",
       "    }\n",
       "\n",
       "    .dataframe tbody tr th {\n",
       "        vertical-align: top;\n",
       "    }\n",
       "\n",
       "    .dataframe thead th {\n",
       "        text-align: right;\n",
       "    }\n",
       "</style>\n",
       "<table border=\"1\" class=\"dataframe\">\n",
       "  <thead>\n",
       "    <tr style=\"text-align: right;\">\n",
       "      <th></th>\n",
       "      <th>issuer_name</th>\n",
       "      <th>count</th>\n",
       "    </tr>\n",
       "  </thead>\n",
       "  <tbody>\n",
       "    <tr>\n",
       "      <th>0</th>\n",
       "      <td>BLACKROCK, INC.</td>\n",
       "      <td>696</td>\n",
       "    </tr>\n",
       "    <tr>\n",
       "      <th>1</th>\n",
       "      <td>BlackRock, Inc.</td>\n",
       "      <td>456</td>\n",
       "    </tr>\n",
       "    <tr>\n",
       "      <th>2</th>\n",
       "      <td>BLACKROCK INC</td>\n",
       "      <td>46</td>\n",
       "    </tr>\n",
       "    <tr>\n",
       "      <th>3</th>\n",
       "      <td>BlackRock Funds</td>\n",
       "      <td>44</td>\n",
       "    </tr>\n",
       "    <tr>\n",
       "      <th>4</th>\n",
       "      <td>Blackrock</td>\n",
       "      <td>22</td>\n",
       "    </tr>\n",
       "    <tr>\n",
       "      <th>5</th>\n",
       "      <td>BLACKROCK ESG CAPITAL ALLOCATION</td>\n",
       "      <td>16</td>\n",
       "    </tr>\n",
       "    <tr>\n",
       "      <th>6</th>\n",
       "      <td>BlackRock Variable Series Funds II, Inc.</td>\n",
       "      <td>16</td>\n",
       "    </tr>\n",
       "    <tr>\n",
       "      <th>7</th>\n",
       "      <td>BLACKROCK TCP CAPITAL CORP.</td>\n",
       "      <td>15</td>\n",
       "    </tr>\n",
       "    <tr>\n",
       "      <th>8</th>\n",
       "      <td>BLACKROCK CAPITAL ALLOCATION TRUST</td>\n",
       "      <td>12</td>\n",
       "    </tr>\n",
       "    <tr>\n",
       "      <th>9</th>\n",
       "      <td>BLACKROCK MUNIYIELD FUND</td>\n",
       "      <td>9</td>\n",
       "    </tr>\n",
       "    <tr>\n",
       "      <th>10</th>\n",
       "      <td>BLACKROCK HEALTH SCIENCES</td>\n",
       "      <td>8</td>\n",
       "    </tr>\n",
       "    <tr>\n",
       "      <th>11</th>\n",
       "      <td>BLACKROCK DEBT STRATEGIES FD INC</td>\n",
       "      <td>8</td>\n",
       "    </tr>\n",
       "    <tr>\n",
       "      <th>12</th>\n",
       "      <td>BLACKROCK FLOATING RATE INCOME TRUST</td>\n",
       "      <td>8</td>\n",
       "    </tr>\n",
       "    <tr>\n",
       "      <th>13</th>\n",
       "      <td>BLACKROCK GLOBAL ENERGY &amp; RESOURCES</td>\n",
       "      <td>8</td>\n",
       "    </tr>\n",
       "    <tr>\n",
       "      <th>14</th>\n",
       "      <td>Blackrock, Inc.</td>\n",
       "      <td>8</td>\n",
       "    </tr>\n",
       "    <tr>\n",
       "      <th>15</th>\n",
       "      <td>Blackrock Inc.</td>\n",
       "      <td>7</td>\n",
       "    </tr>\n",
       "    <tr>\n",
       "      <th>16</th>\n",
       "      <td>BLACKROCK MUNICIPAL TARGET</td>\n",
       "      <td>6</td>\n",
       "    </tr>\n",
       "    <tr>\n",
       "      <th>17</th>\n",
       "      <td>BLACKROCK MUNIYIELD INSURED FUND</td>\n",
       "      <td>6</td>\n",
       "    </tr>\n",
       "    <tr>\n",
       "      <th>18</th>\n",
       "      <td>BLACKROCK MUNIHOLDINGS FUND, INC</td>\n",
       "      <td>6</td>\n",
       "    </tr>\n",
       "    <tr>\n",
       "      <th>19</th>\n",
       "      <td>BLACKROCK MUNIVEST FUND II, INC.</td>\n",
       "      <td>6</td>\n",
       "    </tr>\n",
       "    <tr>\n",
       "      <th>20</th>\n",
       "      <td>BLACKROCK MUNIVEST FUND INC</td>\n",
       "      <td>6</td>\n",
       "    </tr>\n",
       "    <tr>\n",
       "      <th>21</th>\n",
       "      <td>BLACKROCK MUNIYIELD QUALITY FUND</td>\n",
       "      <td>6</td>\n",
       "    </tr>\n",
       "    <tr>\n",
       "      <th>22</th>\n",
       "      <td>BlackRock Taxable Municipal Bond Trust</td>\n",
       "      <td>6</td>\n",
       "    </tr>\n",
       "    <tr>\n",
       "      <th>23</th>\n",
       "      <td>BLACKROCK MUNI INTER DURATION FD INC</td>\n",
       "      <td>4</td>\n",
       "    </tr>\n",
       "    <tr>\n",
       "      <th>24</th>\n",
       "      <td>BlackRock Munivest Fund, Inc.</td>\n",
       "      <td>4</td>\n",
       "    </tr>\n",
       "    <tr>\n",
       "      <th>25</th>\n",
       "      <td>BlackRock Municipal Income Trust II</td>\n",
       "      <td>4</td>\n",
       "    </tr>\n",
       "    <tr>\n",
       "      <th>26</th>\n",
       "      <td>Blackrock High Yield Bond Port</td>\n",
       "      <td>4</td>\n",
       "    </tr>\n",
       "    <tr>\n",
       "      <th>27</th>\n",
       "      <td>Blackrock NY Muni Opp Funds A1</td>\n",
       "      <td>4</td>\n",
       "    </tr>\n",
       "    <tr>\n",
       "      <th>28</th>\n",
       "      <td>Blackrock Floating Rate Inc Port</td>\n",
       "      <td>4</td>\n",
       "    </tr>\n",
       "    <tr>\n",
       "      <th>29</th>\n",
       "      <td>Blackrock High Yield Bond Port K</td>\n",
       "      <td>4</td>\n",
       "    </tr>\n",
       "    <tr>\n",
       "      <th>30</th>\n",
       "      <td>BlackRock</td>\n",
       "      <td>3</td>\n",
       "    </tr>\n",
       "    <tr>\n",
       "      <th>31</th>\n",
       "      <td>BlackRock Income Trust</td>\n",
       "      <td>3</td>\n",
       "    </tr>\n",
       "    <tr>\n",
       "      <th>32</th>\n",
       "      <td>BlackRock Credit Allocation, Inc.</td>\n",
       "      <td>3</td>\n",
       "    </tr>\n",
       "    <tr>\n",
       "      <th>33</th>\n",
       "      <td>BLACKROCK MUNICIPAL INCOME TRUST</td>\n",
       "      <td>3</td>\n",
       "    </tr>\n",
       "    <tr>\n",
       "      <th>34</th>\n",
       "      <td>BLACKROCK, INC</td>\n",
       "      <td>2</td>\n",
       "    </tr>\n",
       "    <tr>\n",
       "      <th>35</th>\n",
       "      <td>BlackRock Inc</td>\n",
       "      <td>1</td>\n",
       "    </tr>\n",
       "    <tr>\n",
       "      <th>36</th>\n",
       "      <td>BLK</td>\n",
       "      <td>1</td>\n",
       "    </tr>\n",
       "    <tr>\n",
       "      <th>37</th>\n",
       "      <td>BlackRock US Core Property Fund, L.P.</td>\n",
       "      <td>1</td>\n",
       "    </tr>\n",
       "    <tr>\n",
       "      <th>38</th>\n",
       "      <td>BLACKROCK</td>\n",
       "      <td>1</td>\n",
       "    </tr>\n",
       "  </tbody>\n",
       "</table>\n",
       "</div>"
      ],
      "text/plain": [
       "                                 issuer_name  count\n",
       "0                            BLACKROCK, INC.    696\n",
       "1                            BlackRock, Inc.    456\n",
       "2                              BLACKROCK INC     46\n",
       "3                            BlackRock Funds     44\n",
       "4                                  Blackrock     22\n",
       "5           BLACKROCK ESG CAPITAL ALLOCATION     16\n",
       "6   BlackRock Variable Series Funds II, Inc.     16\n",
       "7                BLACKROCK TCP CAPITAL CORP.     15\n",
       "8         BLACKROCK CAPITAL ALLOCATION TRUST     12\n",
       "9                   BLACKROCK MUNIYIELD FUND      9\n",
       "10                 BLACKROCK HEALTH SCIENCES      8\n",
       "11          BLACKROCK DEBT STRATEGIES FD INC      8\n",
       "12      BLACKROCK FLOATING RATE INCOME TRUST      8\n",
       "13       BLACKROCK GLOBAL ENERGY & RESOURCES      8\n",
       "14                           Blackrock, Inc.      8\n",
       "15                            Blackrock Inc.      7\n",
       "16                BLACKROCK MUNICIPAL TARGET      6\n",
       "17          BLACKROCK MUNIYIELD INSURED FUND      6\n",
       "18          BLACKROCK MUNIHOLDINGS FUND, INC      6\n",
       "19          BLACKROCK MUNIVEST FUND II, INC.      6\n",
       "20               BLACKROCK MUNIVEST FUND INC      6\n",
       "21          BLACKROCK MUNIYIELD QUALITY FUND      6\n",
       "22    BlackRock Taxable Municipal Bond Trust      6\n",
       "23      BLACKROCK MUNI INTER DURATION FD INC      4\n",
       "24             BlackRock Munivest Fund, Inc.      4\n",
       "25       BlackRock Municipal Income Trust II      4\n",
       "26            Blackrock High Yield Bond Port      4\n",
       "27            Blackrock NY Muni Opp Funds A1      4\n",
       "28          Blackrock Floating Rate Inc Port      4\n",
       "29          Blackrock High Yield Bond Port K      4\n",
       "30                                 BlackRock      3\n",
       "31                    BlackRock Income Trust      3\n",
       "32         BlackRock Credit Allocation, Inc.      3\n",
       "33          BLACKROCK MUNICIPAL INCOME TRUST      3\n",
       "34                            BLACKROCK, INC      2\n",
       "35                             BlackRock Inc      1\n",
       "36                                       BLK      1\n",
       "37     BlackRock US Core Property Fund, L.P.      1\n",
       "38                                BLACKROCK       1"
      ]
     },
     "metadata": {},
     "output_type": "display_data"
    },
    {
     "name": "stdout",
     "output_type": "stream",
     "text": [
      "************************************************************ SUNCOR ************************************************************\n",
      "Un-Normalized (n=265)\n"
     ]
    },
    {
     "data": {
      "text/html": [
       "<div><style>\n",
       ".dataframe > thead > tr,\n",
       ".dataframe > tbody > tr {\n",
       "  text-align: right;\n",
       "  white-space: pre-wrap;\n",
       "}\n",
       "</style>\n",
       "<small>shape: (6, 6)</small><table border=\"1\" class=\"dataframe\"><thead><tr><th>issuer_name</th><th>len</th><th>cusip</th><th>isin</th><th>figi</th><th>% of obs</th></tr><tr><td>str</td><td>u32</td><td>list[str]</td><td>list[str]</td><td>list[str]</td><td>f64</td></tr></thead><tbody><tr><td>&quot;SUNCOR ENERGY INC.&quot;</td><td>148</td><td>[null, &quot;867224107&quot;]</td><td>[null, &quot;CA8672241079&quot;]</td><td>[null]</td><td>55.849057</td></tr><tr><td>&quot;Suncor Energy Inc.&quot;</td><td>65</td><td>[&quot;867229106&quot;, null, &quot;867224107&quot;]</td><td>[&quot;CA8672241079&quot;, null]</td><td>[null]</td><td>24.528302</td></tr><tr><td>&quot;SUNCOR ENERGY INC&quot;</td><td>36</td><td>[&quot;867224107&quot;]</td><td>[&quot;CA8672241079&quot;, null]</td><td>[&quot;BBG000BRK7L6&quot;, null]</td><td>13.584906</td></tr><tr><td>&quot;SUNCORP GROUP LTD&quot;</td><td>12</td><td>[&quot;Q8802S103&quot;, &quot;Q88040110&quot;]</td><td>[&quot;AU000000SUN6&quot;]</td><td>[null]</td><td>4.528302</td></tr><tr><td>&quot;Suncor Energy, Inc.&quot;</td><td>2</td><td>[&quot;867224107&quot;]</td><td>[&quot;CA8672241079&quot;, null]</td><td>[null]</td><td>0.754717</td></tr><tr><td>&quot;Suncor Energy Inc&quot;</td><td>2</td><td>[&quot;867224107&quot;]</td><td>[&quot;CA8672241079&quot;, null]</td><td>[null]</td><td>0.754717</td></tr></tbody></table></div>"
      ],
      "text/plain": [
       "shape: (6, 6)\n",
       "┌────────────────────┬─────┬───────────────────┬───────────────────┬───────────────────┬───────────┐\n",
       "│ issuer_name        ┆ len ┆ cusip             ┆ isin              ┆ figi              ┆ % of obs  │\n",
       "│ ---                ┆ --- ┆ ---               ┆ ---               ┆ ---               ┆ ---       │\n",
       "│ str                ┆ u32 ┆ list[str]         ┆ list[str]         ┆ list[str]         ┆ f64       │\n",
       "╞════════════════════╪═════╪═══════════════════╪═══════════════════╪═══════════════════╪═══════════╡\n",
       "│ SUNCOR ENERGY INC. ┆ 148 ┆ [null,            ┆ [null,            ┆ [null]            ┆ 55.849057 │\n",
       "│                    ┆     ┆ \"867224107\"]      ┆ \"CA8672241079\"]   ┆                   ┆           │\n",
       "│ Suncor Energy Inc. ┆ 65  ┆ [\"867229106\",     ┆ [\"CA8672241079\",  ┆ [null]            ┆ 24.528302 │\n",
       "│                    ┆     ┆ null, \"867224107… ┆ null]             ┆                   ┆           │\n",
       "│ SUNCOR ENERGY INC  ┆ 36  ┆ [\"867224107\"]     ┆ [\"CA8672241079\",  ┆ [\"BBG000BRK7L6\",  ┆ 13.584906 │\n",
       "│                    ┆     ┆                   ┆ null]             ┆ null]             ┆           │\n",
       "│ SUNCORP GROUP LTD  ┆ 12  ┆ [\"Q8802S103\",     ┆ [\"AU000000SUN6\"]  ┆ [null]            ┆ 4.528302  │\n",
       "│                    ┆     ┆ \"Q88040110\"]      ┆                   ┆                   ┆           │\n",
       "│ Suncor Energy,     ┆ 2   ┆ [\"867224107\"]     ┆ [\"CA8672241079\",  ┆ [null]            ┆ 0.754717  │\n",
       "│ Inc.               ┆     ┆                   ┆ null]             ┆                   ┆           │\n",
       "│ Suncor Energy Inc  ┆ 2   ┆ [\"867224107\"]     ┆ [\"CA8672241079\",  ┆ [null]            ┆ 0.754717  │\n",
       "│                    ┆     ┆                   ┆ null]             ┆                   ┆           │\n",
       "└────────────────────┴─────┴───────────────────┴───────────────────┴───────────────────┴───────────┘"
      ]
     },
     "metadata": {},
     "output_type": "display_data"
    },
    {
     "name": "stdout",
     "output_type": "stream",
     "text": [
      "Normalized -- INTRA (n=265)\n"
     ]
    },
    {
     "data": {
      "text/html": [
       "<div><style>\n",
       ".dataframe > thead > tr,\n",
       ".dataframe > tbody > tr {\n",
       "  text-align: right;\n",
       "  white-space: pre-wrap;\n",
       "}\n",
       "</style>\n",
       "<small>shape: (2, 6)</small><table border=\"1\" class=\"dataframe\"><thead><tr><th>issuer_name</th><th>len</th><th>cusip</th><th>isin</th><th>figi</th><th>% of obs</th></tr><tr><td>str</td><td>u32</td><td>list[str]</td><td>list[str]</td><td>list[str]</td><td>f64</td></tr></thead><tbody><tr><td>&quot;SUNCOR ENERGY INC.&quot;</td><td>253</td><td>[&quot;867224107&quot;]</td><td>[&quot;CA8672241079&quot;]</td><td>[&quot;BBG000BRK7L6&quot;]</td><td>95.471698</td></tr><tr><td>&quot;SUNCORP GROUP LTD&quot;</td><td>12</td><td>[&quot;Q88040110&quot;]</td><td>[&quot;AU000000SUN6&quot;]</td><td>[null]</td><td>4.528302</td></tr></tbody></table></div>"
      ],
      "text/plain": [
       "shape: (2, 6)\n",
       "┌────────────────────┬─────┬───────────────┬──────────────────┬──────────────────┬───────────┐\n",
       "│ issuer_name        ┆ len ┆ cusip         ┆ isin             ┆ figi             ┆ % of obs  │\n",
       "│ ---                ┆ --- ┆ ---           ┆ ---              ┆ ---              ┆ ---       │\n",
       "│ str                ┆ u32 ┆ list[str]     ┆ list[str]        ┆ list[str]        ┆ f64       │\n",
       "╞════════════════════╪═════╪═══════════════╪══════════════════╪══════════════════╪═══════════╡\n",
       "│ SUNCOR ENERGY INC. ┆ 253 ┆ [\"867224107\"] ┆ [\"CA8672241079\"] ┆ [\"BBG000BRK7L6\"] ┆ 95.471698 │\n",
       "│ SUNCORP GROUP LTD  ┆ 12  ┆ [\"Q88040110\"] ┆ [\"AU000000SUN6\"] ┆ [null]           ┆ 4.528302  │\n",
       "└────────────────────┴─────┴───────────────┴──────────────────┴──────────────────┴───────────┘"
      ]
     },
     "metadata": {},
     "output_type": "display_data"
    },
    {
     "name": "stdout",
     "output_type": "stream",
     "text": [
      "Normalized -- NO INTRA (n=265)\n"
     ]
    },
    {
     "data": {
      "text/html": [
       "<div><style>\n",
       ".dataframe > thead > tr,\n",
       ".dataframe > tbody > tr {\n",
       "  text-align: right;\n",
       "  white-space: pre-wrap;\n",
       "}\n",
       "</style>\n",
       "<small>shape: (2, 6)</small><table border=\"1\" class=\"dataframe\"><thead><tr><th>issuer_name</th><th>len</th><th>cusip</th><th>isin</th><th>figi</th><th>% of obs</th></tr><tr><td>str</td><td>u32</td><td>list[str]</td><td>list[str]</td><td>list[str]</td><td>f64</td></tr></thead><tbody><tr><td>&quot;SUNCOR ENERGY INC.&quot;</td><td>253</td><td>[&quot;867224107&quot;]</td><td>[&quot;CA8672241079&quot;]</td><td>[&quot;BBG000BRK7L6&quot;]</td><td>95.471698</td></tr><tr><td>&quot;SUNCORP GROUP LTD&quot;</td><td>12</td><td>[&quot;Q88040110&quot;]</td><td>[&quot;AU000000SUN6&quot;]</td><td>[null]</td><td>4.528302</td></tr></tbody></table></div>"
      ],
      "text/plain": [
       "shape: (2, 6)\n",
       "┌────────────────────┬─────┬───────────────┬──────────────────┬──────────────────┬───────────┐\n",
       "│ issuer_name        ┆ len ┆ cusip         ┆ isin             ┆ figi             ┆ % of obs  │\n",
       "│ ---                ┆ --- ┆ ---           ┆ ---              ┆ ---              ┆ ---       │\n",
       "│ str                ┆ u32 ┆ list[str]     ┆ list[str]        ┆ list[str]        ┆ f64       │\n",
       "╞════════════════════╪═════╪═══════════════╪══════════════════╪══════════════════╪═══════════╡\n",
       "│ SUNCOR ENERGY INC. ┆ 253 ┆ [\"867224107\"] ┆ [\"CA8672241079\"] ┆ [\"BBG000BRK7L6\"] ┆ 95.471698 │\n",
       "│ SUNCORP GROUP LTD  ┆ 12  ┆ [\"Q88040110\"] ┆ [\"AU000000SUN6\"] ┆ [null]           ┆ 4.528302  │\n",
       "└────────────────────┴─────┴───────────────┴──────────────────┴──────────────────┴───────────┘"
      ]
     },
     "metadata": {},
     "output_type": "display_data"
    },
    {
     "name": "stdout",
     "output_type": "stream",
     "text": [
      "Consolidation Fodder:\n"
     ]
    },
    {
     "data": {
      "text/html": [
       "<div>\n",
       "<style scoped>\n",
       "    .dataframe tbody tr th:only-of-type {\n",
       "        vertical-align: middle;\n",
       "    }\n",
       "\n",
       "    .dataframe tbody tr th {\n",
       "        vertical-align: top;\n",
       "    }\n",
       "\n",
       "    .dataframe thead th {\n",
       "        text-align: right;\n",
       "    }\n",
       "</style>\n",
       "<table border=\"1\" class=\"dataframe\">\n",
       "  <thead>\n",
       "    <tr style=\"text-align: right;\">\n",
       "      <th></th>\n",
       "      <th>issuer_name</th>\n",
       "      <th>count</th>\n",
       "    </tr>\n",
       "  </thead>\n",
       "  <tbody>\n",
       "    <tr>\n",
       "      <th>0</th>\n",
       "      <td>SUNCOR ENERGY INC.</td>\n",
       "      <td>148</td>\n",
       "    </tr>\n",
       "    <tr>\n",
       "      <th>1</th>\n",
       "      <td>Suncor Energy Inc.</td>\n",
       "      <td>65</td>\n",
       "    </tr>\n",
       "    <tr>\n",
       "      <th>2</th>\n",
       "      <td>SUNCOR ENERGY INC</td>\n",
       "      <td>36</td>\n",
       "    </tr>\n",
       "    <tr>\n",
       "      <th>3</th>\n",
       "      <td>SUNCORP GROUP LTD</td>\n",
       "      <td>12</td>\n",
       "    </tr>\n",
       "    <tr>\n",
       "      <th>4</th>\n",
       "      <td>Suncor Energy, Inc.</td>\n",
       "      <td>2</td>\n",
       "    </tr>\n",
       "    <tr>\n",
       "      <th>5</th>\n",
       "      <td>Suncor Energy Inc</td>\n",
       "      <td>2</td>\n",
       "    </tr>\n",
       "  </tbody>\n",
       "</table>\n",
       "</div>"
      ],
      "text/plain": [
       "           issuer_name  count\n",
       "0   SUNCOR ENERGY INC.    148\n",
       "1   Suncor Energy Inc.     65\n",
       "2    SUNCOR ENERGY INC     36\n",
       "3    SUNCORP GROUP LTD     12\n",
       "4  Suncor Energy, Inc.      2\n",
       "5    Suncor Energy Inc      2"
      ]
     },
     "metadata": {},
     "output_type": "display_data"
    },
    {
     "name": "stdout",
     "output_type": "stream",
     "text": [
      "************************************************************ CONOCO ************************************************************\n",
      "Un-Normalized (n=1251)\n"
     ]
    },
    {
     "data": {
      "text/html": [
       "<div><style>\n",
       ".dataframe > thead > tr,\n",
       ".dataframe > tbody > tr {\n",
       "  text-align: right;\n",
       "  white-space: pre-wrap;\n",
       "}\n",
       "</style>\n",
       "<small>shape: (7, 6)</small><table border=\"1\" class=\"dataframe\"><thead><tr><th>issuer_name</th><th>len</th><th>cusip</th><th>isin</th><th>figi</th><th>% of obs</th></tr><tr><td>str</td><td>u32</td><td>list[str]</td><td>list[str]</td><td>list[str]</td><td>f64</td></tr></thead><tbody><tr><td>&quot;CONOCOPHILLIPS&quot;</td><td>682</td><td>[null, &quot;20825C104&quot;, … &quot;20852C104&quot;]</td><td>[null, &quot;US20825C1045&quot;]</td><td>[null, &quot;BBG000BQQH30&quot;]</td><td>54.516387</td></tr><tr><td>&quot;ConocoPhillips&quot;</td><td>509</td><td>[null, &quot;20825C104&quot;]</td><td>[&quot;US20825C1045&quot;, null]</td><td>[null, &quot;BBG000BQQH30&quot;]</td><td>40.68745</td></tr><tr><td>&quot;CONOCO PHILLIPS&quot;</td><td>48</td><td>[&quot;20825C104&quot;]</td><td>[null]</td><td>[null]</td><td>3.83693</td></tr><tr><td>&quot;Conoco Phillips&quot;</td><td>6</td><td>[null, &quot;20825C104&quot;]</td><td>[&quot;US20825C1045&quot;, null]</td><td>[null]</td><td>0.479616</td></tr><tr><td>&quot;Conocophillips&quot;</td><td>4</td><td>[&quot;20825C104&quot;]</td><td>[null]</td><td>[null]</td><td>0.319744</td></tr><tr><td>&quot;CONOCO PHILLIPS &quot;</td><td>1</td><td>[&quot;20825C104&quot;]</td><td>[&quot;US20825C1045&quot;]</td><td>[null]</td><td>0.079936</td></tr><tr><td>&quot;CONOCOPHILLIPS COM&quot;</td><td>1</td><td>[&quot;20825C104&quot;]</td><td>[&quot;US20825C1045&quot;]</td><td>[null]</td><td>0.079936</td></tr></tbody></table></div>"
      ],
      "text/plain": [
       "shape: (7, 6)\n",
       "┌────────────────────┬─────┬────────────────┬──────────────────┬─────────────────┬───────────┐\n",
       "│ issuer_name        ┆ len ┆ cusip          ┆ isin             ┆ figi            ┆ % of obs  │\n",
       "│ ---                ┆ --- ┆ ---            ┆ ---              ┆ ---             ┆ ---       │\n",
       "│ str                ┆ u32 ┆ list[str]      ┆ list[str]        ┆ list[str]       ┆ f64       │\n",
       "╞════════════════════╪═════╪════════════════╪══════════════════╪═════════════════╪═══════════╡\n",
       "│ CONOCOPHILLIPS     ┆ 682 ┆ [null,         ┆ [null,           ┆ [null,          ┆ 54.516387 │\n",
       "│                    ┆     ┆ \"20825C104\", … ┆ \"US20825C1045\"]  ┆ \"BBG000BQQH30\"] ┆           │\n",
       "│                    ┆     ┆ \"20852C1…      ┆                  ┆                 ┆           │\n",
       "│ ConocoPhillips     ┆ 509 ┆ [null,         ┆ [\"US20825C1045\", ┆ [null,          ┆ 40.68745  │\n",
       "│                    ┆     ┆ \"20825C104\"]   ┆ null]            ┆ \"BBG000BQQH30\"] ┆           │\n",
       "│ CONOCO PHILLIPS    ┆ 48  ┆ [\"20825C104\"]  ┆ [null]           ┆ [null]          ┆ 3.83693   │\n",
       "│ Conoco Phillips    ┆ 6   ┆ [null,         ┆ [\"US20825C1045\", ┆ [null]          ┆ 0.479616  │\n",
       "│                    ┆     ┆ \"20825C104\"]   ┆ null]            ┆                 ┆           │\n",
       "│ Conocophillips     ┆ 4   ┆ [\"20825C104\"]  ┆ [null]           ┆ [null]          ┆ 0.319744  │\n",
       "│ CONOCO PHILLIPS    ┆ 1   ┆ [\"20825C104\"]  ┆ [\"US20825C1045\"] ┆ [null]          ┆ 0.079936  │\n",
       "│ CONOCOPHILLIPS COM ┆ 1   ┆ [\"20825C104\"]  ┆ [\"US20825C1045\"] ┆ [null]          ┆ 0.079936  │\n",
       "└────────────────────┴─────┴────────────────┴──────────────────┴─────────────────┴───────────┘"
      ]
     },
     "metadata": {},
     "output_type": "display_data"
    },
    {
     "name": "stdout",
     "output_type": "stream",
     "text": [
      "Normalized -- INTRA (n=1252)\n"
     ]
    },
    {
     "data": {
      "text/html": [
       "<div><style>\n",
       ".dataframe > thead > tr,\n",
       ".dataframe > tbody > tr {\n",
       "  text-align: right;\n",
       "  white-space: pre-wrap;\n",
       "}\n",
       "</style>\n",
       "<small>shape: (1, 6)</small><table border=\"1\" class=\"dataframe\"><thead><tr><th>issuer_name</th><th>len</th><th>cusip</th><th>isin</th><th>figi</th><th>% of obs</th></tr><tr><td>str</td><td>u32</td><td>list[str]</td><td>list[str]</td><td>list[str]</td><td>f64</td></tr></thead><tbody><tr><td>&quot;CONOCOPHILLIPS&quot;</td><td>1252</td><td>[&quot;20825C104&quot;]</td><td>[&quot;US20825C1045&quot;]</td><td>[&quot;BBG000BQQH30&quot;]</td><td>100.0</td></tr></tbody></table></div>"
      ],
      "text/plain": [
       "shape: (1, 6)\n",
       "┌────────────────┬──────┬───────────────┬──────────────────┬──────────────────┬──────────┐\n",
       "│ issuer_name    ┆ len  ┆ cusip         ┆ isin             ┆ figi             ┆ % of obs │\n",
       "│ ---            ┆ ---  ┆ ---           ┆ ---              ┆ ---              ┆ ---      │\n",
       "│ str            ┆ u32  ┆ list[str]     ┆ list[str]        ┆ list[str]        ┆ f64      │\n",
       "╞════════════════╪══════╪═══════════════╪══════════════════╪══════════════════╪══════════╡\n",
       "│ CONOCOPHILLIPS ┆ 1252 ┆ [\"20825C104\"] ┆ [\"US20825C1045\"] ┆ [\"BBG000BQQH30\"] ┆ 100.0    │\n",
       "└────────────────┴──────┴───────────────┴──────────────────┴──────────────────┴──────────┘"
      ]
     },
     "metadata": {},
     "output_type": "display_data"
    },
    {
     "name": "stdout",
     "output_type": "stream",
     "text": [
      "Normalized -- NO INTRA (n=1252)\n"
     ]
    },
    {
     "data": {
      "text/html": [
       "<div><style>\n",
       ".dataframe > thead > tr,\n",
       ".dataframe > tbody > tr {\n",
       "  text-align: right;\n",
       "  white-space: pre-wrap;\n",
       "}\n",
       "</style>\n",
       "<small>shape: (1, 6)</small><table border=\"1\" class=\"dataframe\"><thead><tr><th>issuer_name</th><th>len</th><th>cusip</th><th>isin</th><th>figi</th><th>% of obs</th></tr><tr><td>str</td><td>u32</td><td>list[str]</td><td>list[str]</td><td>list[str]</td><td>f64</td></tr></thead><tbody><tr><td>&quot;CONOCOPHILLIPS&quot;</td><td>1252</td><td>[&quot;20825C104&quot;]</td><td>[&quot;US20825C1045&quot;]</td><td>[&quot;BBG000BQQH30&quot;]</td><td>100.0</td></tr></tbody></table></div>"
      ],
      "text/plain": [
       "shape: (1, 6)\n",
       "┌────────────────┬──────┬───────────────┬──────────────────┬──────────────────┬──────────┐\n",
       "│ issuer_name    ┆ len  ┆ cusip         ┆ isin             ┆ figi             ┆ % of obs │\n",
       "│ ---            ┆ ---  ┆ ---           ┆ ---              ┆ ---              ┆ ---      │\n",
       "│ str            ┆ u32  ┆ list[str]     ┆ list[str]        ┆ list[str]        ┆ f64      │\n",
       "╞════════════════╪══════╪═══════════════╪══════════════════╪══════════════════╪══════════╡\n",
       "│ CONOCOPHILLIPS ┆ 1252 ┆ [\"20825C104\"] ┆ [\"US20825C1045\"] ┆ [\"BBG000BQQH30\"] ┆ 100.0    │\n",
       "└────────────────┴──────┴───────────────┴──────────────────┴──────────────────┴──────────┘"
      ]
     },
     "metadata": {},
     "output_type": "display_data"
    },
    {
     "name": "stdout",
     "output_type": "stream",
     "text": [
      "Consolidation Fodder:\n"
     ]
    },
    {
     "data": {
      "text/html": [
       "<div>\n",
       "<style scoped>\n",
       "    .dataframe tbody tr th:only-of-type {\n",
       "        vertical-align: middle;\n",
       "    }\n",
       "\n",
       "    .dataframe tbody tr th {\n",
       "        vertical-align: top;\n",
       "    }\n",
       "\n",
       "    .dataframe thead th {\n",
       "        text-align: right;\n",
       "    }\n",
       "</style>\n",
       "<table border=\"1\" class=\"dataframe\">\n",
       "  <thead>\n",
       "    <tr style=\"text-align: right;\">\n",
       "      <th></th>\n",
       "      <th>issuer_name</th>\n",
       "      <th>count</th>\n",
       "    </tr>\n",
       "  </thead>\n",
       "  <tbody>\n",
       "    <tr>\n",
       "      <th>0</th>\n",
       "      <td>CONOCOPHILLIPS</td>\n",
       "      <td>682</td>\n",
       "    </tr>\n",
       "    <tr>\n",
       "      <th>1</th>\n",
       "      <td>ConocoPhillips</td>\n",
       "      <td>509</td>\n",
       "    </tr>\n",
       "    <tr>\n",
       "      <th>2</th>\n",
       "      <td>CONOCO PHILLIPS</td>\n",
       "      <td>48</td>\n",
       "    </tr>\n",
       "    <tr>\n",
       "      <th>3</th>\n",
       "      <td>Conoco Phillips</td>\n",
       "      <td>6</td>\n",
       "    </tr>\n",
       "    <tr>\n",
       "      <th>4</th>\n",
       "      <td>Conocophillips</td>\n",
       "      <td>4</td>\n",
       "    </tr>\n",
       "    <tr>\n",
       "      <th>5</th>\n",
       "      <td>CONOCOPHILLIPS COM</td>\n",
       "      <td>1</td>\n",
       "    </tr>\n",
       "    <tr>\n",
       "      <th>6</th>\n",
       "      <td>COP</td>\n",
       "      <td>1</td>\n",
       "    </tr>\n",
       "    <tr>\n",
       "      <th>7</th>\n",
       "      <td>CONOCO PHILLIPS</td>\n",
       "      <td>1</td>\n",
       "    </tr>\n",
       "  </tbody>\n",
       "</table>\n",
       "</div>"
      ],
      "text/plain": [
       "          issuer_name  count\n",
       "0      CONOCOPHILLIPS    682\n",
       "1      ConocoPhillips    509\n",
       "2     CONOCO PHILLIPS     48\n",
       "3     Conoco Phillips      6\n",
       "4      Conocophillips      4\n",
       "5  CONOCOPHILLIPS COM      1\n",
       "6                 COP      1\n",
       "7    CONOCO PHILLIPS       1"
      ]
     },
     "metadata": {},
     "output_type": "display_data"
    },
    {
     "name": "stdout",
     "output_type": "stream",
     "text": [
      "************************************************************ PHILLIPS 66 ************************************************************\n",
      "Un-Normalized (n=719)\n"
     ]
    },
    {
     "data": {
      "text/html": [
       "<div><style>\n",
       ".dataframe > thead > tr,\n",
       ".dataframe > tbody > tr {\n",
       "  text-align: right;\n",
       "  white-space: pre-wrap;\n",
       "}\n",
       "</style>\n",
       "<small>shape: (3, 6)</small><table border=\"1\" class=\"dataframe\"><thead><tr><th>issuer_name</th><th>len</th><th>cusip</th><th>isin</th><th>figi</th><th>% of obs</th></tr><tr><td>str</td><td>u32</td><td>list[str]</td><td>list[str]</td><td>list[str]</td><td>f64</td></tr></thead><tbody><tr><td>&quot;PHILLIPS 66&quot;</td><td>420</td><td>[&quot;718546104&quot;, null]</td><td>[&quot;US7185461040&quot;, null]</td><td>[null, &quot;BBG00286S4N9&quot;]</td><td>58.414465</td></tr><tr><td>&quot;Phillips 66&quot;</td><td>298</td><td>[null, &quot;718546104&quot;]</td><td>[null, &quot;US7185461040&quot;]</td><td>[null]</td><td>41.446453</td></tr><tr><td>&quot;Phillips 66 (PSX)&quot;</td><td>1</td><td>[&quot;718546104&quot;]</td><td>[&quot;US7185461040&quot;]</td><td>[null]</td><td>0.139082</td></tr></tbody></table></div>"
      ],
      "text/plain": [
       "shape: (3, 6)\n",
       "┌───────────────────┬─────┬───────────────┬──────────────────┬─────────────────────────┬───────────┐\n",
       "│ issuer_name       ┆ len ┆ cusip         ┆ isin             ┆ figi                    ┆ % of obs  │\n",
       "│ ---               ┆ --- ┆ ---           ┆ ---              ┆ ---                     ┆ ---       │\n",
       "│ str               ┆ u32 ┆ list[str]     ┆ list[str]        ┆ list[str]               ┆ f64       │\n",
       "╞═══════════════════╪═════╪═══════════════╪══════════════════╪═════════════════════════╪═══════════╡\n",
       "│ PHILLIPS 66       ┆ 420 ┆ [\"718546104\", ┆ [\"US7185461040\", ┆ [null, \"BBG00286S4N9\"]  ┆ 58.414465 │\n",
       "│                   ┆     ┆ null]         ┆ null]            ┆                         ┆           │\n",
       "│ Phillips 66       ┆ 298 ┆ [null,        ┆ [null,           ┆ [null]                  ┆ 41.446453 │\n",
       "│                   ┆     ┆ \"718546104\"]  ┆ \"US7185461040\"]  ┆                         ┆           │\n",
       "│ Phillips 66 (PSX) ┆ 1   ┆ [\"718546104\"] ┆ [\"US7185461040\"] ┆ [null]                  ┆ 0.139082  │\n",
       "└───────────────────┴─────┴───────────────┴──────────────────┴─────────────────────────┴───────────┘"
      ]
     },
     "metadata": {},
     "output_type": "display_data"
    },
    {
     "name": "stdout",
     "output_type": "stream",
     "text": [
      "Normalized -- INTRA (n=722)\n"
     ]
    },
    {
     "data": {
      "text/html": [
       "<div><style>\n",
       ".dataframe > thead > tr,\n",
       ".dataframe > tbody > tr {\n",
       "  text-align: right;\n",
       "  white-space: pre-wrap;\n",
       "}\n",
       "</style>\n",
       "<small>shape: (1, 6)</small><table border=\"1\" class=\"dataframe\"><thead><tr><th>issuer_name</th><th>len</th><th>cusip</th><th>isin</th><th>figi</th><th>% of obs</th></tr><tr><td>str</td><td>u32</td><td>list[str]</td><td>list[str]</td><td>list[str]</td><td>f64</td></tr></thead><tbody><tr><td>&quot;PHILLIPS 66&quot;</td><td>722</td><td>[&quot;718546104&quot;]</td><td>[&quot;US7185461040&quot;]</td><td>[&quot;BBG00286S4N9&quot;]</td><td>100.0</td></tr></tbody></table></div>"
      ],
      "text/plain": [
       "shape: (1, 6)\n",
       "┌─────────────┬─────┬───────────────┬──────────────────┬──────────────────┬──────────┐\n",
       "│ issuer_name ┆ len ┆ cusip         ┆ isin             ┆ figi             ┆ % of obs │\n",
       "│ ---         ┆ --- ┆ ---           ┆ ---              ┆ ---              ┆ ---      │\n",
       "│ str         ┆ u32 ┆ list[str]     ┆ list[str]        ┆ list[str]        ┆ f64      │\n",
       "╞═════════════╪═════╪═══════════════╪══════════════════╪══════════════════╪══════════╡\n",
       "│ PHILLIPS 66 ┆ 722 ┆ [\"718546104\"] ┆ [\"US7185461040\"] ┆ [\"BBG00286S4N9\"] ┆ 100.0    │\n",
       "└─────────────┴─────┴───────────────┴──────────────────┴──────────────────┴──────────┘"
      ]
     },
     "metadata": {},
     "output_type": "display_data"
    },
    {
     "name": "stdout",
     "output_type": "stream",
     "text": [
      "Normalized -- NO INTRA (n=722)\n"
     ]
    },
    {
     "data": {
      "text/html": [
       "<div><style>\n",
       ".dataframe > thead > tr,\n",
       ".dataframe > tbody > tr {\n",
       "  text-align: right;\n",
       "  white-space: pre-wrap;\n",
       "}\n",
       "</style>\n",
       "<small>shape: (1, 6)</small><table border=\"1\" class=\"dataframe\"><thead><tr><th>issuer_name</th><th>len</th><th>cusip</th><th>isin</th><th>figi</th><th>% of obs</th></tr><tr><td>str</td><td>u32</td><td>list[str]</td><td>list[str]</td><td>list[str]</td><td>f64</td></tr></thead><tbody><tr><td>&quot;PHILLIPS 66&quot;</td><td>722</td><td>[&quot;718546104&quot;]</td><td>[&quot;US7185461040&quot;]</td><td>[&quot;BBG00286S4N9&quot;]</td><td>100.0</td></tr></tbody></table></div>"
      ],
      "text/plain": [
       "shape: (1, 6)\n",
       "┌─────────────┬─────┬───────────────┬──────────────────┬──────────────────┬──────────┐\n",
       "│ issuer_name ┆ len ┆ cusip         ┆ isin             ┆ figi             ┆ % of obs │\n",
       "│ ---         ┆ --- ┆ ---           ┆ ---              ┆ ---              ┆ ---      │\n",
       "│ str         ┆ u32 ┆ list[str]     ┆ list[str]        ┆ list[str]        ┆ f64      │\n",
       "╞═════════════╪═════╪═══════════════╪══════════════════╪══════════════════╪══════════╡\n",
       "│ PHILLIPS 66 ┆ 722 ┆ [\"718546104\"] ┆ [\"US7185461040\"] ┆ [\"BBG00286S4N9\"] ┆ 100.0    │\n",
       "└─────────────┴─────┴───────────────┴──────────────────┴──────────────────┴──────────┘"
      ]
     },
     "metadata": {},
     "output_type": "display_data"
    },
    {
     "name": "stdout",
     "output_type": "stream",
     "text": [
      "Consolidation Fodder:\n"
     ]
    },
    {
     "data": {
      "text/html": [
       "<div>\n",
       "<style scoped>\n",
       "    .dataframe tbody tr th:only-of-type {\n",
       "        vertical-align: middle;\n",
       "    }\n",
       "\n",
       "    .dataframe tbody tr th {\n",
       "        vertical-align: top;\n",
       "    }\n",
       "\n",
       "    .dataframe thead th {\n",
       "        text-align: right;\n",
       "    }\n",
       "</style>\n",
       "<table border=\"1\" class=\"dataframe\">\n",
       "  <thead>\n",
       "    <tr style=\"text-align: right;\">\n",
       "      <th></th>\n",
       "      <th>issuer_name</th>\n",
       "      <th>count</th>\n",
       "    </tr>\n",
       "  </thead>\n",
       "  <tbody>\n",
       "    <tr>\n",
       "      <th>0</th>\n",
       "      <td>PHILLIPS 66</td>\n",
       "      <td>420</td>\n",
       "    </tr>\n",
       "    <tr>\n",
       "      <th>1</th>\n",
       "      <td>Phillips 66</td>\n",
       "      <td>298</td>\n",
       "    </tr>\n",
       "    <tr>\n",
       "      <th>2</th>\n",
       "      <td>PHILLIPS 73</td>\n",
       "      <td>1</td>\n",
       "    </tr>\n",
       "    <tr>\n",
       "      <th>3</th>\n",
       "      <td>Phillips 68</td>\n",
       "      <td>1</td>\n",
       "    </tr>\n",
       "    <tr>\n",
       "      <th>4</th>\n",
       "      <td>Phillps 66</td>\n",
       "      <td>1</td>\n",
       "    </tr>\n",
       "    <tr>\n",
       "      <th>5</th>\n",
       "      <td>Phillips 66 (PSX)</td>\n",
       "      <td>1</td>\n",
       "    </tr>\n",
       "  </tbody>\n",
       "</table>\n",
       "</div>"
      ],
      "text/plain": [
       "         issuer_name  count\n",
       "0        PHILLIPS 66    420\n",
       "1        Phillips 66    298\n",
       "2        PHILLIPS 73      1\n",
       "3        Phillips 68      1\n",
       "4         Phillps 66      1\n",
       "5  Phillips 66 (PSX)      1"
      ]
     },
     "metadata": {},
     "output_type": "display_data"
    }
   ],
   "source": [
    "for name in (\n",
    "    # normed5[\"issuer_name\"].value_counts(sort=True).head(30).to_series().to_list()\n",
    "    [\n",
    "        \"microsoft\",\n",
    "        \"disney\",\n",
    "        \"amazon\",\n",
    "        \"jpmorgan\",\n",
    "        \"procter\",\n",
    "        \"oracle\",\n",
    "        \"apple\",\n",
    "        \"visa\",\n",
    "        \"exxon\",\n",
    "        \"chevron\",\n",
    "        \"meta platform\",\n",
    "        \"air transport\",\n",
    "        \"bank of america\",\n",
    "        \"blackrock\",\n",
    "        \"suncor\",\n",
    "        \"conoco\",\n",
    "        \"phillips 66\",\n",
    "    ]\n",
    "):\n",
    "    print(\"*\" * 60, name.upper(), \"*\" * 60)\n",
    "    t_unnormalized = (\n",
    "        votes.select(COMPANY_COLS)\n",
    "        .filter(pl.col(\"issuer_name\").str.contains(f\"(?i){name}\"))\n",
    "        .group_by(\"issuer_name\")\n",
    "        .agg(pl.len(), pl.all().unique())\n",
    "        .with_columns((pl.col(\"len\") * 100 / pl.col(\"len\").sum()).alias(\"% of obs\"))\n",
    "        .sort(\"len\", descending=True)\n",
    "    )\n",
    "    print(f\"Un-Normalized (n={t_unnormalized[\"len\"].sum()})\")\n",
    "    display(t_unnormalized)\n",
    "\n",
    "    t_intra = (\n",
    "        normed5_intra.select(COMPANY_COLS)\n",
    "        .filter(pl.col(\"issuer_name\").str.contains(f\"(?i){name}\"))\n",
    "        .group_by(\"issuer_name\")\n",
    "        .agg(pl.len(), pl.all().unique())\n",
    "        .with_columns((pl.col(\"len\") * 100 / pl.col(\"len\").sum()).alias(\"% of obs\"))\n",
    "        .sort(\"len\", descending=True)\n",
    "    )\n",
    "    print(f\"Normalized -- INTRA (n={t_intra[\"len\"].sum()})\")\n",
    "    display(t_intra)\n",
    "\n",
    "    t = (\n",
    "        normed5_NO_intra.select(COMPANY_COLS)\n",
    "        .filter(pl.col(\"issuer_name\").str.contains(f\"(?i){name}\"))\n",
    "        .group_by(\"issuer_name\")\n",
    "        .agg(pl.len(), pl.all().unique())\n",
    "        .with_columns((pl.col(\"len\") * 100 / pl.col(\"len\").sum()).alias(\"% of obs\"))\n",
    "        .sort(\"len\", descending=True)\n",
    "    )\n",
    "    print(f\"Normalized -- NO INTRA (n={t[\"len\"].sum()})\")\n",
    "    display(t)\n",
    "\n",
    "    consolidation_fodder = (\n",
    "        names_comparison.filter(\n",
    "            pl.col(\"normed_issuer_name\").str.contains(f\"(?i){name}\")\n",
    "        )\n",
    "        .select(\"issuer_name\")\n",
    "        .to_series()\n",
    "        .value_counts(sort=True)\n",
    "    )\n",
    "    print(\"Consolidation Fodder:\")\n",
    "    display(consolidation_fodder.to_pandas())"
   ]
  },
  {
   "cell_type": "code",
   "execution_count": null,
   "metadata": {},
   "outputs": [],
   "source": []
  },
  {
   "cell_type": "code",
   "execution_count": null,
   "metadata": {},
   "outputs": [],
   "source": []
  },
  {
   "cell_type": "code",
   "execution_count": null,
   "metadata": {},
   "outputs": [],
   "source": []
  },
  {
   "cell_type": "code",
   "execution_count": null,
   "metadata": {},
   "outputs": [],
   "source": []
  },
  {
   "cell_type": "code",
   "execution_count": null,
   "metadata": {},
   "outputs": [],
   "source": []
  },
  {
   "cell_type": "code",
   "execution_count": null,
   "metadata": {},
   "outputs": [],
   "source": []
  },
  {
   "cell_type": "code",
   "execution_count": null,
   "metadata": {},
   "outputs": [],
   "source": []
  },
  {
   "cell_type": "code",
   "execution_count": null,
   "metadata": {},
   "outputs": [],
   "source": []
  },
  {
   "cell_type": "code",
   "execution_count": null,
   "metadata": {},
   "outputs": [],
   "source": []
  },
  {
   "cell_type": "code",
   "execution_count": null,
   "metadata": {},
   "outputs": [],
   "source": []
  },
  {
   "cell_type": "code",
   "execution_count": null,
   "metadata": {},
   "outputs": [],
   "source": []
  },
  {
   "cell_type": "code",
   "execution_count": null,
   "metadata": {},
   "outputs": [],
   "source": []
  },
  {
   "cell_type": "code",
   "execution_count": null,
   "metadata": {},
   "outputs": [],
   "source": []
  },
  {
   "cell_type": "code",
   "execution_count": null,
   "metadata": {},
   "outputs": [],
   "source": []
  },
  {
   "cell_type": "code",
   "execution_count": null,
   "metadata": {},
   "outputs": [],
   "source": []
  },
  {
   "cell_type": "code",
   "execution_count": null,
   "metadata": {},
   "outputs": [],
   "source": []
  },
  {
   "cell_type": "code",
   "execution_count": null,
   "metadata": {},
   "outputs": [],
   "source": []
  },
  {
   "cell_type": "code",
   "execution_count": null,
   "metadata": {},
   "outputs": [],
   "source": []
  },
  {
   "cell_type": "code",
   "execution_count": 50,
   "metadata": {},
   "outputs": [
    {
     "data": {
      "text/html": [
       "<div><style>\n",
       ".dataframe > thead > tr,\n",
       ".dataframe > tbody > tr {\n",
       "  text-align: right;\n",
       "  white-space: pre-wrap;\n",
       "}\n",
       "</style>\n",
       "<small>shape: (286_424, 4)</small><table border=\"1\" class=\"dataframe\"><thead><tr><th>issuer_name</th><th>cusip</th><th>isin</th><th>figi</th></tr><tr><td>str</td><td>str</td><td>str</td><td>str</td></tr></thead><tbody><tr><td>&quot;AMPHENOL CORPORATION&quot;</td><td>&quot;032095101&quot;</td><td>&quot;US0320951017&quot;</td><td>null</td></tr><tr><td>&quot;THE SHERWIN-WILLIAMS COMPANY&quot;</td><td>&quot;824348106&quot;</td><td>&quot;US8243481061&quot;</td><td>null</td></tr><tr><td>&quot;THE SHERWIN-WILLIAMS COMPANY&quot;</td><td>&quot;824348106&quot;</td><td>&quot;US8243481061&quot;</td><td>null</td></tr><tr><td>&quot;AMPHENOL CORPORATION&quot;</td><td>&quot;032095101&quot;</td><td>&quot;US0320951017&quot;</td><td>null</td></tr><tr><td>&quot;Toast, Inc.&quot;</td><td>&quot;888787108&quot;</td><td>null</td><td>null</td></tr><tr><td>&hellip;</td><td>&hellip;</td><td>&hellip;</td><td>&hellip;</td></tr><tr><td>&quot;INTEL CORPORATION&quot;</td><td>&quot;458140100&quot;</td><td>null</td><td>null</td></tr><tr><td>&quot;THE SHERWIN-WILLIAMS COMPANY&quot;</td><td>&quot;824348106&quot;</td><td>null</td><td>null</td></tr><tr><td>&quot;THE KROGER CO.&quot;</td><td>&quot;501044101&quot;</td><td>null</td><td>null</td></tr><tr><td>&quot;CHOICE HOTELS INTERNATIONAL, I…</td><td>&quot;169905106&quot;</td><td>null</td><td>null</td></tr><tr><td>&quot;HUBBELL INCORPORATED&quot;</td><td>&quot;443510607&quot;</td><td>null</td><td>null</td></tr></tbody></table></div>"
      ],
      "text/plain": [
       "shape: (286_424, 4)\n",
       "┌─────────────────────────────────┬───────────┬──────────────┬──────┐\n",
       "│ issuer_name                     ┆ cusip     ┆ isin         ┆ figi │\n",
       "│ ---                             ┆ ---       ┆ ---          ┆ ---  │\n",
       "│ str                             ┆ str       ┆ str          ┆ str  │\n",
       "╞═════════════════════════════════╪═══════════╪══════════════╪══════╡\n",
       "│ AMPHENOL CORPORATION            ┆ 032095101 ┆ US0320951017 ┆ null │\n",
       "│ THE SHERWIN-WILLIAMS COMPANY    ┆ 824348106 ┆ US8243481061 ┆ null │\n",
       "│ THE SHERWIN-WILLIAMS COMPANY    ┆ 824348106 ┆ US8243481061 ┆ null │\n",
       "│ AMPHENOL CORPORATION            ┆ 032095101 ┆ US0320951017 ┆ null │\n",
       "│ Toast, Inc.                     ┆ 888787108 ┆ null         ┆ null │\n",
       "│ …                               ┆ …         ┆ …            ┆ …    │\n",
       "│ INTEL CORPORATION               ┆ 458140100 ┆ null         ┆ null │\n",
       "│ THE SHERWIN-WILLIAMS COMPANY    ┆ 824348106 ┆ null         ┆ null │\n",
       "│ THE KROGER CO.                  ┆ 501044101 ┆ null         ┆ null │\n",
       "│ CHOICE HOTELS INTERNATIONAL, I… ┆ 169905106 ┆ null         ┆ null │\n",
       "│ HUBBELL INCORPORATED            ┆ 443510607 ┆ null         ┆ null │\n",
       "└─────────────────────────────────┴───────────┴──────────────┴──────┘"
      ]
     },
     "execution_count": 50,
     "metadata": {},
     "output_type": "execute_result"
    }
   ],
   "source": [
    "votes.filter(normed5[\"issuer_name\"] != votes[\"issuer_name\"]).select(COMPANY_COLS)"
   ]
  },
  {
   "cell_type": "code",
   "execution_count": 51,
   "metadata": {},
   "outputs": [
    {
     "data": {
      "text/html": [
       "<div><style>\n",
       ".dataframe > thead > tr,\n",
       ".dataframe > tbody > tr {\n",
       "  text-align: right;\n",
       "  white-space: pre-wrap;\n",
       "}\n",
       "</style>\n",
       "<small>shape: (286_424, 4)</small><table border=\"1\" class=\"dataframe\"><thead><tr><th>issuer_name</th><th>cusip</th><th>isin</th><th>figi</th></tr><tr><td>str</td><td>str</td><td>str</td><td>str</td></tr></thead><tbody><tr><td>&quot;Amphenol Corporation&quot;</td><td>&quot;032095101&quot;</td><td>&quot;US0320951017&quot;</td><td>null</td></tr><tr><td>&quot;The Sherwin-Williams Company&quot;</td><td>&quot;824348106&quot;</td><td>&quot;US8243481061&quot;</td><td>&quot;BBG000BSXQV7&quot;</td></tr><tr><td>&quot;The Sherwin-Williams Company&quot;</td><td>&quot;824348106&quot;</td><td>&quot;US8243481061&quot;</td><td>&quot;BBG000BSXQV7&quot;</td></tr><tr><td>&quot;Amphenol Corporation&quot;</td><td>&quot;032095101&quot;</td><td>&quot;US0320951017&quot;</td><td>null</td></tr><tr><td>&quot;TOAST, INC.&quot;</td><td>&quot;888787108&quot;</td><td>&quot;US8887871080&quot;</td><td>null</td></tr><tr><td>&hellip;</td><td>&hellip;</td><td>&hellip;</td><td>&hellip;</td></tr><tr><td>&quot;Intel Corporation&quot;</td><td>&quot;458140100&quot;</td><td>&quot;US4581401001&quot;</td><td>&quot;BBG000C0G1D1&quot;</td></tr><tr><td>&quot;The Sherwin-Williams Company&quot;</td><td>&quot;824348106&quot;</td><td>&quot;US8243481061&quot;</td><td>&quot;BBG000BSXQV7&quot;</td></tr><tr><td>&quot;The Kroger Co.&quot;</td><td>&quot;501044101&quot;</td><td>&quot;US5010441013&quot;</td><td>&quot;BBG000BMY992&quot;</td></tr><tr><td>&quot;Choice Hotels International, I…</td><td>&quot;169905106&quot;</td><td>&quot;US1699051066&quot;</td><td>null</td></tr><tr><td>&quot;Hubbell Incorporated&quot;</td><td>&quot;443510607&quot;</td><td>&quot;US4435106079&quot;</td><td>null</td></tr></tbody></table></div>"
      ],
      "text/plain": [
       "shape: (286_424, 4)\n",
       "┌─────────────────────────────────┬───────────┬──────────────┬──────────────┐\n",
       "│ issuer_name                     ┆ cusip     ┆ isin         ┆ figi         │\n",
       "│ ---                             ┆ ---       ┆ ---          ┆ ---          │\n",
       "│ str                             ┆ str       ┆ str          ┆ str          │\n",
       "╞═════════════════════════════════╪═══════════╪══════════════╪══════════════╡\n",
       "│ Amphenol Corporation            ┆ 032095101 ┆ US0320951017 ┆ null         │\n",
       "│ The Sherwin-Williams Company    ┆ 824348106 ┆ US8243481061 ┆ BBG000BSXQV7 │\n",
       "│ The Sherwin-Williams Company    ┆ 824348106 ┆ US8243481061 ┆ BBG000BSXQV7 │\n",
       "│ Amphenol Corporation            ┆ 032095101 ┆ US0320951017 ┆ null         │\n",
       "│ TOAST, INC.                     ┆ 888787108 ┆ US8887871080 ┆ null         │\n",
       "│ …                               ┆ …         ┆ …            ┆ …            │\n",
       "│ Intel Corporation               ┆ 458140100 ┆ US4581401001 ┆ BBG000C0G1D1 │\n",
       "│ The Sherwin-Williams Company    ┆ 824348106 ┆ US8243481061 ┆ BBG000BSXQV7 │\n",
       "│ The Kroger Co.                  ┆ 501044101 ┆ US5010441013 ┆ BBG000BMY992 │\n",
       "│ Choice Hotels International, I… ┆ 169905106 ┆ US1699051066 ┆ null         │\n",
       "│ Hubbell Incorporated            ┆ 443510607 ┆ US4435106079 ┆ null         │\n",
       "└─────────────────────────────────┴───────────┴──────────────┴──────────────┘"
      ]
     },
     "execution_count": 51,
     "metadata": {},
     "output_type": "execute_result"
    }
   ],
   "source": [
    "normed5.filter(normed5[\"issuer_name\"] != votes[\"issuer_name\"]).select(COMPANY_COLS)"
   ]
  },
  {
   "cell_type": "code",
   "execution_count": 42,
   "metadata": {},
   "outputs": [
    {
     "data": {
      "text/plain": [
       "7545"
      ]
     },
     "execution_count": 42,
     "metadata": {},
     "output_type": "execute_result"
    }
   ],
   "source": [
    "normed5[\"cusip\"].n_unique()"
   ]
  },
  {
   "cell_type": "code",
   "execution_count": 14,
   "metadata": {},
   "outputs": [
    {
     "data": {
      "text/html": [
       "<div><style>\n",
       ".dataframe > thead > tr,\n",
       ".dataframe > tbody > tr {\n",
       "  text-align: right;\n",
       "  white-space: pre-wrap;\n",
       "}\n",
       "</style>\n",
       "<small>shape: (778_944, 4)</small><table border=\"1\" class=\"dataframe\"><thead><tr><th>issuer_name</th><th>cusip</th><th>isin</th><th>figi</th></tr><tr><td>str</td><td>str</td><td>str</td><td>str</td></tr></thead><tbody><tr><td>&quot;CANADIAN PACIFIC KANSAS CITY L…</td><td>&quot;13646K108&quot;</td><td>&quot;CA13646K1084&quot;</td><td>null</td></tr><tr><td>&quot;AAON, INC.&quot;</td><td>&quot;000360206&quot;</td><td>&quot;US0003602069&quot;</td><td>null</td></tr><tr><td>&quot;AMAZON.COM, INC.&quot;</td><td>&quot;023135106&quot;</td><td>&quot;US0231351067&quot;</td><td>null</td></tr><tr><td>&quot;AMPHENOL CORPORATION&quot;</td><td>&quot;032095101&quot;</td><td>&quot;US0320951017&quot;</td><td>null</td></tr><tr><td>&quot;MICROSOFT CORPORATION&quot;</td><td>&quot;594918104&quot;</td><td>&quot;US5949181045&quot;</td><td>null</td></tr><tr><td>&hellip;</td><td>&hellip;</td><td>&hellip;</td><td>&hellip;</td></tr><tr><td>&quot;VERALTO CORPORATION&quot;</td><td>&quot;92338C103&quot;</td><td>null</td><td>null</td></tr><tr><td>&quot;ANALOG DEVICES, INC.&quot;</td><td>&quot;032654105&quot;</td><td>null</td><td>null</td></tr><tr><td>&quot;EDITAS MEDICINE, INC.&quot;</td><td>&quot;28106W103&quot;</td><td>null</td><td>null</td></tr><tr><td>&quot;LOCKHEED MARTIN CORPORATION&quot;</td><td>&quot;539830109&quot;</td><td>null</td><td>null</td></tr><tr><td>&quot;INTUIT INC.&quot;</td><td>&quot;461202103&quot;</td><td>null</td><td>null</td></tr></tbody></table></div>"
      ],
      "text/plain": [
       "shape: (778_944, 4)\n",
       "┌─────────────────────────────────┬───────────┬──────────────┬──────┐\n",
       "│ issuer_name                     ┆ cusip     ┆ isin         ┆ figi │\n",
       "│ ---                             ┆ ---       ┆ ---          ┆ ---  │\n",
       "│ str                             ┆ str       ┆ str          ┆ str  │\n",
       "╞═════════════════════════════════╪═══════════╪══════════════╪══════╡\n",
       "│ CANADIAN PACIFIC KANSAS CITY L… ┆ 13646K108 ┆ CA13646K1084 ┆ null │\n",
       "│ AAON, INC.                      ┆ 000360206 ┆ US0003602069 ┆ null │\n",
       "│ AMAZON.COM, INC.                ┆ 023135106 ┆ US0231351067 ┆ null │\n",
       "│ AMPHENOL CORPORATION            ┆ 032095101 ┆ US0320951017 ┆ null │\n",
       "│ MICROSOFT CORPORATION           ┆ 594918104 ┆ US5949181045 ┆ null │\n",
       "│ …                               ┆ …         ┆ …            ┆ …    │\n",
       "│ VERALTO CORPORATION             ┆ 92338C103 ┆ null         ┆ null │\n",
       "│ ANALOG DEVICES, INC.            ┆ 032654105 ┆ null         ┆ null │\n",
       "│ EDITAS MEDICINE, INC.           ┆ 28106W103 ┆ null         ┆ null │\n",
       "│ LOCKHEED MARTIN CORPORATION     ┆ 539830109 ┆ null         ┆ null │\n",
       "│ INTUIT INC.                     ┆ 461202103 ┆ null         ┆ null │\n",
       "└─────────────────────────────────┴───────────┴──────────────┴──────┘"
      ]
     },
     "execution_count": 14,
     "metadata": {},
     "output_type": "execute_result"
    }
   ],
   "source": [
    "votes.select(COMPANY_COLS)"
   ]
  },
  {
   "cell_type": "code",
   "execution_count": 6,
   "metadata": {},
   "outputs": [
    {
     "data": {
      "text/html": [
       "<div><style>\n",
       ".dataframe > thead > tr,\n",
       ".dataframe > tbody > tr {\n",
       "  text-align: right;\n",
       "  white-space: pre-wrap;\n",
       "}\n",
       "</style>\n",
       "<small>shape: (1, 4)</small><table border=\"1\" class=\"dataframe\"><thead><tr><th>issuer_name</th><th>cusip</th><th>isin</th><th>figi</th></tr><tr><td>u32</td><td>u32</td><td>u32</td><td>u32</td></tr></thead><tbody><tr><td>0</td><td>11703</td><td>8315</td><td>514694</td></tr></tbody></table></div>"
      ],
      "text/plain": [
       "shape: (1, 4)\n",
       "┌─────────────┬───────┬──────┬────────┐\n",
       "│ issuer_name ┆ cusip ┆ isin ┆ figi   │\n",
       "│ ---         ┆ ---   ┆ ---  ┆ ---    │\n",
       "│ u32         ┆ u32   ┆ u32  ┆ u32    │\n",
       "╞═════════════╪═══════╪══════╪════════╡\n",
       "│ 0           ┆ 11703 ┆ 8315 ┆ 514694 │\n",
       "└─────────────┴───────┴──────┴────────┘"
      ]
     },
     "execution_count": 6,
     "metadata": {},
     "output_type": "execute_result"
    }
   ],
   "source": [
    "normed5.select(pl.all().is_null().sum())"
   ]
  },
  {
   "cell_type": "code",
   "execution_count": null,
   "metadata": {},
   "outputs": [],
   "source": [
    "normed4 = normalize_subset4(\n",
    "    votes,\n",
    "    connected_subgraphs_postprocessor=partition_companies_graph_where_necessary,\n",
    "    cols_to_normalize=[\"issuer_name\", \"cusip\", \"isin\", \"figi\"],\n",
    ")"
   ]
  },
  {
   "cell_type": "code",
   "execution_count": null,
   "metadata": {},
   "outputs": [],
   "source": [
    "pp3 = partial(\n",
    "    partition_companies_graph_where_necessary,\n",
    "    # verbose=True,\n",
    ")\n",
    "\n",
    "\n",
    "normed3 = normalize_subset3(\n",
    "    votes,\n",
    "    connected_subgraphs_postprocessor=pp3,\n",
    "    cols_to_normalize=[\"issuer_name\", \"cusip\", \"isin\", \"figi\"],\n",
    ")"
   ]
  },
  {
   "cell_type": "code",
   "execution_count": null,
   "metadata": {},
   "outputs": [],
   "source": [
    "normed3"
   ]
  },
  {
   "cell_type": "code",
   "execution_count": null,
   "metadata": {},
   "outputs": [],
   "source": [
    "normed3.select(COMPANY_COLS.is_null()).sum().sum_horizontal()"
   ]
  },
  {
   "cell_type": "code",
   "execution_count": null,
   "metadata": {},
   "outputs": [],
   "source": [
    "votes.select(COMPANY_COLS.is_null().sum()).sum_horizontal().item()"
   ]
  },
  {
   "cell_type": "code",
   "execution_count": null,
   "metadata": {},
   "outputs": [],
   "source": []
  },
  {
   "cell_type": "code",
   "execution_count": null,
   "metadata": {},
   "outputs": [],
   "source": []
  },
  {
   "cell_type": "markdown",
   "metadata": {},
   "source": [
    "## Check that removed nodes are repopulated"
   ]
  },
  {
   "cell_type": "code",
   "execution_count": 5,
   "metadata": {},
   "outputs": [],
   "source": [
    "G = tuple(\n",
    "    unconsolidated_df_to_subgraphs(\n",
    "        votes.select(COMPANY_COLS), connected_subgraphs_postprocessor=None\n",
    "    )\n",
    ")"
   ]
  },
  {
   "cell_type": "code",
   "execution_count": 6,
   "metadata": {},
   "outputs": [],
   "source": [
    "sb = extract_specific_name_subgraph(G, \"STARBUCKS\")"
   ]
  },
  {
   "cell_type": "code",
   "execution_count": null,
   "metadata": {},
   "outputs": [],
   "source": [
    "len(sb.nodes)"
   ]
  },
  {
   "cell_type": "code",
   "execution_count": null,
   "metadata": {},
   "outputs": [],
   "source": [
    "partitioned = partition_companies_graph_where_necessary(sb, verbose=True)"
   ]
  },
  {
   "cell_type": "code",
   "execution_count": null,
   "metadata": {},
   "outputs": [],
   "source": [
    "print(len(partitioned.nodes))\n",
    "draw_graph(partitioned, 5)"
   ]
  },
  {
   "cell_type": "code",
   "execution_count": null,
   "metadata": {},
   "outputs": [],
   "source": []
  },
  {
   "cell_type": "code",
   "execution_count": null,
   "metadata": {},
   "outputs": [],
   "source": []
  },
  {
   "cell_type": "code",
   "execution_count": null,
   "metadata": {},
   "outputs": [],
   "source": []
  },
  {
   "cell_type": "code",
   "execution_count": null,
   "metadata": {},
   "outputs": [],
   "source": []
  },
  {
   "cell_type": "code",
   "execution_count": 5,
   "metadata": {},
   "outputs": [],
   "source": []
  },
  {
   "cell_type": "code",
   "execution_count": 10,
   "metadata": {},
   "outputs": [],
   "source": [
    "G = tuple(\n",
    "    unconsolidated_df_to_subgraphs(\n",
    "        votes.select(COMPANY_COLS), connected_subgraphs_postprocessor=None\n",
    "    )\n",
    ")"
   ]
  },
  {
   "cell_type": "code",
   "execution_count": null,
   "metadata": {},
   "outputs": [],
   "source": [
    "list(G[0].nodes.data())[0]"
   ]
  },
  {
   "cell_type": "code",
   "execution_count": null,
   "metadata": {},
   "outputs": [],
   "source": [
    "partition_via_louvain(G[4], verbose=True)\n",
    "# draw_graph(G[4], 5)"
   ]
  },
  {
   "cell_type": "code",
   "execution_count": null,
   "metadata": {},
   "outputs": [],
   "source": [
    "from record_consolidation.df_consolidations import normalize_subset\n",
    "\n",
    "pp = partial(\n",
    "    partition_companies_graph_where_necessary,\n",
    "    # verbose=True,\n",
    ")\n",
    "\n",
    "atomic = extract_normalized_atomic(\n",
    "    votes.select(COMPANY_COLS), connected_subgraphs_postprocessor=pp\n",
    ")\n",
    "normed = normalize_subset(\n",
    "    votes,\n",
    "    connected_subgraphs_postprocessor=pp,\n",
    "    cols_to_normalize=[\"issuer_name\", \"cusip\", \"isin\", \"figi\"],\n",
    ")"
   ]
  },
  {
   "cell_type": "code",
   "execution_count": null,
   "metadata": {},
   "outputs": [],
   "source": [
    "votes.select(pl.all().is_null().sum())"
   ]
  },
  {
   "cell_type": "code",
   "execution_count": null,
   "metadata": {},
   "outputs": [],
   "source": [
    "normed.select(\n",
    "    pl.all().is_null().sum()\n",
    ")  # .filter(pl.col(\"issuer_name\") == pl.lit(\"AAON, INC.\"))"
   ]
  },
  {
   "cell_type": "code",
   "execution_count": null,
   "metadata": {},
   "outputs": [],
   "source": [
    "atomic.select(pl.all().is_null().sum())"
   ]
  },
  {
   "cell_type": "markdown",
   "metadata": {},
   "source": [
    "# ISSUE\n",
    "\n",
    "## Problem\n",
    "Nulls are being propagated in the \n",
    "\n",
    "## Diagnosis\n",
    "(Best guess): When nodes are cut wholesale out of the graph - rather than even just having all edges cut - they don't end up in the canonical mapping, and so become null..."
   ]
  },
  {
   "cell_type": "code",
   "execution_count": null,
   "metadata": {},
   "outputs": [],
   "source": [
    "removed_issuers = (\n",
    "    votes.filter(normed[\"issuer_name\"].is_null())\n",
    "    .filter(pl.col(\"issuer_name\").is_not_null())[\"issuer_name\"]\n",
    "    .unique()\n",
    "    .to_list()\n",
    ")\n",
    "removed_issuers"
   ]
  },
  {
   "cell_type": "code",
   "execution_count": null,
   "metadata": {},
   "outputs": [],
   "source": [
    "emerson = extract_specific_name_subgraph(G, \"emerson electric co.\")\n",
    "draw_graph(emerson, 5)"
   ]
  },
  {
   "cell_type": "code",
   "execution_count": null,
   "metadata": {},
   "outputs": [],
   "source": [
    "emerson_partitioned = partition_companies_graph_where_necessary(\n",
    "    emerson, verbose=True, verbose_within_partitioning_algs=True\n",
    ")"
   ]
  },
  {
   "cell_type": "code",
   "execution_count": null,
   "metadata": {},
   "outputs": [],
   "source": [
    "for issuer in removed_issuers:\n",
    "    try:\n",
    "        draw_graph(extract_specific_name_subgraph(G, issuer), size=5)\n",
    "    except:\n",
    "        print(issuer)"
   ]
  },
  {
   "cell_type": "code",
   "execution_count": null,
   "metadata": {},
   "outputs": [],
   "source": [
    "votes.select(COMPANY_COLS).filter(\n",
    "    pl.col(\"issuer_name\") == pl.lit(\"Northrup Grumman Corporation \")\n",
    ")"
   ]
  },
  {
   "cell_type": "code",
   "execution_count": null,
   "metadata": {},
   "outputs": [],
   "source": [
    "removed_issuers"
   ]
  },
  {
   "cell_type": "code",
   "execution_count": null,
   "metadata": {},
   "outputs": [],
   "source": [
    "atomized_subset = extract_normalized_atomic(\n",
    "    votes.select(COMPANY_COLS), connected_subgraphs_postprocessor=pp\n",
    ")"
   ]
  },
  {
   "cell_type": "code",
   "execution_count": null,
   "metadata": {},
   "outputs": [],
   "source": [
    "s = \"walmart\"\n",
    "atomized_subset.filter(pl.col(\"issuer_name\").str.contains(f\"(?i){s}\"))"
   ]
  },
  {
   "cell_type": "code",
   "execution_count": null,
   "metadata": {},
   "outputs": [],
   "source": [
    "atomized_subset.filter(pl.col(\"issuer_name\").is_in(removed_issuers))"
   ]
  },
  {
   "cell_type": "code",
   "execution_count": 26,
   "metadata": {},
   "outputs": [],
   "source": [
    "normed_comps = normed.select(COMPANY_COLS)"
   ]
  },
  {
   "cell_type": "code",
   "execution_count": null,
   "metadata": {},
   "outputs": [],
   "source": [
    "normed_comps.filter(pl.col(\"issuer_name\").is_null())"
   ]
  },
  {
   "cell_type": "code",
   "execution_count": null,
   "metadata": {},
   "outputs": [],
   "source": [
    "normed3"
   ]
  },
  {
   "cell_type": "code",
   "execution_count": null,
   "metadata": {},
   "outputs": [],
   "source": [
    "votes"
   ]
  },
  {
   "cell_type": "code",
   "execution_count": null,
   "metadata": {},
   "outputs": [],
   "source": [
    "null_issuers = normed_comps[\"issuer_name\"].is_null()\n",
    "\n",
    "\n",
    "display(votes.select(COMPANY_COLS).filter(null_issuers).head())  # .sort(\n",
    "#     pl.all()\n",
    "# ).unique(maintain_order=True).to_pandas()\n",
    "display(normed_comps.filter(null_issuers).head())"
   ]
  },
  {
   "cell_type": "code",
   "execution_count": null,
   "metadata": {},
   "outputs": [],
   "source": [
    "atomized_subset.filter(cusip=\"291011104\")"
   ]
  },
  {
   "cell_type": "code",
   "execution_count": null,
   "metadata": {},
   "outputs": [],
   "source": [
    "normed.select(pl.all().is_null().sum())"
   ]
  }
 ],
 "metadata": {
  "kernelspec": {
   "display_name": ".venv",
   "language": "python",
   "name": "python3"
  },
  "language_info": {
   "codemirror_mode": {
    "name": "ipython",
    "version": 3
   },
   "file_extension": ".py",
   "mimetype": "text/x-python",
   "name": "python",
   "nbconvert_exporter": "python",
   "pygments_lexer": "ipython3",
   "version": "3.12.3"
  }
 },
 "nbformat": 4,
 "nbformat_minor": 2
}
