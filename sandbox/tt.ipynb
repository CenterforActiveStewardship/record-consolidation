{
 "cells": [
  {
   "cell_type": "code",
   "execution_count": 1,
   "metadata": {},
   "outputs": [],
   "source": [
    "from pathlib import Path\n",
    "import polars as pl\n",
    "\n",
    "from record_consolidation.df_consolidations import (\n",
    "    normalize_subset,\n",
    "    # normalize_subset_via_joins,\n",
    "    normalize_subset_via_joins,\n",
    ")"
   ]
  },
  {
   "cell_type": "code",
   "execution_count": 5,
   "metadata": {},
   "outputs": [
    {
     "name": "stdout",
     "output_type": "stream",
     "text": [
      "issuer_name=\n"
     ]
    },
    {
     "data": {
      "text/html": [
       "<div><style>\n",
       ".dataframe > thead > tr,\n",
       ".dataframe > tbody > tr {\n",
       "  text-align: right;\n",
       "  white-space: pre-wrap;\n",
       "}\n",
       "</style>\n",
       "<small>shape: (0, 12)</small><table border=\"1\" class=\"dataframe\"><thead><tr><th>issuer_name_normed</th><th>cusip_normed</th><th>isin_normed</th><th>figi_normed</th><th>rand1_normed</th><th>rand2_normed</th><th>issuer_name</th><th>cusip</th><th>isin</th><th>figi</th><th>rand1</th><th>rand2</th></tr><tr><td>str</td><td>str</td><td>str</td><td>str</td><td>i32</td><td>u32</td><td>str</td><td>str</td><td>str</td><td>str</td><td>i32</td><td>u32</td></tr></thead><tbody></tbody></table></div>"
      ],
      "text/plain": [
       "shape: (0, 12)\n",
       "┌────────────────────┬──────────────┬─────────────┬─────────────┬───┬──────┬──────┬───────┬───────┐\n",
       "│ issuer_name_normed ┆ cusip_normed ┆ isin_normed ┆ figi_normed ┆ … ┆ isin ┆ figi ┆ rand1 ┆ rand2 │\n",
       "│ ---                ┆ ---          ┆ ---         ┆ ---         ┆   ┆ ---  ┆ ---  ┆ ---   ┆ ---   │\n",
       "│ str                ┆ str          ┆ str         ┆ str         ┆   ┆ str  ┆ str  ┆ i32   ┆ u32   │\n",
       "╞════════════════════╪══════════════╪═════════════╪═════════════╪═══╪══════╪══════╪═══════╪═══════╡\n",
       "└────────────────────┴──────────────┴─────────────┴─────────────┴───┴──────┴──────┴───────┴───────┘"
      ]
     },
     "metadata": {},
     "output_type": "display_data"
    },
    {
     "name": "stdout",
     "output_type": "stream",
     "text": [
      "cusip=\n"
     ]
    },
    {
     "data": {
      "text/html": [
       "<div><style>\n",
       ".dataframe > thead > tr,\n",
       ".dataframe > tbody > tr {\n",
       "  text-align: right;\n",
       "  white-space: pre-wrap;\n",
       "}\n",
       "</style>\n",
       "<small>shape: (5, 12)</small><table border=\"1\" class=\"dataframe\"><thead><tr><th>issuer_name_normed</th><th>cusip_normed</th><th>isin_normed</th><th>figi_normed</th><th>rand1_normed</th><th>rand2_normed</th><th>issuer_name</th><th>cusip</th><th>isin</th><th>figi</th><th>rand1</th><th>rand2</th></tr><tr><td>str</td><td>str</td><td>str</td><td>str</td><td>i32</td><td>u32</td><td>str</td><td>str</td><td>str</td><td>str</td><td>i32</td><td>u32</td></tr></thead><tbody><tr><td>&quot;MICROSOFT CORPORATION&quot;</td><td>&quot;594918104&quot;</td><td>&quot;US5949181045&quot;</td><td>&quot;MSFT&quot;</td><td>10</td><td>51</td><td>&quot;MICROSOFT CORPORATION&quot;</td><td>&quot;594918105&quot;</td><td>&quot;US5949181045&quot;</td><td>null</td><td>10</td><td>51</td></tr><tr><td>&quot;AMAZON.COM, INC.&quot;</td><td>&quot;023135106&quot;</td><td>&quot;US0231351067&quot;</td><td>&quot;AMZN&quot;</td><td>10</td><td>57</td><td>&quot;AMAZON.COM, INC.&quot;</td><td>&quot;23135106&quot;</td><td>&quot;US0231351067&quot;</td><td>null</td><td>10</td><td>57</td></tr><tr><td>&quot;AMAZON.COM, INC.&quot;</td><td>&quot;023135106&quot;</td><td>&quot;US0231351067&quot;</td><td>&quot;AMZN&quot;</td><td>10</td><td>146</td><td>&quot;AMAZON.COM, INC.&quot;</td><td>&quot;23135106&quot;</td><td>&quot;US0231351067&quot;</td><td>null</td><td>10</td><td>146</td></tr><tr><td>&quot;AMAZON.COM, INC.&quot;</td><td>&quot;023135106&quot;</td><td>&quot;US0231351067&quot;</td><td>&quot;AMZN&quot;</td><td>10</td><td>280</td><td>&quot;AMAZON.COM, INC.&quot;</td><td>&quot;23135106&quot;</td><td>&quot;US0231351067&quot;</td><td>null</td><td>10</td><td>280</td></tr><tr><td>&quot;AMAZON.COM, INC.&quot;</td><td>&quot;023135106&quot;</td><td>&quot;US0231351067&quot;</td><td>&quot;AMZN&quot;</td><td>10</td><td>412</td><td>&quot;AMAZON.COM, INC.&quot;</td><td>&quot;23135106&quot;</td><td>&quot;US0231351067&quot;</td><td>null</td><td>10</td><td>412</td></tr></tbody></table></div>"
      ],
      "text/plain": [
       "shape: (5, 12)\n",
       "┌──────────────┬──────────────┬─────────────┬─────────────┬───┬─────────────┬──────┬───────┬───────┐\n",
       "│ issuer_name_ ┆ cusip_normed ┆ isin_normed ┆ figi_normed ┆ … ┆ isin        ┆ figi ┆ rand1 ┆ rand2 │\n",
       "│ normed       ┆ ---          ┆ ---         ┆ ---         ┆   ┆ ---         ┆ ---  ┆ ---   ┆ ---   │\n",
       "│ ---          ┆ str          ┆ str         ┆ str         ┆   ┆ str         ┆ str  ┆ i32   ┆ u32   │\n",
       "│ str          ┆              ┆             ┆             ┆   ┆             ┆      ┆       ┆       │\n",
       "╞══════════════╪══════════════╪═════════════╪═════════════╪═══╪═════════════╪══════╪═══════╪═══════╡\n",
       "│ MICROSOFT    ┆ 594918104    ┆ US594918104 ┆ MSFT        ┆ … ┆ US594918104 ┆ null ┆ 10    ┆ 51    │\n",
       "│ CORPORATION  ┆              ┆ 5           ┆             ┆   ┆ 5           ┆      ┆       ┆       │\n",
       "│ AMAZON.COM,  ┆ 023135106    ┆ US023135106 ┆ AMZN        ┆ … ┆ US023135106 ┆ null ┆ 10    ┆ 57    │\n",
       "│ INC.         ┆              ┆ 7           ┆             ┆   ┆ 7           ┆      ┆       ┆       │\n",
       "│ AMAZON.COM,  ┆ 023135106    ┆ US023135106 ┆ AMZN        ┆ … ┆ US023135106 ┆ null ┆ 10    ┆ 146   │\n",
       "│ INC.         ┆              ┆ 7           ┆             ┆   ┆ 7           ┆      ┆       ┆       │\n",
       "│ AMAZON.COM,  ┆ 023135106    ┆ US023135106 ┆ AMZN        ┆ … ┆ US023135106 ┆ null ┆ 10    ┆ 280   │\n",
       "│ INC.         ┆              ┆ 7           ┆             ┆   ┆ 7           ┆      ┆       ┆       │\n",
       "│ AMAZON.COM,  ┆ 023135106    ┆ US023135106 ┆ AMZN        ┆ … ┆ US023135106 ┆ null ┆ 10    ┆ 412   │\n",
       "│ INC.         ┆              ┆ 7           ┆             ┆   ┆ 7           ┆      ┆       ┆       │\n",
       "└──────────────┴──────────────┴─────────────┴─────────────┴───┴─────────────┴──────┴───────┴───────┘"
      ]
     },
     "metadata": {},
     "output_type": "display_data"
    },
    {
     "ename": "AssertionError",
     "evalue": "shape: (5, 12)\n┌──────────────┬──────────────┬─────────────┬─────────────┬───┬─────────────┬──────┬───────┬───────┐\n│ issuer_name_ ┆ cusip_normed ┆ isin_normed ┆ figi_normed ┆ … ┆ isin        ┆ figi ┆ rand1 ┆ rand2 │\n│ normed       ┆ ---          ┆ ---         ┆ ---         ┆   ┆ ---         ┆ ---  ┆ ---   ┆ ---   │\n│ ---          ┆ str          ┆ str         ┆ str         ┆   ┆ str         ┆ str  ┆ i32   ┆ u32   │\n│ str          ┆              ┆             ┆             ┆   ┆             ┆      ┆       ┆       │\n╞══════════════╪══════════════╪═════════════╪═════════════╪═══╪═════════════╪══════╪═══════╪═══════╡\n│ MICROSOFT    ┆ 594918104    ┆ US594918104 ┆ MSFT        ┆ … ┆ US594918104 ┆ null ┆ 10    ┆ 51    │\n│ CORPORATION  ┆              ┆ 5           ┆             ┆   ┆ 5           ┆      ┆       ┆       │\n│ AMAZON.COM,  ┆ 023135106    ┆ US023135106 ┆ AMZN        ┆ … ┆ US023135106 ┆ null ┆ 10    ┆ 57    │\n│ INC.         ┆              ┆ 7           ┆             ┆   ┆ 7           ┆      ┆       ┆       │\n│ AMAZON.COM,  ┆ 023135106    ┆ US023135106 ┆ AMZN        ┆ … ┆ US023135106 ┆ null ┆ 10    ┆ 146   │\n│ INC.         ┆              ┆ 7           ┆             ┆   ┆ 7           ┆      ┆       ┆       │\n│ AMAZON.COM,  ┆ 023135106    ┆ US023135106 ┆ AMZN        ┆ … ┆ US023135106 ┆ null ┆ 10    ┆ 280   │\n│ INC.         ┆              ┆ 7           ┆             ┆   ┆ 7           ┆      ┆       ┆       │\n│ AMAZON.COM,  ┆ 023135106    ┆ US023135106 ┆ AMZN        ┆ … ┆ US023135106 ┆ null ┆ 10    ┆ 412   │\n│ INC.         ┆              ┆ 7           ┆             ┆   ┆ 7           ┆      ┆       ┆       │\n└──────────────┴──────────────┴─────────────┴─────────────┴───┴─────────────┴──────┴───────┴───────┘",
     "output_type": "error",
     "traceback": [
      "\u001b[0;31m---------------------------------------------------------------------------\u001b[0m",
      "\u001b[0;31mAssertionError\u001b[0m                            Traceback (most recent call last)",
      "Cell \u001b[0;32mIn[5], line 24\u001b[0m\n\u001b[1;32m     20\u001b[0m non_nulls_unequal \u001b[38;5;241m=\u001b[39m hconcated\u001b[38;5;241m.\u001b[39mfilter(\n\u001b[1;32m     21\u001b[0m     pl\u001b[38;5;241m.\u001b[39mcol(col)\u001b[38;5;241m.\u001b[39mis_not_null() \u001b[38;5;241m&\u001b[39m (pl\u001b[38;5;241m.\u001b[39mcol(col) \u001b[38;5;241m!=\u001b[39m pl\u001b[38;5;241m.\u001b[39mcol(\u001b[38;5;124mf\u001b[39m\u001b[38;5;124m\"\u001b[39m\u001b[38;5;132;01m{\u001b[39;00mcol\u001b[38;5;132;01m}\u001b[39;00m\u001b[38;5;124m_normed\u001b[39m\u001b[38;5;124m\"\u001b[39m))\n\u001b[1;32m     22\u001b[0m )\n\u001b[1;32m     23\u001b[0m display(non_nulls_unequal\u001b[38;5;241m.\u001b[39mhead())\n\u001b[0;32m---> 24\u001b[0m \u001b[38;5;28;01massert\u001b[39;00m non_nulls_unequal\u001b[38;5;241m.\u001b[39mheight \u001b[38;5;241m==\u001b[39m \u001b[38;5;241m0\u001b[39m, non_nulls_unequal\n",
      "\u001b[0;31mAssertionError\u001b[0m: shape: (5, 12)\n┌──────────────┬──────────────┬─────────────┬─────────────┬───┬─────────────┬──────┬───────┬───────┐\n│ issuer_name_ ┆ cusip_normed ┆ isin_normed ┆ figi_normed ┆ … ┆ isin        ┆ figi ┆ rand1 ┆ rand2 │\n│ normed       ┆ ---          ┆ ---         ┆ ---         ┆   ┆ ---         ┆ ---  ┆ ---   ┆ ---   │\n│ ---          ┆ str          ┆ str         ┆ str         ┆   ┆ str         ┆ str  ┆ i32   ┆ u32   │\n│ str          ┆              ┆             ┆             ┆   ┆             ┆      ┆       ┆       │\n╞══════════════╪══════════════╪═════════════╪═════════════╪═══╪═════════════╪══════╪═══════╪═══════╡\n│ MICROSOFT    ┆ 594918104    ┆ US594918104 ┆ MSFT        ┆ … ┆ US594918104 ┆ null ┆ 10    ┆ 51    │\n│ CORPORATION  ┆              ┆ 5           ┆             ┆   ┆ 5           ┆      ┆       ┆       │\n│ AMAZON.COM,  ┆ 023135106    ┆ US023135106 ┆ AMZN        ┆ … ┆ US023135106 ┆ null ┆ 10    ┆ 57    │\n│ INC.         ┆              ┆ 7           ┆             ┆   ┆ 7           ┆      ┆       ┆       │\n│ AMAZON.COM,  ┆ 023135106    ┆ US023135106 ┆ AMZN        ┆ … ┆ US023135106 ┆ null ┆ 10    ┆ 146   │\n│ INC.         ┆              ┆ 7           ┆             ┆   ┆ 7           ┆      ┆       ┆       │\n│ AMAZON.COM,  ┆ 023135106    ┆ US023135106 ┆ AMZN        ┆ … ┆ US023135106 ┆ null ┆ 10    ┆ 280   │\n│ INC.         ┆              ┆ 7           ┆             ┆   ┆ 7           ┆      ┆       ┆       │\n│ AMAZON.COM,  ┆ 023135106    ┆ US023135106 ┆ AMZN        ┆ … ┆ US023135106 ┆ null ┆ 10    ┆ 412   │\n│ INC.         ┆              ┆ 7           ┆             ┆   ┆ 7           ┆      ┆       ┆       │\n└──────────────┴──────────────┴─────────────┴─────────────┴───┴─────────────┴──────┴───────┴───────┘"
     ]
    }
   ],
   "source": [
    "root_path = Path(\"test_data/normalize_subset\")\n",
    "input_path = root_path / \"input.parquet\"\n",
    "snapshot_path = root_path / \"processed.parquet\"\n",
    "\n",
    "raw_input: pl.DataFrame = pl.read_parquet(input_path)\n",
    "COLS_TO_NORMALIZE = [\"issuer_name\", \"cusip\", \"isin\", \"figi\"]\n",
    "locally_processed: pl.DataFrame = normalize_subset_via_joins(\n",
    "    raw_input,\n",
    "    cols_to_normalize=COLS_TO_NORMALIZE,\n",
    ")\n",
    "snapshot: pl.DataFrame = pl.read_parquet(snapshot_path)\n",
    "\n",
    "hconcated = pl.concat(\n",
    "    [locally_processed.rename(lambda x: f\"{x}_normed\"), raw_input],\n",
    "    how=\"horizontal\",\n",
    ")\n",
    "for col in COLS_TO_NORMALIZE:\n",
    "    print(f\"{col}=\")\n",
    "    non_nulls = hconcated.filter(pl.col(col).is_not_null())\n",
    "    non_nulls_unequal = hconcated.filter(\n",
    "        pl.col(col).is_not_null() & (pl.col(col) != pl.col(f\"{col}_normed\"))\n",
    "    )\n",
    "    display(non_nulls_unequal.head())\n",
    "    assert non_nulls_unequal.height == 0, non_nulls_unequal"
   ]
  },
  {
   "cell_type": "code",
   "execution_count": null,
   "metadata": {},
   "outputs": [],
   "source": []
  },
  {
   "cell_type": "code",
   "execution_count": null,
   "metadata": {},
   "outputs": [],
   "source": []
  },
  {
   "cell_type": "code",
   "execution_count": null,
   "metadata": {},
   "outputs": [],
   "source": []
  },
  {
   "cell_type": "code",
   "execution_count": null,
   "metadata": {},
   "outputs": [],
   "source": []
  },
  {
   "cell_type": "code",
   "execution_count": null,
   "metadata": {},
   "outputs": [],
   "source": []
  },
  {
   "cell_type": "code",
   "execution_count": 2,
   "metadata": {},
   "outputs": [],
   "source": [
    "mp = Path(\"/Users/mgaster/repos/sec-parsing-deployment/trash/meetings.parquet\")"
   ]
  },
  {
   "cell_type": "code",
   "execution_count": 3,
   "metadata": {},
   "outputs": [],
   "source": [
    "meetings = pl.read_parquet(mp)"
   ]
  },
  {
   "cell_type": "code",
   "execution_count": 8,
   "metadata": {},
   "outputs": [],
   "source": [
    "normed_meetings = normalize_subset_via_joins(\n",
    "    meetings, [\"issuer_name\", \"cusip\", \"isin\", \"figi\"]\n",
    ")"
   ]
  },
  {
   "cell_type": "code",
   "execution_count": 13,
   "metadata": {},
   "outputs": [
    {
     "data": {
      "text/html": [
       "<div><style>\n",
       ".dataframe > thead > tr,\n",
       ".dataframe > tbody > tr {\n",
       "  text-align: right;\n",
       "  white-space: pre-wrap;\n",
       "}\n",
       "</style>\n",
       "<small>shape: (243_360, 5)</small><table border=\"1\" class=\"dataframe\"><thead><tr><th>issuer_name</th><th>cusip</th><th>isin</th><th>figi</th><th>meeting_date</th></tr><tr><td>str</td><td>str</td><td>str</td><td>str</td><td>str</td></tr></thead><tbody><tr><td>&quot;DECKERS OUTDOOR CORPORATION&quot;</td><td>&quot;243537107&quot;</td><td>&quot;US2435371073&quot;</td><td>null</td><td>&quot;09/11/2023&quot;</td></tr><tr><td>&quot;CSX CORPORATION&quot;</td><td>&quot;126408103&quot;</td><td>&quot;US1264081035&quot;</td><td>null</td><td>&quot;05/08/2024&quot;</td></tr><tr><td>&quot;CANADIAN PACIFIC KANSAS CITY L…</td><td>&quot;13646K108&quot;</td><td>&quot;CA13646K1084&quot;</td><td>null</td><td>&quot;04/24/2024&quot;</td></tr><tr><td>&quot;VISA INC.&quot;</td><td>&quot;92826C839&quot;</td><td>&quot;US92826C8394&quot;</td><td>null</td><td>&quot;01/23/2024&quot;</td></tr><tr><td>&quot;AMAZON.COM, INC.&quot;</td><td>&quot;023135106&quot;</td><td>&quot;US0231351067&quot;</td><td>null</td><td>&quot;05/22/2024&quot;</td></tr><tr><td>&hellip;</td><td>&hellip;</td><td>&hellip;</td><td>&hellip;</td><td>&hellip;</td></tr><tr><td>&quot;Nutraceutical InvestCo&quot;</td><td>null</td><td>null</td><td>null</td><td>&quot;N/A&quot;</td></tr><tr><td>&quot;Foundation Capital V LP&quot;</td><td>null</td><td>null</td><td>null</td><td>&quot;N/A&quot;</td></tr><tr><td>&quot;Uno Co-Invest LP&quot;</td><td>null</td><td>null</td><td>null</td><td>&quot;N/A&quot;</td></tr><tr><td>&quot;KKR China Growth Fund LP&quot;</td><td>null</td><td>null</td><td>null</td><td>&quot;N/A&quot;</td></tr><tr><td>&quot;Foundation Capital VI LP&quot;</td><td>null</td><td>null</td><td>null</td><td>&quot;N/A&quot;</td></tr></tbody></table></div>"
      ],
      "text/plain": [
       "shape: (243_360, 5)\n",
       "┌─────────────────────────────────┬───────────┬──────────────┬──────┬──────────────┐\n",
       "│ issuer_name                     ┆ cusip     ┆ isin         ┆ figi ┆ meeting_date │\n",
       "│ ---                             ┆ ---       ┆ ---          ┆ ---  ┆ ---          │\n",
       "│ str                             ┆ str       ┆ str          ┆ str  ┆ str          │\n",
       "╞═════════════════════════════════╪═══════════╪══════════════╪══════╪══════════════╡\n",
       "│ DECKERS OUTDOOR CORPORATION     ┆ 243537107 ┆ US2435371073 ┆ null ┆ 09/11/2023   │\n",
       "│ CSX CORPORATION                 ┆ 126408103 ┆ US1264081035 ┆ null ┆ 05/08/2024   │\n",
       "│ CANADIAN PACIFIC KANSAS CITY L… ┆ 13646K108 ┆ CA13646K1084 ┆ null ┆ 04/24/2024   │\n",
       "│ VISA INC.                       ┆ 92826C839 ┆ US92826C8394 ┆ null ┆ 01/23/2024   │\n",
       "│ AMAZON.COM, INC.                ┆ 023135106 ┆ US0231351067 ┆ null ┆ 05/22/2024   │\n",
       "│ …                               ┆ …         ┆ …            ┆ …    ┆ …            │\n",
       "│ Nutraceutical InvestCo          ┆ null      ┆ null         ┆ null ┆ N/A          │\n",
       "│ Foundation Capital V LP         ┆ null      ┆ null         ┆ null ┆ N/A          │\n",
       "│ Uno Co-Invest LP                ┆ null      ┆ null         ┆ null ┆ N/A          │\n",
       "│ KKR China Growth Fund LP        ┆ null      ┆ null         ┆ null ┆ N/A          │\n",
       "│ Foundation Capital VI LP        ┆ null      ┆ null         ┆ null ┆ N/A          │\n",
       "└─────────────────────────────────┴───────────┴──────────────┴──────┴──────────────┘"
      ]
     },
     "execution_count": 13,
     "metadata": {},
     "output_type": "execute_result"
    }
   ],
   "source": [
    "meetings"
   ]
  },
  {
   "cell_type": "code",
   "execution_count": null,
   "metadata": {},
   "outputs": [],
   "source": []
  },
  {
   "cell_type": "code",
   "execution_count": null,
   "metadata": {},
   "outputs": [],
   "source": []
  },
  {
   "cell_type": "code",
   "execution_count": null,
   "metadata": {},
   "outputs": [],
   "source": []
  },
  {
   "cell_type": "code",
   "execution_count": 11,
   "metadata": {},
   "outputs": [
    {
     "data": {
      "text/html": [
       "<div><style>\n",
       ".dataframe > thead > tr,\n",
       ".dataframe > tbody > tr {\n",
       "  text-align: right;\n",
       "  white-space: pre-wrap;\n",
       "}\n",
       "</style>\n",
       "<small>shape: (1, 5)</small><table border=\"1\" class=\"dataframe\"><thead><tr><th>issuer_name</th><th>cusip</th><th>isin</th><th>figi</th><th>meeting_date</th></tr><tr><td>u32</td><td>u32</td><td>u32</td><td>u32</td><td>u32</td></tr></thead><tbody><tr><td>0</td><td>5780</td><td>73878</td><td>242631</td><td>0</td></tr></tbody></table></div>"
      ],
      "text/plain": [
       "shape: (1, 5)\n",
       "┌─────────────┬───────┬───────┬────────┬──────────────┐\n",
       "│ issuer_name ┆ cusip ┆ isin  ┆ figi   ┆ meeting_date │\n",
       "│ ---         ┆ ---   ┆ ---   ┆ ---    ┆ ---          │\n",
       "│ u32         ┆ u32   ┆ u32   ┆ u32    ┆ u32          │\n",
       "╞═════════════╪═══════╪═══════╪════════╪══════════════╡\n",
       "│ 0           ┆ 5780  ┆ 73878 ┆ 242631 ┆ 0            │\n",
       "└─────────────┴───────┴───────┴────────┴──────────────┘"
      ]
     },
     "execution_count": 11,
     "metadata": {},
     "output_type": "execute_result"
    }
   ],
   "source": [
    "meetings.select(pl.all().is_null().sum())"
   ]
  },
  {
   "cell_type": "code",
   "execution_count": 12,
   "metadata": {},
   "outputs": [
    {
     "data": {
      "text/html": [
       "<div><style>\n",
       ".dataframe > thead > tr,\n",
       ".dataframe > tbody > tr {\n",
       "  text-align: right;\n",
       "  white-space: pre-wrap;\n",
       "}\n",
       "</style>\n",
       "<small>shape: (1, 5)</small><table border=\"1\" class=\"dataframe\"><thead><tr><th>issuer_name</th><th>cusip</th><th>isin</th><th>figi</th><th>meeting_date</th></tr><tr><td>u32</td><td>u32</td><td>u32</td><td>u32</td><td>u32</td></tr></thead><tbody><tr><td>0</td><td>855</td><td>566</td><td>154342</td><td>0</td></tr></tbody></table></div>"
      ],
      "text/plain": [
       "shape: (1, 5)\n",
       "┌─────────────┬───────┬──────┬────────┬──────────────┐\n",
       "│ issuer_name ┆ cusip ┆ isin ┆ figi   ┆ meeting_date │\n",
       "│ ---         ┆ ---   ┆ ---  ┆ ---    ┆ ---          │\n",
       "│ u32         ┆ u32   ┆ u32  ┆ u32    ┆ u32          │\n",
       "╞═════════════╪═══════╪══════╪════════╪══════════════╡\n",
       "│ 0           ┆ 855   ┆ 566  ┆ 154342 ┆ 0            │\n",
       "└─────────────┴───────┴──────┴────────┴──────────────┘"
      ]
     },
     "execution_count": 12,
     "metadata": {},
     "output_type": "execute_result"
    }
   ],
   "source": [
    "normed_meetings.select(pl.all().is_null().sum())"
   ]
  },
  {
   "cell_type": "code",
   "execution_count": null,
   "metadata": {},
   "outputs": [],
   "source": []
  },
  {
   "cell_type": "code",
   "execution_count": null,
   "metadata": {},
   "outputs": [],
   "source": []
  },
  {
   "cell_type": "code",
   "execution_count": null,
   "metadata": {},
   "outputs": [],
   "source": []
  },
  {
   "cell_type": "code",
   "execution_count": 4,
   "metadata": {},
   "outputs": [
    {
     "data": {
      "text/html": [
       "<div><style>\n",
       ".dataframe > thead > tr,\n",
       ".dataframe > tbody > tr {\n",
       "  text-align: right;\n",
       "  white-space: pre-wrap;\n",
       "}\n",
       "</style>\n",
       "<small>shape: (729, 5)</small><table border=\"1\" class=\"dataframe\"><thead><tr><th>issuer_name</th><th>cusip</th><th>isin</th><th>figi</th><th>meeting_date</th></tr><tr><td>str</td><td>str</td><td>str</td><td>str</td><td>str</td></tr></thead><tbody><tr><td>&quot;Nvidia Corporation&quot;</td><td>&quot;67066G104&quot;</td><td>&quot;US67066G1040&quot;</td><td>&quot;BBG000BBJQV0&quot;</td><td>&quot;06/26/2024&quot;</td></tr><tr><td>&quot;Applied Materials, Inc.&quot;</td><td>&quot;038222105&quot;</td><td>&quot;US0382221051&quot;</td><td>&quot;BBG000BBPFB9&quot;</td><td>&quot;03/07/2024&quot;</td></tr><tr><td>&quot;Apple, Inc.&quot;</td><td>&quot;037833100&quot;</td><td>&quot;US0378331005&quot;</td><td>&quot;BBG000B9XRY4&quot;</td><td>&quot;02/28/2024&quot;</td></tr><tr><td>&quot;KINDER MORGAN INC&quot;</td><td>&quot;49456B101&quot;</td><td>&quot;US49456B1017&quot;</td><td>&quot;BBG0019JZ882&quot;</td><td>&quot;05/08/2024&quot;</td></tr><tr><td>&quot;INTEL CORPORATION CORP&quot;</td><td>&quot;458140100&quot;</td><td>&quot;US4581401001&quot;</td><td>&quot;BBG000C0G1D1&quot;</td><td>&quot;05/07/2024&quot;</td></tr><tr><td>&hellip;</td><td>&hellip;</td><td>&hellip;</td><td>&hellip;</td><td>&hellip;</td></tr><tr><td>&quot;Brookfield Asset Management Lt…</td><td>&quot;113004105&quot;</td><td>&quot;US1130041056&quot;</td><td>&quot;BBG01BPHNXZ3&quot;</td><td>&quot;06/07/2024&quot;</td></tr><tr><td>&quot;Applied Materials Inc&quot;</td><td>&quot;038222105&quot;</td><td>&quot;US0382221051&quot;</td><td>&quot;BBG000BBPFB9&quot;</td><td>&quot;03/07/2024&quot;</td></tr><tr><td>&quot;The Home Depot Inc&quot;</td><td>&quot;437076102&quot;</td><td>&quot;US4370761029&quot;</td><td>&quot;BBG000BKZB36&quot;</td><td>&quot;05/16/2024&quot;</td></tr><tr><td>&quot;Mastercard Inc&quot;</td><td>&quot;57636Q104&quot;</td><td>&quot;US57636Q1040&quot;</td><td>&quot;BBG000F1ZSQ2&quot;</td><td>&quot;06/18/2024&quot;</td></tr><tr><td>&quot;PepsiCo Inc&quot;</td><td>&quot;713448108&quot;</td><td>&quot;US7134481081&quot;</td><td>&quot;BBG000DH7JK6&quot;</td><td>&quot;05/01/2024&quot;</td></tr></tbody></table></div>"
      ],
      "text/plain": [
       "shape: (729, 5)\n",
       "┌─────────────────────────────────┬───────────┬──────────────┬──────────────┬──────────────┐\n",
       "│ issuer_name                     ┆ cusip     ┆ isin         ┆ figi         ┆ meeting_date │\n",
       "│ ---                             ┆ ---       ┆ ---          ┆ ---          ┆ ---          │\n",
       "│ str                             ┆ str       ┆ str          ┆ str          ┆ str          │\n",
       "╞═════════════════════════════════╪═══════════╪══════════════╪══════════════╪══════════════╡\n",
       "│ Nvidia Corporation              ┆ 67066G104 ┆ US67066G1040 ┆ BBG000BBJQV0 ┆ 06/26/2024   │\n",
       "│ Applied Materials, Inc.         ┆ 038222105 ┆ US0382221051 ┆ BBG000BBPFB9 ┆ 03/07/2024   │\n",
       "│ Apple, Inc.                     ┆ 037833100 ┆ US0378331005 ┆ BBG000B9XRY4 ┆ 02/28/2024   │\n",
       "│ KINDER MORGAN INC               ┆ 49456B101 ┆ US49456B1017 ┆ BBG0019JZ882 ┆ 05/08/2024   │\n",
       "│ INTEL CORPORATION CORP          ┆ 458140100 ┆ US4581401001 ┆ BBG000C0G1D1 ┆ 05/07/2024   │\n",
       "│ …                               ┆ …         ┆ …            ┆ …            ┆ …            │\n",
       "│ Brookfield Asset Management Lt… ┆ 113004105 ┆ US1130041056 ┆ BBG01BPHNXZ3 ┆ 06/07/2024   │\n",
       "│ Applied Materials Inc           ┆ 038222105 ┆ US0382221051 ┆ BBG000BBPFB9 ┆ 03/07/2024   │\n",
       "│ The Home Depot Inc              ┆ 437076102 ┆ US4370761029 ┆ BBG000BKZB36 ┆ 05/16/2024   │\n",
       "│ Mastercard Inc                  ┆ 57636Q104 ┆ US57636Q1040 ┆ BBG000F1ZSQ2 ┆ 06/18/2024   │\n",
       "│ PepsiCo Inc                     ┆ 713448108 ┆ US7134481081 ┆ BBG000DH7JK6 ┆ 05/01/2024   │\n",
       "└─────────────────────────────────┴───────────┴──────────────┴──────────────┴──────────────┘"
      ]
     },
     "execution_count": 4,
     "metadata": {},
     "output_type": "execute_result"
    }
   ],
   "source": [
    "meetings.filter(pl.col(\"figi\").is_not_null())"
   ]
  },
  {
   "cell_type": "code",
   "execution_count": 5,
   "metadata": {},
   "outputs": [
    {
     "data": {
      "text/html": [
       "<div><style>\n",
       ".dataframe > thead > tr,\n",
       ".dataframe > tbody > tr {\n",
       "  text-align: right;\n",
       "  white-space: pre-wrap;\n",
       "}\n",
       "</style>\n",
       "<small>shape: (144, 4)</small><table border=\"1\" class=\"dataframe\"><thead><tr><th>isin</th><th>issuer_name</th><th>meeting_date</th><th>cusip</th></tr><tr><td>str</td><td>str</td><td>str</td><td>str</td></tr></thead><tbody><tr><td>&quot;US2435371073&quot;</td><td>&quot;DECKERS OUTDOOR CORPORATION&quot;</td><td>&quot;09/11/2023&quot;</td><td>&quot;243537107&quot;</td></tr><tr><td>&quot;CNE1000004S4&quot;</td><td>&quot;Zhejiang Expressway Co.&quot;</td><td>&quot;05/08/2024&quot;</td><td>&quot;126408103&quot;</td></tr><tr><td>&quot;USN070592100&quot;</td><td>&quot;ASML HOLDINGS N.V.&quot;</td><td>&quot;04/24/2024&quot;</td><td>&quot;N07059210&quot;</td></tr><tr><td>&quot;US92826C8394&quot;</td><td>&quot;VISA INC.&quot;</td><td>&quot;01/23/2024&quot;</td><td>&quot;92826C839&quot;</td></tr><tr><td>&quot;US0231351067&quot;</td><td>&quot;AMAZON.COM, INC.&quot;</td><td>&quot;05/22/2024&quot;</td><td>&quot;023135106&quot;</td></tr><tr><td>&hellip;</td><td>&hellip;</td><td>&hellip;</td><td>&hellip;</td></tr><tr><td>null</td><td>&quot;NetApp, Inc.&quot;</td><td>&quot;09/13/2023&quot;</td><td>&quot;64110D104&quot;</td></tr><tr><td>&quot;INE220B01022&quot;</td><td>&quot;Kalpataru Projects Internation…</td><td>&quot;07/17/2023&quot;</td><td>null</td></tr><tr><td>null</td><td>&quot;APA Corporation&quot;</td><td>&quot;03/27/2024&quot;</td><td>&quot;03743Q108&quot;</td></tr><tr><td>null</td><td>&quot;Ingles Markets, Incorporated&quot;</td><td>&quot;02/13/2024&quot;</td><td>&quot;457030104&quot;</td></tr><tr><td>null</td><td>&quot;Atkore Inc.&quot;</td><td>&quot;01/30/2024&quot;</td><td>&quot;047649108&quot;</td></tr></tbody></table></div>"
      ],
      "text/plain": [
       "shape: (144, 4)\n",
       "┌──────────────┬─────────────────────────────────┬──────────────┬───────────┐\n",
       "│ isin         ┆ issuer_name                     ┆ meeting_date ┆ cusip     │\n",
       "│ ---          ┆ ---                             ┆ ---          ┆ ---       │\n",
       "│ str          ┆ str                             ┆ str          ┆ str       │\n",
       "╞══════════════╪═════════════════════════════════╪══════════════╪═══════════╡\n",
       "│ US2435371073 ┆ DECKERS OUTDOOR CORPORATION     ┆ 09/11/2023   ┆ 243537107 │\n",
       "│ CNE1000004S4 ┆ Zhejiang Expressway Co.         ┆ 05/08/2024   ┆ 126408103 │\n",
       "│ USN070592100 ┆ ASML HOLDINGS N.V.              ┆ 04/24/2024   ┆ N07059210 │\n",
       "│ US92826C8394 ┆ VISA INC.                       ┆ 01/23/2024   ┆ 92826C839 │\n",
       "│ US0231351067 ┆ AMAZON.COM, INC.                ┆ 05/22/2024   ┆ 023135106 │\n",
       "│ …            ┆ …                               ┆ …            ┆ …         │\n",
       "│ null         ┆ NetApp, Inc.                    ┆ 09/13/2023   ┆ 64110D104 │\n",
       "│ INE220B01022 ┆ Kalpataru Projects Internation… ┆ 07/17/2023   ┆ null      │\n",
       "│ null         ┆ APA Corporation                 ┆ 03/27/2024   ┆ 03743Q108 │\n",
       "│ null         ┆ Ingles Markets, Incorporated    ┆ 02/13/2024   ┆ 457030104 │\n",
       "│ null         ┆ Atkore Inc.                     ┆ 01/30/2024   ┆ 047649108 │\n",
       "└──────────────┴─────────────────────────────────┴──────────────┴───────────┘"
      ]
     },
     "execution_count": 5,
     "metadata": {},
     "output_type": "execute_result"
    }
   ],
   "source": [
    "from record_consolidation.df_consolidations import extract_normalized_atomic\n",
    "\n",
    "\n",
    "extract_normalized_atomic(meetings.head(1000))"
   ]
  },
  {
   "cell_type": "code",
   "execution_count": 6,
   "metadata": {},
   "outputs": [
    {
     "data": {
      "text/html": [
       "<div><style>\n",
       ".dataframe > thead > tr,\n",
       ".dataframe > tbody > tr {\n",
       "  text-align: right;\n",
       "  white-space: pre-wrap;\n",
       "}\n",
       "</style>\n",
       "<small>shape: (1_000, 5)</small><table border=\"1\" class=\"dataframe\"><thead><tr><th>issuer_name</th><th>cusip</th><th>isin</th><th>figi</th><th>meeting_date</th></tr><tr><td>str</td><td>str</td><td>str</td><td>str</td><td>str</td></tr></thead><tbody><tr><td>&quot;DECKERS OUTDOOR CORPORATION&quot;</td><td>&quot;243537107&quot;</td><td>&quot;US2435371073&quot;</td><td>null</td><td>&quot;09/11/2023&quot;</td></tr><tr><td>&quot;CSX CORPORATION&quot;</td><td>&quot;126408103&quot;</td><td>&quot;US1264081035&quot;</td><td>null</td><td>&quot;05/08/2024&quot;</td></tr><tr><td>&quot;CANADIAN PACIFIC KANSAS CITY L…</td><td>&quot;13646K108&quot;</td><td>&quot;CA13646K1084&quot;</td><td>null</td><td>&quot;04/24/2024&quot;</td></tr><tr><td>&quot;VISA INC.&quot;</td><td>&quot;92826C839&quot;</td><td>&quot;US92826C8394&quot;</td><td>null</td><td>&quot;01/23/2024&quot;</td></tr><tr><td>&quot;AMAZON.COM, INC.&quot;</td><td>&quot;023135106&quot;</td><td>&quot;US0231351067&quot;</td><td>null</td><td>&quot;05/22/2024&quot;</td></tr><tr><td>&hellip;</td><td>&hellip;</td><td>&hellip;</td><td>&hellip;</td><td>&hellip;</td></tr><tr><td>&quot;ONO PHARMACEUTICAL CO.,LTD.&quot;</td><td>null</td><td>&quot;JP3197600004&quot;</td><td>null</td><td>&quot;06/20/2024&quot;</td></tr><tr><td>&quot;PennantPark Companies&quot;</td><td>&quot;708062104&quot;</td><td>null</td><td>null</td><td>&quot;02/06/2024&quot;</td></tr><tr><td>&quot;China Reinsurance (Group) Corp…</td><td>null</td><td>&quot;CNE100002342&quot;</td><td>null</td><td>&quot;03/04/2024&quot;</td></tr><tr><td>&quot;CVS Health Corporation&quot;</td><td>&quot;126650100&quot;</td><td>null</td><td>null</td><td>&quot;05/16/2024&quot;</td></tr><tr><td>&quot;Park-Ohio Holdings Corp.&quot;</td><td>&quot;700666100&quot;</td><td>null</td><td>null</td><td>&quot;05/23/2024&quot;</td></tr></tbody></table></div>"
      ],
      "text/plain": [
       "shape: (1_000, 5)\n",
       "┌─────────────────────────────────┬───────────┬──────────────┬──────┬──────────────┐\n",
       "│ issuer_name                     ┆ cusip     ┆ isin         ┆ figi ┆ meeting_date │\n",
       "│ ---                             ┆ ---       ┆ ---          ┆ ---  ┆ ---          │\n",
       "│ str                             ┆ str       ┆ str          ┆ str  ┆ str          │\n",
       "╞═════════════════════════════════╪═══════════╪══════════════╪══════╪══════════════╡\n",
       "│ DECKERS OUTDOOR CORPORATION     ┆ 243537107 ┆ US2435371073 ┆ null ┆ 09/11/2023   │\n",
       "│ CSX CORPORATION                 ┆ 126408103 ┆ US1264081035 ┆ null ┆ 05/08/2024   │\n",
       "│ CANADIAN PACIFIC KANSAS CITY L… ┆ 13646K108 ┆ CA13646K1084 ┆ null ┆ 04/24/2024   │\n",
       "│ VISA INC.                       ┆ 92826C839 ┆ US92826C8394 ┆ null ┆ 01/23/2024   │\n",
       "│ AMAZON.COM, INC.                ┆ 023135106 ┆ US0231351067 ┆ null ┆ 05/22/2024   │\n",
       "│ …                               ┆ …         ┆ …            ┆ …    ┆ …            │\n",
       "│ ONO PHARMACEUTICAL CO.,LTD.     ┆ null      ┆ JP3197600004 ┆ null ┆ 06/20/2024   │\n",
       "│ PennantPark Companies           ┆ 708062104 ┆ null         ┆ null ┆ 02/06/2024   │\n",
       "│ China Reinsurance (Group) Corp… ┆ null      ┆ CNE100002342 ┆ null ┆ 03/04/2024   │\n",
       "│ CVS Health Corporation          ┆ 126650100 ┆ null         ┆ null ┆ 05/16/2024   │\n",
       "│ Park-Ohio Holdings Corp.        ┆ 700666100 ┆ null         ┆ null ┆ 05/23/2024   │\n",
       "└─────────────────────────────────┴───────────┴──────────────┴──────┴──────────────┘"
      ]
     },
     "execution_count": 6,
     "metadata": {},
     "output_type": "execute_result"
    }
   ],
   "source": [
    "meetings.head(1000)"
   ]
  },
  {
   "cell_type": "code",
   "execution_count": 7,
   "metadata": {},
   "outputs": [
    {
     "name": "stdout",
     "output_type": "stream",
     "text": [
      "col='figi' wasn't used.\n"
     ]
    },
    {
     "data": {
      "text/html": [
       "<div><style>\n",
       ".dataframe > thead > tr,\n",
       ".dataframe > tbody > tr {\n",
       "  text-align: right;\n",
       "  white-space: pre-wrap;\n",
       "}\n",
       "</style>\n",
       "<small>shape: (1_000, 5)</small><table border=\"1\" class=\"dataframe\"><thead><tr><th>issuer_name</th><th>cusip</th><th>isin</th><th>figi</th><th>meeting_date</th></tr><tr><td>str</td><td>str</td><td>str</td><td>str</td><td>str</td></tr></thead><tbody><tr><td>&quot;DECKERS OUTDOOR CORPORATION&quot;</td><td>&quot;243537107&quot;</td><td>&quot;US2435371073&quot;</td><td>null</td><td>&quot;09/11/2023&quot;</td></tr><tr><td>&quot;CSX CORPORATION&quot;</td><td>&quot;126408103&quot;</td><td>&quot;US1264081035&quot;</td><td>null</td><td>&quot;05/08/2024&quot;</td></tr><tr><td>&quot;CANADIAN PACIFIC KANSAS CITY L…</td><td>&quot;13646K108&quot;</td><td>&quot;CA13646K1084&quot;</td><td>null</td><td>&quot;04/24/2024&quot;</td></tr><tr><td>&quot;VISA INC.&quot;</td><td>&quot;92826C839&quot;</td><td>&quot;US92826C8394&quot;</td><td>null</td><td>&quot;01/23/2024&quot;</td></tr><tr><td>&quot;AMAZON.COM, INC.&quot;</td><td>&quot;023135106&quot;</td><td>&quot;US0231351067&quot;</td><td>null</td><td>&quot;05/22/2024&quot;</td></tr><tr><td>&hellip;</td><td>&hellip;</td><td>&hellip;</td><td>&hellip;</td><td>&hellip;</td></tr><tr><td>&quot;ONO PHARMACEUTICAL CO.,LTD.&quot;</td><td>null</td><td>&quot;JP3197600004&quot;</td><td>null</td><td>&quot;06/20/2024&quot;</td></tr><tr><td>&quot;PennantPark Companies&quot;</td><td>&quot;708062104&quot;</td><td>null</td><td>null</td><td>&quot;02/06/2024&quot;</td></tr><tr><td>&quot;China Reinsurance (Group) Corp…</td><td>null</td><td>&quot;CNE100002342&quot;</td><td>null</td><td>&quot;03/04/2024&quot;</td></tr><tr><td>&quot;CVS Health Corporation&quot;</td><td>&quot;126650100&quot;</td><td>&quot;US1266501006&quot;</td><td>null</td><td>&quot;05/16/2024&quot;</td></tr><tr><td>&quot;Park-Ohio Holdings Corp.&quot;</td><td>&quot;700666100&quot;</td><td>null</td><td>null</td><td>&quot;05/23/2024&quot;</td></tr></tbody></table></div>"
      ],
      "text/plain": [
       "shape: (1_000, 5)\n",
       "┌─────────────────────────────────┬───────────┬──────────────┬──────┬──────────────┐\n",
       "│ issuer_name                     ┆ cusip     ┆ isin         ┆ figi ┆ meeting_date │\n",
       "│ ---                             ┆ ---       ┆ ---          ┆ ---  ┆ ---          │\n",
       "│ str                             ┆ str       ┆ str          ┆ str  ┆ str          │\n",
       "╞═════════════════════════════════╪═══════════╪══════════════╪══════╪══════════════╡\n",
       "│ DECKERS OUTDOOR CORPORATION     ┆ 243537107 ┆ US2435371073 ┆ null ┆ 09/11/2023   │\n",
       "│ CSX CORPORATION                 ┆ 126408103 ┆ US1264081035 ┆ null ┆ 05/08/2024   │\n",
       "│ CANADIAN PACIFIC KANSAS CITY L… ┆ 13646K108 ┆ CA13646K1084 ┆ null ┆ 04/24/2024   │\n",
       "│ VISA INC.                       ┆ 92826C839 ┆ US92826C8394 ┆ null ┆ 01/23/2024   │\n",
       "│ AMAZON.COM, INC.                ┆ 023135106 ┆ US0231351067 ┆ null ┆ 05/22/2024   │\n",
       "│ …                               ┆ …         ┆ …            ┆ …    ┆ …            │\n",
       "│ ONO PHARMACEUTICAL CO.,LTD.     ┆ null      ┆ JP3197600004 ┆ null ┆ 06/20/2024   │\n",
       "│ PennantPark Companies           ┆ 708062104 ┆ null         ┆ null ┆ 02/06/2024   │\n",
       "│ China Reinsurance (Group) Corp… ┆ null      ┆ CNE100002342 ┆ null ┆ 03/04/2024   │\n",
       "│ CVS Health Corporation          ┆ 126650100 ┆ US1266501006 ┆ null ┆ 05/16/2024   │\n",
       "│ Park-Ohio Holdings Corp.        ┆ 700666100 ┆ null         ┆ null ┆ 05/23/2024   │\n",
       "└─────────────────────────────────┴───────────┴──────────────┴──────┴──────────────┘"
      ]
     },
     "execution_count": 7,
     "metadata": {},
     "output_type": "execute_result"
    }
   ],
   "source": [
    "normalize_subset_via_joins(\n",
    "    meetings.head(1000),\n",
    "    [\"issuer_name\", \"cusip\", \"isin\", \"figi\"],\n",
    ")"
   ]
  },
  {
   "cell_type": "code",
   "execution_count": 6,
   "metadata": {},
   "outputs": [],
   "source": [
    "normed2 = normalize_subset_via_joins(\n",
    "    meetings.filter(pl.col(\"figi\").is_not_null()),\n",
    "    [\"issuer_name\", \"cusip\", \"isin\", \"figi\"],\n",
    ")"
   ]
  },
  {
   "cell_type": "code",
   "execution_count": null,
   "metadata": {},
   "outputs": [],
   "source": []
  },
  {
   "cell_type": "code",
   "execution_count": 7,
   "metadata": {},
   "outputs": [
    {
     "data": {
      "text/html": [
       "<div><style>\n",
       ".dataframe > thead > tr,\n",
       ".dataframe > tbody > tr {\n",
       "  text-align: right;\n",
       "  white-space: pre-wrap;\n",
       "}\n",
       "</style>\n",
       "<small>shape: (729, 5)</small><table border=\"1\" class=\"dataframe\"><thead><tr><th>issuer_name</th><th>cusip</th><th>isin</th><th>figi</th><th>meeting_date</th></tr><tr><td>str</td><td>str</td><td>str</td><td>str</td><td>str</td></tr></thead><tbody><tr><td>&quot;Nvidia Corporation&quot;</td><td>&quot;67066G104&quot;</td><td>&quot;US67066G1040&quot;</td><td>&quot;BBG000BBJQV0&quot;</td><td>&quot;06/26/2024&quot;</td></tr><tr><td>&quot;Applied Materials, Inc.&quot;</td><td>&quot;038222105&quot;</td><td>&quot;US0382221051&quot;</td><td>&quot;BBG000BBPFB9&quot;</td><td>&quot;03/07/2024&quot;</td></tr><tr><td>&quot;Apple, Inc.&quot;</td><td>&quot;037833100&quot;</td><td>&quot;US0378331005&quot;</td><td>&quot;BBG000B9XRY4&quot;</td><td>&quot;02/28/2024&quot;</td></tr><tr><td>&quot;KINDER MORGAN INC&quot;</td><td>&quot;49456B101&quot;</td><td>&quot;US49456B1017&quot;</td><td>&quot;BBG0019JZ882&quot;</td><td>&quot;05/08/2024&quot;</td></tr><tr><td>&quot;INTEL CORPORATION CORP&quot;</td><td>&quot;458140100&quot;</td><td>&quot;US4581401001&quot;</td><td>&quot;BBG000C0G1D1&quot;</td><td>&quot;05/07/2024&quot;</td></tr><tr><td>&hellip;</td><td>&hellip;</td><td>&hellip;</td><td>&hellip;</td><td>&hellip;</td></tr><tr><td>&quot;Brookfield Asset Management Lt…</td><td>&quot;113004105&quot;</td><td>&quot;US1130041056&quot;</td><td>&quot;BBG01BPHNXZ3&quot;</td><td>&quot;06/07/2024&quot;</td></tr><tr><td>&quot;Applied Materials Inc&quot;</td><td>&quot;038222105&quot;</td><td>&quot;US0382221051&quot;</td><td>&quot;BBG000BBPFB9&quot;</td><td>&quot;03/07/2024&quot;</td></tr><tr><td>&quot;The Home Depot Inc&quot;</td><td>&quot;437076102&quot;</td><td>&quot;US4370761029&quot;</td><td>&quot;BBG000BKZB36&quot;</td><td>&quot;05/16/2024&quot;</td></tr><tr><td>&quot;Mastercard Inc&quot;</td><td>&quot;57636Q104&quot;</td><td>&quot;US57636Q1040&quot;</td><td>&quot;BBG000F1ZSQ2&quot;</td><td>&quot;06/18/2024&quot;</td></tr><tr><td>&quot;PepsiCo Inc&quot;</td><td>&quot;713448108&quot;</td><td>&quot;US7134481081&quot;</td><td>&quot;BBG000DH7JK6&quot;</td><td>&quot;05/01/2024&quot;</td></tr></tbody></table></div>"
      ],
      "text/plain": [
       "shape: (729, 5)\n",
       "┌─────────────────────────────────┬───────────┬──────────────┬──────────────┬──────────────┐\n",
       "│ issuer_name                     ┆ cusip     ┆ isin         ┆ figi         ┆ meeting_date │\n",
       "│ ---                             ┆ ---       ┆ ---          ┆ ---          ┆ ---          │\n",
       "│ str                             ┆ str       ┆ str          ┆ str          ┆ str          │\n",
       "╞═════════════════════════════════╪═══════════╪══════════════╪══════════════╪══════════════╡\n",
       "│ Nvidia Corporation              ┆ 67066G104 ┆ US67066G1040 ┆ BBG000BBJQV0 ┆ 06/26/2024   │\n",
       "│ Applied Materials, Inc.         ┆ 038222105 ┆ US0382221051 ┆ BBG000BBPFB9 ┆ 03/07/2024   │\n",
       "│ Apple, Inc.                     ┆ 037833100 ┆ US0378331005 ┆ BBG000B9XRY4 ┆ 02/28/2024   │\n",
       "│ KINDER MORGAN INC               ┆ 49456B101 ┆ US49456B1017 ┆ BBG0019JZ882 ┆ 05/08/2024   │\n",
       "│ INTEL CORPORATION CORP          ┆ 458140100 ┆ US4581401001 ┆ BBG000C0G1D1 ┆ 05/07/2024   │\n",
       "│ …                               ┆ …         ┆ …            ┆ …            ┆ …            │\n",
       "│ Brookfield Asset Management Lt… ┆ 113004105 ┆ US1130041056 ┆ BBG01BPHNXZ3 ┆ 06/07/2024   │\n",
       "│ Applied Materials Inc           ┆ 038222105 ┆ US0382221051 ┆ BBG000BBPFB9 ┆ 03/07/2024   │\n",
       "│ The Home Depot Inc              ┆ 437076102 ┆ US4370761029 ┆ BBG000BKZB36 ┆ 05/16/2024   │\n",
       "│ Mastercard Inc                  ┆ 57636Q104 ┆ US57636Q1040 ┆ BBG000F1ZSQ2 ┆ 06/18/2024   │\n",
       "│ PepsiCo Inc                     ┆ 713448108 ┆ US7134481081 ┆ BBG000DH7JK6 ┆ 05/01/2024   │\n",
       "└─────────────────────────────────┴───────────┴──────────────┴──────────────┴──────────────┘"
      ]
     },
     "execution_count": 7,
     "metadata": {},
     "output_type": "execute_result"
    }
   ],
   "source": [
    "meetings.filter(pl.col(\"figi\").is_not_null())"
   ]
  },
  {
   "cell_type": "code",
   "execution_count": 8,
   "metadata": {},
   "outputs": [
    {
     "data": {
      "text/html": [
       "<div><style>\n",
       ".dataframe > thead > tr,\n",
       ".dataframe > tbody > tr {\n",
       "  text-align: right;\n",
       "  white-space: pre-wrap;\n",
       "}\n",
       "</style>\n",
       "<small>shape: (729, 5)</small><table border=\"1\" class=\"dataframe\"><thead><tr><th>issuer_name</th><th>cusip</th><th>isin</th><th>figi</th><th>meeting_date</th></tr><tr><td>str</td><td>str</td><td>str</td><td>str</td><td>str</td></tr></thead><tbody><tr><td>&quot;Nvidia Corporation&quot;</td><td>&quot;67066G104&quot;</td><td>&quot;US67066G1040&quot;</td><td>&quot;BBG000BBJQV0&quot;</td><td>&quot;06/26/2024&quot;</td></tr><tr><td>&quot;Applied Materials, Inc.&quot;</td><td>&quot;038222105&quot;</td><td>&quot;US0382221051&quot;</td><td>&quot;BBG000BBPFB9&quot;</td><td>&quot;03/07/2024&quot;</td></tr><tr><td>&quot;Apple, Inc.&quot;</td><td>&quot;037833100&quot;</td><td>&quot;US0378331005&quot;</td><td>&quot;BBG000B9XRY4&quot;</td><td>&quot;02/28/2024&quot;</td></tr><tr><td>&quot;KINDER MORGAN INC&quot;</td><td>&quot;49456B101&quot;</td><td>&quot;US49456B1017&quot;</td><td>&quot;BBG0019JZ882&quot;</td><td>&quot;05/08/2024&quot;</td></tr><tr><td>&quot;Intel Corporation&quot;</td><td>&quot;458140100&quot;</td><td>&quot;US4581401001&quot;</td><td>&quot;BBG000C0G1D1&quot;</td><td>&quot;05/07/2024&quot;</td></tr><tr><td>&hellip;</td><td>&hellip;</td><td>&hellip;</td><td>&hellip;</td><td>&hellip;</td></tr><tr><td>&quot;Brookfield Asset Management Lt…</td><td>&quot;113004105&quot;</td><td>&quot;US1130041056&quot;</td><td>&quot;BBG01BPHNXZ3&quot;</td><td>&quot;06/07/2024&quot;</td></tr><tr><td>&quot;Applied Materials, Inc.&quot;</td><td>&quot;038222105&quot;</td><td>&quot;US0382221051&quot;</td><td>&quot;BBG000BBPFB9&quot;</td><td>&quot;03/07/2024&quot;</td></tr><tr><td>&quot;HOME DEPOT INC&quot;</td><td>&quot;437076102&quot;</td><td>&quot;US4370761029&quot;</td><td>&quot;BBG000BKZB36&quot;</td><td>&quot;05/16/2024&quot;</td></tr><tr><td>&quot;Mastercard Incorporated&quot;</td><td>&quot;57636Q104&quot;</td><td>&quot;US57636Q1040&quot;</td><td>&quot;BBG000F1ZSQ2&quot;</td><td>&quot;06/18/2024&quot;</td></tr><tr><td>&quot;PepsiCo, Inc.&quot;</td><td>&quot;713448108&quot;</td><td>&quot;US7134481081&quot;</td><td>&quot;BBG000DH7JK6&quot;</td><td>&quot;05/01/2024&quot;</td></tr></tbody></table></div>"
      ],
      "text/plain": [
       "shape: (729, 5)\n",
       "┌─────────────────────────────────┬───────────┬──────────────┬──────────────┬──────────────┐\n",
       "│ issuer_name                     ┆ cusip     ┆ isin         ┆ figi         ┆ meeting_date │\n",
       "│ ---                             ┆ ---       ┆ ---          ┆ ---          ┆ ---          │\n",
       "│ str                             ┆ str       ┆ str          ┆ str          ┆ str          │\n",
       "╞═════════════════════════════════╪═══════════╪══════════════╪══════════════╪══════════════╡\n",
       "│ Nvidia Corporation              ┆ 67066G104 ┆ US67066G1040 ┆ BBG000BBJQV0 ┆ 06/26/2024   │\n",
       "│ Applied Materials, Inc.         ┆ 038222105 ┆ US0382221051 ┆ BBG000BBPFB9 ┆ 03/07/2024   │\n",
       "│ Apple, Inc.                     ┆ 037833100 ┆ US0378331005 ┆ BBG000B9XRY4 ┆ 02/28/2024   │\n",
       "│ KINDER MORGAN INC               ┆ 49456B101 ┆ US49456B1017 ┆ BBG0019JZ882 ┆ 05/08/2024   │\n",
       "│ Intel Corporation               ┆ 458140100 ┆ US4581401001 ┆ BBG000C0G1D1 ┆ 05/07/2024   │\n",
       "│ …                               ┆ …         ┆ …            ┆ …            ┆ …            │\n",
       "│ Brookfield Asset Management Lt… ┆ 113004105 ┆ US1130041056 ┆ BBG01BPHNXZ3 ┆ 06/07/2024   │\n",
       "│ Applied Materials, Inc.         ┆ 038222105 ┆ US0382221051 ┆ BBG000BBPFB9 ┆ 03/07/2024   │\n",
       "│ HOME DEPOT INC                  ┆ 437076102 ┆ US4370761029 ┆ BBG000BKZB36 ┆ 05/16/2024   │\n",
       "│ Mastercard Incorporated         ┆ 57636Q104 ┆ US57636Q1040 ┆ BBG000F1ZSQ2 ┆ 06/18/2024   │\n",
       "│ PepsiCo, Inc.                   ┆ 713448108 ┆ US7134481081 ┆ BBG000DH7JK6 ┆ 05/01/2024   │\n",
       "└─────────────────────────────────┴───────────┴──────────────┴──────────────┴──────────────┘"
      ]
     },
     "execution_count": 8,
     "metadata": {},
     "output_type": "execute_result"
    }
   ],
   "source": [
    "normed2  # .filter(pl.col(\"canonical_row\").is_null())"
   ]
  },
  {
   "cell_type": "code",
   "execution_count": 11,
   "metadata": {},
   "outputs": [
    {
     "data": {
      "text/plain": [
       "{'issuer_name': 'Coca-Cola Co',\n",
       " 'figi': 'BBG000BMX289',\n",
       " 'isin': 'US1912161007',\n",
       " 'cusip': '191216100'}"
      ]
     },
     "execution_count": 11,
     "metadata": {},
     "output_type": "execute_result"
    }
   ],
   "source": [
    "normed2.select(pl.col(\"canonical_row\")).to_series()[0]"
   ]
  },
  {
   "cell_type": "code",
   "execution_count": null,
   "metadata": {},
   "outputs": [],
   "source": []
  },
  {
   "cell_type": "code",
   "execution_count": null,
   "metadata": {},
   "outputs": [],
   "source": []
  },
  {
   "cell_type": "code",
   "execution_count": null,
   "metadata": {},
   "outputs": [],
   "source": []
  },
  {
   "cell_type": "code",
   "execution_count": null,
   "metadata": {},
   "outputs": [],
   "source": []
  },
  {
   "cell_type": "code",
   "execution_count": null,
   "metadata": {},
   "outputs": [],
   "source": []
  },
  {
   "cell_type": "code",
   "execution_count": null,
   "metadata": {},
   "outputs": [],
   "source": []
  },
  {
   "cell_type": "code",
   "execution_count": null,
   "metadata": {},
   "outputs": [],
   "source": []
  },
  {
   "cell_type": "code",
   "execution_count": null,
   "metadata": {},
   "outputs": [],
   "source": []
  },
  {
   "cell_type": "code",
   "execution_count": null,
   "metadata": {},
   "outputs": [],
   "source": []
  },
  {
   "cell_type": "code",
   "execution_count": null,
   "metadata": {},
   "outputs": [],
   "source": []
  },
  {
   "cell_type": "code",
   "execution_count": null,
   "metadata": {},
   "outputs": [],
   "source": []
  },
  {
   "cell_type": "code",
   "execution_count": 5,
   "metadata": {},
   "outputs": [
    {
     "name": "stdout",
     "output_type": "stream",
     "text": [
      "col='figi' wasn't used.\n"
     ]
    }
   ],
   "source": [
    "normed = normalize_subset(meetings, [\"issuer_name\", \"cusip\", \"isin\", \"figi\"])"
   ]
  },
  {
   "cell_type": "code",
   "execution_count": 7,
   "metadata": {},
   "outputs": [
    {
     "data": {
      "text/html": [
       "<div><style>\n",
       ".dataframe > thead > tr,\n",
       ".dataframe > tbody > tr {\n",
       "  text-align: right;\n",
       "  white-space: pre-wrap;\n",
       "}\n",
       "</style>\n",
       "<small>shape: (243_360, 1)</small><table border=\"1\" class=\"dataframe\"><thead><tr><th>issuer_name</th></tr><tr><td>struct[5]</td></tr></thead><tbody><tr><td>{&quot;DECKERS OUTDOOR CORPORATION&quot;,&quot;243537107&quot;,&quot;US2435371073&quot;,null,&quot;09/11/2023&quot;}</td></tr><tr><td>{&quot;DECKERS OUTDOOR CORPORATION&quot;,&quot;243537107&quot;,&quot;US2435371073&quot;,null,&quot;05/08/2024&quot;}</td></tr><tr><td>{&quot;DECKERS OUTDOOR CORPORATION&quot;,&quot;243537107&quot;,&quot;US2435371073&quot;,null,&quot;04/24/2024&quot;}</td></tr><tr><td>{&quot;DECKERS OUTDOOR CORPORATION&quot;,&quot;243537107&quot;,&quot;US2435371073&quot;,null,&quot;01/23/2024&quot;}</td></tr><tr><td>{&quot;DECKERS OUTDOOR CORPORATION&quot;,&quot;243537107&quot;,&quot;US2435371073&quot;,null,&quot;05/22/2024&quot;}</td></tr><tr><td>&hellip;</td></tr><tr><td>{&quot;DECKERS OUTDOOR CORPORATION&quot;,&quot;243537107&quot;,&quot;US2435371073&quot;,null,&quot;N/A&quot;}</td></tr><tr><td>{&quot;DECKERS OUTDOOR CORPORATION&quot;,&quot;243537107&quot;,&quot;US2435371073&quot;,null,&quot;N/A&quot;}</td></tr><tr><td>{&quot;DECKERS OUTDOOR CORPORATION&quot;,&quot;243537107&quot;,&quot;US2435371073&quot;,null,&quot;N/A&quot;}</td></tr><tr><td>{&quot;DECKERS OUTDOOR CORPORATION&quot;,&quot;243537107&quot;,&quot;US2435371073&quot;,null,&quot;N/A&quot;}</td></tr><tr><td>{&quot;DECKERS OUTDOOR CORPORATION&quot;,&quot;243537107&quot;,&quot;US2435371073&quot;,null,&quot;N/A&quot;}</td></tr></tbody></table></div>"
      ],
      "text/plain": [
       "shape: (243_360, 1)\n",
       "┌─────────────────────────────────┐\n",
       "│ issuer_name                     │\n",
       "│ ---                             │\n",
       "│ struct[5]                       │\n",
       "╞═════════════════════════════════╡\n",
       "│ {\"DECKERS OUTDOOR CORPORATION\"… │\n",
       "│ {\"DECKERS OUTDOOR CORPORATION\"… │\n",
       "│ {\"DECKERS OUTDOOR CORPORATION\"… │\n",
       "│ {\"DECKERS OUTDOOR CORPORATION\"… │\n",
       "│ {\"DECKERS OUTDOOR CORPORATION\"… │\n",
       "│ …                               │\n",
       "│ {\"DECKERS OUTDOOR CORPORATION\"… │\n",
       "│ {\"DECKERS OUTDOOR CORPORATION\"… │\n",
       "│ {\"DECKERS OUTDOOR CORPORATION\"… │\n",
       "│ {\"DECKERS OUTDOOR CORPORATION\"… │\n",
       "│ {\"DECKERS OUTDOOR CORPORATION\"… │\n",
       "└─────────────────────────────────┘"
      ]
     },
     "execution_count": 7,
     "metadata": {},
     "output_type": "execute_result"
    }
   ],
   "source": [
    "normed.select(pl.struct(pl.all()))"
   ]
  },
  {
   "cell_type": "code",
   "execution_count": null,
   "metadata": {},
   "outputs": [],
   "source": []
  },
  {
   "cell_type": "code",
   "execution_count": 15,
   "metadata": {},
   "outputs": [
    {
     "data": {
      "text/plain": [
       "{'a': Int64}"
      ]
     },
     "execution_count": 15,
     "metadata": {},
     "output_type": "execute_result"
    }
   ],
   "source": [
    "dict(\n",
    "    pl.DataFrame(\n",
    "        {\n",
    "            \"a\": [\n",
    "                1,\n",
    "                2,\n",
    "            ]\n",
    "        },\n",
    "    ).schema\n",
    ")"
   ]
  }
 ],
 "metadata": {
  "kernelspec": {
   "display_name": ".venv",
   "language": "python",
   "name": "python3"
  },
  "language_info": {
   "codemirror_mode": {
    "name": "ipython",
    "version": 3
   },
   "file_extension": ".py",
   "mimetype": "text/x-python",
   "name": "python",
   "nbconvert_exporter": "python",
   "pygments_lexer": "ipython3",
   "version": "3.12.3"
  }
 },
 "nbformat": 4,
 "nbformat_minor": 2
}
